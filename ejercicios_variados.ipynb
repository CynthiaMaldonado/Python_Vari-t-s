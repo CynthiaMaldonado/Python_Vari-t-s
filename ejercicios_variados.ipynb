{
  "nbformat": 4,
  "nbformat_minor": 0,
  "metadata": {
    "kernelspec": {
      "display_name": "Python 3",
      "language": "python",
      "name": "python3"
    },
    "language_info": {
      "codemirror_mode": {
        "name": "ipython",
        "version": 3
      },
      "file_extension": ".py",
      "mimetype": "text/x-python",
      "name": "python",
      "nbconvert_exporter": "python",
      "pygments_lexer": "ipython3",
      "version": "3.6.9"
    },
    "colab": {
      "name": "ejercicios_variados.ipynb",
      "provenance": []
    }
  },
  "cells": [
    {
      "cell_type": "markdown",
      "metadata": {
        "id": "giTcp9zpk0Bq",
        "colab_type": "text"
      },
      "source": [
        "# Crear un programa que resuelva una ecuacción de segundo grado\n",
        "\n",
        "El objetivo del programa es resolver la ecuacción de sgundo grado \n",
        "\n",
        "\\begin{align*}\n",
        "ax^2+bx+c = 0\n",
        "\\end{align*}\n",
        "\n",
        "Pasando como parámetros los coeficientes de la ecuacción. La resolución de la ecuacción es la siguiente:\n",
        "\n",
        "\\begin{align*}\n",
        "x=\\frac{-b \\pm \\sqrt{b^2-4ac}}{2a}\n",
        "\\end{align*}\n",
        "\n",
        "Para realizar este programa tienes que utilizar el metodo sqrt() para calcular la raiz cuadrada. Para ello tienes que importar el módulo math. Así que tu programa debería empezar con ```ìmport math```\n"
      ]
    },
    {
      "cell_type": "code",
      "metadata": {
        "id": "XWgVKkMqk0Br",
        "colab_type": "code",
        "colab": {
          "base_uri": "https://localhost:8080/",
          "height": 141
        },
        "outputId": "797dda55-f3ac-47e0-bd92-d5d2f539ed0b"
      },
      "source": [
        "# tu codigo aqui. Tenemos que usar la funcion sqrt del módulo math\n",
        "\n",
        "\n",
        "import math  # Makes the math library available.\n",
        "\n",
        "print(\"This program finds the real solutions to a quadratic\")\n",
        "print()\n",
        "\n",
        "a = float(input(\"Enter coefficient a: \"))\n",
        "b = float(input(\"Enter coefficient b: \"))\n",
        "c = float(input(\"Enter coefficient c: \"))\n",
        "\n",
        "discRoot = math.sqrt(b * b - 4 * a * c)\n",
        "root1 = (-b + discRoot) / (2 * a)\n",
        "root2 = (-b - discRoot) / (2 * a)\n",
        "\n",
        "print()\n",
        "print(\"The solutions are:\", root1, root2 )\n",
        "\n"
      ],
      "execution_count": 3,
      "outputs": [
        {
          "output_type": "stream",
          "text": [
            "This program finds the real solutions to a quadratic\n",
            "\n",
            "Enter coefficient a: 20\n",
            "Enter coefficient b: 60\n",
            "Enter coefficient c: 3\n",
            "\n",
            "The solutions are: -0.05086232538105619 -2.9491376746189437\n"
          ],
          "name": "stdout"
        }
      ]
    },
    {
      "cell_type": "markdown",
      "metadata": {
        "id": "G61-Nb2Dk0Bu",
        "colab_type": "text"
      },
      "source": [
        "## Crear un programa que calcule el factorial de un numero\n",
        "El programa pedirá al usuario que introduzca un número y devolverá el factorial de ese número\n"
      ]
    },
    {
      "cell_type": "code",
      "metadata": {
        "id": "7XDf2g1ak0Bv",
        "colab_type": "code",
        "colab": {
          "base_uri": "https://localhost:8080/",
          "height": 52
        },
        "outputId": "4193a2c5-32cc-4c7f-f724-eac758640320"
      },
      "source": [
        "\n",
        "# tu codigo aqui.\n",
        "\n",
        "\n",
        "\n",
        "num = int(input(\"introduce un numero entero distinto de cero: \"))\n",
        "factorial = 1\n",
        "\n",
        "for i in range(1,num + 1):\n",
        "    factorial = factorial*i\n",
        "    \n",
        "print(\"The factorial of\", num, \"is\", factorial)\n",
        "    "
      ],
      "execution_count": 4,
      "outputs": [
        {
          "output_type": "stream",
          "text": [
            "introduce un numero entero distinto de cero: 6\n",
            "The factorial of 6 is 720\n"
          ],
          "name": "stdout"
        }
      ]
    },
    {
      "cell_type": "markdown",
      "metadata": {
        "id": "fwybNbpOk0Bz",
        "colab_type": "text"
      },
      "source": [
        "## Crear un programa que calcule el average\n",
        "\n",
        "El programa pedirá al usuario que introduzca numeros. En primer lugar le pedirá que indique cuantos números se quieren introducir, y enseñara un prompt para incluirlos, y calculará el average.\n",
        "\n"
      ]
    },
    {
      "cell_type": "code",
      "metadata": {
        "id": "h2bEle7Ck0B1",
        "colab_type": "code",
        "colab": {
          "base_uri": "https://localhost:8080/",
          "height": 123
        },
        "outputId": "6c769a03-c34c-45e1-9994-7244c20171a2"
      },
      "source": [
        "n = int(input(\"How many numbers do you have? \"))\n",
        "total = 0.0\n",
        "for i in range(n):\n",
        "    x = float(input(\"Enter a number >> \"))\n",
        "    total = total + x\n",
        "print(\"\\nThe average of the numbers is\", total / n)"
      ],
      "execution_count": 5,
      "outputs": [
        {
          "output_type": "stream",
          "text": [
            "How many numbers do you have? 3\n",
            "Enter a number >> 2\n",
            "Enter a number >> 45\n",
            "Enter a number >> 48\n",
            "\n",
            "The average of the numbers is 31.666666666666668\n"
          ],
          "name": "stdout"
        }
      ]
    },
    {
      "cell_type": "markdown",
      "metadata": {
        "id": "l7BaJrXzk0B8",
        "colab_type": "text"
      },
      "source": [
        "# Secuencias y ficheros en python\n",
        "---\n"
      ]
    },
    {
      "cell_type": "markdown",
      "metadata": {
        "id": "iAZWCTY4k0B9",
        "colab_type": "text"
      },
      "source": [
        "## Crear un programa que calcule el average\n",
        "\n",
        "El programa pedirá que se diga cuantos números se quieren introducir, y enseñara un prompt para incluirl número a número en una lista, y calcule después el average.\n",
        "\n"
      ]
    },
    {
      "cell_type": "code",
      "metadata": {
        "id": "iqWHWxOqk0B-",
        "colab_type": "code",
        "colab": {
          "base_uri": "https://localhost:8080/",
          "height": 105
        },
        "outputId": "2c6c41d9-acb3-4019-c940-e4b678c5bc4b"
      },
      "source": [
        "# tu codigo aqui\n",
        "\n",
        "n = int(input(\"How many numbers do you have? \"))\n",
        "x = [] \n",
        "for i in range(n):\n",
        "    x.append((int(input(\"Enter a number >> \"))))\n",
        "\n",
        "print(\"\\nThe average of the numbers is\", sum(x)/len(x))"
      ],
      "execution_count": 6,
      "outputs": [
        {
          "output_type": "stream",
          "text": [
            "How many numbers do you have? 2\n",
            "Enter a number >> 57\n",
            "Enter a number >> 68\n",
            "\n",
            "The average of the numbers is 62.5\n"
          ],
          "name": "stdout"
        }
      ]
    },
    {
      "cell_type": "markdown",
      "metadata": {
        "id": "066VWfXVk0CB",
        "colab_type": "text"
      },
      "source": [
        "### Write a Python program to convert a list of characters into a string.\n",
        "\n",
        "Sample list : ['a','b','c','d']\n",
        "\n",
        "Expected output : abcd"
      ]
    },
    {
      "cell_type": "code",
      "metadata": {
        "id": "N9zV5z-bk0CB",
        "colab_type": "code",
        "colab": {
          "base_uri": "https://localhost:8080/",
          "height": 34
        },
        "outputId": "ab4a09fd-3843-40e5-8dde-cab99fc87056"
      },
      "source": [
        "# tu codigo aqui\n",
        "\n",
        "s = ['a', 'b', 'c', 'd']\n",
        "str1 = ''.join(s)\n",
        "print(str1)\n"
      ],
      "execution_count": 7,
      "outputs": [
        {
          "output_type": "stream",
          "text": [
            "abcd\n"
          ],
          "name": "stdout"
        }
      ]
    },
    {
      "cell_type": "markdown",
      "metadata": {
        "id": "CF1WqCe9k0CH",
        "colab_type": "text"
      },
      "source": [
        "## Write a Python program to generate and print a list of first and last 5 elements where the values are square of numbers between 1 and 30 (both included). "
      ]
    },
    {
      "cell_type": "code",
      "metadata": {
        "id": "5rQbdQrTk0CH",
        "colab_type": "code",
        "colab": {
          "base_uri": "https://localhost:8080/",
          "height": 52
        },
        "outputId": "6c497519-8d5e-409f-bd7f-91dbc5e04546"
      },
      "source": [
        "# tu codigo aqui\n",
        "\n",
        "l = list()\n",
        "for i in range(1,31):\n",
        "    l.append(i**2)\n",
        "print(l[:5])\n",
        "print(l[-5:])\n"
      ],
      "execution_count": 8,
      "outputs": [
        {
          "output_type": "stream",
          "text": [
            "[1, 4, 9, 16, 25]\n",
            "[676, 729, 784, 841, 900]\n"
          ],
          "name": "stdout"
        }
      ]
    },
    {
      "cell_type": "markdown",
      "metadata": {
        "id": "vZyadiZZk0CL",
        "colab_type": "text"
      },
      "source": [
        "## Interactuando con listas\n",
        "\n",
        "From given list gadgets = [“Mobile”, “Laptop”, 100, “Camera”, 310.28, “Speakers”, 27.00,\n",
        "“Television”, 1000, “Laptop Case”, “Camera Lens”]\n",
        "\n",
        "a)create separate lists of strings and numbers.  \n",
        "\n",
        "b)Sort the strings list in ascending order  \n",
        "\n",
        "c)Sort the strings list in descending order  \n",
        "\n",
        "d)Sort the number list from lowest to highest  \n",
        "\n",
        "e)Sort the number list from highest to lowest"
      ]
    },
    {
      "cell_type": "code",
      "metadata": {
        "id": "ArgInHpjk0CM",
        "colab_type": "code",
        "colab": {
          "base_uri": "https://localhost:8080/",
          "height": 158
        },
        "outputId": "a7117d20-c448-4fbe-8fb6-f97410169199"
      },
      "source": [
        "gadgets = [\"Mobile\", \"Laptop\", 100, \"Camera\", 310.28, \"Speakers\", 27.00, \n",
        "           \"Television\", 1000, \"Laptop Case\", \"Camera Lens\"]\n",
        " \n",
        "str_items = []\n",
        " \n",
        "num_items = []\n",
        " \n",
        "#a)creating separate lists\n",
        "\n",
        "for item in gadgets: \n",
        "     \n",
        "    if type(item) is str:\n",
        "         \n",
        "        str_items.append(item)\n",
        "         \n",
        "    elif type(item) is int or type(item) is float:\n",
        "         \n",
        "        num_items.append(item)\n",
        " \n",
        "  \n",
        "print(str_items)\n",
        " \n",
        "print(num_items)\n",
        " \n",
        "print ('b)sorting strings list in ascending order, a-z')\n",
        " \n",
        "str_items.sort(key=str.lower)\n",
        " \n",
        "print(str_items)\n",
        " \n",
        " \n",
        "print ('sorting strings list in descending order z-a')\n",
        " \n",
        "# str_items.sort(key=str.lower, reverse=True)\n",
        "\n",
        "str_items.sort(reverse=True)\n",
        "\n",
        "print(str_items)\n",
        " \n",
        " \n",
        "#d)sorting number list from lowest to highest\n",
        " \n",
        "num_items.sort()\n",
        " \n",
        "print(num_items)\n",
        " \n",
        " \n",
        "#e)sorting number list from highest to lowest\n",
        " \n",
        "num_items.sort(reverse=True)\n",
        " \n",
        "print(num_items)\n",
        "    "
      ],
      "execution_count": 9,
      "outputs": [
        {
          "output_type": "stream",
          "text": [
            "['Mobile', 'Laptop', 'Camera', 'Speakers', 'Television', 'Laptop Case', 'Camera Lens']\n",
            "[100, 310.28, 27.0, 1000]\n",
            "b)sorting strings list in ascending order, a-z\n",
            "['Camera', 'Camera Lens', 'Laptop', 'Laptop Case', 'Mobile', 'Speakers', 'Television']\n",
            "sorting strings list in descending order z-a\n",
            "['Television', 'Speakers', 'Mobile', 'Laptop Case', 'Laptop', 'Camera Lens', 'Camera']\n",
            "[27.0, 100, 310.28, 1000]\n",
            "[1000, 310.28, 100, 27.0]\n"
          ],
          "name": "stdout"
        }
      ]
    },
    {
      "cell_type": "markdown",
      "metadata": {
        "id": "wZcOqdK7k0CQ",
        "colab_type": "text"
      },
      "source": [
        "### Get first, second best scores from the list.\n",
        "\n",
        "List may contain duplicates.\n",
        "\n",
        "Ex: [86,86,85,85,85,83,23,45,84,1,2,0] => should get 86, 85"
      ]
    },
    {
      "cell_type": "code",
      "metadata": {
        "id": "xYPdZ_Kpk0CQ",
        "colab_type": "code",
        "colab": {
          "base_uri": "https://localhost:8080/",
          "height": 52
        },
        "outputId": "f87a7ef8-96e6-4084-a4bf-4b8182dbcd1d"
      },
      "source": [
        " \n",
        "#sort the list and get the elements\n",
        " \n",
        "a_list = [84,84,86,86,85,85,85,83,23,45,84,1,2,0]\n",
        "\n",
        "a_list.sort(reverse=True) \n",
        "print(a_list)\n",
        " \n",
        "first = a_list[0]\n",
        " \n",
        "second = None\n",
        "\n",
        "# comprobación para ver si el primero está duplicado. iteramos en la list hasta que encontramos un valor diferente y salimos del bucle\n",
        "\n",
        "for element in a_list:\n",
        "    if element != first:\n",
        "        second = element\n",
        "        break;\n",
        "\n",
        "print(first,second)\n",
        "\n",
        "  "
      ],
      "execution_count": 10,
      "outputs": [
        {
          "output_type": "stream",
          "text": [
            "[86, 86, 85, 85, 85, 84, 84, 84, 83, 45, 23, 2, 1, 0]\n",
            "86 85\n"
          ],
          "name": "stdout"
        }
      ]
    },
    {
      "cell_type": "markdown",
      "metadata": {
        "id": "FzZn2-9bk0CT",
        "colab_type": "text"
      },
      "source": [
        "### Write a Python program to find smallest and largest word in a given string.\n",
        "Utiliza un algoritmo Quick Sort. Investiga sobre ese algoritmo."
      ]
    },
    {
      "cell_type": "code",
      "metadata": {
        "id": "8cyVfJQ2k0CU",
        "colab_type": "code",
        "colab": {
          "base_uri": "https://localhost:8080/",
          "height": 87
        },
        "outputId": "23c9773d-a0d6-4712-f814-8aa50ba14a57"
      },
      "source": [
        "def smallest_largest_words(str1):\n",
        "    word = \"\";\n",
        "    all_words = [];\n",
        "    str1 = str1 + \" \";\n",
        "    for i in range(0, len(str1)):\n",
        "        if(str1[i] != ' '):\n",
        "            word = word + str1[i];  \n",
        "        else:\n",
        "            all_words.append(word);  \n",
        "            word = \"\";  \n",
        "          \n",
        "    small = large = all_words[0];  \n",
        "   \n",
        "#Find smallest and largest word in the str1  \n",
        "    for k in range(0, len(all_words)):\n",
        "        if(len(small) > len(all_words[k])):\n",
        "            small = all_words[k];\n",
        "        if(len(large) < len(all_words[k])):\n",
        "            large = all_words[k];\n",
        "    return small,large;\n",
        "\n",
        "str1 = \"Write a Python program to sort an array of given integers using Quick sort Algorithm.\";  \n",
        "print(\"Original Strings:\\n\",str1)\n",
        "small, large = smallest_largest_words(str1)  \n",
        "print(\"Smallest word: \" + small);  \n",
        "print(\"Largest word: \" + large); \n"
      ],
      "execution_count": 11,
      "outputs": [
        {
          "output_type": "stream",
          "text": [
            "Original Strings:\n",
            " Write a Python program to sort an array of given integers using Quick sort Algorithm.\n",
            "Smallest word: a\n",
            "Largest word: Algorithm.\n"
          ],
          "name": "stdout"
        }
      ]
    },
    {
      "cell_type": "markdown",
      "metadata": {
        "id": "e7VoZADQk0CX",
        "colab_type": "text"
      },
      "source": [
        "### Write a program that detects if a string is a palindrome\n",
        "Ask the user for a string and print out whether this string is a palindrome or not. (A palindrome is a string that reads the same forwards and backwards.)"
      ]
    },
    {
      "cell_type": "code",
      "metadata": {
        "id": "DMMOEvwwk0CX",
        "colab_type": "code",
        "colab": {
          "base_uri": "https://localhost:8080/",
          "height": 52
        },
        "outputId": "d1b8a5bd-9014-416f-dc64-0ee7ac88648f"
      },
      "source": [
        "# Program to check if a string is palindrome or not\n",
        "\n",
        "my_str = input(\"introduce una palabra para ver si es un palíndromo: \")\n",
        "\n",
        "my_str = my_str.lower()\n",
        "\n",
        "# reverse the string\n",
        "rev_str = reversed(my_str)\n",
        "\n",
        "# check if the string is equal to its reverse\n",
        "if list(my_str) == list(rev_str):\n",
        "   print(\"The string is a palindrome.\")\n",
        "else:\n",
        "   print(\"The string is not a palindrome.\")"
      ],
      "execution_count": 12,
      "outputs": [
        {
          "output_type": "stream",
          "text": [
            "introduce una palabra para ver si es un palíndromo: maribel\n",
            "The string is not a palindrome.\n"
          ],
          "name": "stdout"
        }
      ]
    },
    {
      "cell_type": "markdown",
      "metadata": {
        "id": "CBEQPF4Ak0Ca",
        "colab_type": "text"
      },
      "source": [
        "# Diccionarios\n",
        "---\n",
        "\n"
      ]
    },
    {
      "cell_type": "markdown",
      "metadata": {
        "id": "xencbARyk0Ca",
        "colab_type": "text"
      },
      "source": [
        "## Person\n",
        "\n",
        "Use a dictionary to store information about a person you know. \n",
        "Store their first name, last name, age, and the city in which they live. You should have keys such as first_name, last_name, age, and city. Print each piece of information stored in your dictionary."
      ]
    },
    {
      "cell_type": "code",
      "metadata": {
        "id": "w9TuGDPIk0Cb",
        "colab_type": "code",
        "colab": {
          "base_uri": "https://localhost:8080/",
          "height": 87
        },
        "outputId": "5e38fbd7-863f-4489-e729-c6c6f38b8407"
      },
      "source": [
        "person = {\n",
        "    'first_name': 'eric',\n",
        "    'last_name': 'matthes',\n",
        "    'age': 43,\n",
        "    'city': 'sitka',\n",
        "    }\n",
        "\n",
        "print(person['first_name'])\n",
        "print(person['last_name'])\n",
        "print(person['age'])\n",
        "print(person['city'])\n"
      ],
      "execution_count": 13,
      "outputs": [
        {
          "output_type": "stream",
          "text": [
            "eric\n",
            "matthes\n",
            "43\n",
            "sitka\n"
          ],
          "name": "stdout"
        }
      ]
    },
    {
      "cell_type": "markdown",
      "metadata": {
        "id": "OWyMlphbk0Ce",
        "colab_type": "text"
      },
      "source": [
        "## Favorite Numbers\n",
        "\n",
        "Use a dictionary to store people’s favorite numbers. Think of five names, and use them as keys in your dictionary. Think of a favorite number for each person, and store each as a value in your dictionary. Print each person’s name and their favorite number. For even more fun, poll a few friends and get some actual data for your program.\n",
        "\n",
        "\n",
        "Modify your previous program so each person can have more than one favorite number. Then print each person’s name along with their favorite numbers."
      ]
    },
    {
      "cell_type": "code",
      "metadata": {
        "id": "woakrwj1k0Cf",
        "colab_type": "code",
        "colab": {
          "base_uri": "https://localhost:8080/",
          "height": 105
        },
        "outputId": "12581781-f2c4-489a-f041-055b768d393e"
      },
      "source": [
        "favorite_numbers = {\n",
        "    'mandy': 42,\n",
        "    'micah': 23,\n",
        "    'gus': 7,\n",
        "    'hank': 1000_000,\n",
        "    'maggie': 0,\n",
        "    }\n",
        "\n",
        "num = favorite_numbers['mandy']\n",
        "print(f\"Mandy's favorite number is {num}.\")\n",
        "\n",
        "num = favorite_numbers['micah']\n",
        "print(f\"Micah's favorite number is {num}.\")\n",
        "\n",
        "num = favorite_numbers['gus']\n",
        "print(f\"Gus's favorite number is {num}.\")\n",
        "\n",
        "num = favorite_numbers['hank']\n",
        "print(f\"Hank's favorite number is {num}.\")\n",
        "\n",
        "num = favorite_numbers['maggie']\n",
        "print(f\"Maggie's favorite number is {num}.\")"
      ],
      "execution_count": 14,
      "outputs": [
        {
          "output_type": "stream",
          "text": [
            "Mandy's favorite number is 42.\n",
            "Micah's favorite number is 23.\n",
            "Gus's favorite number is 7.\n",
            "Hank's favorite number is 1000000.\n",
            "Maggie's favorite number is 0.\n"
          ],
          "name": "stdout"
        }
      ]
    },
    {
      "cell_type": "markdown",
      "metadata": {
        "id": "sVqusGQtk0Cl",
        "colab_type": "text"
      },
      "source": [
        "## Rivers\n",
        "\n",
        "Make a dictionary containing three major rivers and the country each river runs through. One key-value pair might be 'nile': 'egypt'.\n",
        "\n",
        "- Use a loop to print a sentence about each river, such as The Nile runs through Egypt.\n",
        "- Use a loop to print the name of each river included in the dictionary.\n",
        "- Use a loop to print the name of each country included in the dictionary.\n"
      ]
    },
    {
      "cell_type": "code",
      "metadata": {
        "id": "bq0ak9Twk0Cm",
        "colab_type": "code",
        "colab": {
          "base_uri": "https://localhost:8080/",
          "height": 354
        },
        "outputId": "95a647de-33dd-44c5-900d-c37cb9e114c2"
      },
      "source": [
        "rivers = {\n",
        "    'nile': 'egypt',\n",
        "    'mississippi': 'united states',\n",
        "    'fraser': 'canada',\n",
        "    'kuskokwim': 'alaska',\n",
        "    'yangtze': 'china',\n",
        "    }\n",
        "\n",
        "for river, country in rivers.items():\n",
        "    print(f\"The {river.title()} flows through {country.title()}.\")\n",
        "\n",
        "print(\"\\nThe following rivers are included in this data set:\")\n",
        "for river in rivers.keys():\n",
        "    print(f\"- {river.title()}\")\n",
        "\n",
        "print(\"\\nThe following countries are included in this data set:\")\n",
        "for country in rivers.values():\n",
        "    print(f\"- {country.title()}\")"
      ],
      "execution_count": 15,
      "outputs": [
        {
          "output_type": "stream",
          "text": [
            "The Nile flows through Egypt.\n",
            "The Mississippi flows through United States.\n",
            "The Fraser flows through Canada.\n",
            "The Kuskokwim flows through Alaska.\n",
            "The Yangtze flows through China.\n",
            "\n",
            "The following rivers are included in this data set:\n",
            "- Nile\n",
            "- Mississippi\n",
            "- Fraser\n",
            "- Kuskokwim\n",
            "- Yangtze\n",
            "\n",
            "The following countries are included in this data set:\n",
            "- Egypt\n",
            "- United States\n",
            "- Canada\n",
            "- Alaska\n",
            "- China\n"
          ],
          "name": "stdout"
        }
      ]
    },
    {
      "cell_type": "markdown",
      "metadata": {
        "id": "yU3tqlAbk0Cp",
        "colab_type": "text"
      },
      "source": [
        "## Polling\n",
        "\n",
        "Use the provided dictionary that shows some coders and their favoites languages.\n",
        "\n",
        "- Make a list of people who should take the favorite languages poll. Include some names that are already in the dictionary and some that are not.\n",
        "- Loop through the list of people who should take the poll. If they have already taken the poll, print a message thanking them for responding. If they have not yet taken the poll, print a message inviting them to take the poll.\n",
        "\n"
      ]
    },
    {
      "cell_type": "code",
      "metadata": {
        "id": "FpHKkBDdk0Cq",
        "colab_type": "code",
        "colab": {
          "base_uri": "https://localhost:8080/",
          "height": 247
        },
        "outputId": "0a6dcb85-a25f-4928-96c8-16c3dbc0760a"
      },
      "source": [
        "favorite_languages = {\n",
        "    'jen': 'python',\n",
        "    'sarah': 'c',\n",
        "    'edward': 'ruby',\n",
        "    'phil': 'python',\n",
        "    }\n",
        "\n",
        "# your code here\n",
        "\n",
        "for name, language in favorite_languages.items():\n",
        "    print(name.title() + \"'s favorite language is \" +\n",
        "        language.title() + \".\")\n",
        "\n",
        "print(\"\\n\")\n",
        "\n",
        "coders = ['phil', 'josh', 'david', 'becca', 'sarah', 'matt', 'danielle']\n",
        "for coder in coders:\n",
        "    if coder in favorite_languages.keys():\n",
        "        print(\"Thank you for taking the poll, \" + coder.title() + \"!\")\n",
        "    else:\n",
        "        print(coder.title() + \", what's your favorite programming language?\")"
      ],
      "execution_count": 16,
      "outputs": [
        {
          "output_type": "stream",
          "text": [
            "Jen's favorite language is Python.\n",
            "Sarah's favorite language is C.\n",
            "Edward's favorite language is Ruby.\n",
            "Phil's favorite language is Python.\n",
            "\n",
            "\n",
            "Thank you for taking the poll, Phil!\n",
            "Josh, what's your favorite programming language?\n",
            "David, what's your favorite programming language?\n",
            "Becca, what's your favorite programming language?\n",
            "Thank you for taking the poll, Sarah!\n",
            "Matt, what's your favorite programming language?\n",
            "Danielle, what's your favorite programming language?\n"
          ],
          "name": "stdout"
        }
      ]
    },
    {
      "cell_type": "markdown",
      "metadata": {
        "id": "WRwq3osyk0Cs",
        "colab_type": "text"
      },
      "source": [
        "## Pets\n",
        " \n",
        "Make several dictionaries. In each dictionary, include the kind of animal, the name, and the owner’s name. Store these dictionaries in a list called pets. Next, loop through your list and as you do print everything you know about each pet. See that this example is asking for a solution without nested dictionaries\n"
      ]
    },
    {
      "cell_type": "code",
      "metadata": {
        "id": "KdxCj4j_k0Ct",
        "colab_type": "code",
        "colab": {
          "base_uri": "https://localhost:8080/",
          "height": 390
        },
        "outputId": "b2d69087-241b-426b-b5c3-9cc8676105dc"
      },
      "source": [
        "# Make an empty list to store the pets in.\n",
        "pets = []\n",
        "\n",
        "# Make individual pets, and store each one in the list.\n",
        "pet = {\n",
        "    'animal type': 'python',\n",
        "    'name': 'john',\n",
        "    'owner': 'guido',\n",
        "    'weight': 43,\n",
        "    'eats': 'bugs',\n",
        "}\n",
        "pets.append(pet)\n",
        "\n",
        "pet = {\n",
        "    'animal type': 'chicken',\n",
        "    'name': 'clarence',\n",
        "    'owner': 'tiffany',\n",
        "    'weight': 2,\n",
        "    'eats': 'seeds',\n",
        "}\n",
        "pets.append(pet)\n",
        "\n",
        "pet = {\n",
        "    'animal type': 'dog',\n",
        "    'name': 'peso',\n",
        "    'owner': 'eric',\n",
        "    'weight': 37,\n",
        "    'eats': 'shoes',\n",
        "}\n",
        "pets.append(pet)\n",
        "\n",
        "# Display information about each pet.\n",
        "for pet in pets:\n",
        "    print(f\"\\nHere's what I know about {pet['name'].title()}:\")\n",
        "    for key, value in pet.items():\n",
        "        print(f\"\\t{key}: {value}\")\n"
      ],
      "execution_count": 17,
      "outputs": [
        {
          "output_type": "stream",
          "text": [
            "\n",
            "Here's what I know about John:\n",
            "\tanimal type: python\n",
            "\tname: john\n",
            "\towner: guido\n",
            "\tweight: 43\n",
            "\teats: bugs\n",
            "\n",
            "Here's what I know about Clarence:\n",
            "\tanimal type: chicken\n",
            "\tname: clarence\n",
            "\towner: tiffany\n",
            "\tweight: 2\n",
            "\teats: seeds\n",
            "\n",
            "Here's what I know about Peso:\n",
            "\tanimal type: dog\n",
            "\tname: peso\n",
            "\towner: eric\n",
            "\tweight: 37\n",
            "\teats: shoes\n"
          ],
          "name": "stdout"
        }
      ]
    },
    {
      "cell_type": "markdown",
      "metadata": {
        "id": "KAyAlKBwk0Cv",
        "colab_type": "text"
      },
      "source": [
        "## Favorite Places\n",
        "\n",
        "Make a dictionary called favorite_places. Think of three names to use as keys in the dictionary, and store one to three favorite places for each person. To make this exericse a bit more interesting, ask some friends to name a few of their favorite places. Loop through the dictionary, and print each person’s name and their favorite places."
      ]
    },
    {
      "cell_type": "code",
      "metadata": {
        "id": "izB10OTsk0Cw",
        "colab_type": "code",
        "colab": {
          "base_uri": "https://localhost:8080/",
          "height": 265
        },
        "outputId": "47885516-bcb3-4e2c-9cf5-a94fe0e5a481"
      },
      "source": [
        "favorite_places = {\n",
        "    'eric': ['bear mountain', 'death valley', 'tierra del fuego'],\n",
        "    'erin': ['hawaii', 'iceland'],\n",
        "    'willie': ['mt. verstovia', 'the playground', 'new hampshire']\n",
        "    }\n",
        "\n",
        "for name, places in favorite_places.items():\n",
        "    print(f\"\\n{name.title()} likes the following places:\")\n",
        "    for place in places:\n",
        "        print(f\"- {place.title()}\")\n"
      ],
      "execution_count": 18,
      "outputs": [
        {
          "output_type": "stream",
          "text": [
            "\n",
            "Eric likes the following places:\n",
            "- Bear Mountain\n",
            "- Death Valley\n",
            "- Tierra Del Fuego\n",
            "\n",
            "Erin likes the following places:\n",
            "- Hawaii\n",
            "- Iceland\n",
            "\n",
            "Willie likes the following places:\n",
            "- Mt. Verstovia\n",
            "- The Playground\n",
            "- New Hampshire\n"
          ],
          "name": "stdout"
        }
      ]
    },
    {
      "cell_type": "markdown",
      "metadata": {
        "id": "jonUffz0k0Cy",
        "colab_type": "text"
      },
      "source": [
        "## Cities\n",
        "\n",
        "Make a dictionary called cities. Use the names of three cities as keys in your dictionary. Create a dictionary of information about each city and include the country that the city is in, its approximate population, and one fact about that city. The keys for each city’s dictionary should be something like country, population, and fact. Print the name of each city and all of the information you have stored about it."
      ]
    },
    {
      "cell_type": "code",
      "metadata": {
        "id": "17LHi28bk0Cz",
        "colab_type": "code",
        "colab": {
          "base_uri": "https://localhost:8080/",
          "height": 230
        },
        "outputId": "92dae2be-3638-4b89-ba9d-1f47ddc15858"
      },
      "source": [
        "cities = {\n",
        "    'santiago': {\n",
        "        'country': 'chile',\n",
        "        'population': 6_310_000,\n",
        "        'nearby mountains': 'andes',\n",
        "        },\n",
        "    'talkeetna': {\n",
        "        'country': 'united states',\n",
        "        'population': 876,\n",
        "        'nearby mountains': 'alaska range',\n",
        "        },\n",
        "    'kathmandu': {\n",
        "        'country': 'nepal',\n",
        "        'population': 975_453,\n",
        "        'nearby mountains': 'himilaya',\n",
        "        }\n",
        "    }\n",
        "\n",
        "for city, city_info in cities.items():\n",
        "    country = city_info['country'].title()\n",
        "    population = city_info['population']\n",
        "    mountains = city_info['nearby mountains'].title()\n",
        "\n",
        "    print(f\"\\n{city.title()} is in {country}.\")\n",
        "    print(f\"  It has a population of about {population}.\")\n",
        "    print(f\"  The {mountains} mounats are nearby.\")\n"
      ],
      "execution_count": 19,
      "outputs": [
        {
          "output_type": "stream",
          "text": [
            "\n",
            "Santiago is in Chile.\n",
            "  It has a population of about 6310000.\n",
            "  The Andes mounats are nearby.\n",
            "\n",
            "Talkeetna is in United States.\n",
            "  It has a population of about 876.\n",
            "  The Alaska Range mounats are nearby.\n",
            "\n",
            "Kathmandu is in Nepal.\n",
            "  It has a population of about 975453.\n",
            "  The Himilaya mounats are nearby.\n"
          ],
          "name": "stdout"
        }
      ]
    },
    {
      "cell_type": "markdown",
      "metadata": {
        "id": "e9_2nGkdk0C4",
        "colab_type": "text"
      },
      "source": [
        "## Album\n",
        "\n",
        "Write a function called make_album() that builds a dictionary describing a music album. The function should take in an artist name and an album title, and it should return a dictionary containing these two pieces of information. Use the function to make three dictionaries representing different albums. Print each return value to show that the dictionaries are storing the album information correctly.\n",
        "\n",
        "Add an optional parameter to make_album() that allows you to store the nubmer of tracks on an album. If the calling line includes a value for the number of tracks, add that value to the album’s dictionary. Make at least one new function call that includes the nubmer of tracks on an album.\n",
        "\n",
        "Simple version:"
      ]
    },
    {
      "cell_type": "code",
      "metadata": {
        "id": "W7ed7KDGk0C5",
        "colab_type": "code",
        "colab": {
          "base_uri": "https://localhost:8080/",
          "height": 70
        },
        "outputId": "82f9b220-b60b-4c42-fb02-1213bb30df3d"
      },
      "source": [
        "def make_album(artist, title):\n",
        "    \"\"\"Build a dictionary containing information about an album.\"\"\"\n",
        "    album_dict = {}\n",
        "    album_dict[artist] = title\n",
        "    return album_dict\n",
        "\n",
        "album = make_album('metallica', 'ride the lightning')\n",
        "print(album)\n",
        "\n",
        "album = make_album('beethoven', 'ninth symphony')\n",
        "print(album)\n",
        "\n",
        "album = make_album('willie nelson', 'red-headed stranger')\n",
        "print(album)"
      ],
      "execution_count": 20,
      "outputs": [
        {
          "output_type": "stream",
          "text": [
            "{'metallica': 'ride the lightning'}\n",
            "{'beethoven': 'ninth symphony'}\n",
            "{'willie nelson': 'red-headed stranger'}\n"
          ],
          "name": "stdout"
        }
      ]
    },
    {
      "cell_type": "markdown",
      "metadata": {
        "id": "wjBP3uUqk0C9",
        "colab_type": "text"
      },
      "source": [
        "With Tracks"
      ]
    },
    {
      "cell_type": "code",
      "metadata": {
        "id": "RZX_tJr7k0C9",
        "colab_type": "code",
        "colab": {
          "base_uri": "https://localhost:8080/",
          "height": 71
        },
        "outputId": "70105236-4ee3-44df-a56b-237fb2c901f7"
      },
      "source": [
        "def make_album(artist, title, tracks=0):\n",
        "    \"\"\"Build a dictionary containing information about an album.\"\"\"\n",
        "    album_dict = {\n",
        "        'artist': artist.title(),\n",
        "        'title': title.title(),\n",
        "        }\n",
        "    if tracks:\n",
        "        album_dict['tracks'] = tracks\n",
        "    return album_dict\n",
        "\n",
        "def discoteca(artist, title, lista):\n",
        "    \"\"\"Build a dictionary containing information about an album.\"\"\"\n",
        "    album_dict = {\n",
        "        'artist': artist.title(),\n",
        "        'title': title.title(),\n",
        "        }\n",
        "    lista.append(album_dict)\n",
        "    return lista\n",
        "    \n",
        "\n",
        "lista = []\n",
        "lista = discoteca('metallica', 'ride the lightning',lista)\n",
        "lista = discoteca('beethoven', 'ninth symphony',lista)\n",
        "\n",
        "print(lista)\n",
        "\n",
        "\"\"\"\n",
        "album = make_album('beethoven', 'ninth symphony')\n",
        "print(album)\n",
        "\n",
        "album = make_album('willie nelson', 'red-headed stranger')\n",
        "print(album)\n",
        "\n",
        "album = make_album('iron maiden', 'piece of mind', tracks=8)\n",
        "print(album)\n",
        "\"\"\"\n"
      ],
      "execution_count": 21,
      "outputs": [
        {
          "output_type": "stream",
          "text": [
            "[{'artist': 'Metallica', 'title': 'Ride The Lightning'}, {'artist': 'Beethoven', 'title': 'Ninth Symphony'}]\n"
          ],
          "name": "stdout"
        },
        {
          "output_type": "execute_result",
          "data": {
            "application/vnd.google.colaboratory.intrinsic+json": {
              "type": "string"
            },
            "text/plain": [
              "\"\\nalbum = make_album('beethoven', 'ninth symphony')\\nprint(album)\\n\\nalbum = make_album('willie nelson', 'red-headed stranger')\\nprint(album)\\n\\nalbum = make_album('iron maiden', 'piece of mind', tracks=8)\\nprint(album)\\n\""
            ]
          },
          "metadata": {
            "tags": []
          },
          "execution_count": 21
        }
      ]
    },
    {
      "cell_type": "markdown",
      "metadata": {
        "id": "6FYi0GGZk0DA",
        "colab_type": "text"
      },
      "source": [
        "## User Albums\n",
        "\n",
        "Start with your program from previous exercise. Write a while loop that allows users to enter an album’s artist and title. Once you have that information, call make_album() with the user’s input and print the dictionary that’s created. Be sure to include a quit value in the while loop."
      ]
    },
    {
      "cell_type": "code",
      "metadata": {
        "id": "KVIHZTWUk0DB",
        "colab_type": "code",
        "colab": {
          "base_uri": "https://localhost:8080/",
          "height": 176
        },
        "outputId": "bcbb6803-b525-4ef4-a763-e3602f3d3515"
      },
      "source": [
        "def make_album(artist, title, tracks=0):\n",
        "    # Build a dictionary containing information about an album.\n",
        "    album_dict = {\n",
        "        'artist': artist.title(),\n",
        "        'title': title.title(),\n",
        "        }\n",
        "    if tracks:\n",
        "        album_dict['tracks'] = tracks\n",
        "    return album_dict\n",
        "\n",
        "# Prepare the prompts.\n",
        "title_prompt = \"\\nWhat album are you thinking of? \"\n",
        "artist_prompt = \"Who's the artist? \"\n",
        "\n",
        "# Let the user know how to quit.\n",
        "print(\"Enter 'quit' at any time to stop.\")\n",
        "\n",
        "while True:\n",
        "    title = input(title_prompt)\n",
        "    if title == 'quit':\n",
        "        break\n",
        "    \n",
        "    artist = input(artist_prompt)\n",
        "    if artist == 'quit':\n",
        "        break\n",
        "\n",
        "    album = make_album(artist, title)\n",
        "    print(album)\n",
        "\n",
        "print(\"\\nThanks for responding!\")\n"
      ],
      "execution_count": 22,
      "outputs": [
        {
          "output_type": "stream",
          "text": [
            "Enter 'quit' at any time to stop.\n",
            "\n",
            "What album are you thinking of? Weekend\n",
            "Who's the artist? Kovacs\n",
            "{'artist': 'Kovacs', 'title': 'Weekend'}\n",
            "\n",
            "What album are you thinking of? quit\n",
            "\n",
            "Thanks for responding!\n"
          ],
          "name": "stdout"
        }
      ]
    },
    {
      "cell_type": "markdown",
      "metadata": {
        "id": "Ah55mo9Ak0DD",
        "colab_type": "text"
      },
      "source": [
        "## Messages\n",
        "\n",
        "Make a list containing a series of short text messages. Pass the list to a function called show_messages(), which prints each text message."
      ]
    },
    {
      "cell_type": "code",
      "metadata": {
        "id": "fdRcdRmEk0DD",
        "colab_type": "code",
        "colab": {
          "base_uri": "https://localhost:8080/",
          "height": 70
        },
        "outputId": "6d3d5321-f75f-4e42-bfe4-af88ab15fac3"
      },
      "source": [
        "def show_messages(messages):\n",
        "    \"\"\"Print all messages in the list.\"\"\"\n",
        "    for message in messages:\n",
        "        print(message)\n",
        "\n",
        "messages = [\"hello there\", \"how are u?\", \":)\"]\n",
        "show_messages(messages)\n"
      ],
      "execution_count": 23,
      "outputs": [
        {
          "output_type": "stream",
          "text": [
            "hello there\n",
            "how are u?\n",
            ":)\n"
          ],
          "name": "stdout"
        }
      ]
    },
    {
      "cell_type": "markdown",
      "metadata": {
        "id": "zzHsVEC1k0DG",
        "colab_type": "text"
      },
      "source": [
        "## Sending Messages\n",
        "\n",
        "Start with a copy of your program from message exercise. Write a function called send_messages() that prints each text message and moves each message to a new list called sent_messages as it’s printed. After calling the function, print both of your lists to make sure the messages were moved correctly."
      ]
    },
    {
      "cell_type": "code",
      "metadata": {
        "id": "5oUGvkBMk0DO",
        "colab_type": "code",
        "colab": {
          "base_uri": "https://localhost:8080/",
          "height": 247
        },
        "outputId": "fbda5650-5cc1-4fcd-c1be-a6dfa0b41150"
      },
      "source": [
        "def show_messages(messages):\n",
        "    \"\"\"Print all messages in the list.\"\"\"\n",
        "    print(\"Showing all messages:\")\n",
        "    for message in messages:\n",
        "        print(message)\n",
        "\n",
        "def send_messages(messages, sent_messages):\n",
        "    \"\"\"Print each message, and then move it to sent_messages.\"\"\"\n",
        "    print(\"\\nSending all messages:\")\n",
        "    while messages:\n",
        "        current_message = messages.pop()\n",
        "        print(current_message)\n",
        "        sent_messages.append(current_message)\n",
        "\n",
        "messages = [\"hello there\", \"how are u?\", \":)\"]\n",
        "show_messages(messages)\n",
        "\n",
        "sent_messages = []\n",
        "send_messages(messages, sent_messages)\n",
        "\n",
        "print(\"\\nFinal lists:\")\n",
        "print(messages)\n",
        "print(sent_messages)\n"
      ],
      "execution_count": 24,
      "outputs": [
        {
          "output_type": "stream",
          "text": [
            "Showing all messages:\n",
            "hello there\n",
            "how are u?\n",
            ":)\n",
            "\n",
            "Sending all messages:\n",
            ":)\n",
            "how are u?\n",
            "hello there\n",
            "\n",
            "Final lists:\n",
            "[]\n",
            "[':)', 'how are u?', 'hello there']\n"
          ],
          "name": "stdout"
        }
      ]
    },
    {
      "cell_type": "markdown",
      "metadata": {
        "id": "h6bE11Cdk0DR",
        "colab_type": "text"
      },
      "source": [
        "## Archived Messages\n",
        "\n",
        "Start with your work from sending messages. Call the function send_messages() with a copy of the list of messages. After calling the function, print both of your lists to show that the original list has retained its messages."
      ]
    },
    {
      "cell_type": "code",
      "metadata": {
        "id": "FeQ0pgOvk0DR",
        "colab_type": "code",
        "colab": {
          "base_uri": "https://localhost:8080/",
          "height": 247
        },
        "outputId": "fa9ef879-57b7-4307-ae46-11934752275a"
      },
      "source": [
        "def show_messages(messages):\n",
        "    \"\"\"Print all messages in the list.\"\"\"\n",
        "    print(\"Showing all messages:\")\n",
        "    for message in messages:\n",
        "        print(message)\n",
        "\n",
        "def send_messages(messages, sent_messages):\n",
        "    \"\"\"Print each message, and then move it to sent_messages.\"\"\"\n",
        "    print(\"\\nSending all messages:\")\n",
        "    while messages:\n",
        "        current_message = messages.pop()\n",
        "        print(current_message)\n",
        "        sent_messages.append(current_message)\n",
        "\n",
        "messages = [\"hello there\", \"how are u?\", \":)\"]\n",
        "show_messages(messages)\n",
        "\n",
        "sent_messages = []\n",
        "send_messages(messages[:], sent_messages)\n",
        "\n",
        "print(\"\\nFinal lists:\")\n",
        "print(messages)\n",
        "print(sent_messages)\n"
      ],
      "execution_count": 25,
      "outputs": [
        {
          "output_type": "stream",
          "text": [
            "Showing all messages:\n",
            "hello there\n",
            "how are u?\n",
            ":)\n",
            "\n",
            "Sending all messages:\n",
            ":)\n",
            "how are u?\n",
            "hello there\n",
            "\n",
            "Final lists:\n",
            "['hello there', 'how are u?', ':)']\n",
            "[':)', 'how are u?', 'hello there']\n"
          ],
          "name": "stdout"
        }
      ]
    },
    {
      "cell_type": "markdown",
      "metadata": {
        "id": "o_M-mqw2k0DU",
        "colab_type": "text"
      },
      "source": [
        "# Funciones y modulos\n",
        "---"
      ]
    },
    {
      "cell_type": "markdown",
      "metadata": {
        "id": "_PwHCgIck0Da",
        "colab_type": "text"
      },
      "source": [
        "### Write a Python function to create and print a list where the values are square of numbers between 1 and 30 (both included)."
      ]
    },
    {
      "cell_type": "code",
      "metadata": {
        "id": "_VHot6kEk0Db",
        "colab_type": "code",
        "colab": {
          "base_uri": "https://localhost:8080/",
          "height": 34
        },
        "outputId": "492c57dc-6200-4d21-b3ae-093b0430e433"
      },
      "source": [
        "# tu codigo aqui\n",
        "def printValues():\n",
        "    l = list()\n",
        "    for i in range(1,31):\n",
        "        l.append(i**2)\n",
        "    print(l)\n",
        "\n",
        "printValues()\n"
      ],
      "execution_count": 37,
      "outputs": [
        {
          "output_type": "stream",
          "text": [
            "[1, 4, 9, 16, 25, 36, 49, 64, 81, 100, 121, 144, 169, 196, 225, 256, 289, 324, 361, 400, 441, 484, 529, 576, 625, 676, 729, 784, 841, 900]\n"
          ],
          "name": "stdout"
        }
      ]
    },
    {
      "cell_type": "markdown",
      "metadata": {
        "id": "Hqgz-G1_k0EI",
        "colab_type": "text"
      },
      "source": [
        "## Un poco de algoritmia y pensamiento lógico\n",
        "\n",
        "Generalmente utilizaremos funciones construidas en Python y sus librerias que nos permitirán realizar operaciones complejas de manera automática. Para trabajar el pensamiento algorítmico vamos a ralizar varias de estos problemas sin utilizar librerias, o funciones específicas.\n",
        "\n",
        "\n",
        "## Ordena los elementos de una lista utilizando bubble sort."
      ]
    },
    {
      "cell_type": "code",
      "metadata": {
        "id": "J3AwRyeSk0EJ",
        "colab_type": "code",
        "colab": {
          "base_uri": "https://localhost:8080/",
          "height": 158
        },
        "outputId": "81a9516a-9db7-4f54-9ef3-0228798232f5"
      },
      "source": [
        "\n",
        "# Python program for implementation of Bubble Sort \n",
        "  \n",
        "def bubbleSort(arr): \n",
        "    n = len(arr) \n",
        "  \n",
        "    # Traverse through all array elements \n",
        "    for i in range(n-1): \n",
        "    # range(n) also work but outer loop will repeat one time more than needed. \n",
        "  \n",
        "        # Last i elements are already in place \n",
        "        for j in range(0, n-i-1): \n",
        "  \n",
        "            # traverse the array from 0 to n-i-1 \n",
        "            # Swap if the element found is greater \n",
        "            # than the next element \n",
        "            if arr[j] > arr[j+1] : \n",
        "                arr[j], arr[j+1] = arr[j+1], arr[j] \n",
        "  \n",
        "# Driver code to test above \n",
        "arr = [64, 34, 25, 12, 22, 11, 90] \n",
        "  \n",
        "bubbleSort(arr) \n",
        "  \n",
        "print (\"Sorted array is:\") \n",
        "for i in range(len(arr)): \n",
        "    print (\"%d\" %arr[i]),  \n"
      ],
      "execution_count": 33,
      "outputs": [
        {
          "output_type": "stream",
          "text": [
            "Sorted array is:\n",
            "11\n",
            "12\n",
            "22\n",
            "25\n",
            "34\n",
            "64\n",
            "90\n"
          ],
          "name": "stdout"
        }
      ]
    },
    {
      "cell_type": "markdown",
      "metadata": {
        "id": "AQVh51NQk0EL",
        "colab_type": "text"
      },
      "source": [
        "## Ahora que ya sabemos ordenar una lista, escribe un programa que implemente una busqueda binaria.\n"
      ]
    },
    {
      "cell_type": "code",
      "metadata": {
        "id": "YzEdeSEIk0EL",
        "colab_type": "code",
        "colab": {
          "base_uri": "https://localhost:8080/",
          "height": 34
        },
        "outputId": "17469f23-70dd-490a-c3eb-ed905194b471"
      },
      "source": [
        "# Returns index of x in arr if present, else -1 \n",
        "def binarySearch (arr, l, r, x): \n",
        "  \n",
        "    # Check base case \n",
        "    if r >= l: \n",
        "  \n",
        "        mid = l + (r - l)//2\n",
        "  \n",
        "        # If element is present at the middle itself \n",
        "        if arr[mid] == x: \n",
        "            return mid \n",
        "          \n",
        "        # If element is smaller than mid, then it can only \n",
        "        # be present in left subarray \n",
        "        elif arr[mid] > x: \n",
        "            return binarySearch(arr, l, mid-1, x) \n",
        "  \n",
        "        # Else the element can only be present in right subarray \n",
        "        else: \n",
        "            return binarySearch(arr, mid+1, r, x) \n",
        "  \n",
        "    else: \n",
        "        # Element is not present in the array \n",
        "        return -1\n",
        "  \n",
        "# Test array \n",
        "arr = [ 2, 3, 4, 10, 40 ] \n",
        "x = 10\n",
        "  \n",
        "# Function call \n",
        "result = binarySearch(arr, 0, len(arr)-1, x) \n",
        "  \n",
        "if result != -1: \n",
        "    print (\"Element is present at index %d\" % result) \n",
        "else: \n",
        "    print (\"Element is not present in array\")"
      ],
      "execution_count": 32,
      "outputs": [
        {
          "output_type": "stream",
          "text": [
            "Element is present at index 3\n"
          ],
          "name": "stdout"
        }
      ]
    },
    {
      "cell_type": "markdown",
      "metadata": {
        "id": "jkUKEHURk0EO",
        "colab_type": "text"
      },
      "source": [
        "## Crea un programa que calcule el factorial de un número. Deberias calcularlo de dos maneras diferentes: utilizando recursividad y sin utilizarla."
      ]
    },
    {
      "cell_type": "code",
      "metadata": {
        "id": "UQzHcjtSk0EP",
        "colab_type": "code",
        "colab": {},
        "outputId": "9888b0f2-1e16-45ed-95b2-051c0100034e"
      },
      "source": [
        "def recur_factorial(n):  \n",
        "    if n == 1:  \n",
        "        return n  \n",
        "    else:  \n",
        "        return n*recur_factorial(n-1)  \n",
        "\n",
        "# take input from the user  \n",
        "num = int(input(\"Enter a number: \"))  \n",
        "# check is the number is negative  \n",
        "if num < 0:  \n",
        "    print(\"Sorry, factorial does not exist for negative numbers\")  \n",
        "elif num == 0:  \n",
        "    print(\"The factorial of 0 is 1\")  \n",
        "else:  \n",
        "    print(\"The factorial of\",num,\"is\",recur_factorial(num))  "
      ],
      "execution_count": null,
      "outputs": [
        {
          "output_type": "stream",
          "text": [
            "Enter a number:  5\n"
          ],
          "name": "stdin"
        },
        {
          "output_type": "stream",
          "text": [
            "The factorial of 5 is 120\n"
          ],
          "name": "stdout"
        }
      ]
    }
  ]
}