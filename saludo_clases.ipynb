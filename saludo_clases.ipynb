{
  "nbformat": 4,
  "nbformat_minor": 0,
  "metadata": {
    "colab": {
      "name": "saludo_clases.ipynb",
      "provenance": [],
      "collapsed_sections": []
    },
    "kernelspec": {
      "name": "python3",
      "display_name": "Python 3"
    }
  },
  "cells": [
    {
      "cell_type": "markdown",
      "metadata": {
        "id": "p25tIdp1Fz1H",
        "colab_type": "text"
      },
      "source": [
        "# Users\n",
        "\n",
        "Make a class called User. Create two attributes called first_name and last_name, and then create several other attributes that are typically stored in a user profile. Make a method called describe_user() that prints a summary of the user’s information. Make another method called greet_user() that prints a personalized greeting to the user.\n",
        "\n",
        "Create several instances representing different users, and call both methods for each user."
      ]
    },
    {
      "cell_type": "code",
      "metadata": {
        "id": "Q3EKeX3OFxGP",
        "colab_type": "code",
        "colab": {
          "base_uri": "https://localhost:8080/",
          "height": 87
        },
        "outputId": "724e6f68-d123-4555-a0ce-72a04672a8da"
      },
      "source": [
        "class User():\n",
        "  def __init__(self, first_name, last_name, sex, codigopostal, ciudad, edad):\n",
        "    self.first_name = first_name\n",
        "    self.last_name = last_name\n",
        "    self.sex = sex\n",
        "    self.codigopostal = codigopostal\n",
        "    self.ciudad = ciudad\n",
        "    self.edad = edad\n",
        "\n",
        "  def describe_user(self):\n",
        "    print(f'The new user is {self.first_name} {self.last_name}, has got {self.edad} years, is {self.sex}, and live in {self.codigopostal},{self.ciudad}. ')\n",
        "\n",
        "  def greet_user(self):\n",
        "    print(f'Wellcome, {self.first_name}!')\n",
        "\n",
        "Alvaro = User('Álvaro', 'López', 'Male', 28007, 'Madrid', 33 )\n",
        "Alvaro.describe_user()\n",
        "Alvaro.greet_user()\n",
        "Cynthia = User('Cynthia', 'Maldonado', 'Female', 28012, 'Madrid', 34 )\n",
        "Cynthia.describe_user()\n",
        "Cynthia.greet_user()"
      ],
      "execution_count": 1,
      "outputs": [
        {
          "output_type": "stream",
          "text": [
            "The new user is Álvaro López, has got 33 years, is Male, and live in 28007,Madrid. \n",
            "Wellcome, Álvaro!\n",
            "The new user is Cynthia Maldonado, has got 34 years, is Female, and live in 28012,Madrid. \n",
            "Wellcome, Cynthia!\n"
          ],
          "name": "stdout"
        }
      ]
    },
    {
      "cell_type": "code",
      "metadata": {
        "id": "3H3snDcvGADt",
        "colab_type": "code",
        "colab": {}
      },
      "source": [
        ""
      ],
      "execution_count": null,
      "outputs": []
    }
  ]
}