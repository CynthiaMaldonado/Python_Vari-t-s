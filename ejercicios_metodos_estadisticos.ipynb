{
  "nbformat": 4,
  "nbformat_minor": 0,
  "metadata": {
    "colab": {
      "name": "ejercicios_metodos_estadisticos.ipynb",
      "provenance": [],
      "collapsed_sections": []
    },
    "kernelspec": {
      "display_name": "Python 3",
      "language": "python",
      "name": "python3"
    },
    "language_info": {
      "codemirror_mode": {
        "name": "ipython",
        "version": 3
      },
      "file_extension": ".py",
      "mimetype": "text/x-python",
      "name": "python",
      "nbconvert_exporter": "python",
      "pygments_lexer": "ipython3",
      "version": "3.6.9"
    }
  },
  "cells": [
    {
      "cell_type": "markdown",
      "metadata": {
        "colab_type": "text",
        "id": "5cXkMdm-LNyz"
      },
      "source": [
        "# Clumsy Carl\n",
        "\n",
        "\n",
        "Here's the problem restated:\n",
        "\n",
        "Imagine a restaurant employs five dishwashers:\n",
        "- Alice\n",
        "- Bob\n",
        "- Carl\n",
        "- Dave\n",
        "- Eric\n",
        "\n",
        "One week, they break five dishes -- and Carl breaks **four** of the five. So, his coworkers have a hypothesis: Carl is clumsy!\n",
        "\n",
        "Carl says no, it was just bad luck and random chance: it could have happened to anybody. We can call this the null hypothesis.\n",
        "\n",
        "Can we do some math to help answer this argument? What's the probability it was just bad luck?\n",
        "\n",
        "We can write a simulation to estimate the probability that Carl breaks at least four of the five dishes, assuming that breaking a dish is a truly random event. (We'll assume that the dishwashers have identical workloads and skills.)\n"
      ]
    },
    {
      "cell_type": "code",
      "metadata": {
        "colab_type": "code",
        "id": "5IdSBJnmLNy0",
        "colab": {}
      },
      "source": [
        "dishwashers = ['Alice', 'Bob', 'Carl', 'Dave', 'Eric']"
      ],
      "execution_count": null,
      "outputs": []
    },
    {
      "cell_type": "code",
      "metadata": {
        "colab_type": "code",
        "id": "etpy-I1ILNy2",
        "colab": {
          "base_uri": "https://localhost:8080/",
          "height": 51
        },
        "outputId": "c0c4f536-5e51-4400-9dcb-832dbd4f2455"
      },
      "source": [
        "import random\n",
        "\n",
        "carl_p = 0\n",
        "n = 10000\n",
        "\n",
        "for day in range(n):\n",
        "  broker = random.choice(dishwashers)\n",
        "  if broker == \"Carl\":\n",
        "    carl_p += 1\n",
        "\n",
        "prob_equilibrada = carl_p/n\n",
        "prob_carl = prob_equilibrada/4\n",
        "print('La probabilidad equilibrada es {:.2f}'.format(prob_equilibrada))\n",
        "print('La probabilidad de que haya sido Carl es de {:.3f}'.format(prob_carl))\n",
        "\n"
      ],
      "execution_count": null,
      "outputs": [
        {
          "output_type": "stream",
          "text": [
            "La probabilidad equilibrada es 0.20\n",
            "La probabilidad de que haya sido Carl es de 0.050\n"
          ],
          "name": "stdout"
        }
      ]
    },
    {
      "cell_type": "code",
      "metadata": {
        "id": "BpD0nP6OtuHE",
        "colab_type": "code",
        "colab": {
          "base_uri": "https://localhost:8080/",
          "height": 34
        },
        "outputId": "5bc1101e-acb7-42f1-9c6f-c248a96232c0"
      },
      "source": [
        "#Diego\n",
        "\n",
        "def simulacion(L):\n",
        "  breakers = []\n",
        "  for i in range(5):\n",
        "    breakers.append(random.choice(L))\n",
        "  return breakers.count('Carl')\n",
        "\n",
        "tests = []\n",
        "\n",
        "for i in range(10000):\n",
        "  tests.append(simulacion(dishwashers))\n",
        "\n",
        "suma = 0\n",
        "for i in tests:\n",
        "  if i >= 4:\n",
        "    suma += 1\n",
        "\n",
        "print(suma)"
      ],
      "execution_count": null,
      "outputs": [
        {
          "output_type": "stream",
          "text": [
            "61\n"
          ],
          "name": "stdout"
        }
      ]
    },
    {
      "cell_type": "code",
      "metadata": {
        "id": "ATwStEJQwJxg",
        "colab_type": "code",
        "colab": {
          "base_uri": "https://localhost:8080/",
          "height": 34
        },
        "outputId": "9460e778-3178-4d99-958d-c02b33834786"
      },
      "source": [
        "pvalue = suma/(len(tests))\n",
        "pvalue"
      ],
      "execution_count": null,
      "outputs": [
        {
          "output_type": "execute_result",
          "data": {
            "text/plain": [
              "0.0061"
            ]
          },
          "metadata": {
            "tags": []
          },
          "execution_count": 36
        }
      ]
    },
    {
      "cell_type": "code",
      "metadata": {
        "id": "Qu3hP3RkvOVu",
        "colab_type": "code",
        "colab": {
          "base_uri": "https://localhost:8080/",
          "height": 333
        },
        "outputId": "a3866f7e-25bd-4be4-cfb8-75665bceb311"
      },
      "source": [
        "import matplotlib.pyplot as plt\n",
        "\n",
        "plt.hist(tests)"
      ],
      "execution_count": null,
      "outputs": [
        {
          "output_type": "execute_result",
          "data": {
            "text/plain": [
              "(array([3.284e+03, 0.000e+00, 4.184e+03, 0.000e+00, 1.989e+03, 0.000e+00,\n",
              "        4.820e+02, 0.000e+00, 5.700e+01, 4.000e+00]),\n",
              " array([0. , 0.5, 1. , 1.5, 2. , 2.5, 3. , 3.5, 4. , 4.5, 5. ]),\n",
              " <a list of 10 Patch objects>)"
            ]
          },
          "metadata": {
            "tags": []
          },
          "execution_count": 37
        },
        {
          "output_type": "display_data",
          "data": {
            "image/png": "[encoded data removed]",
            "text/plain": [
              "<Figure size 432x288 with 1 Axes>"
            ]
          },
          "metadata": {
            "tags": [],
            "needs_background": "light"
          }
        }
      ]
    },
    {
      "cell_type": "code",
      "metadata": {
        "id": "7rTLOKE1xi8b",
        "colab_type": "code",
        "colab": {
          "base_uri": "https://localhost:8080/",
          "height": 34
        },
        "outputId": "1492d858-ecf0-4d2b-de6d-f4ccf404488e"
      },
      "source": [
        "#Z Score\n",
        "from statistics import mean, stdev\n",
        "\n",
        "zscore = (4 - mean(tests))/stdev(tests)\n",
        "print(zscore)  #si + de 3 es un outlayer(muy separado de la media)"
      ],
      "execution_count": null,
      "outputs": [
        {
          "output_type": "stream",
          "text": [
            "3.4182442715077204\n"
          ],
          "name": "stdout"
        }
      ]
    },
    {
      "cell_type": "markdown",
      "metadata": {
        "colab_type": "text",
        "id": "lbuNLuPVLNy4"
      },
      "source": [
        "# Two dice\n",
        "\n",
        "Simulate the distribution of adding two dice.\n",
        "\n",
        "What is the mean? Standard deviation?"
      ]
    },
    {
      "cell_type": "code",
      "metadata": {
        "colab_type": "code",
        "id": "Cn1yEJDQLNy5",
        "colab": {
          "base_uri": "https://localhost:8080/",
          "height": 68
        },
        "outputId": "cdfdf3b8-0668-4a7e-e6e3-3bcc39926522"
      },
      "source": [
        "#from statistics import mean, stdev\n",
        "\n",
        "dices = []\n",
        "n = 10000\n",
        "\n",
        "for t in range(n):\n",
        "  t1 = random.randint(1,6)\n",
        "  t2 = random.randint(1,6)\n",
        "  dices.append(t1 + t2)\n",
        "  \n",
        "\n",
        "mean_dices = mean(dices) \n",
        "#mean2 = mean(dice2)\n",
        "stdev_dices = stdev(dices)\n",
        "#stdev2 = stdev(dice2)\n",
        "print('\\nLa media es {:.2f}''\\nLa desviación estándar es {:.2f}'.format(mean_dices, stdev_dices))"
      ],
      "execution_count": null,
      "outputs": [
        {
          "output_type": "stream",
          "text": [
            "\n",
            "La media es 6.98\n",
            "La desviación estándar es 2.43\n"
          ],
          "name": "stdout"
        }
      ]
    },
    {
      "cell_type": "markdown",
      "metadata": {
        "colab_type": "text",
        "id": "8Q0iMN5-LNy7"
      },
      "source": [
        "What is the standard score (z score) of rolling a 10?"
      ]
    },
    {
      "cell_type": "code",
      "metadata": {
        "colab_type": "code",
        "id": "9kOLJtxjLNy7",
        "colab": {
          "base_uri": "https://localhost:8080/",
          "height": 34
        },
        "outputId": "96c59191-932d-48aa-aa6d-8f958ac1dc03"
      },
      "source": [
        "zscore_dice = (10 - mean_dices)/stdev_dices\n",
        "print(f'El zscore es {zscore_dice:.2f}')"
      ],
      "execution_count": null,
      "outputs": [
        {
          "output_type": "stream",
          "text": [
            "El zscore es 1.24\n"
          ],
          "name": "stdout"
        }
      ]
    },
    {
      "cell_type": "markdown",
      "metadata": {
        "colab_type": "text",
        "id": "OXVQVpV0LNy-"
      },
      "source": [
        "What is the probability of rolling a 10 or higher?"
      ]
    },
    {
      "cell_type": "code",
      "metadata": {
        "colab_type": "code",
        "id": "YfWhW40YLNy_",
        "colab": {
          "base_uri": "https://localhost:8080/",
          "height": 34
        },
        "outputId": "4103a0e6-c36f-4b73-a404-b3a2642e191e"
      },
      "source": [
        "test_mas_10 = 0\n",
        "for i in dices:\n",
        "  if i >= 10:\n",
        "    test_mas_10 += 1\n",
        "\n",
        "pvalue = test_mas_10/len(dices)\n",
        "print(f'La probabilidad de que la suma de los dados sea 10 o más, es de {pvalue:.2f}')"
      ],
      "execution_count": null,
      "outputs": [
        {
          "output_type": "stream",
          "text": [
            "La probabilidad de que la suma de los dados sea 10 o más, es de 0.17\n"
          ],
          "name": "stdout"
        }
      ]
    }
  ]
}