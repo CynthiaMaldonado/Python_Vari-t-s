{
  "nbformat": 4,
  "nbformat_minor": 0,
  "metadata": {
    "anaconda-cloud": {},
    "kernelspec": {
      "display_name": "Python 3.7.4 64-bit ('base': conda)",
      "language": "python",
      "name": "python37464bitbaseconda7814dbd1928147e9a3244e88a92b741a"
    },
    "language_info": {
      "codemirror_mode": {
        "name": "ipython",
        "version": 2
      },
      "file_extension": ".py",
      "mimetype": "text/x-python",
      "name": "python",
      "nbconvert_exporter": "python",
      "pygments_lexer": "ipython2",
      "version": "3.7.4-final"
    },
    "colab": {
      "name": "FE_TimeSeries_Apple.ipynb",
      "provenance": [],
      "collapsed_sections": []
    }
  },
  "cells": [
    {
      "cell_type": "markdown",
      "metadata": {
        "id": "zjs-ughQmg10",
        "colab_type": "text"
      },
      "source": [
        "# Apple Stock"
      ]
    },
    {
      "cell_type": "markdown",
      "metadata": {
        "id": "52q38C0emg12",
        "colab_type": "text"
      },
      "source": [
        "### Introduction:\n",
        "\n",
        "We are going to use Apple's stock price.\n",
        "\n",
        "\n",
        "### Step 1. Import the necessary libraries"
      ]
    },
    {
      "cell_type": "code",
      "metadata": {
        "id": "BqR_i3ugmg13",
        "colab_type": "code",
        "colab": {}
      },
      "source": [
        "import pandas as pd\n",
        "import numpy as np\n",
        "\n",
        "# visualization\n",
        "import matplotlib.pyplot as plt\n",
        "\n",
        "%matplotlib inline"
      ],
      "execution_count": null,
      "outputs": []
    },
    {
      "cell_type": "markdown",
      "metadata": {
        "id": "SNd1glsUmg19",
        "colab_type": "text"
      },
      "source": [
        "### Step 2. Import the dataset from this [address](https://raw.githubusercontent.com/guipsamora/pandas_exercises/master/09_Time_Series/Apple_Stock/appl_1980_2014.csv)"
      ]
    },
    {
      "cell_type": "markdown",
      "metadata": {
        "id": "LTXenAYpmg1-",
        "colab_type": "text"
      },
      "source": [
        "### Step 3. Assign it to a variable apple"
      ]
    },
    {
      "cell_type": "code",
      "metadata": {
        "id": "il-C_-OLmg1-",
        "colab_type": "code",
        "colab": {},
        "outputId": "ffb2cd43-db01-4f09-b684-99e09b5079b4"
      },
      "source": [
        "apple = pd.read_csv('appl_1980_2014.csv')\n",
        "apple.head()"
      ],
      "execution_count": null,
      "outputs": [
        {
          "output_type": "execute_result",
          "data": {
            "text/plain": [
              "         Date   Open   High    Low  Close    Volume  Adj Close\n",
              "0  2014-07-08  96.27  96.80  93.92  95.35  65130000      95.35\n",
              "1  2014-07-07  94.14  95.99  94.10  95.97  56305400      95.97\n",
              "2  2014-07-03  93.67  94.10  93.20  94.03  22891800      94.03\n",
              "3  2014-07-02  93.87  94.06  93.09  93.48  28420900      93.48\n",
              "4  2014-07-01  93.52  94.07  93.13  93.52  38170200      93.52"
            ],
            "text/html": [
              "<div>\n",
              "<style scoped>\n",
              "    .dataframe tbody tr th:only-of-type {\n",
              "        vertical-align: middle;\n",
              "    }\n",
              "\n",
              "    .dataframe tbody tr th {\n",
              "        vertical-align: top;\n",
              "    }\n",
              "\n",
              "    .dataframe thead th {\n",
              "        text-align: right;\n",
              "    }\n",
              "</style>\n",
              "<table border=\"1\" class=\"dataframe\">\n",
              "  <thead>\n",
              "    <tr style=\"text-align: right;\">\n",
              "      <th></th>\n",
              "      <th>Date</th>\n",
              "      <th>Open</th>\n",
              "      <th>High</th>\n",
              "      <th>Low</th>\n",
              "      <th>Close</th>\n",
              "      <th>Volume</th>\n",
              "      <th>Adj Close</th>\n",
              "    </tr>\n",
              "  </thead>\n",
              "  <tbody>\n",
              "    <tr>\n",
              "      <td>0</td>\n",
              "      <td>2014-07-08</td>\n",
              "      <td>96.27</td>\n",
              "      <td>96.80</td>\n",
              "      <td>93.92</td>\n",
              "      <td>95.35</td>\n",
              "      <td>65130000</td>\n",
              "      <td>95.35</td>\n",
              "    </tr>\n",
              "    <tr>\n",
              "      <td>1</td>\n",
              "      <td>2014-07-07</td>\n",
              "      <td>94.14</td>\n",
              "      <td>95.99</td>\n",
              "      <td>94.10</td>\n",
              "      <td>95.97</td>\n",
              "      <td>56305400</td>\n",
              "      <td>95.97</td>\n",
              "    </tr>\n",
              "    <tr>\n",
              "      <td>2</td>\n",
              "      <td>2014-07-03</td>\n",
              "      <td>93.67</td>\n",
              "      <td>94.10</td>\n",
              "      <td>93.20</td>\n",
              "      <td>94.03</td>\n",
              "      <td>22891800</td>\n",
              "      <td>94.03</td>\n",
              "    </tr>\n",
              "    <tr>\n",
              "      <td>3</td>\n",
              "      <td>2014-07-02</td>\n",
              "      <td>93.87</td>\n",
              "      <td>94.06</td>\n",
              "      <td>93.09</td>\n",
              "      <td>93.48</td>\n",
              "      <td>28420900</td>\n",
              "      <td>93.48</td>\n",
              "    </tr>\n",
              "    <tr>\n",
              "      <td>4</td>\n",
              "      <td>2014-07-01</td>\n",
              "      <td>93.52</td>\n",
              "      <td>94.07</td>\n",
              "      <td>93.13</td>\n",
              "      <td>93.52</td>\n",
              "      <td>38170200</td>\n",
              "      <td>93.52</td>\n",
              "    </tr>\n",
              "  </tbody>\n",
              "</table>\n",
              "</div>"
            ]
          },
          "metadata": {
            "tags": []
          },
          "execution_count": 32
        }
      ]
    },
    {
      "cell_type": "markdown",
      "metadata": {
        "id": "a-AgypGsmg2D",
        "colab_type": "text"
      },
      "source": [
        "### Step 4.  Check out the type of the columns"
      ]
    },
    {
      "cell_type": "code",
      "metadata": {
        "id": "ve9JvFTTmg2E",
        "colab_type": "code",
        "colab": {},
        "outputId": "24824c3b-e287-4a38-96ef-3fc67ee17251"
      },
      "source": [
        "apple.dtypes"
      ],
      "execution_count": null,
      "outputs": [
        {
          "output_type": "execute_result",
          "data": {
            "text/plain": [
              "Date          object\n",
              "Open         float64\n",
              "High         float64\n",
              "Low          float64\n",
              "Close        float64\n",
              "Volume         int64\n",
              "Adj Close    float64\n",
              "dtype: object"
            ]
          },
          "metadata": {
            "tags": []
          },
          "execution_count": 4
        }
      ]
    },
    {
      "cell_type": "markdown",
      "metadata": {
        "id": "jyvpWvw5mg2I",
        "colab_type": "text"
      },
      "source": [
        "### Step 5. Transform the Date column as a datetime type"
      ]
    },
    {
      "cell_type": "code",
      "metadata": {
        "id": "hoi8bvJKvrP8",
        "colab_type": "code",
        "colab": {},
        "outputId": "19ccae2a-9ef6-496b-9948-becc6a11e967"
      },
      "source": [
        "apple['Date'] = pd.to_datetime(apple['Date'])\n",
        "apple.dtypes"
      ],
      "execution_count": null,
      "outputs": [
        {
          "output_type": "execute_result",
          "data": {
            "text/plain": [
              "Date         datetime64[ns]\n",
              "Open                float64\n",
              "High                float64\n",
              "Low                 float64\n",
              "Close               float64\n",
              "Volume                int64\n",
              "Adj Close           float64\n",
              "dtype: object"
            ]
          },
          "metadata": {
            "tags": []
          },
          "execution_count": 39
        }
      ]
    },
    {
      "cell_type": "code",
      "metadata": {
        "id": "dSZTzZkJvrP_",
        "colab_type": "code",
        "colab": {},
        "outputId": "55d5722b-5691-4fe7-e51c-947f41546d13"
      },
      "source": [
        "apple.Date.head()"
      ],
      "execution_count": null,
      "outputs": [
        {
          "output_type": "execute_result",
          "data": {
            "text/plain": [
              "0   2014-07-08\n",
              "1   2014-07-07\n",
              "2   2014-07-03\n",
              "3   2014-07-02\n",
              "4   2014-07-01\n",
              "Name: Date, dtype: datetime64[ns]"
            ]
          },
          "metadata": {
            "tags": []
          },
          "execution_count": 34
        }
      ]
    },
    {
      "cell_type": "markdown",
      "metadata": {
        "id": "Zabhe_I1mg2N",
        "colab_type": "text"
      },
      "source": [
        "### Step 6.  Set the date as the index"
      ]
    },
    {
      "cell_type": "code",
      "metadata": {
        "id": "HUQaSClhvrQH",
        "colab_type": "code",
        "colab": {},
        "outputId": "ec36ca99-c13d-49bf-c3e7-7a89b59e1c98"
      },
      "source": [
        "apple.set_index('Date', inplace=True)\n",
        "apple.head()"
      ],
      "execution_count": null,
      "outputs": [
        {
          "output_type": "execute_result",
          "data": {
            "text/plain": [
              "             Open   High    Low  Close    Volume  Adj Close\n",
              "Date                                                       \n",
              "2014-07-08  96.27  96.80  93.92  95.35  65130000      95.35\n",
              "2014-07-07  94.14  95.99  94.10  95.97  56305400      95.97\n",
              "2014-07-03  93.67  94.10  93.20  94.03  22891800      94.03\n",
              "2014-07-02  93.87  94.06  93.09  93.48  28420900      93.48\n",
              "2014-07-01  93.52  94.07  93.13  93.52  38170200      93.52"
            ],
            "text/html": [
              "<div>\n",
              "<style scoped>\n",
              "    .dataframe tbody tr th:only-of-type {\n",
              "        vertical-align: middle;\n",
              "    }\n",
              "\n",
              "    .dataframe tbody tr th {\n",
              "        vertical-align: top;\n",
              "    }\n",
              "\n",
              "    .dataframe thead th {\n",
              "        text-align: right;\n",
              "    }\n",
              "</style>\n",
              "<table border=\"1\" class=\"dataframe\">\n",
              "  <thead>\n",
              "    <tr style=\"text-align: right;\">\n",
              "      <th></th>\n",
              "      <th>Open</th>\n",
              "      <th>High</th>\n",
              "      <th>Low</th>\n",
              "      <th>Close</th>\n",
              "      <th>Volume</th>\n",
              "      <th>Adj Close</th>\n",
              "    </tr>\n",
              "    <tr>\n",
              "      <th>Date</th>\n",
              "      <th></th>\n",
              "      <th></th>\n",
              "      <th></th>\n",
              "      <th></th>\n",
              "      <th></th>\n",
              "      <th></th>\n",
              "    </tr>\n",
              "  </thead>\n",
              "  <tbody>\n",
              "    <tr>\n",
              "      <td>2014-07-08</td>\n",
              "      <td>96.27</td>\n",
              "      <td>96.80</td>\n",
              "      <td>93.92</td>\n",
              "      <td>95.35</td>\n",
              "      <td>65130000</td>\n",
              "      <td>95.35</td>\n",
              "    </tr>\n",
              "    <tr>\n",
              "      <td>2014-07-07</td>\n",
              "      <td>94.14</td>\n",
              "      <td>95.99</td>\n",
              "      <td>94.10</td>\n",
              "      <td>95.97</td>\n",
              "      <td>56305400</td>\n",
              "      <td>95.97</td>\n",
              "    </tr>\n",
              "    <tr>\n",
              "      <td>2014-07-03</td>\n",
              "      <td>93.67</td>\n",
              "      <td>94.10</td>\n",
              "      <td>93.20</td>\n",
              "      <td>94.03</td>\n",
              "      <td>22891800</td>\n",
              "      <td>94.03</td>\n",
              "    </tr>\n",
              "    <tr>\n",
              "      <td>2014-07-02</td>\n",
              "      <td>93.87</td>\n",
              "      <td>94.06</td>\n",
              "      <td>93.09</td>\n",
              "      <td>93.48</td>\n",
              "      <td>28420900</td>\n",
              "      <td>93.48</td>\n",
              "    </tr>\n",
              "    <tr>\n",
              "      <td>2014-07-01</td>\n",
              "      <td>93.52</td>\n",
              "      <td>94.07</td>\n",
              "      <td>93.13</td>\n",
              "      <td>93.52</td>\n",
              "      <td>38170200</td>\n",
              "      <td>93.52</td>\n",
              "    </tr>\n",
              "  </tbody>\n",
              "</table>\n",
              "</div>"
            ]
          },
          "metadata": {
            "tags": []
          },
          "execution_count": 40
        }
      ]
    },
    {
      "cell_type": "markdown",
      "metadata": {
        "id": "0nF73sSRmg2S",
        "colab_type": "text"
      },
      "source": [
        "### Step 7.  Is there any duplicate dates?"
      ]
    },
    {
      "cell_type": "code",
      "metadata": {
        "id": "D7Ga8p1xmg2S",
        "colab_type": "code",
        "colab": {},
        "outputId": "a19a5d03-afd2-4230-f036-63f8b5493451"
      },
      "source": [
        "# NO! All are unique\n",
        "print(apple.index.shape[0] == apple.index.nunique())"
      ],
      "execution_count": null,
      "outputs": [
        {
          "output_type": "stream",
          "text": [
            "True\n"
          ],
          "name": "stdout"
        }
      ]
    },
    {
      "cell_type": "markdown",
      "metadata": {
        "id": "mLlS350Emg2X",
        "colab_type": "text"
      },
      "source": [
        "### Step 8.  Ops...it seems the index is from the most recent date. Make the first entry the oldest date."
      ]
    },
    {
      "cell_type": "code",
      "metadata": {
        "id": "cNYpxtgDmg2Y",
        "colab_type": "code",
        "colab": {},
        "outputId": "8e7b3377-33e6-442c-9431-15b2100f2a49"
      },
      "source": [
        "apple.sort_index(inplace=True)\n",
        "apple"
      ],
      "execution_count": null,
      "outputs": [
        {
          "output_type": "execute_result",
          "data": {
            "text/plain": [
              "             Open   High    Low  Close     Volume  Adj Close\n",
              "Date                                                        \n",
              "1980-12-12  28.75  28.87  28.75  28.75  117258400       0.45\n",
              "1980-12-15  27.38  27.38  27.25  27.25   43971200       0.42\n",
              "1980-12-16  25.37  25.37  25.25  25.25   26432000       0.39\n",
              "1980-12-17  25.87  26.00  25.87  25.87   21610400       0.40\n",
              "1980-12-18  26.63  26.75  26.63  26.63   18362400       0.41\n",
              "...           ...    ...    ...    ...        ...        ...\n",
              "2014-07-01  93.52  94.07  93.13  93.52   38170200      93.52\n",
              "2014-07-02  93.87  94.06  93.09  93.48   28420900      93.48\n",
              "2014-07-03  93.67  94.10  93.20  94.03   22891800      94.03\n",
              "2014-07-07  94.14  95.99  94.10  95.97   56305400      95.97\n",
              "2014-07-08  96.27  96.80  93.92  95.35   65130000      95.35\n",
              "\n",
              "[8465 rows x 6 columns]"
            ],
            "text/html": [
              "<div>\n",
              "<style scoped>\n",
              "    .dataframe tbody tr th:only-of-type {\n",
              "        vertical-align: middle;\n",
              "    }\n",
              "\n",
              "    .dataframe tbody tr th {\n",
              "        vertical-align: top;\n",
              "    }\n",
              "\n",
              "    .dataframe thead th {\n",
              "        text-align: right;\n",
              "    }\n",
              "</style>\n",
              "<table border=\"1\" class=\"dataframe\">\n",
              "  <thead>\n",
              "    <tr style=\"text-align: right;\">\n",
              "      <th></th>\n",
              "      <th>Open</th>\n",
              "      <th>High</th>\n",
              "      <th>Low</th>\n",
              "      <th>Close</th>\n",
              "      <th>Volume</th>\n",
              "      <th>Adj Close</th>\n",
              "    </tr>\n",
              "    <tr>\n",
              "      <th>Date</th>\n",
              "      <th></th>\n",
              "      <th></th>\n",
              "      <th></th>\n",
              "      <th></th>\n",
              "      <th></th>\n",
              "      <th></th>\n",
              "    </tr>\n",
              "  </thead>\n",
              "  <tbody>\n",
              "    <tr>\n",
              "      <td>1980-12-12</td>\n",
              "      <td>28.75</td>\n",
              "      <td>28.87</td>\n",
              "      <td>28.75</td>\n",
              "      <td>28.75</td>\n",
              "      <td>117258400</td>\n",
              "      <td>0.45</td>\n",
              "    </tr>\n",
              "    <tr>\n",
              "      <td>1980-12-15</td>\n",
              "      <td>27.38</td>\n",
              "      <td>27.38</td>\n",
              "      <td>27.25</td>\n",
              "      <td>27.25</td>\n",
              "      <td>43971200</td>\n",
              "      <td>0.42</td>\n",
              "    </tr>\n",
              "    <tr>\n",
              "      <td>1980-12-16</td>\n",
              "      <td>25.37</td>\n",
              "      <td>25.37</td>\n",
              "      <td>25.25</td>\n",
              "      <td>25.25</td>\n",
              "      <td>26432000</td>\n",
              "      <td>0.39</td>\n",
              "    </tr>\n",
              "    <tr>\n",
              "      <td>1980-12-17</td>\n",
              "      <td>25.87</td>\n",
              "      <td>26.00</td>\n",
              "      <td>25.87</td>\n",
              "      <td>25.87</td>\n",
              "      <td>21610400</td>\n",
              "      <td>0.40</td>\n",
              "    </tr>\n",
              "    <tr>\n",
              "      <td>1980-12-18</td>\n",
              "      <td>26.63</td>\n",
              "      <td>26.75</td>\n",
              "      <td>26.63</td>\n",
              "      <td>26.63</td>\n",
              "      <td>18362400</td>\n",
              "      <td>0.41</td>\n",
              "    </tr>\n",
              "    <tr>\n",
              "      <td>...</td>\n",
              "      <td>...</td>\n",
              "      <td>...</td>\n",
              "      <td>...</td>\n",
              "      <td>...</td>\n",
              "      <td>...</td>\n",
              "      <td>...</td>\n",
              "    </tr>\n",
              "    <tr>\n",
              "      <td>2014-07-01</td>\n",
              "      <td>93.52</td>\n",
              "      <td>94.07</td>\n",
              "      <td>93.13</td>\n",
              "      <td>93.52</td>\n",
              "      <td>38170200</td>\n",
              "      <td>93.52</td>\n",
              "    </tr>\n",
              "    <tr>\n",
              "      <td>2014-07-02</td>\n",
              "      <td>93.87</td>\n",
              "      <td>94.06</td>\n",
              "      <td>93.09</td>\n",
              "      <td>93.48</td>\n",
              "      <td>28420900</td>\n",
              "      <td>93.48</td>\n",
              "    </tr>\n",
              "    <tr>\n",
              "      <td>2014-07-03</td>\n",
              "      <td>93.67</td>\n",
              "      <td>94.10</td>\n",
              "      <td>93.20</td>\n",
              "      <td>94.03</td>\n",
              "      <td>22891800</td>\n",
              "      <td>94.03</td>\n",
              "    </tr>\n",
              "    <tr>\n",
              "      <td>2014-07-07</td>\n",
              "      <td>94.14</td>\n",
              "      <td>95.99</td>\n",
              "      <td>94.10</td>\n",
              "      <td>95.97</td>\n",
              "      <td>56305400</td>\n",
              "      <td>95.97</td>\n",
              "    </tr>\n",
              "    <tr>\n",
              "      <td>2014-07-08</td>\n",
              "      <td>96.27</td>\n",
              "      <td>96.80</td>\n",
              "      <td>93.92</td>\n",
              "      <td>95.35</td>\n",
              "      <td>65130000</td>\n",
              "      <td>95.35</td>\n",
              "    </tr>\n",
              "  </tbody>\n",
              "</table>\n",
              "<p>8465 rows × 6 columns</p>\n",
              "</div>"
            ]
          },
          "metadata": {
            "tags": []
          },
          "execution_count": 42
        }
      ]
    },
    {
      "cell_type": "markdown",
      "metadata": {
        "id": "ovW82pj-mg2e",
        "colab_type": "text"
      },
      "source": [
        "### Step 9. Get the last business day of each month"
      ]
    },
    {
      "cell_type": "code",
      "metadata": {
        "id": "t-GvIEVuvrQU",
        "colab_type": "code",
        "colab": {},
        "outputId": "fd5224f8-5906-4a6d-f4a0-bf9ea13c32e2"
      },
      "source": [
        "apple.index.max()"
      ],
      "execution_count": null,
      "outputs": [
        {
          "output_type": "execute_result",
          "data": {
            "text/plain": [
              "Timestamp('2014-07-08 00:00:00')"
            ]
          },
          "metadata": {
            "tags": []
          },
          "execution_count": 43
        }
      ]
    },
    {
      "cell_type": "code",
      "metadata": {
        "id": "rCsRBF-hvrQZ",
        "colab_type": "code",
        "colab": {},
        "outputId": "18dc7344-157c-41c0-d170-1fcb7d6ca050"
      },
      "source": [
        "apple.index.min()"
      ],
      "execution_count": null,
      "outputs": [
        {
          "output_type": "execute_result",
          "data": {
            "text/plain": [
              "Timestamp('1980-12-12 00:00:00')"
            ]
          },
          "metadata": {
            "tags": []
          },
          "execution_count": 44
        }
      ]
    },
    {
      "cell_type": "code",
      "metadata": {
        "id": "qRyf69MAvrQg",
        "colab_type": "code",
        "colab": {},
        "outputId": "26793361-7232-4513-859a-ff6ed3dd5b87"
      },
      "source": [
        "#last_day = (apple.index + pd.offsets.BMonthEnd(1)).day\n",
        "last_day =  pd.date_range(start='1980-12-12', end='2014-07-08', freq='BM')\n",
        "last_list=[]\n",
        "for date in apple.index:\n",
        "    if date in last_day:\n",
        "        last_list.append(date)\n",
        "\n",
        "last_df = apple[apple.index.isin(last_list)]\n",
        "last_df.head()"
      ],
      "execution_count": null,
      "outputs": [
        {
          "output_type": "execute_result",
          "data": {
            "text/plain": [
              "             Open   High    Low  Close    Volume  Adj Close\n",
              "Date                                                       \n",
              "1980-12-31  34.25  34.25  34.13  34.13   8937600       0.53\n",
              "1981-01-30  28.50  28.50  28.25  28.25  11547200       0.44\n",
              "1981-02-27  26.50  26.75  26.50  26.50   3690400       0.41\n",
              "1981-03-31  24.75  24.75  24.50  24.50   3998400       0.38\n",
              "1981-04-30  28.38  28.62  28.38  28.38   3152800       0.44"
            ],
            "text/html": [
              "<div>\n",
              "<style scoped>\n",
              "    .dataframe tbody tr th:only-of-type {\n",
              "        vertical-align: middle;\n",
              "    }\n",
              "\n",
              "    .dataframe tbody tr th {\n",
              "        vertical-align: top;\n",
              "    }\n",
              "\n",
              "    .dataframe thead th {\n",
              "        text-align: right;\n",
              "    }\n",
              "</style>\n",
              "<table border=\"1\" class=\"dataframe\">\n",
              "  <thead>\n",
              "    <tr style=\"text-align: right;\">\n",
              "      <th></th>\n",
              "      <th>Open</th>\n",
              "      <th>High</th>\n",
              "      <th>Low</th>\n",
              "      <th>Close</th>\n",
              "      <th>Volume</th>\n",
              "      <th>Adj Close</th>\n",
              "    </tr>\n",
              "    <tr>\n",
              "      <th>Date</th>\n",
              "      <th></th>\n",
              "      <th></th>\n",
              "      <th></th>\n",
              "      <th></th>\n",
              "      <th></th>\n",
              "      <th></th>\n",
              "    </tr>\n",
              "  </thead>\n",
              "  <tbody>\n",
              "    <tr>\n",
              "      <td>1980-12-31</td>\n",
              "      <td>34.25</td>\n",
              "      <td>34.25</td>\n",
              "      <td>34.13</td>\n",
              "      <td>34.13</td>\n",
              "      <td>8937600</td>\n",
              "      <td>0.53</td>\n",
              "    </tr>\n",
              "    <tr>\n",
              "      <td>1981-01-30</td>\n",
              "      <td>28.50</td>\n",
              "      <td>28.50</td>\n",
              "      <td>28.25</td>\n",
              "      <td>28.25</td>\n",
              "      <td>11547200</td>\n",
              "      <td>0.44</td>\n",
              "    </tr>\n",
              "    <tr>\n",
              "      <td>1981-02-27</td>\n",
              "      <td>26.50</td>\n",
              "      <td>26.75</td>\n",
              "      <td>26.50</td>\n",
              "      <td>26.50</td>\n",
              "      <td>3690400</td>\n",
              "      <td>0.41</td>\n",
              "    </tr>\n",
              "    <tr>\n",
              "      <td>1981-03-31</td>\n",
              "      <td>24.75</td>\n",
              "      <td>24.75</td>\n",
              "      <td>24.50</td>\n",
              "      <td>24.50</td>\n",
              "      <td>3998400</td>\n",
              "      <td>0.38</td>\n",
              "    </tr>\n",
              "    <tr>\n",
              "      <td>1981-04-30</td>\n",
              "      <td>28.38</td>\n",
              "      <td>28.62</td>\n",
              "      <td>28.38</td>\n",
              "      <td>28.38</td>\n",
              "      <td>3152800</td>\n",
              "      <td>0.44</td>\n",
              "    </tr>\n",
              "  </tbody>\n",
              "</table>\n",
              "</div>"
            ]
          },
          "metadata": {
            "tags": []
          },
          "execution_count": 50
        }
      ]
    },
    {
      "cell_type": "code",
      "metadata": {
        "id": "vEOOrW9HvrQj",
        "colab_type": "code",
        "colab": {},
        "outputId": "5827b919-87ca-4d30-8718-c47237074be1"
      },
      "source": [
        "apple.asfreq(freq = 'BM')"
      ],
      "execution_count": null,
      "outputs": [
        {
          "output_type": "execute_result",
          "data": {
            "text/plain": [
              "              Open    High     Low   Close       Volume  Adj Close\n",
              "Date                                                              \n",
              "1980-12-31   34.25   34.25   34.13   34.13    8937600.0       0.53\n",
              "1981-01-30   28.50   28.50   28.25   28.25   11547200.0       0.44\n",
              "1981-02-27   26.50   26.75   26.50   26.50    3690400.0       0.41\n",
              "1981-03-31   24.75   24.75   24.50   24.50    3998400.0       0.38\n",
              "1981-04-30   28.38   28.62   28.38   28.38    3152800.0       0.44\n",
              "...            ...     ...     ...     ...          ...        ...\n",
              "2014-02-28  529.08  532.75  522.12  526.24   92992200.0      74.76\n",
              "2014-03-31  539.23  540.81  535.93  536.74   42167300.0      76.25\n",
              "2014-04-30  592.64  599.43  589.80  590.09  114160200.0      83.83\n",
              "2014-05-30  637.98  644.17  628.90  633.00  141005200.0      90.43\n",
              "2014-06-30   92.10   93.73   92.09   92.93   49482300.0      92.93\n",
              "\n",
              "[403 rows x 6 columns]"
            ],
            "text/html": [
              "<div>\n",
              "<style scoped>\n",
              "    .dataframe tbody tr th:only-of-type {\n",
              "        vertical-align: middle;\n",
              "    }\n",
              "\n",
              "    .dataframe tbody tr th {\n",
              "        vertical-align: top;\n",
              "    }\n",
              "\n",
              "    .dataframe thead th {\n",
              "        text-align: right;\n",
              "    }\n",
              "</style>\n",
              "<table border=\"1\" class=\"dataframe\">\n",
              "  <thead>\n",
              "    <tr style=\"text-align: right;\">\n",
              "      <th></th>\n",
              "      <th>Open</th>\n",
              "      <th>High</th>\n",
              "      <th>Low</th>\n",
              "      <th>Close</th>\n",
              "      <th>Volume</th>\n",
              "      <th>Adj Close</th>\n",
              "    </tr>\n",
              "    <tr>\n",
              "      <th>Date</th>\n",
              "      <th></th>\n",
              "      <th></th>\n",
              "      <th></th>\n",
              "      <th></th>\n",
              "      <th></th>\n",
              "      <th></th>\n",
              "    </tr>\n",
              "  </thead>\n",
              "  <tbody>\n",
              "    <tr>\n",
              "      <td>1980-12-31</td>\n",
              "      <td>34.25</td>\n",
              "      <td>34.25</td>\n",
              "      <td>34.13</td>\n",
              "      <td>34.13</td>\n",
              "      <td>8937600.0</td>\n",
              "      <td>0.53</td>\n",
              "    </tr>\n",
              "    <tr>\n",
              "      <td>1981-01-30</td>\n",
              "      <td>28.50</td>\n",
              "      <td>28.50</td>\n",
              "      <td>28.25</td>\n",
              "      <td>28.25</td>\n",
              "      <td>11547200.0</td>\n",
              "      <td>0.44</td>\n",
              "    </tr>\n",
              "    <tr>\n",
              "      <td>1981-02-27</td>\n",
              "      <td>26.50</td>\n",
              "      <td>26.75</td>\n",
              "      <td>26.50</td>\n",
              "      <td>26.50</td>\n",
              "      <td>3690400.0</td>\n",
              "      <td>0.41</td>\n",
              "    </tr>\n",
              "    <tr>\n",
              "      <td>1981-03-31</td>\n",
              "      <td>24.75</td>\n",
              "      <td>24.75</td>\n",
              "      <td>24.50</td>\n",
              "      <td>24.50</td>\n",
              "      <td>3998400.0</td>\n",
              "      <td>0.38</td>\n",
              "    </tr>\n",
              "    <tr>\n",
              "      <td>1981-04-30</td>\n",
              "      <td>28.38</td>\n",
              "      <td>28.62</td>\n",
              "      <td>28.38</td>\n",
              "      <td>28.38</td>\n",
              "      <td>3152800.0</td>\n",
              "      <td>0.44</td>\n",
              "    </tr>\n",
              "    <tr>\n",
              "      <td>...</td>\n",
              "      <td>...</td>\n",
              "      <td>...</td>\n",
              "      <td>...</td>\n",
              "      <td>...</td>\n",
              "      <td>...</td>\n",
              "      <td>...</td>\n",
              "    </tr>\n",
              "    <tr>\n",
              "      <td>2014-02-28</td>\n",
              "      <td>529.08</td>\n",
              "      <td>532.75</td>\n",
              "      <td>522.12</td>\n",
              "      <td>526.24</td>\n",
              "      <td>92992200.0</td>\n",
              "      <td>74.76</td>\n",
              "    </tr>\n",
              "    <tr>\n",
              "      <td>2014-03-31</td>\n",
              "      <td>539.23</td>\n",
              "      <td>540.81</td>\n",
              "      <td>535.93</td>\n",
              "      <td>536.74</td>\n",
              "      <td>42167300.0</td>\n",
              "      <td>76.25</td>\n",
              "    </tr>\n",
              "    <tr>\n",
              "      <td>2014-04-30</td>\n",
              "      <td>592.64</td>\n",
              "      <td>599.43</td>\n",
              "      <td>589.80</td>\n",
              "      <td>590.09</td>\n",
              "      <td>114160200.0</td>\n",
              "      <td>83.83</td>\n",
              "    </tr>\n",
              "    <tr>\n",
              "      <td>2014-05-30</td>\n",
              "      <td>637.98</td>\n",
              "      <td>644.17</td>\n",
              "      <td>628.90</td>\n",
              "      <td>633.00</td>\n",
              "      <td>141005200.0</td>\n",
              "      <td>90.43</td>\n",
              "    </tr>\n",
              "    <tr>\n",
              "      <td>2014-06-30</td>\n",
              "      <td>92.10</td>\n",
              "      <td>93.73</td>\n",
              "      <td>92.09</td>\n",
              "      <td>92.93</td>\n",
              "      <td>49482300.0</td>\n",
              "      <td>92.93</td>\n",
              "    </tr>\n",
              "  </tbody>\n",
              "</table>\n",
              "<p>403 rows × 6 columns</p>\n",
              "</div>"
            ]
          },
          "metadata": {
            "tags": []
          },
          "execution_count": 49
        }
      ]
    },
    {
      "cell_type": "code",
      "metadata": {
        "id": "vgtN9rObvrQp",
        "colab_type": "code",
        "colab": {},
        "outputId": "28d8c56c-5b2d-4842-f796-4f667d1f9728"
      },
      "source": [
        "appBM = apple.resample('BM').mean()\n",
        "appBM.head()"
      ],
      "execution_count": null,
      "outputs": [
        {
          "output_type": "execute_result",
          "data": {
            "text/plain": [
              "                 Open       High        Low      Close        Volume  \\\n",
              "Date                                                                   \n",
              "1980-12-31  30.481538  30.567692  30.443077  30.443077  2.586252e+07   \n",
              "1981-01-30  31.754762  31.826667  31.654762  31.654762  7.249867e+06   \n",
              "1981-02-27  26.480000  26.572105  26.407895  26.407895  4.231832e+06   \n",
              "1981-03-31  24.937727  25.016818  24.836364  24.836364  7.962691e+06   \n",
              "1981-04-30  27.286667  27.368095  27.227143  27.227143  6.392000e+06   \n",
              "\n",
              "            Adj Close  \n",
              "Date                   \n",
              "1980-12-31   0.473077  \n",
              "1981-01-30   0.493810  \n",
              "1981-02-27   0.411053  \n",
              "1981-03-31   0.387727  \n",
              "1981-04-30   0.423333  "
            ],
            "text/html": [
              "<div>\n",
              "<style scoped>\n",
              "    .dataframe tbody tr th:only-of-type {\n",
              "        vertical-align: middle;\n",
              "    }\n",
              "\n",
              "    .dataframe tbody tr th {\n",
              "        vertical-align: top;\n",
              "    }\n",
              "\n",
              "    .dataframe thead th {\n",
              "        text-align: right;\n",
              "    }\n",
              "</style>\n",
              "<table border=\"1\" class=\"dataframe\">\n",
              "  <thead>\n",
              "    <tr style=\"text-align: right;\">\n",
              "      <th></th>\n",
              "      <th>Open</th>\n",
              "      <th>High</th>\n",
              "      <th>Low</th>\n",
              "      <th>Close</th>\n",
              "      <th>Volume</th>\n",
              "      <th>Adj Close</th>\n",
              "    </tr>\n",
              "    <tr>\n",
              "      <th>Date</th>\n",
              "      <th></th>\n",
              "      <th></th>\n",
              "      <th></th>\n",
              "      <th></th>\n",
              "      <th></th>\n",
              "      <th></th>\n",
              "    </tr>\n",
              "  </thead>\n",
              "  <tbody>\n",
              "    <tr>\n",
              "      <td>1980-12-31</td>\n",
              "      <td>30.481538</td>\n",
              "      <td>30.567692</td>\n",
              "      <td>30.443077</td>\n",
              "      <td>30.443077</td>\n",
              "      <td>2.586252e+07</td>\n",
              "      <td>0.473077</td>\n",
              "    </tr>\n",
              "    <tr>\n",
              "      <td>1981-01-30</td>\n",
              "      <td>31.754762</td>\n",
              "      <td>31.826667</td>\n",
              "      <td>31.654762</td>\n",
              "      <td>31.654762</td>\n",
              "      <td>7.249867e+06</td>\n",
              "      <td>0.493810</td>\n",
              "    </tr>\n",
              "    <tr>\n",
              "      <td>1981-02-27</td>\n",
              "      <td>26.480000</td>\n",
              "      <td>26.572105</td>\n",
              "      <td>26.407895</td>\n",
              "      <td>26.407895</td>\n",
              "      <td>4.231832e+06</td>\n",
              "      <td>0.411053</td>\n",
              "    </tr>\n",
              "    <tr>\n",
              "      <td>1981-03-31</td>\n",
              "      <td>24.937727</td>\n",
              "      <td>25.016818</td>\n",
              "      <td>24.836364</td>\n",
              "      <td>24.836364</td>\n",
              "      <td>7.962691e+06</td>\n",
              "      <td>0.387727</td>\n",
              "    </tr>\n",
              "    <tr>\n",
              "      <td>1981-04-30</td>\n",
              "      <td>27.286667</td>\n",
              "      <td>27.368095</td>\n",
              "      <td>27.227143</td>\n",
              "      <td>27.227143</td>\n",
              "      <td>6.392000e+06</td>\n",
              "      <td>0.423333</td>\n",
              "    </tr>\n",
              "  </tbody>\n",
              "</table>\n",
              "</div>"
            ]
          },
          "metadata": {
            "tags": []
          },
          "execution_count": 51
        }
      ]
    },
    {
      "cell_type": "markdown",
      "metadata": {
        "id": "8IK6Juw6mg2i",
        "colab_type": "text"
      },
      "source": [
        "### Step 10.  What is the difference in days between the first day and the oldest"
      ]
    },
    {
      "cell_type": "code",
      "metadata": {
        "id": "eNeypk9-mg2j",
        "colab_type": "code",
        "colab": {},
        "outputId": "9e8f2804-81de-474b-d0af-15a198efe4ec"
      },
      "source": [
        "from datetime import date\n",
        "\n",
        "d0 = date(2014, 7, 8)\n",
        "d1 = date(1980, 12, 12)\n",
        "delta = d0 - d1\n",
        "print(delta.days)"
      ],
      "execution_count": null,
      "outputs": [
        {
          "output_type": "stream",
          "text": [
            "12261\n"
          ],
          "name": "stdout"
        }
      ]
    },
    {
      "cell_type": "code",
      "metadata": {
        "id": "TUXJUsGlvrQv",
        "colab_type": "code",
        "colab": {},
        "outputId": "ef97cb66-445d-4457-dfa7-b8d05d5b6f17"
      },
      "source": [
        "(apple.index.max() - apple.index.min()).days"
      ],
      "execution_count": null,
      "outputs": [
        {
          "output_type": "execute_result",
          "data": {
            "text/plain": [
              "12261"
            ]
          },
          "metadata": {
            "tags": []
          },
          "execution_count": 52
        }
      ]
    },
    {
      "cell_type": "markdown",
      "metadata": {
        "id": "cbJ0OR_dmg2l",
        "colab_type": "text"
      },
      "source": [
        "### Step 11.  How many months in the data we have?"
      ]
    },
    {
      "cell_type": "code",
      "metadata": {
        "id": "0opftrQ5mg2n",
        "colab_type": "code",
        "colab": {},
        "outputId": "3a2ca698-65cc-426b-eba4-cafd243aff9b"
      },
      "source": [
        "from datetime import datetime\n",
        "\n",
        "def diff_month(d1, d2):\n",
        "    return (d1.year - d2.year) * 12 + d1.month - d2.month\n",
        "\n",
        "print(diff_month(datetime(2014,7,8),datetime(1980,12,12)))"
      ],
      "execution_count": null,
      "outputs": [
        {
          "output_type": "stream",
          "text": [
            "403\n"
          ],
          "name": "stdout"
        }
      ]
    },
    {
      "cell_type": "code",
      "metadata": {
        "id": "NoWOSe39vrQ3",
        "colab_type": "code",
        "colab": {},
        "outputId": "c7ed46ac-2f88-4694-efdd-514ecf10182c"
      },
      "source": [
        "appBM.shape"
      ],
      "execution_count": null,
      "outputs": [
        {
          "output_type": "execute_result",
          "data": {
            "text/plain": [
              "(404, 6)"
            ]
          },
          "metadata": {
            "tags": []
          },
          "execution_count": 54
        }
      ]
    },
    {
      "cell_type": "markdown",
      "metadata": {
        "id": "rHzSI4zOmg2r",
        "colab_type": "text"
      },
      "source": [
        "### Step 12. Plot the 'Adj Close' value. Set the size of the figure to 13.5 x 9 inches"
      ]
    },
    {
      "cell_type": "code",
      "metadata": {
        "id": "Q3012eALvrQ7",
        "colab_type": "code",
        "colab": {},
        "outputId": "205d6cfd-ecb0-4ee1-bcfc-503c5d5be60c"
      },
      "source": [
        "import matplotlib.pyplot as plt\n",
        "\n",
        "fig = plt.figure(figsize=(13.5, 9))\n",
        "ax = fig.add_subplot()\n",
        "apple['Adj Close'].plot()\n",
        "plt.show()"
      ],
      "execution_count": null,
      "outputs": [
        {
          "output_type": "display_data",
          "data": {
            "text/plain": [
              "<Figure size 972x648 with 1 Axes>"
            ],
            "image/svg+xml": "<?xml version=\"1.0\" encoding=\"utf-8\" standalone=\"no\"?>\r\n<!DOCTYPE svg PUBLIC \"-//W3C//DTD SVG 1.1//EN\"\r\n  \"http://www.w3.org/Graphics/SVG/1.1/DTD/svg11.dtd\">\r\n<!-- Created with matplotlib (https://matplotlib.org/) -->\r\n<svg height=\"533.99625pt\" version=\"1.1\" viewBox=\"0 0 796.757812 533.99625\" width=\"796.757812pt\" xmlns=\"http://www.w3.org/2000/svg\" xmlns:xlink=\"http://www.w3.org/1999/xlink\">\r\n <defs>\r\n  <style type=\"text/css\">\r\n*{stroke-linecap:butt;stroke-linejoin:round;}\r\n  </style>\r\n </defs>\r\n <g id=\"figure_1\">\r\n  <g id=\"patch_1\">\r\n   <path d=\"M 0 533.99625 \r\nL 796.757812 533.99625 \r\nL 796.757812 0 \r\nL 0 0 \r\nz\r\n\" style=\"fill:none;\"/>\r\n  </g>\r\n  <g id=\"axes_1\">\r\n   <g id=\"patch_2\">\r\n    <path d=\"M 36.257812 496.44 \r\nL 789.557813 496.44 \r\nL 789.557813 7.2 \r\nL 36.257812 7.2 \r\nz\r\n\" style=\"fill:#ffffff;\"/>\r\n   </g>\r\n   <g id=\"matplotlib.axis_1\">\r\n    <g id=\"xtick_1\">\r\n     <g id=\"line2d_1\">\r\n      <defs>\r\n       <path d=\"M 0 0 \r\nL 0 3.5 \r\n\" id=\"m58b9becb6f\" style=\"stroke:#000000;stroke-width:0.8;\"/>\r\n      </defs>\r\n      <g>\r\n       <use style=\"stroke:#000000;stroke-width:0.8;\" x=\"36.257812\" xlink:href=\"#m58b9becb6f\" y=\"496.44\"/>\r\n      </g>\r\n     </g>\r\n     <g id=\"text_1\">\r\n      <!-- 1980-12-12 -->\r\n      <defs>\r\n       <path d=\"M 12.40625 8.296875 \r\nL 28.515625 8.296875 \r\nL 28.515625 63.921875 \r\nL 10.984375 60.40625 \r\nL 10.984375 69.390625 \r\nL 28.421875 72.90625 \r\nL 38.28125 72.90625 \r\nL 38.28125 8.296875 \r\nL 54.390625 8.296875 \r\nL 54.390625 0 \r\nL 12.40625 0 \r\nz\r\n\" id=\"DejaVuSans-49\"/>\r\n       <path d=\"M 10.984375 1.515625 \r\nL 10.984375 10.5 \r\nQ 14.703125 8.734375 18.5 7.8125 \r\nQ 22.3125 6.890625 25.984375 6.890625 \r\nQ 35.75 6.890625 40.890625 13.453125 \r\nQ 46.046875 20.015625 46.78125 33.40625 \r\nQ 43.953125 29.203125 39.59375 26.953125 \r\nQ 35.25 24.703125 29.984375 24.703125 \r\nQ 19.046875 24.703125 12.671875 31.3125 \r\nQ 6.296875 37.9375 6.296875 49.421875 \r\nQ 6.296875 60.640625 12.9375 67.421875 \r\nQ 19.578125 74.21875 30.609375 74.21875 \r\nQ 43.265625 74.21875 49.921875 64.515625 \r\nQ 56.59375 54.828125 56.59375 36.375 \r\nQ 56.59375 19.140625 48.40625 8.859375 \r\nQ 40.234375 -1.421875 26.421875 -1.421875 \r\nQ 22.703125 -1.421875 18.890625 -0.6875 \r\nQ 15.09375 0.046875 10.984375 1.515625 \r\nz\r\nM 30.609375 32.421875 \r\nQ 37.25 32.421875 41.125 36.953125 \r\nQ 45.015625 41.5 45.015625 49.421875 \r\nQ 45.015625 57.28125 41.125 61.84375 \r\nQ 37.25 66.40625 30.609375 66.40625 \r\nQ 23.96875 66.40625 20.09375 61.84375 \r\nQ 16.21875 57.28125 16.21875 49.421875 \r\nQ 16.21875 41.5 20.09375 36.953125 \r\nQ 23.96875 32.421875 30.609375 32.421875 \r\nz\r\n\" id=\"DejaVuSans-57\"/>\r\n       <path d=\"M 31.78125 34.625 \r\nQ 24.75 34.625 20.71875 30.859375 \r\nQ 16.703125 27.09375 16.703125 20.515625 \r\nQ 16.703125 13.921875 20.71875 10.15625 \r\nQ 24.75 6.390625 31.78125 6.390625 \r\nQ 38.8125 6.390625 42.859375 10.171875 \r\nQ 46.921875 13.96875 46.921875 20.515625 \r\nQ 46.921875 27.09375 42.890625 30.859375 \r\nQ 38.875 34.625 31.78125 34.625 \r\nz\r\nM 21.921875 38.8125 \r\nQ 15.578125 40.375 12.03125 44.71875 \r\nQ 8.5 49.078125 8.5 55.328125 \r\nQ 8.5 64.0625 14.71875 69.140625 \r\nQ 20.953125 74.21875 31.78125 74.21875 \r\nQ 42.671875 74.21875 48.875 69.140625 \r\nQ 55.078125 64.0625 55.078125 55.328125 \r\nQ 55.078125 49.078125 51.53125 44.71875 \r\nQ 48 40.375 41.703125 38.8125 \r\nQ 48.828125 37.15625 52.796875 32.3125 \r\nQ 56.78125 27.484375 56.78125 20.515625 \r\nQ 56.78125 9.90625 50.3125 4.234375 \r\nQ 43.84375 -1.421875 31.78125 -1.421875 \r\nQ 19.734375 -1.421875 13.25 4.234375 \r\nQ 6.78125 9.90625 6.78125 20.515625 \r\nQ 6.78125 27.484375 10.78125 32.3125 \r\nQ 14.796875 37.15625 21.921875 38.8125 \r\nz\r\nM 18.3125 54.390625 \r\nQ 18.3125 48.734375 21.84375 45.5625 \r\nQ 25.390625 42.390625 31.78125 42.390625 \r\nQ 38.140625 42.390625 41.71875 45.5625 \r\nQ 45.3125 48.734375 45.3125 54.390625 \r\nQ 45.3125 60.0625 41.71875 63.234375 \r\nQ 38.140625 66.40625 31.78125 66.40625 \r\nQ 25.390625 66.40625 21.84375 63.234375 \r\nQ 18.3125 60.0625 18.3125 54.390625 \r\nz\r\n\" id=\"DejaVuSans-56\"/>\r\n       <path d=\"M 31.78125 66.40625 \r\nQ 24.171875 66.40625 20.328125 58.90625 \r\nQ 16.5 51.421875 16.5 36.375 \r\nQ 16.5 21.390625 20.328125 13.890625 \r\nQ 24.171875 6.390625 31.78125 6.390625 \r\nQ 39.453125 6.390625 43.28125 13.890625 \r\nQ 47.125 21.390625 47.125 36.375 \r\nQ 47.125 51.421875 43.28125 58.90625 \r\nQ 39.453125 66.40625 31.78125 66.40625 \r\nz\r\nM 31.78125 74.21875 \r\nQ 44.046875 74.21875 50.515625 64.515625 \r\nQ 56.984375 54.828125 56.984375 36.375 \r\nQ 56.984375 17.96875 50.515625 8.265625 \r\nQ 44.046875 -1.421875 31.78125 -1.421875 \r\nQ 19.53125 -1.421875 13.0625 8.265625 \r\nQ 6.59375 17.96875 6.59375 36.375 \r\nQ 6.59375 54.828125 13.0625 64.515625 \r\nQ 19.53125 74.21875 31.78125 74.21875 \r\nz\r\n\" id=\"DejaVuSans-48\"/>\r\n       <path d=\"M 4.890625 31.390625 \r\nL 31.203125 31.390625 \r\nL 31.203125 23.390625 \r\nL 4.890625 23.390625 \r\nz\r\n\" id=\"DejaVuSans-45\"/>\r\n       <path d=\"M 19.1875 8.296875 \r\nL 53.609375 8.296875 \r\nL 53.609375 0 \r\nL 7.328125 0 \r\nL 7.328125 8.296875 \r\nQ 12.9375 14.109375 22.625 23.890625 \r\nQ 32.328125 33.6875 34.8125 36.53125 \r\nQ 39.546875 41.84375 41.421875 45.53125 \r\nQ 43.3125 49.21875 43.3125 52.78125 \r\nQ 43.3125 58.59375 39.234375 62.25 \r\nQ 35.15625 65.921875 28.609375 65.921875 \r\nQ 23.96875 65.921875 18.8125 64.3125 \r\nQ 13.671875 62.703125 7.8125 59.421875 \r\nL 7.8125 69.390625 \r\nQ 13.765625 71.78125 18.9375 73 \r\nQ 24.125 74.21875 28.421875 74.21875 \r\nQ 39.75 74.21875 46.484375 68.546875 \r\nQ 53.21875 62.890625 53.21875 53.421875 \r\nQ 53.21875 48.921875 51.53125 44.890625 \r\nQ 49.859375 40.875 45.40625 35.40625 \r\nQ 44.1875 33.984375 37.640625 27.21875 \r\nQ 31.109375 20.453125 19.1875 8.296875 \r\nz\r\n\" id=\"DejaVuSans-50\"/>\r\n      </defs>\r\n      <g transform=\"translate(7.2 511.038437)scale(0.1 -0.1)\">\r\n       <use xlink:href=\"#DejaVuSans-49\"/>\r\n       <use x=\"63.623047\" xlink:href=\"#DejaVuSans-57\"/>\r\n       <use x=\"127.246094\" xlink:href=\"#DejaVuSans-56\"/>\r\n       <use x=\"190.869141\" xlink:href=\"#DejaVuSans-48\"/>\r\n       <use x=\"254.492188\" xlink:href=\"#DejaVuSans-45\"/>\r\n       <use x=\"290.576172\" xlink:href=\"#DejaVuSans-49\"/>\r\n       <use x=\"354.199219\" xlink:href=\"#DejaVuSans-50\"/>\r\n       <use x=\"417.822266\" xlink:href=\"#DejaVuSans-45\"/>\r\n       <use x=\"453.90625\" xlink:href=\"#DejaVuSans-49\"/>\r\n       <use x=\"517.529297\" xlink:href=\"#DejaVuSans-50\"/>\r\n      </g>\r\n     </g>\r\n    </g>\r\n    <g id=\"xtick_2\">\r\n     <g id=\"line2d_2\">\r\n      <g>\r\n       <use style=\"stroke:#000000;stroke-width:0.8;\" x=\"125.258285\" xlink:href=\"#m58b9becb6f\" y=\"496.44\"/>\r\n      </g>\r\n     </g>\r\n     <g id=\"text_2\">\r\n      <!-- 1984-11-28 -->\r\n      <defs>\r\n       <path d=\"M 37.796875 64.3125 \r\nL 12.890625 25.390625 \r\nL 37.796875 25.390625 \r\nz\r\nM 35.203125 72.90625 \r\nL 47.609375 72.90625 \r\nL 47.609375 25.390625 \r\nL 58.015625 25.390625 \r\nL 58.015625 17.1875 \r\nL 47.609375 17.1875 \r\nL 47.609375 0 \r\nL 37.796875 0 \r\nL 37.796875 17.1875 \r\nL 4.890625 17.1875 \r\nL 4.890625 26.703125 \r\nz\r\n\" id=\"DejaVuSans-52\"/>\r\n      </defs>\r\n      <g transform=\"translate(96.200473 511.038437)scale(0.1 -0.1)\">\r\n       <use xlink:href=\"#DejaVuSans-49\"/>\r\n       <use x=\"63.623047\" xlink:href=\"#DejaVuSans-57\"/>\r\n       <use x=\"127.246094\" xlink:href=\"#DejaVuSans-56\"/>\r\n       <use x=\"190.869141\" xlink:href=\"#DejaVuSans-52\"/>\r\n       <use x=\"254.492188\" xlink:href=\"#DejaVuSans-45\"/>\r\n       <use x=\"290.576172\" xlink:href=\"#DejaVuSans-49\"/>\r\n       <use x=\"354.199219\" xlink:href=\"#DejaVuSans-49\"/>\r\n       <use x=\"417.822266\" xlink:href=\"#DejaVuSans-45\"/>\r\n       <use x=\"453.90625\" xlink:href=\"#DejaVuSans-50\"/>\r\n       <use x=\"517.529297\" xlink:href=\"#DejaVuSans-56\"/>\r\n      </g>\r\n     </g>\r\n    </g>\r\n    <g id=\"xtick_3\">\r\n     <g id=\"line2d_3\">\r\n      <g>\r\n       <use style=\"stroke:#000000;stroke-width:0.8;\" x=\"214.258758\" xlink:href=\"#m58b9becb6f\" y=\"496.44\"/>\r\n      </g>\r\n     </g>\r\n     <g id=\"text_3\">\r\n      <!-- 1988-11-10 -->\r\n      <g transform=\"translate(185.200945 511.038437)scale(0.1 -0.1)\">\r\n       <use xlink:href=\"#DejaVuSans-49\"/>\r\n       <use x=\"63.623047\" xlink:href=\"#DejaVuSans-57\"/>\r\n       <use x=\"127.246094\" xlink:href=\"#DejaVuSans-56\"/>\r\n       <use x=\"190.869141\" xlink:href=\"#DejaVuSans-56\"/>\r\n       <use x=\"254.492188\" xlink:href=\"#DejaVuSans-45\"/>\r\n       <use x=\"290.576172\" xlink:href=\"#DejaVuSans-49\"/>\r\n       <use x=\"354.199219\" xlink:href=\"#DejaVuSans-49\"/>\r\n       <use x=\"417.822266\" xlink:href=\"#DejaVuSans-45\"/>\r\n       <use x=\"453.90625\" xlink:href=\"#DejaVuSans-49\"/>\r\n       <use x=\"517.529297\" xlink:href=\"#DejaVuSans-48\"/>\r\n      </g>\r\n     </g>\r\n    </g>\r\n    <g id=\"xtick_4\">\r\n     <g id=\"line2d_4\">\r\n      <g>\r\n       <use style=\"stroke:#000000;stroke-width:0.8;\" x=\"303.25923\" xlink:href=\"#m58b9becb6f\" y=\"496.44\"/>\r\n      </g>\r\n     </g>\r\n     <g id=\"text_4\">\r\n      <!-- 1992-10-26 -->\r\n      <defs>\r\n       <path d=\"M 33.015625 40.375 \r\nQ 26.375 40.375 22.484375 35.828125 \r\nQ 18.609375 31.296875 18.609375 23.390625 \r\nQ 18.609375 15.53125 22.484375 10.953125 \r\nQ 26.375 6.390625 33.015625 6.390625 \r\nQ 39.65625 6.390625 43.53125 10.953125 \r\nQ 47.40625 15.53125 47.40625 23.390625 \r\nQ 47.40625 31.296875 43.53125 35.828125 \r\nQ 39.65625 40.375 33.015625 40.375 \r\nz\r\nM 52.59375 71.296875 \r\nL 52.59375 62.3125 \r\nQ 48.875 64.0625 45.09375 64.984375 \r\nQ 41.3125 65.921875 37.59375 65.921875 \r\nQ 27.828125 65.921875 22.671875 59.328125 \r\nQ 17.53125 52.734375 16.796875 39.40625 \r\nQ 19.671875 43.65625 24.015625 45.921875 \r\nQ 28.375 48.1875 33.59375 48.1875 \r\nQ 44.578125 48.1875 50.953125 41.515625 \r\nQ 57.328125 34.859375 57.328125 23.390625 \r\nQ 57.328125 12.15625 50.6875 5.359375 \r\nQ 44.046875 -1.421875 33.015625 -1.421875 \r\nQ 20.359375 -1.421875 13.671875 8.265625 \r\nQ 6.984375 17.96875 6.984375 36.375 \r\nQ 6.984375 53.65625 15.1875 63.9375 \r\nQ 23.390625 74.21875 37.203125 74.21875 \r\nQ 40.921875 74.21875 44.703125 73.484375 \r\nQ 48.484375 72.75 52.59375 71.296875 \r\nz\r\n\" id=\"DejaVuSans-54\"/>\r\n      </defs>\r\n      <g transform=\"translate(274.201418 511.038437)scale(0.1 -0.1)\">\r\n       <use xlink:href=\"#DejaVuSans-49\"/>\r\n       <use x=\"63.623047\" xlink:href=\"#DejaVuSans-57\"/>\r\n       <use x=\"127.246094\" xlink:href=\"#DejaVuSans-57\"/>\r\n       <use x=\"190.869141\" xlink:href=\"#DejaVuSans-50\"/>\r\n       <use x=\"254.492188\" xlink:href=\"#DejaVuSans-45\"/>\r\n       <use x=\"290.576172\" xlink:href=\"#DejaVuSans-49\"/>\r\n       <use x=\"354.199219\" xlink:href=\"#DejaVuSans-48\"/>\r\n       <use x=\"417.822266\" xlink:href=\"#DejaVuSans-45\"/>\r\n       <use x=\"453.90625\" xlink:href=\"#DejaVuSans-50\"/>\r\n       <use x=\"517.529297\" xlink:href=\"#DejaVuSans-54\"/>\r\n      </g>\r\n     </g>\r\n    </g>\r\n    <g id=\"xtick_5\">\r\n     <g id=\"line2d_5\">\r\n      <g>\r\n       <use style=\"stroke:#000000;stroke-width:0.8;\" x=\"392.259703\" xlink:href=\"#m58b9becb6f\" y=\"496.44\"/>\r\n      </g>\r\n     </g>\r\n     <g id=\"text_5\">\r\n      <!-- 1996-10-09 -->\r\n      <g transform=\"translate(363.20189 511.038437)scale(0.1 -0.1)\">\r\n       <use xlink:href=\"#DejaVuSans-49\"/>\r\n       <use x=\"63.623047\" xlink:href=\"#DejaVuSans-57\"/>\r\n       <use x=\"127.246094\" xlink:href=\"#DejaVuSans-57\"/>\r\n       <use x=\"190.869141\" xlink:href=\"#DejaVuSans-54\"/>\r\n       <use x=\"254.492188\" xlink:href=\"#DejaVuSans-45\"/>\r\n       <use x=\"290.576172\" xlink:href=\"#DejaVuSans-49\"/>\r\n       <use x=\"354.199219\" xlink:href=\"#DejaVuSans-48\"/>\r\n       <use x=\"417.822266\" xlink:href=\"#DejaVuSans-45\"/>\r\n       <use x=\"453.90625\" xlink:href=\"#DejaVuSans-48\"/>\r\n       <use x=\"517.529297\" xlink:href=\"#DejaVuSans-57\"/>\r\n      </g>\r\n     </g>\r\n    </g>\r\n    <g id=\"xtick_6\">\r\n     <g id=\"line2d_6\">\r\n      <g>\r\n       <use style=\"stroke:#000000;stroke-width:0.8;\" x=\"481.260175\" xlink:href=\"#m58b9becb6f\" y=\"496.44\"/>\r\n      </g>\r\n     </g>\r\n     <g id=\"text_6\">\r\n      <!-- 2000-09-26 -->\r\n      <g transform=\"translate(452.202363 511.038437)scale(0.1 -0.1)\">\r\n       <use xlink:href=\"#DejaVuSans-50\"/>\r\n       <use x=\"63.623047\" xlink:href=\"#DejaVuSans-48\"/>\r\n       <use x=\"127.246094\" xlink:href=\"#DejaVuSans-48\"/>\r\n       <use x=\"190.869141\" xlink:href=\"#DejaVuSans-48\"/>\r\n       <use x=\"254.492188\" xlink:href=\"#DejaVuSans-45\"/>\r\n       <use x=\"290.576172\" xlink:href=\"#DejaVuSans-48\"/>\r\n       <use x=\"354.199219\" xlink:href=\"#DejaVuSans-57\"/>\r\n       <use x=\"417.822266\" xlink:href=\"#DejaVuSans-45\"/>\r\n       <use x=\"453.90625\" xlink:href=\"#DejaVuSans-50\"/>\r\n       <use x=\"517.529297\" xlink:href=\"#DejaVuSans-54\"/>\r\n      </g>\r\n     </g>\r\n    </g>\r\n    <g id=\"xtick_7\">\r\n     <g id=\"line2d_7\">\r\n      <g>\r\n       <use style=\"stroke:#000000;stroke-width:0.8;\" x=\"570.260648\" xlink:href=\"#m58b9becb6f\" y=\"496.44\"/>\r\n      </g>\r\n     </g>\r\n     <g id=\"text_7\">\r\n      <!-- 2004-09-22 -->\r\n      <g transform=\"translate(541.202836 511.038437)scale(0.1 -0.1)\">\r\n       <use xlink:href=\"#DejaVuSans-50\"/>\r\n       <use x=\"63.623047\" xlink:href=\"#DejaVuSans-48\"/>\r\n       <use x=\"127.246094\" xlink:href=\"#DejaVuSans-48\"/>\r\n       <use x=\"190.869141\" xlink:href=\"#DejaVuSans-52\"/>\r\n       <use x=\"254.492188\" xlink:href=\"#DejaVuSans-45\"/>\r\n       <use x=\"290.576172\" xlink:href=\"#DejaVuSans-48\"/>\r\n       <use x=\"354.199219\" xlink:href=\"#DejaVuSans-57\"/>\r\n       <use x=\"417.822266\" xlink:href=\"#DejaVuSans-45\"/>\r\n       <use x=\"453.90625\" xlink:href=\"#DejaVuSans-50\"/>\r\n       <use x=\"517.529297\" xlink:href=\"#DejaVuSans-50\"/>\r\n      </g>\r\n     </g>\r\n    </g>\r\n    <g id=\"xtick_8\">\r\n     <g id=\"line2d_8\">\r\n      <g>\r\n       <use style=\"stroke:#000000;stroke-width:0.8;\" x=\"659.261121\" xlink:href=\"#m58b9becb6f\" y=\"496.44\"/>\r\n      </g>\r\n     </g>\r\n     <g id=\"text_8\">\r\n      <!-- 2008-09-11 -->\r\n      <g transform=\"translate(630.203308 511.038437)scale(0.1 -0.1)\">\r\n       <use xlink:href=\"#DejaVuSans-50\"/>\r\n       <use x=\"63.623047\" xlink:href=\"#DejaVuSans-48\"/>\r\n       <use x=\"127.246094\" xlink:href=\"#DejaVuSans-48\"/>\r\n       <use x=\"190.869141\" xlink:href=\"#DejaVuSans-56\"/>\r\n       <use x=\"254.492188\" xlink:href=\"#DejaVuSans-45\"/>\r\n       <use x=\"290.576172\" xlink:href=\"#DejaVuSans-48\"/>\r\n       <use x=\"354.199219\" xlink:href=\"#DejaVuSans-57\"/>\r\n       <use x=\"417.822266\" xlink:href=\"#DejaVuSans-45\"/>\r\n       <use x=\"453.90625\" xlink:href=\"#DejaVuSans-49\"/>\r\n       <use x=\"517.529297\" xlink:href=\"#DejaVuSans-49\"/>\r\n      </g>\r\n     </g>\r\n    </g>\r\n    <g id=\"xtick_9\">\r\n     <g id=\"line2d_9\">\r\n      <g>\r\n       <use style=\"stroke:#000000;stroke-width:0.8;\" x=\"748.261593\" xlink:href=\"#m58b9becb6f\" y=\"496.44\"/>\r\n      </g>\r\n     </g>\r\n     <g id=\"text_9\">\r\n      <!-- 2012-08-29 -->\r\n      <g transform=\"translate(719.203781 511.038437)scale(0.1 -0.1)\">\r\n       <use xlink:href=\"#DejaVuSans-50\"/>\r\n       <use x=\"63.623047\" xlink:href=\"#DejaVuSans-48\"/>\r\n       <use x=\"127.246094\" xlink:href=\"#DejaVuSans-49\"/>\r\n       <use x=\"190.869141\" xlink:href=\"#DejaVuSans-50\"/>\r\n       <use x=\"254.492188\" xlink:href=\"#DejaVuSans-45\"/>\r\n       <use x=\"290.576172\" xlink:href=\"#DejaVuSans-48\"/>\r\n       <use x=\"354.199219\" xlink:href=\"#DejaVuSans-56\"/>\r\n       <use x=\"417.822266\" xlink:href=\"#DejaVuSans-45\"/>\r\n       <use x=\"453.90625\" xlink:href=\"#DejaVuSans-50\"/>\r\n       <use x=\"517.529297\" xlink:href=\"#DejaVuSans-57\"/>\r\n      </g>\r\n     </g>\r\n    </g>\r\n    <g id=\"text_10\">\r\n     <!-- Date -->\r\n     <defs>\r\n      <path d=\"M 19.671875 64.796875 \r\nL 19.671875 8.109375 \r\nL 31.59375 8.109375 \r\nQ 46.6875 8.109375 53.6875 14.9375 \r\nQ 60.6875 21.78125 60.6875 36.53125 \r\nQ 60.6875 51.171875 53.6875 57.984375 \r\nQ 46.6875 64.796875 31.59375 64.796875 \r\nz\r\nM 9.8125 72.90625 \r\nL 30.078125 72.90625 \r\nQ 51.265625 72.90625 61.171875 64.09375 \r\nQ 71.09375 55.28125 71.09375 36.53125 \r\nQ 71.09375 17.671875 61.125 8.828125 \r\nQ 51.171875 0 30.078125 0 \r\nL 9.8125 0 \r\nz\r\n\" id=\"DejaVuSans-68\"/>\r\n      <path d=\"M 34.28125 27.484375 \r\nQ 23.390625 27.484375 19.1875 25 \r\nQ 14.984375 22.515625 14.984375 16.5 \r\nQ 14.984375 11.71875 18.140625 8.90625 \r\nQ 21.296875 6.109375 26.703125 6.109375 \r\nQ 34.1875 6.109375 38.703125 11.40625 \r\nQ 43.21875 16.703125 43.21875 25.484375 \r\nL 43.21875 27.484375 \r\nz\r\nM 52.203125 31.203125 \r\nL 52.203125 0 \r\nL 43.21875 0 \r\nL 43.21875 8.296875 \r\nQ 40.140625 3.328125 35.546875 0.953125 \r\nQ 30.953125 -1.421875 24.3125 -1.421875 \r\nQ 15.921875 -1.421875 10.953125 3.296875 \r\nQ 6 8.015625 6 15.921875 \r\nQ 6 25.140625 12.171875 29.828125 \r\nQ 18.359375 34.515625 30.609375 34.515625 \r\nL 43.21875 34.515625 \r\nL 43.21875 35.40625 \r\nQ 43.21875 41.609375 39.140625 45 \r\nQ 35.0625 48.390625 27.6875 48.390625 \r\nQ 23 48.390625 18.546875 47.265625 \r\nQ 14.109375 46.140625 10.015625 43.890625 \r\nL 10.015625 52.203125 \r\nQ 14.9375 54.109375 19.578125 55.046875 \r\nQ 24.21875 56 28.609375 56 \r\nQ 40.484375 56 46.34375 49.84375 \r\nQ 52.203125 43.703125 52.203125 31.203125 \r\nz\r\n\" id=\"DejaVuSans-97\"/>\r\n      <path d=\"M 18.3125 70.21875 \r\nL 18.3125 54.6875 \r\nL 36.8125 54.6875 \r\nL 36.8125 47.703125 \r\nL 18.3125 47.703125 \r\nL 18.3125 18.015625 \r\nQ 18.3125 11.328125 20.140625 9.421875 \r\nQ 21.96875 7.515625 27.59375 7.515625 \r\nL 36.8125 7.515625 \r\nL 36.8125 0 \r\nL 27.59375 0 \r\nQ 17.1875 0 13.234375 3.875 \r\nQ 9.28125 7.765625 9.28125 18.015625 \r\nL 9.28125 47.703125 \r\nL 2.6875 47.703125 \r\nL 2.6875 54.6875 \r\nL 9.28125 54.6875 \r\nL 9.28125 70.21875 \r\nz\r\n\" id=\"DejaVuSans-116\"/>\r\n      <path d=\"M 56.203125 29.59375 \r\nL 56.203125 25.203125 \r\nL 14.890625 25.203125 \r\nQ 15.484375 15.921875 20.484375 11.0625 \r\nQ 25.484375 6.203125 34.421875 6.203125 \r\nQ 39.59375 6.203125 44.453125 7.46875 \r\nQ 49.3125 8.734375 54.109375 11.28125 \r\nL 54.109375 2.78125 \r\nQ 49.265625 0.734375 44.1875 -0.34375 \r\nQ 39.109375 -1.421875 33.890625 -1.421875 \r\nQ 20.796875 -1.421875 13.15625 6.1875 \r\nQ 5.515625 13.8125 5.515625 26.8125 \r\nQ 5.515625 40.234375 12.765625 48.109375 \r\nQ 20.015625 56 32.328125 56 \r\nQ 43.359375 56 49.78125 48.890625 \r\nQ 56.203125 41.796875 56.203125 29.59375 \r\nz\r\nM 47.21875 32.234375 \r\nQ 47.125 39.59375 43.09375 43.984375 \r\nQ 39.0625 48.390625 32.421875 48.390625 \r\nQ 24.90625 48.390625 20.390625 44.140625 \r\nQ 15.875 39.890625 15.1875 32.171875 \r\nz\r\n\" id=\"DejaVuSans-101\"/>\r\n     </defs>\r\n     <g transform=\"translate(400.957031 524.716562)scale(0.1 -0.1)\">\r\n      <use xlink:href=\"#DejaVuSans-68\"/>\r\n      <use x=\"77.001953\" xlink:href=\"#DejaVuSans-97\"/>\r\n      <use x=\"138.28125\" xlink:href=\"#DejaVuSans-116\"/>\r\n      <use x=\"177.490234\" xlink:href=\"#DejaVuSans-101\"/>\r\n     </g>\r\n    </g>\r\n   </g>\r\n   <g id=\"matplotlib.axis_2\">\r\n    <g id=\"ytick_1\">\r\n     <g id=\"line2d_10\">\r\n      <defs>\r\n       <path d=\"M 0 0 \r\nL -3.5 0 \r\n\" id=\"m8ef00ed2f1\" style=\"stroke:#000000;stroke-width:0.8;\"/>\r\n      </defs>\r\n      <g>\r\n       <use style=\"stroke:#000000;stroke-width:0.8;\" x=\"36.257812\" xlink:href=\"#m8ef00ed2f1\" y=\"474.988519\"/>\r\n      </g>\r\n     </g>\r\n     <g id=\"text_11\">\r\n      <!-- 0 -->\r\n      <g transform=\"translate(22.895312 478.787738)scale(0.1 -0.1)\">\r\n       <use xlink:href=\"#DejaVuSans-48\"/>\r\n      </g>\r\n     </g>\r\n    </g>\r\n    <g id=\"ytick_2\">\r\n     <g id=\"line2d_11\">\r\n      <g>\r\n       <use style=\"stroke:#000000;stroke-width:0.8;\" x=\"36.257812\" xlink:href=\"#m8ef00ed2f1\" y=\"382.435478\"/>\r\n      </g>\r\n     </g>\r\n     <g id=\"text_12\">\r\n      <!-- 20 -->\r\n      <g transform=\"translate(16.532812 386.234697)scale(0.1 -0.1)\">\r\n       <use xlink:href=\"#DejaVuSans-50\"/>\r\n       <use x=\"63.623047\" xlink:href=\"#DejaVuSans-48\"/>\r\n      </g>\r\n     </g>\r\n    </g>\r\n    <g id=\"ytick_3\">\r\n     <g id=\"line2d_12\">\r\n      <g>\r\n       <use style=\"stroke:#000000;stroke-width:0.8;\" x=\"36.257812\" xlink:href=\"#m8ef00ed2f1\" y=\"289.882438\"/>\r\n      </g>\r\n     </g>\r\n     <g id=\"text_13\">\r\n      <!-- 40 -->\r\n      <g transform=\"translate(16.532812 293.681657)scale(0.1 -0.1)\">\r\n       <use xlink:href=\"#DejaVuSans-52\"/>\r\n       <use x=\"63.623047\" xlink:href=\"#DejaVuSans-48\"/>\r\n      </g>\r\n     </g>\r\n    </g>\r\n    <g id=\"ytick_4\">\r\n     <g id=\"line2d_13\">\r\n      <g>\r\n       <use style=\"stroke:#000000;stroke-width:0.8;\" x=\"36.257812\" xlink:href=\"#m8ef00ed2f1\" y=\"197.329397\"/>\r\n      </g>\r\n     </g>\r\n     <g id=\"text_14\">\r\n      <!-- 60 -->\r\n      <g transform=\"translate(16.532812 201.128616)scale(0.1 -0.1)\">\r\n       <use xlink:href=\"#DejaVuSans-54\"/>\r\n       <use x=\"63.623047\" xlink:href=\"#DejaVuSans-48\"/>\r\n      </g>\r\n     </g>\r\n    </g>\r\n    <g id=\"ytick_5\">\r\n     <g id=\"line2d_14\">\r\n      <g>\r\n       <use style=\"stroke:#000000;stroke-width:0.8;\" x=\"36.257812\" xlink:href=\"#m8ef00ed2f1\" y=\"104.776357\"/>\r\n      </g>\r\n     </g>\r\n     <g id=\"text_15\">\r\n      <!-- 80 -->\r\n      <g transform=\"translate(16.532812 108.575576)scale(0.1 -0.1)\">\r\n       <use xlink:href=\"#DejaVuSans-56\"/>\r\n       <use x=\"63.623047\" xlink:href=\"#DejaVuSans-48\"/>\r\n      </g>\r\n     </g>\r\n    </g>\r\n    <g id=\"ytick_6\">\r\n     <g id=\"line2d_15\">\r\n      <g>\r\n       <use style=\"stroke:#000000;stroke-width:0.8;\" x=\"36.257812\" xlink:href=\"#m8ef00ed2f1\" y=\"12.223316\"/>\r\n      </g>\r\n     </g>\r\n     <g id=\"text_16\">\r\n      <!-- 100 -->\r\n      <g transform=\"translate(10.170312 16.022535)scale(0.1 -0.1)\">\r\n       <use xlink:href=\"#DejaVuSans-49\"/>\r\n       <use x=\"63.623047\" xlink:href=\"#DejaVuSans-48\"/>\r\n       <use x=\"127.246094\" xlink:href=\"#DejaVuSans-48\"/>\r\n      </g>\r\n     </g>\r\n    </g>\r\n   </g>\r\n   <g id=\"line2d_16\">\r\n    <path clip-path=\"url(#p9ab5d2613f)\" d=\"M 36.257812 472.906076 \r\nL 36.524814 473.137458 \r\nL 36.702815 472.952352 \r\nL 37.236818 472.44331 \r\nL 37.414819 472.489587 \r\nL 37.59282 472.674693 \r\nL 37.770821 472.813523 \r\nL 37.948821 472.72097 \r\nL 38.126822 472.767246 \r\nL 38.571825 472.628416 \r\nL 38.927827 472.674693 \r\nL 39.283829 473.091182 \r\nL 39.372829 472.998629 \r\nL 39.55083 472.906076 \r\nL 39.63983 472.906076 \r\nL 39.817831 473.044905 \r\nL 40.084833 473.137458 \r\nL 40.262834 473.044905 \r\nL 40.618836 473.276288 \r\nL 40.885837 473.091182 \r\nL 41.330839 473.137458 \r\nL 41.597841 473.415117 \r\nL 42.398845 473.091182 \r\nL 42.754847 473.183735 \r\nL 42.932848 473.230011 \r\nL 43.110849 473.091182 \r\nL 44.089854 472.998629 \r\nL 44.445856 472.906076 \r\nL 44.712857 472.952352 \r\nL 45.958864 472.952352 \r\nL 46.225865 472.72097 \r\nL 46.492867 472.58214 \r\nL 46.581867 472.58214 \r\nL 46.759868 472.72097 \r\nL 46.937869 472.72097 \r\nL 47.11587 472.767246 \r\nL 47.471872 472.674693 \r\nL 48.094875 472.906076 \r\nL 48.272876 472.906076 \r\nL 48.806879 473.183735 \r\nL 48.89588 473.091182 \r\nL 49.162881 473.368841 \r\nL 49.518883 473.137458 \r\nL 49.785884 473.368841 \r\nL 50.141886 473.230011 \r\nL 50.319887 473.230011 \r\nL 50.675889 473.137458 \r\nL 51.476893 473.461394 \r\nL 51.565894 473.415117 \r\nL 51.743895 473.6465 \r\nL 52.099897 473.553947 \r\nL 52.277898 473.461394 \r\nL 52.366898 473.415117 \r\nL 52.633899 473.553947 \r\nL 53.078902 473.6465 \r\nL 53.345903 473.692776 \r\nL 53.701905 473.785329 \r\nL 53.879906 473.970436 \r\nL 54.057907 473.877883 \r\nL 54.413909 473.785329 \r\nL 54.68091 473.6465 \r\nL 54.858911 473.600223 \r\nL 55.036912 473.6465 \r\nL 55.214913 473.6465 \r\nL 55.392914 473.553947 \r\nL 55.659916 473.600223 \r\nL 58.863933 473.600223 \r\nL 59.041933 473.322564 \r\nL 59.219934 473.368841 \r\nL 59.575936 473.461394 \r\nL 59.842938 473.415117 \r\nL 60.465941 473.692776 \r\nL 60.999944 473.50767 \r\nL 61.978949 473.553947 \r\nL 62.15695 473.6465 \r\nL 63.580958 473.692776 \r\nL 63.758959 473.785329 \r\nL 64.203961 473.877883 \r\nL 64.381962 473.970436 \r\nL 64.737964 473.739053 \r\nL 65.004965 473.831606 \r\nL 65.449968 473.692776 \r\nL 65.89497 473.739053 \r\nL 66.072971 473.831606 \r\nL 66.339972 473.785329 \r\nL 66.695974 473.877883 \r\nL 66.873975 473.877883 \r\nL 67.140976 473.924159 \r\nL 67.496978 473.831606 \r\nL 68.030981 473.924159 \r\nL 68.297983 473.970436 \r\nL 70.967997 474.062989 \r\nL 71.323999 474.201818 \r\nL 71.858002 474.016712 \r\nL 74.083013 473.924159 \r\nL 74.706017 473.692776 \r\nL 74.884018 473.692776 \r\nL 74.973018 473.6465 \r\nL 75.151019 473.692776 \r\nL 75.32902 473.692776 \r\nL 76.842028 473.6465 \r\nL 77.19803 473.276288 \r\nL 77.376031 473.276288 \r\nL 77.732033 473.276288 \r\nL 77.910034 473.091182 \r\nL 78.266036 473.183735 \r\nL 78.444037 473.137458 \r\nL 78.889039 472.813523 \r\nL 78.978039 472.906076 \r\nL 79.334041 472.674693 \r\nL 79.601043 472.72097 \r\nL 79.779044 472.767246 \r\nL 79.868044 472.952352 \r\nL 79.957045 472.906076 \r\nL 80.135045 472.906076 \r\nL 80.224046 472.906076 \r\nL 80.402047 472.628416 \r\nL 80.93605 472.72097 \r\nL 81.203051 472.952352 \r\nL 81.381052 472.906076 \r\nL 81.559053 472.813523 \r\nL 81.737054 472.767246 \r\nL 82.004055 472.628416 \r\nL 82.360057 472.952352 \r\nL 82.538058 472.813523 \r\nL 82.716059 472.998629 \r\nL 83.250062 472.535863 \r\nL 83.428063 472.58214 \r\nL 83.606064 472.304481 \r\nL 83.695064 472.44331 \r\nL 84.407068 471.749163 \r\nL 84.76307 471.934269 \r\nL 84.941071 471.65661 \r\nL 85.119072 471.702886 \r\nL 85.297073 471.795439 \r\nL 85.653075 471.51778 \r\nL 85.920076 471.65661 \r\nL 86.009077 471.610333 \r\nL 86.276078 471.841716 \r\nL 86.365079 471.934269 \r\nL 86.54308 471.887992 \r\nL 86.899081 471.980545 \r\nL 87.255083 471.795439 \r\nL 87.433084 471.887992 \r\nL 87.878087 471.934269 \r\nL 88.145088 472.119375 \r\nL 88.323089 472.165651 \r\nL 88.59009 471.795439 \r\nL 88.946092 471.65661 \r\nL 89.124093 471.240121 \r\nL 89.302094 471.471503 \r\nL 89.391095 471.37895 \r\nL 89.569096 471.37895 \r\nL 89.658096 471.332674 \r\nL 89.836097 471.471503 \r\nL 90.103098 471.008738 \r\nL 90.726102 471.240121 \r\nL 90.904103 471.101291 \r\nL 91.171104 470.638526 \r\nL 91.616106 470.777356 \r\nL 91.705107 470.777356 \r\nL 91.883108 470.45342 \r\nL 92.061109 470.684803 \r\nL 92.23911 470.731079 \r\nL 92.506111 471.055015 \r\nL 92.595112 470.869909 \r\nL 92.862113 471.101291 \r\nL 92.951114 471.008738 \r\nL 93.218115 471.37895 \r\nL 93.307115 471.610333 \r\nL 93.396116 471.425227 \r\nL 93.485116 471.471503 \r\nL 93.574117 471.425227 \r\nL 93.752118 471.564057 \r\nL 93.930119 471.65661 \r\nL 94.019119 471.564057 \r\nL 94.19712 471.65661 \r\nL 94.286121 471.65661 \r\nL 94.464122 471.795439 \r\nL 94.553122 471.841716 \r\nL 94.642123 472.026822 \r\nL 94.820123 471.841716 \r\nL 94.909124 471.887992 \r\nL 95.176125 472.535863 \r\nL 95.443127 472.489587 \r\nL 96.689133 472.58214 \r\nL 96.956135 472.767246 \r\nL 97.134136 472.72097 \r\nL 97.223136 472.628416 \r\nL 97.312137 472.304481 \r\nL 97.401137 472.350757 \r\nL 97.579138 472.165651 \r\nL 97.84614 472.767246 \r\nL 98.558143 472.72097 \r\nL 98.647144 472.628416 \r\nL 98.825145 473.276288 \r\nL 99.092146 473.322564 \r\nL 99.448148 473.368841 \r\nL 99.715149 473.600223 \r\nL 99.982151 473.368841 \r\nL 100.160152 473.600223 \r\nL 100.338153 473.50767 \r\nL 100.427153 473.553947 \r\nL 100.605154 473.461394 \r\nL 100.694155 473.553947 \r\nL 101.050157 473.322564 \r\nL 101.139157 473.276288 \r\nL 101.317158 473.461394 \r\nL 101.406158 473.461394 \r\nL 101.495159 473.692776 \r\nL 101.76216 473.553947 \r\nL 103.364169 473.461394 \r\nL 103.898172 473.183735 \r\nL 104.076173 473.322564 \r\nL 104.254174 473.183735 \r\nL 104.432175 473.183735 \r\nL 104.788176 473.137458 \r\nL 104.966177 472.952352 \r\nL 105.233179 472.998629 \r\nL 105.41118 472.998629 \r\nL 105.589181 472.998629 \r\nL 105.767182 472.906076 \r\nL 106.034183 472.906076 \r\nL 106.212184 473.044905 \r\nL 106.301184 472.998629 \r\nL 106.657186 473.230011 \r\nL 106.835187 473.230011 \r\nL 106.924188 473.322564 \r\nL 107.013188 473.230011 \r\nL 107.191189 473.276288 \r\nL 107.636192 473.137458 \r\nL 107.725192 473.183735 \r\nL 107.992193 473.044905 \r\nL 109.950204 473.137458 \r\nL 110.128205 473.137458 \r\nL 110.662208 473.230011 \r\nL 110.840209 473.276288 \r\nL 111.10721 473.137458 \r\nL 111.285211 473.091182 \r\nL 111.552212 472.952352 \r\nL 111.908214 472.859799 \r\nL 112.086215 472.72097 \r\nL 112.264216 472.628416 \r\nL 112.531218 472.767246 \r\nL 112.709218 472.58214 \r\nL 112.887219 472.674693 \r\nL 113.332222 472.859799 \r\nL 113.421222 472.674693 \r\nL 113.688224 472.859799 \r\nL 114.222226 472.859799 \r\nL 114.311227 472.998629 \r\nL 114.489228 472.906076 \r\nL 115.468233 472.906076 \r\nL 115.735235 473.183735 \r\nL 115.913235 473.091182 \r\nL 116.269237 473.183735 \r\nL 116.447238 473.044905 \r\nL 116.80324 473.137458 \r\nL 117.960246 473.230011 \r\nL 118.138247 472.859799 \r\nL 118.67225 472.906076 \r\nL 118.850251 472.952352 \r\nL 119.028252 472.998629 \r\nL 119.295253 472.952352 \r\nL 119.740256 473.044905 \r\nL 120.007257 473.091182 \r\nL 120.630261 472.998629 \r\nL 120.719261 472.906076 \r\nL 120.986262 473.044905 \r\nL 121.431265 473.137458 \r\nL 121.698266 473.183735 \r\nL 122.321269 473.276288 \r\nL 122.41027 473.368841 \r\nL 122.766272 473.137458 \r\nL 124.101279 473.183735 \r\nL 124.190279 473.322564 \r\nL 124.36828 473.276288 \r\nL 124.635282 473.322564 \r\nL 124.813283 473.368841 \r\nL 125.347286 473.137458 \r\nL 125.614287 473.183735 \r\nL 125.881288 473.044905 \r\nL 126.415291 473.044905 \r\nL 126.504292 472.906076 \r\nL 126.771293 473.044905 \r\nL 127.216295 472.906076 \r\nL 127.394296 472.952352 \r\nL 127.750298 472.906076 \r\nL 128.0173 472.767246 \r\nL 128.373302 472.906076 \r\nL 128.640303 472.859799 \r\nL 128.818304 472.859799 \r\nL 129.085305 472.813523 \r\nL 129.263306 472.906076 \r\nL 129.619308 472.813523 \r\nL 129.88631 472.859799 \r\nL 130.064311 472.998629 \r\nL 130.242312 472.998629 \r\nL 130.420313 473.044905 \r\nL 130.598313 473.044905 \r\nL 130.687314 473.044905 \r\nL 130.865315 473.183735 \r\nL 131.221317 473.230011 \r\nL 131.399318 473.461394 \r\nL 131.577319 473.322564 \r\nL 131.75532 473.415117 \r\nL 131.933321 473.322564 \r\nL 132.111321 473.368841 \r\nL 133.090327 473.461394 \r\nL 133.268328 473.553947 \r\nL 133.446329 473.461394 \r\nL 133.80233 473.368841 \r\nL 133.980331 473.368841 \r\nL 134.247333 473.415117 \r\nL 134.692335 473.461394 \r\nL 134.870336 473.553947 \r\nL 135.67134 473.461394 \r\nL 135.849341 473.461394 \r\nL 136.650346 473.831606 \r\nL 136.828347 473.785329 \r\nL 137.273349 473.831606 \r\nL 137.45135 473.924159 \r\nL 137.896352 473.831606 \r\nL 138.163354 473.692776 \r\nL 138.341355 473.692776 \r\nL 139.765362 473.785329 \r\nL 139.943363 473.785329 \r\nL 140.655367 473.877883 \r\nL 140.833368 473.877883 \r\nL 145.01639 473.785329 \r\nL 145.194391 473.692776 \r\nL 146.440398 473.600223 \r\nL 146.707399 473.553947 \r\nL 148.932411 473.50767 \r\nL 149.110412 473.368841 \r\nL 150.62342 473.276288 \r\nL 150.801421 473.276288 \r\nL 151.246423 473.368841 \r\nL 151.424424 473.368841 \r\nL 151.602425 473.322564 \r\nL 152.670431 473.276288 \r\nL 152.848432 473.183735 \r\nL 154.36144 473.091182 \r\nL 154.717442 472.998629 \r\nL 154.895442 472.998629 \r\nL 155.162444 472.952352 \r\nL 155.340445 473.044905 \r\nL 156.23045 472.952352 \r\nL 156.586451 472.813523 \r\nL 156.675452 472.859799 \r\nL 156.853453 472.674693 \r\nL 157.031454 472.72097 \r\nL 157.209455 472.813523 \r\nL 157.743458 472.58214 \r\nL 157.832458 472.350757 \r\nL 157.921459 472.397034 \r\nL 158.099459 472.397034 \r\nL 159.078465 472.304481 \r\nL 159.345466 472.165651 \r\nL 159.701468 472.397034 \r\nL 159.968469 472.397034 \r\nL 160.14647 472.535863 \r\nL 160.324471 472.397034 \r\nL 160.502472 472.489587 \r\nL 160.680473 472.397034 \r\nL 161.036475 472.397034 \r\nL 161.125476 472.258204 \r\nL 161.392477 472.489587 \r\nL 161.659478 472.397034 \r\nL 162.01548 472.72097 \r\nL 162.193481 472.489587 \r\nL 162.816485 472.72097 \r\nL 163.350487 472.72097 \r\nL 163.617489 472.397034 \r\nL 164.507494 472.304481 \r\nL 164.685494 472.304481 \r\nL 164.863495 472.489587 \r\nL 165.041496 472.44331 \r\nL 165.130497 472.489587 \r\nL 165.308498 472.44331 \r\nL 165.486499 472.72097 \r\nL 165.6645 472.489587 \r\nL 165.931501 472.58214 \r\nL 166.109502 472.397034 \r\nL 166.554504 472.58214 \r\nL 166.821506 472.535863 \r\nL 168.690516 472.44331 \r\nL 168.957517 472.397034 \r\nL 169.936522 472.397034 \r\nL 170.203524 472.073098 \r\nL 170.381525 472.073098 \r\nL 170.737527 471.841716 \r\nL 170.915528 471.934269 \r\nL 171.093528 471.887992 \r\nL 171.271529 471.980545 \r\nL 171.36053 471.934269 \r\nL 171.538531 472.026822 \r\nL 171.716532 471.934269 \r\nL 171.983533 472.026822 \r\nL 172.250535 472.073098 \r\nL 172.517536 471.841716 \r\nL 172.784537 471.702886 \r\nL 172.962538 471.749163 \r\nL 173.140539 471.37895 \r\nL 173.22954 471.471503 \r\nL 173.31854 471.147568 \r\nL 173.496541 471.471503 \r\nL 173.585542 471.193844 \r\nL 173.763543 471.37895 \r\nL 173.941544 471.008738 \r\nL 174.030544 471.101291 \r\nL 174.208545 470.962462 \r\nL 174.742548 471.193844 \r\nL 175.09855 470.222037 \r\nL 175.365551 470.59225 \r\nL 175.810554 469.944378 \r\nL 175.988554 470.31459 \r\nL 176.166555 470.036931 \r\nL 176.344556 470.31459 \r\nL 176.433557 470.175761 \r\nL 176.789559 470.268314 \r\nL 177.05656 470.036931 \r\nL 177.412562 470.175761 \r\nL 177.501563 470.129484 \r\nL 177.679563 470.499697 \r\nL 177.857564 470.175761 \r\nL 178.035565 469.805549 \r\nL 178.302567 470.036931 \r\nL 178.391567 469.851825 \r\nL 178.658569 470.083208 \r\nL 178.83657 469.851825 \r\nL 178.92557 469.851825 \r\nL 179.103571 469.620443 \r\nL 179.192571 469.52789 \r\nL 179.370572 469.574166 \r\nL 179.726574 469.203954 \r\nL 179.904575 469.203954 \r\nL 180.171577 469.296507 \r\nL 180.349578 469.52789 \r\nL 180.527579 469.250231 \r\nL 180.70558 469.52789 \r\nL 180.79458 469.712996 \r\nL 180.972581 469.620443 \r\nL 181.061581 469.620443 \r\nL 181.239582 469.250231 \r\nL 181.328583 469.203954 \r\nL 181.595584 469.38906 \r\nL 182.396588 469.342784 \r\nL 182.485589 468.972571 \r\nL 182.574589 469.157677 \r\nL 182.66359 468.972571 \r\nL 182.75259 469.065124 \r\nL 182.841591 468.926295 \r\nL 182.930591 469.018848 \r\nL 183.019592 468.926295 \r\nL 183.197593 469.157677 \r\nL 183.375594 469.157677 \r\nL 183.464594 469.203954 \r\nL 183.642595 469.111401 \r\nL 183.820596 469.620443 \r\nL 183.909597 469.52789 \r\nL 183.998597 469.481613 \r\nL 184.265598 468.648636 \r\nL 184.443599 468.741189 \r\nL 184.6216 469.018848 \r\nL 184.710601 468.833742 \r\nL 184.799601 468.972571 \r\nL 184.977602 468.880018 \r\nL 185.422605 469.157677 \r\nL 185.956607 467.815658 \r\nL 186.134608 467.908211 \r\nL 186.40161 467.954488 \r\nL 186.668611 467.306617 \r\nL 186.757612 467.445446 \r\nL 187.024613 467.491723 \r\nL 187.113614 467.491723 \r\nL 187.202614 467.167787 \r\nL 187.469615 467.584276 \r\nL 187.647616 467.769382 \r\nL 187.825617 467.214064 \r\nL 187.914618 467.121511 \r\nL 188.181619 467.491723 \r\nL 188.35962 467.491723 \r\nL 188.448621 467.723105 \r\nL 188.626622 466.982681 \r\nL 188.804623 466.658745 \r\nL 188.982623 467.121511 \r\nL 189.249625 466.519916 \r\nL 189.338625 466.427363 \r\nL 189.516626 466.982681 \r\nL 189.783628 467.306617 \r\nL 189.872628 467.121511 \r\nL 190.050629 467.491723 \r\nL 190.13963 468.000764 \r\nL 190.317631 469.990655 \r\nL 190.406631 469.111401 \r\nL 190.673632 470.962462 \r\nL 190.851633 470.129484 \r\nL 190.940634 469.296507 \r\nL 191.029634 469.38906 \r\nL 191.118635 469.38906 \r\nL 191.296636 469.805549 \r\nL 191.385636 469.481613 \r\nL 191.474637 469.52789 \r\nL 191.652638 469.759272 \r\nL 191.830639 469.38906 \r\nL 192.09764 469.898102 \r\nL 192.18664 469.712996 \r\nL 192.275641 469.990655 \r\nL 192.542642 469.620443 \r\nL 192.720643 469.898102 \r\nL 192.809644 470.222037 \r\nL 192.898644 470.175761 \r\nL 192.987645 470.268314 \r\nL 193.165646 470.545973 \r\nL 193.432647 469.898102 \r\nL 193.610648 470.083208 \r\nL 193.788649 469.574166 \r\nL 193.96665 469.296507 \r\nL 194.144651 468.926295 \r\nL 194.233651 468.972571 \r\nL 194.411652 468.833742 \r\nL 194.500653 469.157677 \r\nL 194.678654 468.694912 \r\nL 194.767654 468.880018 \r\nL 194.945655 468.509806 \r\nL 195.034656 468.648636 \r\nL 195.123656 468.556083 \r\nL 195.212657 469.203954 \r\nL 195.301657 468.833742 \r\nL 195.390657 468.880018 \r\nL 195.83566 468.787465 \r\nL 195.92466 469.250231 \r\nL 196.013661 469.157677 \r\nL 196.102661 469.296507 \r\nL 196.191662 469.065124 \r\nL 196.369663 469.250231 \r\nL 196.547664 468.972571 \r\nL 196.636664 468.926295 \r\nL 197.081666 469.38906 \r\nL 197.437668 469.018848 \r\nL 197.79367 468.926295 \r\nL 197.882671 468.694912 \r\nL 198.238673 468.926295 \r\nL 198.683675 468.185871 \r\nL 198.950676 468.185871 \r\nL 199.039677 468.417253 \r\nL 199.217678 468.278424 \r\nL 199.306678 468.46353 \r\nL 199.395679 468.278424 \r\nL 199.66268 468.602359 \r\nL 199.751681 468.602359 \r\nL 200.018682 469.157677 \r\nL 200.107683 468.972571 \r\nL 200.196683 469.018848 \r\nL 200.285683 469.250231 \r\nL 200.374684 469.157677 \r\nL 200.463684 469.342784 \r\nL 200.552685 469.296507 \r\nL 200.641685 468.926295 \r\nL 200.819686 469.018848 \r\nL 200.997687 468.926295 \r\nL 201.264689 469.250231 \r\nL 201.353689 469.157677 \r\nL 201.798692 469.065124 \r\nL 201.976692 468.926295 \r\nL 202.243694 469.018848 \r\nL 202.421695 468.880018 \r\nL 202.777697 469.065124 \r\nL 202.866697 469.250231 \r\nL 202.955698 469.203954 \r\nL 203.133699 468.972571 \r\nL 203.578701 469.481613 \r\nL 203.845702 469.250231 \r\nL 203.934703 469.203954 \r\nL 204.112704 468.787465 \r\nL 204.201704 468.926295 \r\nL 204.468706 468.602359 \r\nL 204.557706 468.46353 \r\nL 204.646707 468.648636 \r\nL 204.913708 468.417253 \r\nL 205.002709 468.3247 \r\nL 205.091709 468.509806 \r\nL 205.180709 468.46353 \r\nL 205.26971 468.556083 \r\nL 205.447711 468.370977 \r\nL 205.714712 468.509806 \r\nL 205.892713 468.232147 \r\nL 206.070714 468.232147 \r\nL 206.159715 468.093318 \r\nL 206.426716 468.417253 \r\nL 207.049719 468.46353 \r\nL 207.494722 468.787465 \r\nL 207.672723 468.787465 \r\nL 207.850724 468.46353 \r\nL 208.473727 468.880018 \r\nL 208.562727 468.694912 \r\nL 208.740728 468.972571 \r\nL 208.829729 468.787465 \r\nL 208.918729 468.880018 \r\nL 209.00773 468.787465 \r\nL 209.185731 469.203954 \r\nL 209.274731 469.250231 \r\nL 209.363732 469.065124 \r\nL 209.541733 469.111401 \r\nL 209.719734 469.018848 \r\nL 209.897735 469.342784 \r\nL 209.986735 469.203954 \r\nL 210.164736 469.435337 \r\nL 210.253736 469.342784 \r\nL 210.431737 469.018848 \r\nL 210.520738 469.018848 \r\nL 210.698739 468.926295 \r\nL 210.87674 468.880018 \r\nL 210.96574 468.926295 \r\nL 211.143741 468.556083 \r\nL 211.232742 468.602359 \r\nL 211.321742 468.741189 \r\nL 211.588744 468.556083 \r\nL 212.211747 469.38906 \r\nL 212.389748 469.342784 \r\nL 212.567749 469.342784 \r\nL 212.656749 469.38906 \r\nL 212.923751 468.926295 \r\nL 213.012751 469.018848 \r\nL 213.279752 469.250231 \r\nL 213.991756 469.52789 \r\nL 214.258758 469.250231 \r\nL 214.436759 469.342784 \r\nL 214.525759 469.296507 \r\nL 214.70376 469.435337 \r\nL 214.792761 469.435337 \r\nL 214.970761 469.712996 \r\nL 215.148762 469.666719 \r\nL 215.326763 469.620443 \r\nL 215.682765 469.203954 \r\nL 216.038767 469.250231 \r\nL 216.216768 469.342784 \r\nL 216.305769 469.157677 \r\nL 216.394769 469.203954 \r\nL 216.750771 468.880018 \r\nL 216.928772 468.972571 \r\nL 217.106773 469.111401 \r\nL 217.818777 468.741189 \r\nL 217.907777 468.833742 \r\nL 218.174778 468.602359 \r\nL 218.352779 469.157677 \r\nL 218.708781 468.926295 \r\nL 218.886782 468.880018 \r\nL 219.064783 469.52789 \r\nL 219.153784 469.481613 \r\nL 219.331785 469.157677 \r\nL 219.687787 469.38906 \r\nL 219.776787 469.38906 \r\nL 220.043788 469.759272 \r\nL 220.488791 469.620443 \r\nL 220.933793 469.712996 \r\nL 221.111794 469.898102 \r\nL 221.289795 469.759272 \r\nL 221.645797 469.851825 \r\nL 221.912798 469.805549 \r\nL 222.090799 469.898102 \r\nL 222.1798 469.898102 \r\nL 222.2688 470.036931 \r\nL 222.357801 469.944378 \r\nL 222.535802 469.990655 \r\nL 222.713803 469.898102 \r\nL 222.802803 469.759272 \r\nL 222.980804 469.944378 \r\nL 223.959809 469.018848 \r\nL 224.315811 469.111401 \r\nL 224.671813 469.250231 \r\nL 225.561818 468.232147 \r\nL 225.650818 468.3247 \r\nL 225.828819 468.417253 \r\nL 226.00682 468.232147 \r\nL 226.095821 468.3247 \r\nL 226.273821 467.908211 \r\nL 226.362822 467.861935 \r\nL 226.540823 467.954488 \r\nL 226.718824 467.769382 \r\nL 226.896825 468.139594 \r\nL 226.985825 467.908211 \r\nL 227.163826 468.093318 \r\nL 227.430828 467.723105 \r\nL 227.78683 468.694912 \r\nL 227.87583 468.741189 \r\nL 228.142831 468.602359 \r\nL 228.409833 469.018848 \r\nL 228.498833 468.926295 \r\nL 228.676834 469.018848 \r\nL 228.854835 468.926295 \r\nL 229.121837 469.111401 \r\nL 229.299838 469.018848 \r\nL 229.388838 469.018848 \r\nL 229.477838 469.203954 \r\nL 229.566839 469.018848 \r\nL 230.011841 469.38906 \r\nL 230.189842 469.203954 \r\nL 230.545844 468.926295 \r\nL 230.812846 468.509806 \r\nL 230.901846 468.509806 \r\nL 231.346848 469.065124 \r\nL 232.058852 468.417253 \r\nL 232.147853 468.509806 \r\nL 232.325854 468.417253 \r\nL 232.770856 468.370977 \r\nL 232.948857 468.232147 \r\nL 233.126858 468.417253 \r\nL 233.215858 468.370977 \r\nL 233.393859 468.602359 \r\nL 233.57186 468.417253 \r\nL 233.838862 468.3247 \r\nL 233.927862 468.417253 \r\nL 234.016863 468.278424 \r\nL 234.283864 468.556083 \r\nL 234.461865 468.278424 \r\nL 234.639866 467.723105 \r\nL 234.906867 467.815658 \r\nL 234.995868 468.232147 \r\nL 235.35187 467.815658 \r\nL 235.885873 468.3247 \r\nL 236.152874 468.185871 \r\nL 236.330875 468.602359 \r\nL 236.508876 468.509806 \r\nL 236.864878 468.139594 \r\nL 237.042879 468.46353 \r\nL 237.398881 468.3247 \r\nL 237.843883 468.509806 \r\nL 238.199885 468.3247 \r\nL 238.377886 468.694912 \r\nL 238.466886 468.833742 \r\nL 238.822888 469.851825 \r\nL 238.911889 469.990655 \r\nL 239.26789 469.620443 \r\nL 239.356891 469.620443 \r\nL 239.623892 469.898102 \r\nL 239.712893 469.805549 \r\nL 239.890894 469.435337 \r\nL 240.246896 469.435337 \r\nL 240.513897 469.898102 \r\nL 240.602898 469.944378 \r\nL 240.691898 469.851825 \r\nL 240.869899 470.222037 \r\nL 240.958899 469.944378 \r\nL 241.0479 470.083208 \r\nL 241.314901 469.944378 \r\nL 241.403902 470.175761 \r\nL 241.670903 469.990655 \r\nL 241.759904 470.036931 \r\nL 242.026905 469.851825 \r\nL 242.204906 470.129484 \r\nL 242.293907 469.944378 \r\nL 242.382907 469.990655 \r\nL 242.560908 469.944378 \r\nL 242.91691 469.944378 \r\nL 243.094911 470.083208 \r\nL 243.183911 469.944378 \r\nL 243.272912 470.036931 \r\nL 243.450913 469.898102 \r\nL 243.539913 469.990655 \r\nL 244.073916 469.574166 \r\nL 244.340917 469.52789 \r\nL 244.518918 468.694912 \r\nL 244.607919 468.880018 \r\nL 244.696919 468.833742 \r\nL 244.78592 468.972571 \r\nL 244.963921 468.741189 \r\nL 245.408923 469.018848 \r\nL 245.497924 468.787465 \r\nL 245.764925 469.065124 \r\nL 246.031926 468.694912 \r\nL 246.209927 468.509806 \r\nL 246.387928 468.602359 \r\nL 246.565929 469.018848 \r\nL 246.921931 469.250231 \r\nL 247.989937 468.787465 \r\nL 248.256938 468.833742 \r\nL 248.434939 469.111401 \r\nL 248.61294 468.741189 \r\nL 248.701941 468.741189 \r\nL 248.790941 469.065124 \r\nL 248.968942 468.833742 \r\nL 249.502945 469.203954 \r\nL 249.591945 469.296507 \r\nL 249.947947 469.065124 \r\nL 250.214949 469.111401 \r\nL 250.303949 469.065124 \r\nL 250.39295 468.787465 \r\nL 250.48195 468.833742 \r\nL 250.659951 468.972571 \r\nL 250.837952 468.602359 \r\nL 250.926952 468.3247 \r\nL 251.104953 468.46353 \r\nL 251.193954 468.509806 \r\nL 251.549956 468.000764 \r\nL 251.638956 467.954488 \r\nL 251.816957 468.232147 \r\nL 252.172959 468.880018 \r\nL 252.43996 468.694912 \r\nL 252.617961 468.833742 \r\nL 252.795962 468.741189 \r\nL 252.884963 468.694912 \r\nL 252.973963 468.509806 \r\nL 253.151964 469.111401 \r\nL 253.418966 469.111401 \r\nL 253.507966 469.250231 \r\nL 253.685967 469.065124 \r\nL 253.863968 469.250231 \r\nL 253.952968 469.574166 \r\nL 254.041969 469.52789 \r\nL 254.130969 469.574166 \r\nL 254.30897 469.851825 \r\nL 254.575972 469.296507 \r\nL 254.664972 469.435337 \r\nL 254.753973 469.574166 \r\nL 254.931974 469.481613 \r\nL 255.109975 469.666719 \r\nL 255.198975 469.574166 \r\nL 255.287976 469.666719 \r\nL 255.465976 469.944378 \r\nL 255.821978 470.036931 \r\nL 256.444982 470.777356 \r\nL 256.533982 470.684803 \r\nL 256.622983 470.45342 \r\nL 256.711983 470.59225 \r\nL 256.800984 470.962462 \r\nL 257.067985 470.638526 \r\nL 257.245986 471.055015 \r\nL 257.423987 470.777356 \r\nL 257.512987 470.869909 \r\nL 257.601988 471.286397 \r\nL 258.04699 470.360867 \r\nL 258.313992 470.499697 \r\nL 258.402992 470.545973 \r\nL 258.580993 470.407144 \r\nL 258.669994 470.45342 \r\nL 258.936995 469.990655 \r\nL 259.025995 470.036931 \r\nL 259.292997 469.574166 \r\nL 259.381997 469.620443 \r\nL 259.470998 469.481613 \r\nL 259.648999 469.759272 \r\nL 259.737999 469.574166 \r\nL 259.827 469.666719 \r\nL 260.183002 469.38906 \r\nL 260.361002 469.481613 \r\nL 260.450003 469.481613 \r\nL 260.895005 468.648636 \r\nL 260.984006 468.741189 \r\nL 261.162007 469.065124 \r\nL 261.251007 468.880018 \r\nL 261.429008 468.972571 \r\nL 261.69601 468.417253 \r\nL 261.78501 468.278424 \r\nL 262.052011 468.509806 \r\nL 262.230012 468.556083 \r\nL 262.497014 468.509806 \r\nL 262.675015 468.509806 \r\nL 262.942016 467.954488 \r\nL 263.031017 468.093318 \r\nL 263.120017 468.000764 \r\nL 263.298018 467.352893 \r\nL 263.387019 467.491723 \r\nL 264.277023 466.658745 \r\nL 264.366024 466.751298 \r\nL 264.455024 466.381086 \r\nL 264.544025 466.473639 \r\nL 264.633025 466.381086 \r\nL 264.811026 465.825768 \r\nL 265.078028 466.473639 \r\nL 265.167028 466.381086 \r\nL 265.345029 465.872045 \r\nL 265.434029 466.149704 \r\nL 265.52303 466.057151 \r\nL 265.701031 466.288533 \r\nL 265.790031 466.288533 \r\nL 265.879032 466.427363 \r\nL 266.057033 466.242257 \r\nL 266.324034 464.900238 \r\nL 266.591036 465.594385 \r\nL 266.680036 465.085344 \r\nL 266.769037 465.224173 \r\nL 266.947037 464.853961 \r\nL 267.036038 464.576302 \r\nL 267.303039 465.501832 \r\nL 267.39204 465.316726 \r\nL 267.48104 464.530025 \r\nL 267.570041 464.622578 \r\nL 267.659041 464.807685 \r\nL 267.748042 464.715132 \r\nL 267.837042 464.113537 \r\nL 267.926043 464.530025 \r\nL 268.015043 464.298643 \r\nL 268.104044 464.622578 \r\nL 268.193044 464.530025 \r\nL 268.371045 464.992791 \r\nL 268.549046 464.252366 \r\nL 268.638046 465.686938 \r\nL 268.727047 465.363003 \r\nL 268.816047 465.501832 \r\nL 268.994048 466.057151 \r\nL 269.172049 465.779491 \r\nL 269.26105 465.872045 \r\nL 269.35005 466.242257 \r\nL 269.439051 466.19598 \r\nL 269.528051 466.288533 \r\nL 269.617052 466.751298 \r\nL 269.706052 467.908211 \r\nL 269.795053 467.630552 \r\nL 269.884053 467.630552 \r\nL 270.062054 467.39917 \r\nL 270.151054 467.537999 \r\nL 270.507056 466.982681 \r\nL 270.863058 468.3247 \r\nL 271.041059 468.047041 \r\nL 271.13006 468.232147 \r\nL 271.486062 467.861935 \r\nL 271.575062 467.954488 \r\nL 271.664062 467.584276 \r\nL 271.753063 467.630552 \r\nL 272.465067 468.833742 \r\nL 272.554067 468.694912 \r\nL 272.643068 468.648636 \r\nL 272.821069 468.694912 \r\nL 273.08807 468.648636 \r\nL 273.266071 468.602359 \r\nL 273.355071 468.741189 \r\nL 273.978075 467.908211 \r\nL 274.245076 468.139594 \r\nL 274.423077 468.602359 \r\nL 274.601078 468.093318 \r\nL 274.690079 468.093318 \r\nL 274.86808 468.232147 \r\nL 275.313082 468.047041 \r\nL 275.491083 467.491723 \r\nL 275.580083 467.723105 \r\nL 275.847085 467.39917 \r\nL 276.025086 467.214064 \r\nL 276.203087 466.751298 \r\nL 276.470088 467.39917 \r\nL 276.559088 467.306617 \r\nL 276.737089 466.843851 \r\nL 276.91509 467.028958 \r\nL 277.004091 466.843851 \r\nL 277.182092 467.028958 \r\nL 277.360093 467.075234 \r\nL 277.538094 467.306617 \r\nL 277.627094 467.26034 \r\nL 277.716095 466.982681 \r\nL 277.805095 467.445446 \r\nL 277.894096 467.39917 \r\nL 277.983096 467.352893 \r\nL 278.161097 467.861935 \r\nL 278.339098 467.445446 \r\nL 278.428098 467.491723 \r\nL 278.517099 467.352893 \r\nL 278.606099 467.537999 \r\nL 278.7841 467.39917 \r\nL 278.873101 467.445446 \r\nL 278.962101 467.630552 \r\nL 279.140102 467.352893 \r\nL 279.229103 467.491723 \r\nL 279.318103 467.815658 \r\nL 279.407104 467.723105 \r\nL 279.763106 467.815658 \r\nL 279.941106 467.491723 \r\nL 280.119107 466.936404 \r\nL 280.208108 467.121511 \r\nL 280.297108 466.705022 \r\nL 280.386109 466.751298 \r\nL 280.475109 466.797575 \r\nL 280.742111 467.26034 \r\nL 280.920112 467.214064 \r\nL 281.009112 467.491723 \r\nL 281.098113 467.26034 \r\nL 281.187113 467.306617 \r\nL 281.454114 467.769382 \r\nL 281.810116 466.797575 \r\nL 281.899117 466.843851 \r\nL 281.988117 466.751298 \r\nL 282.077118 467.445446 \r\nL 282.166118 467.121511 \r\nL 282.344119 467.352893 \r\nL 282.700121 467.214064 \r\nL 282.878122 467.352893 \r\nL 282.967123 467.167787 \r\nL 283.145123 467.352893 \r\nL 283.501125 467.584276 \r\nL 283.679126 467.537999 \r\nL 283.857127 467.352893 \r\nL 283.946128 467.352893 \r\nL 284.035128 467.167787 \r\nL 284.213129 467.39917 \r\nL 284.836132 466.010874 \r\nL 284.925133 466.103427 \r\nL 285.014133 466.242257 \r\nL 285.370135 465.594385 \r\nL 285.459136 465.640662 \r\nL 285.548136 465.27045 \r\nL 285.726137 465.501832 \r\nL 285.815138 465.224173 \r\nL 285.904138 465.316726 \r\nL 285.993139 465.779491 \r\nL 286.17114 465.27045 \r\nL 286.438141 465.13162 \r\nL 286.527141 465.455556 \r\nL 286.616142 465.363003 \r\nL 286.972144 464.992791 \r\nL 287.150145 465.316726 \r\nL 287.328146 465.501832 \r\nL 287.417146 465.13162 \r\nL 287.773148 465.640662 \r\nL 287.951149 465.177897 \r\nL 288.21815 464.437472 \r\nL 288.307151 464.622578 \r\nL 288.752153 465.409279 \r\nL 288.930154 465.363003 \r\nL 289.108155 465.409279 \r\nL 289.286156 465.455556 \r\nL 289.375157 465.409279 \r\nL 289.464157 465.501832 \r\nL 289.553157 465.363003 \r\nL 289.731158 465.409279 \r\nL 289.820159 465.455556 \r\nL 289.909159 465.177897 \r\nL 289.99816 465.224173 \r\nL 290.08716 465.316726 \r\nL 290.354162 466.19598 \r\nL 290.532163 466.103427 \r\nL 290.621163 466.057151 \r\nL 290.710164 465.825768 \r\nL 290.888165 466.566192 \r\nL 290.977165 466.33481 \r\nL 291.066166 466.612469 \r\nL 291.155166 466.473639 \r\nL 291.333167 465.825768 \r\nL 291.600168 466.473639 \r\nL 291.689169 466.288533 \r\nL 292.045171 466.797575 \r\nL 292.223172 465.918321 \r\nL 292.312172 466.057151 \r\nL 292.579174 465.640662 \r\nL 292.668174 465.825768 \r\nL 292.846175 465.594385 \r\nL 293.024176 465.501832 \r\nL 293.202177 465.825768 \r\nL 293.73618 466.057151 \r\nL 293.82518 465.872045 \r\nL 294.181182 466.427363 \r\nL 294.270183 466.797575 \r\nL 294.359183 466.751298 \r\nL 294.448183 466.658745 \r\nL 294.626184 466.797575 \r\nL 294.804185 466.843851 \r\nL 294.893186 466.705022 \r\nL 295.427189 468.278424 \r\nL 295.60519 468.000764 \r\nL 295.783191 468.139594 \r\nL 296.050192 467.584276 \r\nL 296.228193 468.000764 \r\nL 296.317193 468.278424 \r\nL 296.495194 468.047041 \r\nL 296.584195 468.047041 \r\nL 296.851196 467.723105 \r\nL 296.940197 467.630552 \r\nL 297.118198 468.232147 \r\nL 297.207198 468.047041 \r\nL 297.296199 468.278424 \r\nL 297.385199 468.232147 \r\nL 297.4742 468.047041 \r\nL 297.5632 468.139594 \r\nL 297.830201 467.815658 \r\nL 298.542205 468.417253 \r\nL 298.898207 468.185871 \r\nL 299.254209 468.232147 \r\nL 299.343209 468.417253 \r\nL 299.43221 468.232147 \r\nL 299.52121 468.278424 \r\nL 299.699211 468.139594 \r\nL 299.966213 467.630552 \r\nL 300.055213 467.723105 \r\nL 300.144214 467.815658 \r\nL 300.411215 467.491723 \r\nL 300.500216 467.769382 \r\nL 300.589216 467.491723 \r\nL 300.856218 468.000764 \r\nL 301.034218 467.908211 \r\nL 301.123219 468.047041 \r\nL 301.212219 467.769382 \r\nL 301.479221 468.185871 \r\nL 301.746222 468.278424 \r\nL 301.924223 468.370977 \r\nL 302.013224 468.185871 \r\nL 302.280225 468.417253 \r\nL 302.547226 468.000764 \r\nL 302.636227 468.093318 \r\nL 302.814228 467.537999 \r\nL 303.17023 467.584276 \r\nL 303.348231 467.167787 \r\nL 303.526232 466.890128 \r\nL 303.615232 467.028958 \r\nL 303.793233 467.075234 \r\nL 303.882234 467.028958 \r\nL 304.060235 466.519916 \r\nL 304.149235 466.612469 \r\nL 304.327236 466.381086 \r\nL 304.416236 466.33481 \r\nL 304.505237 466.427363 \r\nL 304.594237 466.288533 \r\nL 304.683238 466.612469 \r\nL 304.861239 466.149704 \r\nL 305.03924 466.381086 \r\nL 305.12824 466.242257 \r\nL 305.306241 466.427363 \r\nL 305.484242 466.149704 \r\nL 305.662243 466.242257 \r\nL 305.751244 466.33481 \r\nL 305.929244 466.149704 \r\nL 306.107245 466.288533 \r\nL 306.285246 466.288533 \r\nL 306.463247 466.612469 \r\nL 306.819249 465.779491 \r\nL 306.99725 466.010874 \r\nL 307.175251 465.918321 \r\nL 307.264252 466.057151 \r\nL 307.353252 465.918321 \r\nL 307.442252 466.149704 \r\nL 307.887255 465.224173 \r\nL 307.976255 465.640662 \r\nL 308.154256 465.085344 \r\nL 308.332257 465.918321 \r\nL 308.77726 465.872045 \r\nL 308.86626 465.733215 \r\nL 309.133261 465.918321 \r\nL 309.222262 465.686938 \r\nL 310.112267 466.890128 \r\nL 310.379268 466.612469 \r\nL 310.468269 466.566192 \r\nL 310.646269 466.797575 \r\nL 310.73527 466.658745 \r\nL 310.913271 466.890128 \r\nL 311.091272 466.658745 \r\nL 311.269273 466.612469 \r\nL 311.447274 466.33481 \r\nL 311.892276 466.381086 \r\nL 312.248278 466.890128 \r\nL 312.337278 466.936404 \r\nL 312.515279 466.658745 \r\nL 312.69328 467.214064 \r\nL 312.782281 467.028958 \r\nL 313.227283 467.537999 \r\nL 313.316284 467.306617 \r\nL 313.761286 467.769382 \r\nL 314.117288 467.39917 \r\nL 314.206288 467.352893 \r\nL 314.384289 467.537999 \r\nL 314.56229 467.167787 \r\nL 314.651291 467.26034 \r\nL 314.918292 466.843851 \r\nL 315.007293 466.658745 \r\nL 315.096293 466.797575 \r\nL 315.274294 466.612469 \r\nL 315.363295 466.658745 \r\nL 315.452295 466.890128 \r\nL 315.630296 466.519916 \r\nL 315.808297 466.519916 \r\nL 315.986298 466.010874 \r\nL 316.075298 466.242257 \r\nL 316.164299 466.19598 \r\nL 316.253299 466.381086 \r\nL 316.3423 466.19598 \r\nL 316.4313 466.242257 \r\nL 316.609301 466.288533 \r\nL 316.787302 466.381086 \r\nL 316.876303 466.612469 \r\nL 317.143304 468.232147 \r\nL 317.232304 468.185871 \r\nL 317.321305 468.3247 \r\nL 317.410305 468.185871 \r\nL 317.588306 468.556083 \r\nL 317.855308 468.926295 \r\nL 317.944308 468.648636 \r\nL 318.033309 468.787465 \r\nL 318.122309 468.602359 \r\nL 318.30031 468.880018 \r\nL 318.567312 469.203954 \r\nL 318.656312 469.111401 \r\nL 319.012314 469.38906 \r\nL 319.101314 469.203954 \r\nL 319.368316 469.52789 \r\nL 319.546317 471.055015 \r\nL 319.635317 470.869909 \r\nL 319.813318 470.962462 \r\nL 320.16932 470.869909 \r\nL 320.436321 470.638526 \r\nL 320.614322 470.360867 \r\nL 320.703323 470.499697 \r\nL 320.881324 470.45342 \r\nL 321.148325 470.962462 \r\nL 321.504327 470.59225 \r\nL 321.593328 470.777356 \r\nL 321.771329 470.638526 \r\nL 322.12733 470.916185 \r\nL 322.216331 471.008738 \r\nL 322.394332 470.962462 \r\nL 322.572333 471.055015 \r\nL 322.750334 470.869909 \r\nL 323.106336 471.286397 \r\nL 323.462338 471.193844 \r\nL 323.551338 471.240121 \r\nL 323.640338 471.055015 \r\nL 323.818339 471.147568 \r\nL 324.174341 471.37895 \r\nL 324.352342 471.51778 \r\nL 324.530343 471.37895 \r\nL 324.708344 471.51778 \r\nL 324.886345 471.286397 \r\nL 325.064346 471.332674 \r\nL 325.242347 470.638526 \r\nL 325.420348 470.731079 \r\nL 325.598349 470.360867 \r\nL 325.77635 470.407144 \r\nL 325.86535 470.129484 \r\nL 326.043351 470.268314 \r\nL 326.399353 470.036931 \r\nL 326.488354 470.083208 \r\nL 326.666355 470.360867 \r\nL 327.289358 469.851825 \r\nL 327.556359 469.898102 \r\nL 327.73436 469.944378 \r\nL 327.912361 470.129484 \r\nL 328.446364 470.083208 \r\nL 328.624365 470.638526 \r\nL 328.713365 470.45342 \r\nL 328.802366 470.499697 \r\nL 328.980367 470.45342 \r\nL 329.069367 470.45342 \r\nL 329.336369 470.684803 \r\nL 329.425369 470.777356 \r\nL 329.60337 470.499697 \r\nL 329.692371 470.59225 \r\nL 329.781371 470.407144 \r\nL 329.870372 470.499697 \r\nL 329.959372 470.407144 \r\nL 330.137373 469.805549 \r\nL 330.315374 469.898102 \r\nL 330.404374 469.805549 \r\nL 330.582375 470.268314 \r\nL 330.849377 470.31459 \r\nL 331.027378 470.499697 \r\nL 331.116378 470.407144 \r\nL 331.294379 469.620443 \r\nL 331.47238 469.851825 \r\nL 331.650381 469.759272 \r\nL 331.739381 469.944378 \r\nL 331.917382 469.898102 \r\nL 332.095383 469.851825 \r\nL 332.184384 469.342784 \r\nL 332.273384 469.481613 \r\nL 332.629386 469.250231 \r\nL 332.896388 469.250231 \r\nL 332.985388 469.38906 \r\nL 333.163389 469.250231 \r\nL 333.34139 469.435337 \r\nL 333.519391 469.38906 \r\nL 333.697392 469.481613 \r\nL 333.875393 469.111401 \r\nL 334.053394 469.203954 \r\nL 334.231395 469.250231 \r\nL 334.409396 469.157677 \r\nL 334.676397 469.38906 \r\nL 335.2994 469.944378 \r\nL 335.566402 469.851825 \r\nL 335.744403 469.805549 \r\nL 335.922404 469.805549 \r\nL 336.011404 469.805549 \r\nL 336.189405 470.083208 \r\nL 336.278406 470.129484 \r\nL 336.634407 470.638526 \r\nL 336.901409 470.175761 \r\nL 336.990409 470.175761 \r\nL 337.16841 470.360867 \r\nL 337.257411 470.175761 \r\nL 337.346411 470.31459 \r\nL 337.524412 469.898102 \r\nL 338.147416 470.407144 \r\nL 338.236416 470.45342 \r\nL 338.414417 470.036931 \r\nL 338.592418 470.268314 \r\nL 338.770419 470.175761 \r\nL 339.393422 470.731079 \r\nL 339.482423 470.731079 \r\nL 339.571423 470.916185 \r\nL 339.660424 470.777356 \r\nL 339.749424 470.869909 \r\nL 340.016425 470.684803 \r\nL 340.105426 470.916185 \r\nL 340.194426 470.869909 \r\nL 340.283427 470.777356 \r\nL 340.550428 471.101291 \r\nL 340.81743 470.823632 \r\nL 341.084431 471.008738 \r\nL 341.262432 470.916185 \r\nL 341.707434 470.360867 \r\nL 341.885435 470.59225 \r\nL 342.063436 470.684803 \r\nL 342.152437 470.869909 \r\nL 342.419438 470.083208 \r\nL 342.508439 470.129484 \r\nL 342.597439 470.175761 \r\nL 342.864441 469.805549 \r\nL 342.953441 469.944378 \r\nL 343.131442 469.851825 \r\nL 343.398443 469.759272 \r\nL 343.576444 469.666719 \r\nL 343.754445 469.574166 \r\nL 344.466449 469.52789 \r\nL 344.73345 469.342784 \r\nL 344.822451 469.342784 \r\nL 344.911451 469.52789 \r\nL 345.000452 469.481613 \r\nL 345.267453 469.342784 \r\nL 345.445454 469.435337 \r\nL 345.534455 469.38906 \r\nL 345.623455 469.52789 \r\nL 345.801456 469.342784 \r\nL 346.157458 469.712996 \r\nL 346.691461 469.759272 \r\nL 346.780461 469.851825 \r\nL 346.869462 469.712996 \r\nL 346.958462 469.111401 \r\nL 347.047463 469.342784 \r\nL 347.314464 468.833742 \r\nL 347.403465 468.417253 \r\nL 347.670466 468.787465 \r\nL 347.848467 468.556083 \r\nL 347.937468 468.602359 \r\nL 348.026468 468.370977 \r\nL 348.115468 468.417253 \r\nL 348.38247 468.3247 \r\nL 348.47147 468.417253 \r\nL 348.649471 468.278424 \r\nL 348.738472 468.556083 \r\nL 348.827472 468.509806 \r\nL 348.916473 468.694912 \r\nL 349.005473 468.648636 \r\nL 349.094474 468.417253 \r\nL 349.361475 468.602359 \r\nL 349.450476 468.370977 \r\nL 349.717477 468.741189 \r\nL 349.806477 468.741189 \r\nL 350.073479 469.250231 \r\nL 350.34048 469.018848 \r\nL 350.607482 469.296507 \r\nL 350.785483 469.111401 \r\nL 351.052484 469.342784 \r\nL 351.230485 469.296507 \r\nL 351.319485 469.065124 \r\nL 351.497486 469.157677 \r\nL 351.586487 468.880018 \r\nL 351.764488 468.972571 \r\nL 352.12049 468.880018 \r\nL 352.298491 468.880018 \r\nL 352.387491 468.972571 \r\nL 352.476492 468.833742 \r\nL 352.565492 468.926295 \r\nL 352.654493 468.417253 \r\nL 352.743493 468.556083 \r\nL 352.921494 467.676829 \r\nL 353.010494 467.908211 \r\nL 353.188495 468.047041 \r\nL 353.455497 467.815658 \r\nL 353.633498 468.370977 \r\nL 353.900499 468.833742 \r\nL 353.9895 468.741189 \r\nL 354.256501 468.741189 \r\nL 354.345502 468.509806 \r\nL 354.523502 468.648636 \r\nL 354.612503 468.602359 \r\nL 354.879504 468.139594 \r\nL 354.968505 468.139594 \r\nL 355.146506 468.3247 \r\nL 355.235506 468.232147 \r\nL 355.591508 468.694912 \r\nL 355.769509 469.018848 \r\nL 355.94751 468.741189 \r\nL 356.214511 468.741189 \r\nL 356.303512 468.972571 \r\nL 356.481513 468.741189 \r\nL 356.570513 468.787465 \r\nL 356.837515 469.52789 \r\nL 356.926515 469.481613 \r\nL 357.104516 469.481613 \r\nL 357.282517 469.018848 \r\nL 357.371518 469.157677 \r\nL 357.460518 469.065124 \r\nL 357.549519 469.157677 \r\nL 357.727519 469.620443 \r\nL 357.81652 469.435337 \r\nL 357.90552 469.481613 \r\nL 357.994521 469.435337 \r\nL 358.083521 469.666719 \r\nL 358.617524 468.880018 \r\nL 358.973526 469.296507 \r\nL 359.240528 468.880018 \r\nL 359.329528 469.065124 \r\nL 359.418528 469.018848 \r\nL 359.596529 469.018848 \r\nL 359.952531 468.972571 \r\nL 360.130532 468.648636 \r\nL 360.308533 468.509806 \r\nL 360.397534 468.556083 \r\nL 360.575535 468.139594 \r\nL 360.842536 468.185871 \r\nL 360.931537 468.278424 \r\nL 361.020537 468.093318 \r\nL 361.109537 468.139594 \r\nL 361.732541 468.370977 \r\nL 361.910542 468.093318 \r\nL 362.088543 468.232147 \r\nL 362.355544 468.093318 \r\nL 362.533545 468.139594 \r\nL 362.711546 468.000764 \r\nL 362.889547 467.214064 \r\nL 363.156548 467.445446 \r\nL 363.245549 467.723105 \r\nL 363.334549 467.676829 \r\nL 363.42355 467.584276 \r\nL 363.601551 467.630552 \r\nL 363.690551 467.676829 \r\nL 363.957553 467.352893 \r\nL 364.135554 467.584276 \r\nL 364.402555 467.306617 \r\nL 364.491555 467.445446 \r\nL 364.580556 467.861935 \r\nL 364.669556 467.584276 \r\nL 364.758557 468.139594 \r\nL 364.936558 467.815658 \r\nL 365.025558 467.861935 \r\nL 365.114559 467.630552 \r\nL 365.38156 468.139594 \r\nL 365.559561 467.908211 \r\nL 365.826563 468.3247 \r\nL 366.004563 468.278424 \r\nL 366.894568 467.769382 \r\nL 367.072569 468.232147 \r\nL 367.16157 468.185871 \r\nL 367.25057 468.139594 \r\nL 367.428571 468.232147 \r\nL 367.784573 467.954488 \r\nL 367.873573 468.000764 \r\nL 368.140575 468.694912 \r\nL 368.229575 469.342784 \r\nL 368.318576 469.203954 \r\nL 368.674578 469.157677 \r\nL 368.852579 469.111401 \r\nL 368.941579 469.296507 \r\nL 369.03058 469.065124 \r\nL 369.11958 469.111401 \r\nL 369.297581 469.065124 \r\nL 369.564582 469.38906 \r\nL 369.742583 469.52789 \r\nL 370.187586 469.203954 \r\nL 370.276586 469.111401 \r\nL 370.365587 469.52789 \r\nL 370.454587 469.435337 \r\nL 370.98859 469.435337 \r\nL 371.166591 469.203954 \r\nL 371.344592 469.250231 \r\nL 371.522593 468.741189 \r\nL 371.611593 468.880018 \r\nL 372.056596 468.509806 \r\nL 372.323597 468.926295 \r\nL 372.501598 468.880018 \r\nL 372.590598 468.648636 \r\nL 372.679599 468.787465 \r\nL 372.768599 468.648636 \r\nL 373.035601 469.065124 \r\nL 373.213602 468.741189 \r\nL 373.391603 468.880018 \r\nL 373.480603 468.787465 \r\nL 373.747605 468.926295 \r\nL 373.836605 468.926295 \r\nL 374.014606 469.898102 \r\nL 374.192607 469.851825 \r\nL 374.904611 469.898102 \r\nL 374.993611 469.990655 \r\nL 375.171612 469.52789 \r\nL 375.260613 469.805549 \r\nL 375.438614 469.481613 \r\nL 375.616614 469.620443 \r\nL 375.705615 469.52789 \r\nL 375.794615 469.620443 \r\nL 375.972616 470.268314 \r\nL 376.061617 470.175761 \r\nL 376.239618 469.898102 \r\nL 376.328618 470.222037 \r\nL 376.417619 470.129484 \r\nL 376.59562 470.684803 \r\nL 376.68462 470.638526 \r\nL 376.951622 470.360867 \r\nL 377.040622 470.31459 \r\nL 377.218623 470.59225 \r\nL 377.752626 470.638526 \r\nL 377.930627 470.31459 \r\nL 378.108628 470.268314 \r\nL 378.286629 470.45342 \r\nL 378.642631 470.823632 \r\nL 378.731631 470.777356 \r\nL 378.909632 470.916185 \r\nL 379.087633 470.916185 \r\nL 379.888637 470.962462 \r\nL 380.066638 471.193844 \r\nL 380.155639 471.008738 \r\nL 380.33364 471.101291 \r\nL 380.42264 470.962462 \r\nL 380.689641 471.193844 \r\nL 380.778642 471.147568 \r\nL 380.956643 470.869909 \r\nL 381.223644 470.916185 \r\nL 381.401645 471.008738 \r\nL 381.490646 471.101291 \r\nL 381.668647 471.008738 \r\nL 381.846648 471.147568 \r\nL 382.024649 471.101291 \r\nL 382.29165 471.147568 \r\nL 382.469651 471.193844 \r\nL 382.647652 470.731079 \r\nL 382.736652 470.777356 \r\nL 382.825653 470.869909 \r\nL 382.914653 470.684803 \r\nL 383.003654 470.731079 \r\nL 383.270655 470.499697 \r\nL 383.448656 470.59225 \r\nL 383.715657 470.823632 \r\nL 383.893658 470.823632 \r\nL 383.982659 471.055015 \r\nL 384.16066 470.869909 \r\nL 384.338661 471.147568 \r\nL 384.427661 471.008738 \r\nL 384.605662 471.147568 \r\nL 384.783663 471.193844 \r\nL 384.961664 471.101291 \r\nL 385.317666 471.332674 \r\nL 385.584667 471.471503 \r\nL 385.762668 471.841716 \r\nL 386.02967 471.610333 \r\nL 386.11867 471.65661 \r\nL 386.207671 471.934269 \r\nL 386.296671 471.887992 \r\nL 386.652673 472.165651 \r\nL 386.741674 472.119375 \r\nL 386.919675 472.304481 \r\nL 387.008675 472.304481 \r\nL 387.186676 471.702886 \r\nL 387.364677 471.749163 \r\nL 387.89868 471.51778 \r\nL 388.165681 471.65661 \r\nL 388.432683 471.471503 \r\nL 388.610683 471.332674 \r\nL 388.877685 471.471503 \r\nL 388.966685 471.425227 \r\nL 389.055686 471.240121 \r\nL 389.144686 471.286397 \r\nL 389.322687 471.332674 \r\nL 389.589689 471.055015 \r\nL 389.85669 471.147568 \r\nL 390.212692 471.332674 \r\nL 390.479693 471.65661 \r\nL 390.568694 471.749163 \r\nL 391.013696 471.286397 \r\nL 391.280698 471.425227 \r\nL 391.547699 471.471503 \r\nL 391.6367 471.471503 \r\nL 391.7257 471.101291 \r\nL 391.903701 471.471503 \r\nL 391.992701 471.37895 \r\nL 392.704705 470.916185 \r\nL 392.882706 470.777356 \r\nL 393.149708 471.101291 \r\nL 393.416709 471.101291 \r\nL 393.59471 471.37895 \r\nL 393.68371 471.332674 \r\nL 393.950712 470.962462 \r\nL 394.128713 470.916185 \r\nL 394.306714 470.869909 \r\nL 394.484715 470.962462 \r\nL 394.662716 471.055015 \r\nL 394.840717 471.055015 \r\nL 395.374719 471.101291 \r\nL 395.46372 471.193844 \r\nL 395.641721 471.008738 \r\nL 395.819722 471.055015 \r\nL 395.997723 471.055015 \r\nL 396.353725 471.332674 \r\nL 396.531726 471.425227 \r\nL 396.620726 471.332674 \r\nL 396.709726 471.471503 \r\nL 396.798727 471.286397 \r\nL 396.887727 471.332674 \r\nL 397.154729 471.332674 \r\nL 397.33273 471.702886 \r\nL 397.510731 471.564057 \r\nL 397.688732 472.211928 \r\nL 398.222735 472.258204 \r\nL 398.400735 472.350757 \r\nL 398.756737 472.258204 \r\nL 399.112739 472.350757 \r\nL 399.379741 472.397034 \r\nL 399.557742 472.58214 \r\nL 399.735743 472.489587 \r\nL 399.913744 472.489587 \r\nL 400.180745 472.397034 \r\nL 400.269745 472.165651 \r\nL 400.358746 472.211928 \r\nL 400.625747 472.350757 \r\nL 400.892749 472.304481 \r\nL 401.07075 472.44331 \r\nL 401.337751 472.350757 \r\nL 401.693753 472.44331 \r\nL 401.960754 472.397034 \r\nL 402.138755 472.44331 \r\nL 402.227756 472.258204 \r\nL 402.494757 472.397034 \r\nL 402.583758 472.350757 \r\nL 402.672758 472.026822 \r\nL 402.761759 472.119375 \r\nL 402.93976 472.165651 \r\nL 403.206761 471.887992 \r\nL 403.562763 472.119375 \r\nL 403.740764 472.073098 \r\nL 404.363767 472.165651 \r\nL 404.808769 472.304481 \r\nL 405.609774 472.211928 \r\nL 405.698774 472.165651 \r\nL 405.876775 472.304481 \r\nL 406.054776 472.304481 \r\nL 406.232777 472.304481 \r\nL 406.410778 472.304481 \r\nL 406.588779 472.350757 \r\nL 406.76678 472.350757 \r\nL 407.389783 472.44331 \r\nL 407.567784 472.535863 \r\nL 407.656785 472.397034 \r\nL 407.923786 472.535863 \r\nL 408.63579 472.906076 \r\nL 408.813791 472.813523 \r\nL 409.080792 472.906076 \r\nL 409.258793 472.535863 \r\nL 409.436794 472.397034 \r\nL 409.525795 472.211928 \r\nL 409.614795 472.258204 \r\nL 409.703795 472.44331 \r\nL 409.792796 472.350757 \r\nL 409.970797 472.489587 \r\nL 410.415799 472.211928 \r\nL 410.5938 471.887992 \r\nL 410.682801 471.887992 \r\nL 410.860802 470.360867 \r\nL 411.127803 471.51778 \r\nL 411.216804 471.240121 \r\nL 411.394804 471.332674 \r\nL 411.661806 471.101291 \r\nL 412.195809 471.51778 \r\nL 412.284809 471.564057 \r\nL 412.551811 471.425227 \r\nL 412.818812 471.564057 \r\nL 412.907813 471.37895 \r\nL 413.174814 471.610333 \r\nL 413.441815 471.471503 \r\nL 413.530816 471.51778 \r\nL 413.619816 471.37895 \r\nL 413.797817 471.610333 \r\nL 413.975818 471.610333 \r\nL 414.153819 471.564057 \r\nL 414.24282 471.610333 \r\nL 414.420821 471.471503 \r\nL 414.776822 471.564057 \r\nL 414.954823 471.425227 \r\nL 415.043824 471.425227 \r\nL 415.132824 471.240121 \r\nL 415.399826 472.026822 \r\nL 415.488826 471.980545 \r\nL 415.844828 472.350757 \r\nL 415.933829 472.119375 \r\nL 416.11183 472.397034 \r\nL 416.20083 472.304481 \r\nL 416.467831 472.073098 \r\nL 416.645832 471.887992 \r\nL 416.912834 472.211928 \r\nL 417.268836 472.119375 \r\nL 417.624838 472.211928 \r\nL 417.802838 472.211928 \r\nL 417.980839 472.165651 \r\nL 418.15884 472.489587 \r\nL 418.870844 472.767246 \r\nL 419.048845 472.767246 \r\nL 419.493847 472.906076 \r\nL 419.849849 472.906076 \r\nL 420.116851 471.980545 \r\nL 420.205851 472.211928 \r\nL 420.383852 472.119375 \r\nL 420.472853 472.119375 \r\nL 420.650854 471.887992 \r\nL 420.828855 472.026822 \r\nL 421.184856 471.887992 \r\nL 421.718859 472.211928 \r\nL 421.89686 472.119375 \r\nL 422.519864 471.887992 \r\nL 422.608864 471.887992 \r\nL 422.786865 471.749163 \r\nL 422.875865 471.841716 \r\nL 423.053866 471.610333 \r\nL 423.320868 471.240121 \r\nL 423.498869 471.332674 \r\nL 423.587869 471.147568 \r\nL 423.67687 471.193844 \r\nL 423.76587 471.147568 \r\nL 423.854871 471.37895 \r\nL 424.210873 470.684803 \r\nL 424.388873 470.823632 \r\nL 424.566874 470.777356 \r\nL 424.744875 470.869909 \r\nL 424.833876 470.545973 \r\nL 425.011877 470.777356 \r\nL 425.367879 470.638526 \r\nL 425.63488 470.823632 \r\nL 425.812881 471.055015 \r\nL 426.524885 470.407144 \r\nL 426.613885 470.638526 \r\nL 426.702886 470.59225 \r\nL 426.880887 470.59225 \r\nL 427.058888 470.731079 \r\nL 427.236889 470.545973 \r\nL 427.50389 470.222037 \r\nL 427.681891 470.175761 \r\nL 427.770891 470.083208 \r\nL 427.948892 470.175761 \r\nL 428.126893 470.31459 \r\nL 428.215894 470.499697 \r\nL 428.393895 470.31459 \r\nL 428.571896 470.59225 \r\nL 428.749897 470.777356 \r\nL 428.838897 470.638526 \r\nL 429.016898 470.823632 \r\nL 429.105899 470.731079 \r\nL 429.194899 470.823632 \r\nL 429.550901 470.545973 \r\nL 430.084904 470.545973 \r\nL 430.262905 470.731079 \r\nL 431.24191 470.175761 \r\nL 431.33091 469.851825 \r\nL 431.508911 469.944378 \r\nL 431.597912 469.620443 \r\nL 431.686912 469.712996 \r\nL 431.775913 469.52789 \r\nL 431.864913 469.065124 \r\nL 431.953914 469.157677 \r\nL 432.398916 469.52789 \r\nL 432.487916 469.52789 \r\nL 432.576917 469.666719 \r\nL 432.754918 469.203954 \r\nL 432.843918 469.52789 \r\nL 432.932919 469.435337 \r\nL 433.021919 469.574166 \r\nL 433.19992 469.157677 \r\nL 433.288921 469.203954 \r\nL 433.555922 468.648636 \r\nL 433.644923 468.741189 \r\nL 433.911924 468.278424 \r\nL 434.089925 468.556083 \r\nL 434.178925 468.185871 \r\nL 434.356926 468.556083 \r\nL 434.445927 468.602359 \r\nL 434.712928 470.083208 \r\nL 434.890929 469.38906 \r\nL 434.97993 469.52789 \r\nL 435.06893 469.435337 \r\nL 435.157931 468.926295 \r\nL 435.246931 469.065124 \r\nL 435.335932 468.972571 \r\nL 435.513933 469.111401 \r\nL 435.602933 468.972571 \r\nL 435.780934 469.296507 \r\nL 435.869934 469.203954 \r\nL 436.047935 469.157677 \r\nL 436.225936 468.926295 \r\nL 436.492938 468.741189 \r\nL 437.115941 470.129484 \r\nL 437.382942 468.880018 \r\nL 437.649944 469.203954 \r\nL 437.738944 469.065124 \r\nL 437.827945 469.296507 \r\nL 437.916945 469.111401 \r\nL 438.094946 469.38906 \r\nL 438.183947 469.065124 \r\nL 438.272947 469.435337 \r\nL 438.361948 469.157677 \r\nL 438.450948 469.250231 \r\nL 438.80695 468.880018 \r\nL 439.073951 469.203954 \r\nL 439.251952 469.666719 \r\nL 439.340953 469.620443 \r\nL 439.518954 469.296507 \r\nL 439.607954 469.481613 \r\nL 439.785955 469.342784 \r\nL 439.874956 469.38906 \r\nL 440.052957 469.296507 \r\nL 440.230958 469.435337 \r\nL 440.319958 469.944378 \r\nL 440.497959 469.296507 \r\nL 440.67596 469.805549 \r\nL 440.76496 469.666719 \r\nL 440.942961 469.944378 \r\nL 441.031962 469.944378 \r\nL 441.120962 469.666719 \r\nL 441.209963 469.851825 \r\nL 441.298963 469.666719 \r\nL 441.387964 469.805549 \r\nL 441.476964 469.712996 \r\nL 441.832966 468.694912 \r\nL 441.921967 468.787465 \r\nL 442.010967 468.509806 \r\nL 442.099968 468.556083 \r\nL 442.188968 468.648636 \r\nL 442.455969 468.139594 \r\nL 442.54497 468.370977 \r\nL 442.722971 467.861935 \r\nL 442.989972 467.630552 \r\nL 443.167973 468.46353 \r\nL 443.345974 468.602359 \r\nL 443.523975 468.880018 \r\nL 443.968977 468.46353 \r\nL 444.057978 468.509806 \r\nL 444.146978 468.787465 \r\nL 444.235979 468.648636 \r\nL 444.41398 469.250231 \r\nL 444.50298 469.018848 \r\nL 444.591981 469.111401 \r\nL 444.769982 468.741189 \r\nL 444.858982 469.018848 \r\nL 444.947983 468.926295 \r\nL 445.125984 469.296507 \r\nL 445.392985 468.926295 \r\nL 446.015988 469.712996 \r\nL 446.104989 469.759272 \r\nL 446.193989 469.574166 \r\nL 446.28299 469.620443 \r\nL 446.460991 469.898102 \r\nL 446.727992 469.38906 \r\nL 446.816993 469.620443 \r\nL 446.905993 469.38906 \r\nL 446.994994 469.712996 \r\nL 447.083994 469.435337 \r\nL 447.172994 469.759272 \r\nL 447.261995 469.666719 \r\nL 447.439996 469.712996 \r\nL 447.617997 469.342784 \r\nL 447.884998 469.111401 \r\nL 447.973999 468.972571 \r\nL 448.241 469.203954 \r\nL 448.330001 469.250231 \r\nL 448.419001 469.52789 \r\nL 448.597002 469.342784 \r\nL 448.686002 469.38906 \r\nL 448.864003 469.620443 \r\nL 448.953004 469.574166 \r\nL 449.220005 468.509806 \r\nL 449.309006 467.769382 \r\nL 449.487007 468.185871 \r\nL 449.665008 467.167787 \r\nL 449.754008 467.630552 \r\nL 449.843009 467.584276 \r\nL 449.932009 467.954488 \r\nL 450.02101 467.723105 \r\nL 450.199011 467.908211 \r\nL 450.288011 467.630552 \r\nL 450.377011 467.676829 \r\nL 450.555012 468.000764 \r\nL 450.733013 467.861935 \r\nL 450.822014 468.278424 \r\nL 450.911014 468.047041 \r\nL 451.089015 468.417253 \r\nL 451.178016 468.047041 \r\nL 451.267016 468.139594 \r\nL 451.445017 467.908211 \r\nL 451.712019 467.39917 \r\nL 451.801019 467.26034 \r\nL 451.890019 467.445446 \r\nL 452.06802 467.39917 \r\nL 452.246021 467.815658 \r\nL 452.335022 467.723105 \r\nL 452.424022 467.39917 \r\nL 452.513023 467.676829 \r\nL 452.602023 467.537999 \r\nL 452.780024 467.815658 \r\nL 453.047026 468.3247 \r\nL 453.136026 468.278424 \r\nL 453.314027 467.676829 \r\nL 453.403028 467.815658 \r\nL 453.581028 467.491723 \r\nL 453.84803 466.19598 \r\nL 453.93703 466.381086 \r\nL 454.026031 466.519916 \r\nL 454.115031 466.149704 \r\nL 454.293032 466.612469 \r\nL 454.382033 466.381086 \r\nL 454.471033 466.658745 \r\nL 454.560034 466.427363 \r\nL 454.649034 466.705022 \r\nL 454.738035 466.566192 \r\nL 454.827035 466.936404 \r\nL 455.005036 466.381086 \r\nL 455.094037 466.473639 \r\nL 455.272037 466.19598 \r\nL 455.361038 466.242257 \r\nL 455.450038 466.473639 \r\nL 455.539039 466.33481 \r\nL 455.71704 466.381086 \r\nL 455.80604 466.242257 \r\nL 455.984041 465.501832 \r\nL 456.340043 465.501832 \r\nL 456.429044 465.686938 \r\nL 456.518044 465.640662 \r\nL 456.607045 465.409279 \r\nL 456.696045 465.455556 \r\nL 456.963046 464.761408 \r\nL 457.052047 465.177897 \r\nL 457.497049 462.910347 \r\nL 457.58605 463.234283 \r\nL 457.764051 462.771518 \r\nL 457.853051 463.14173 \r\nL 457.942052 462.678965 \r\nL 458.031052 463.095453 \r\nL 458.298054 462.493859 \r\nL 458.387054 464.06726 \r\nL 458.476054 463.882154 \r\nL 458.565055 464.992791 \r\nL 458.654055 464.715132 \r\nL 458.832056 465.548109 \r\nL 458.921057 465.640662 \r\nL 459.010057 464.992791 \r\nL 459.099058 465.224173 \r\nL 459.277059 464.252366 \r\nL 459.366059 464.391196 \r\nL 459.54406 464.622578 \r\nL 459.722061 464.298643 \r\nL 459.811062 464.853961 \r\nL 459.989063 463.188006 \r\nL 460.078063 463.419389 \r\nL 460.167063 464.159813 \r\nL 460.345064 462.956624 \r\nL 460.434065 463.326836 \r\nL 460.523065 463.234283 \r\nL 460.701066 462.910347 \r\nL 460.879067 462.308752 \r\nL 460.968068 462.725241 \r\nL 461.32407 461.059286 \r\nL 461.41307 459.763544 \r\nL 461.502071 460.827904 \r\nL 461.680071 460.411415 \r\nL 461.858072 460.87418 \r\nL 461.947073 460.596521 \r\nL 462.125074 460.827904 \r\nL 462.214074 460.365139 \r\nL 462.303075 460.689074 \r\nL 462.570076 459.94865 \r\nL 462.659077 460.041203 \r\nL 462.837078 458.699184 \r\nL 463.104079 456.663017 \r\nL 463.19308 456.385358 \r\nL 463.460081 458.699184 \r\nL 463.638082 459.994926 \r\nL 463.905083 459.208226 \r\nL 463.994084 459.485885 \r\nL 464.083084 458.791737 \r\nL 464.172085 459.208226 \r\nL 464.261085 458.652907 \r\nL 464.439086 459.485885 \r\nL 464.795088 457.310888 \r\nL 465.062089 459.994926 \r\nL 465.15109 459.254502 \r\nL 465.24009 459.532161 \r\nL 465.418091 461.198116 \r\nL 465.685093 458.560354 \r\nL 465.774093 458.143866 \r\nL 465.863094 457.079506 \r\nL 465.952094 457.403441 \r\nL 466.041095 458.190142 \r\nL 466.130095 457.264612 \r\nL 466.308096 457.634824 \r\nL 466.397097 458.930566 \r\nL 466.486097 458.606631 \r\nL 466.664098 459.393332 \r\nL 467.0201 456.848123 \r\nL 467.1091 457.218335 \r\nL 467.198101 457.079506 \r\nL 467.287101 457.81993 \r\nL 467.465102 456.200252 \r\nL 467.554103 456.940676 \r\nL 467.643103 456.848123 \r\nL 467.732104 457.403441 \r\nL 467.910105 456.61674 \r\nL 467.999105 456.801847 \r\nL 468.088106 457.542271 \r\nL 468.266106 456.8944 \r\nL 468.355107 454.395468 \r\nL 468.444107 455.737487 \r\nL 468.533108 454.76568 \r\nL 468.800109 455.737487 \r\nL 468.88911 455.69121 \r\nL 468.97811 455.135892 \r\nL 469.156111 456.940676 \r\nL 469.245112 456.61674 \r\nL 469.423113 455.228445 \r\nL 469.512113 455.552381 \r\nL 469.690114 452.220471 \r\nL 469.868115 453.099725 \r\nL 470.046116 453.007172 \r\nL 470.135116 453.516214 \r\nL 470.224117 455.135892 \r\nL 470.313117 453.516214 \r\nL 470.669119 455.228445 \r\nL 470.75812 454.164085 \r\nL 471.025121 457.727377 \r\nL 471.114122 456.986953 \r\nL 471.203122 457.310888 \r\nL 471.381123 454.950786 \r\nL 471.559124 456.200252 \r\nL 471.648124 455.968869 \r\nL 471.737125 454.719403 \r\nL 471.826125 455.83004 \r\nL 471.915126 454.950786 \r\nL 472.62713 458.328972 \r\nL 472.71613 459.300779 \r\nL 472.894131 458.005036 \r\nL 472.983131 459.02312 \r\nL 473.072132 458.282695 \r\nL 473.517134 461.429499 \r\nL 473.606135 461.151839 \r\nL 473.695135 461.198116 \r\nL 473.784136 461.336946 \r\nL 473.873136 461.151839 \r\nL 473.962137 461.707158 \r\nL 474.140138 460.365139 \r\nL 474.229138 460.550245 \r\nL 474.318139 460.318862 \r\nL 474.407139 459.717267 \r\nL 474.49614 459.994926 \r\nL 474.58514 459.856097 \r\nL 474.67414 460.596521 \r\nL 474.763141 460.041203 \r\nL 474.852141 460.689074 \r\nL 474.941142 460.411415 \r\nL 475.030142 460.596521 \r\nL 475.297144 457.403441 \r\nL 475.386144 458.005036 \r\nL 475.475145 458.652907 \r\nL 475.564145 457.866207 \r\nL 475.653146 458.652907 \r\nL 475.742146 457.773653 \r\nL 475.831147 458.791737 \r\nL 476.009148 458.143866 \r\nL 476.098148 458.699184 \r\nL 476.187149 458.606631 \r\nL 476.365149 456.940676 \r\nL 476.45415 456.986953 \r\nL 476.54315 456.385358 \r\nL 476.632151 457.125782 \r\nL 476.810152 456.570464 \r\nL 476.899152 456.8944 \r\nL 476.988153 458.328972 \r\nL 477.077153 457.588547 \r\nL 477.166154 458.051313 \r\nL 477.255154 459.624714 \r\nL 477.522156 458.560354 \r\nL 477.611156 459.717267 \r\nL 477.700157 458.930566 \r\nL 477.878157 460.041203 \r\nL 477.967158 459.80982 \r\nL 478.056158 460.041203 \r\nL 478.145159 459.856097 \r\nL 478.234159 460.226309 \r\nL 478.41216 459.94865 \r\nL 478.501161 459.902373 \r\nL 478.679162 460.226309 \r\nL 478.857163 458.74546 \r\nL 478.946163 459.208226 \r\nL 479.124164 458.652907 \r\nL 479.391166 457.033229 \r\nL 479.836168 454.950786 \r\nL 479.925168 455.274721 \r\nL 480.014169 456.524187 \r\nL 480.103169 455.413551 \r\nL 480.28117 456.524187 \r\nL 480.370171 456.75557 \r\nL 480.459171 456.663017 \r\nL 480.637172 457.542271 \r\nL 480.726173 455.83004 \r\nL 480.815173 456.061422 \r\nL 480.904174 455.69121 \r\nL 481.082175 458.514078 \r\nL 481.171175 458.097589 \r\nL 481.349176 459.532161 \r\nL 481.438176 458.097589 \r\nL 481.616177 467.306617 \r\nL 481.705178 467.954488 \r\nL 481.794178 467.537999 \r\nL 481.972179 468.000764 \r\nL 482.15018 468.370977 \r\nL 482.239181 468.787465 \r\nL 482.328181 468.648636 \r\nL 482.417182 468.000764 \r\nL 482.506182 468.185871 \r\nL 482.773183 469.018848 \r\nL 482.951184 468.556083 \r\nL 483.129185 469.157677 \r\nL 483.307186 469.111401 \r\nL 483.752189 467.954488 \r\nL 484.01919 468.648636 \r\nL 484.108191 468.602359 \r\nL 484.197191 468.972571 \r\nL 484.286192 468.880018 \r\nL 484.375192 468.602359 \r\nL 484.464192 468.694912 \r\nL 484.642193 469.157677 \r\nL 484.820194 469.065124 \r\nL 484.909195 469.157677 \r\nL 484.998195 468.880018 \r\nL 485.354197 469.759272 \r\nL 485.443198 469.620443 \r\nL 485.532198 469.712996 \r\nL 485.621199 469.620443 \r\nL 485.7992 470.45342 \r\nL 485.9772 470.175761 \r\nL 486.066201 470.129484 \r\nL 486.422203 470.499697 \r\nL 486.511203 470.545973 \r\nL 486.600204 470.45342 \r\nL 486.689204 470.545973 \r\nL 486.778205 470.268314 \r\nL 486.956206 470.31459 \r\nL 487.223207 470.268314 \r\nL 487.401208 469.620443 \r\nL 487.490209 469.805549 \r\nL 487.579209 469.759272 \r\nL 487.668209 469.574166 \r\nL 487.75721 469.759272 \r\nL 487.84621 469.296507 \r\nL 488.024211 469.574166 \r\nL 488.113212 469.666719 \r\nL 488.291213 468.833742 \r\nL 488.380213 468.926295 \r\nL 488.558214 468.509806 \r\nL 488.736215 468.787465 \r\nL 488.914216 468.139594 \r\nL 489.003217 468.139594 \r\nL 489.270218 468.602359 \r\nL 489.359218 468.3247 \r\nL 489.537219 468.417253 \r\nL 489.62622 468.926295 \r\nL 489.71522 468.787465 \r\nL 489.804221 468.926295 \r\nL 489.982222 468.648636 \r\nL 490.160223 469.203954 \r\nL 490.249223 469.018848 \r\nL 490.338224 469.065124 \r\nL 490.427224 469.065124 \r\nL 490.516225 468.833742 \r\nL 490.605225 468.880018 \r\nL 490.694226 469.203954 \r\nL 490.872226 468.926295 \r\nL 491.050227 468.185871 \r\nL 491.139228 468.278424 \r\nL 491.317229 468.602359 \r\nL 491.406229 469.111401 \r\nL 491.58423 468.509806 \r\nL 491.762231 468.787465 \r\nL 491.851232 468.509806 \r\nL 491.940232 468.787465 \r\nL 492.029233 468.648636 \r\nL 492.207234 467.723105 \r\nL 492.296234 468.093318 \r\nL 492.385235 467.769382 \r\nL 492.474235 468.000764 \r\nL 492.563235 467.861935 \r\nL 492.741236 468.185871 \r\nL 492.919237 468.833742 \r\nL 493.008238 468.417253 \r\nL 493.097238 468.46353 \r\nL 493.186239 468.509806 \r\nL 493.275239 468.047041 \r\nL 493.36424 468.093318 \r\nL 493.45324 467.908211 \r\nL 493.631241 468.556083 \r\nL 493.809242 466.843851 \r\nL 493.898243 467.075234 \r\nL 494.076244 467.39917 \r\nL 494.343245 466.705022 \r\nL 494.432245 466.936404 \r\nL 494.610246 466.566192 \r\nL 494.699247 467.121511 \r\nL 494.788247 466.843851 \r\nL 495.144249 467.723105 \r\nL 495.23325 467.769382 \r\nL 495.500251 467.352893 \r\nL 495.678252 467.537999 \r\nL 495.945253 467.630552 \r\nL 496.123254 467.815658 \r\nL 496.301255 468.741189 \r\nL 496.390256 468.694912 \r\nL 496.479256 468.370977 \r\nL 496.568257 468.46353 \r\nL 496.835258 468.139594 \r\nL 496.924259 468.232147 \r\nL 497.013259 468.648636 \r\nL 497.10226 468.556083 \r\nL 497.19126 468.509806 \r\nL 497.280261 468.694912 \r\nL 497.369261 468.509806 \r\nL 497.458261 468.556083 \r\nL 497.547262 468.602359 \r\nL 497.725263 467.861935 \r\nL 497.814263 467.954488 \r\nL 497.903264 467.39917 \r\nL 497.992264 467.491723 \r\nL 498.081265 467.630552 \r\nL 498.170265 467.537999 \r\nL 498.259266 467.630552 \r\nL 498.437267 467.445446 \r\nL 498.615268 468.047041 \r\nL 498.704268 467.815658 \r\nL 498.793269 468.3247 \r\nL 499.06027 467.121511 \r\nL 499.14927 467.39917 \r\nL 499.238271 467.075234 \r\nL 499.416272 468.694912 \r\nL 499.505272 468.694912 \r\nL 499.861274 469.111401 \r\nL 500.039275 469.018848 \r\nL 500.128276 469.065124 \r\nL 500.306277 468.741189 \r\nL 500.395277 468.833742 \r\nL 500.662278 469.018848 \r\nL 500.92928 468.972571 \r\nL 501.285282 469.296507 \r\nL 501.374282 469.250231 \r\nL 501.463283 469.342784 \r\nL 501.552283 469.250231 \r\nL 501.641284 469.342784 \r\nL 501.819285 469.018848 \r\nL 502.086286 469.342784 \r\nL 502.175287 469.111401 \r\nL 502.264287 469.203954 \r\nL 502.353287 469.111401 \r\nL 502.531288 469.52789 \r\nL 502.620289 469.481613 \r\nL 502.79829 469.851825 \r\nL 502.88729 469.620443 \r\nL 503.065291 470.036931 \r\nL 503.154292 469.805549 \r\nL 503.332293 470.222037 \r\nL 503.510294 470.083208 \r\nL 503.599294 470.083208 \r\nL 503.777295 470.268314 \r\nL 503.955296 469.898102 \r\nL 504.044296 469.851825 \r\nL 504.133297 469.944378 \r\nL 504.400298 469.296507 \r\nL 504.578299 469.296507 \r\nL 504.6673 469.620443 \r\nL 504.934301 468.972571 \r\nL 505.023302 469.250231 \r\nL 505.201303 468.926295 \r\nL 505.557304 469.435337 \r\nL 505.735305 469.111401 \r\nL 506.002307 468.787465 \r\nL 506.180308 469.065124 \r\nL 506.269308 469.065124 \r\nL 506.447309 468.787465 \r\nL 506.62531 468.972571 \r\nL 506.714311 468.648636 \r\nL 506.803311 468.833742 \r\nL 506.892312 468.787465 \r\nL 506.981312 468.741189 \r\nL 507.070313 468.232147 \r\nL 507.337314 468.556083 \r\nL 507.693316 467.491723 \r\nL 507.871317 467.861935 \r\nL 507.960317 467.861935 \r\nL 508.316319 468.556083 \r\nL 508.583321 468.139594 \r\nL 508.672321 468.46353 \r\nL 508.761321 468.370977 \r\nL 509.117323 467.908211 \r\nL 509.206324 468.047041 \r\nL 509.384325 467.537999 \r\nL 509.473325 467.491723 \r\nL 509.829327 468.278424 \r\nL 510.007328 468.3247 \r\nL 510.096329 468.139594 \r\nL 510.185329 468.417253 \r\nL 510.27433 467.908211 \r\nL 510.36333 468.000764 \r\nL 510.45233 468.093318 \r\nL 510.630331 467.676829 \r\nL 510.808332 467.630552 \r\nL 510.897333 467.676829 \r\nL 511.075334 467.167787 \r\nL 511.164334 467.26034 \r\nL 511.342335 466.936404 \r\nL 511.520336 467.306617 \r\nL 511.609337 467.39917 \r\nL 511.698337 467.075234 \r\nL 511.787338 467.167787 \r\nL 511.876338 467.075234 \r\nL 512.054339 467.445446 \r\nL 512.143339 467.861935 \r\nL 512.23234 467.676829 \r\nL 512.32134 468.185871 \r\nL 512.499341 467.445446 \r\nL 512.588342 467.491723 \r\nL 512.766343 468.139594 \r\nL 512.944344 467.306617 \r\nL 513.033344 467.537999 \r\nL 513.389346 467.075234 \r\nL 513.656347 467.26034 \r\nL 513.834348 467.167787 \r\nL 514.012349 467.121511 \r\nL 514.279351 467.630552 \r\nL 514.546352 467.491723 \r\nL 514.635353 467.26034 \r\nL 514.813354 467.491723 \r\nL 514.902354 467.121511 \r\nL 514.991355 467.167787 \r\nL 515.258356 467.214064 \r\nL 515.703358 466.751298 \r\nL 515.97036 467.26034 \r\nL 516.05936 467.306617 \r\nL 516.148361 467.491723 \r\nL 516.237361 467.352893 \r\nL 516.326362 467.723105 \r\nL 516.504363 467.306617 \r\nL 516.949365 467.908211 \r\nL 517.038365 467.306617 \r\nL 517.127366 467.352893 \r\nL 517.216366 467.630552 \r\nL 517.305367 467.445446 \r\nL 517.394367 466.890128 \r\nL 517.483368 466.982681 \r\nL 517.750369 467.167787 \r\nL 517.83937 467.584276 \r\nL 518.017371 467.028958 \r\nL 518.195372 467.39917 \r\nL 518.373373 467.352893 \r\nL 518.551373 467.769382 \r\nL 518.729374 467.815658 \r\nL 519.263377 468.833742 \r\nL 519.441378 468.509806 \r\nL 519.530379 468.602359 \r\nL 519.70838 469.574166 \r\nL 519.79738 469.666719 \r\nL 519.975381 469.574166 \r\nL 520.064381 469.759272 \r\nL 520.242382 469.38906 \r\nL 520.420383 469.620443 \r\nL 520.598384 469.065124 \r\nL 520.687385 469.296507 \r\nL 520.865386 469.52789 \r\nL 520.954386 469.203954 \r\nL 521.043387 469.435337 \r\nL 521.132387 469.250231 \r\nL 521.221388 469.342784 \r\nL 521.399389 470.268314 \r\nL 521.57739 470.268314 \r\nL 521.66639 470.407144 \r\nL 521.75539 470.175761 \r\nL 521.933391 470.45342 \r\nL 522.111392 470.129484 \r\nL 522.289393 470.31459 \r\nL 522.467394 470.545973 \r\nL 522.645395 470.222037 \r\nL 522.734396 470.175761 \r\nL 523.001397 470.360867 \r\nL 523.268399 469.990655 \r\nL 523.5354 469.898102 \r\nL 523.802401 470.083208 \r\nL 523.980402 470.360867 \r\nL 524.158403 470.31459 \r\nL 524.247404 470.545973 \r\nL 524.336404 470.407144 \r\nL 524.514405 470.45342 \r\nL 525.048408 470.407144 \r\nL 525.226409 470.222037 \r\nL 525.315409 470.360867 \r\nL 525.49341 470.31459 \r\nL 525.582411 470.360867 \r\nL 525.671411 470.268314 \r\nL 525.938413 470.407144 \r\nL 526.205414 470.45342 \r\nL 526.561416 470.684803 \r\nL 526.917418 470.175761 \r\nL 527.095419 470.545973 \r\nL 527.451421 470.268314 \r\nL 527.540421 470.360867 \r\nL 527.718422 470.036931 \r\nL 527.807423 470.129484 \r\nL 528.074424 469.805549 \r\nL 528.341425 469.52789 \r\nL 528.519426 469.990655 \r\nL 528.608427 470.175761 \r\nL 528.875428 469.851825 \r\nL 529.14243 470.175761 \r\nL 529.23143 470.083208 \r\nL 529.320431 469.805549 \r\nL 529.587432 470.129484 \r\nL 529.765433 470.083208 \r\nL 530.121435 470.360867 \r\nL 530.477437 470.083208 \r\nL 530.744438 470.31459 \r\nL 530.833439 470.222037 \r\nL 531.01144 470.499697 \r\nL 531.634443 470.45342 \r\nL 531.812444 470.268314 \r\nL 531.990445 470.31459 \r\nL 532.168446 470.360867 \r\nL 532.613448 470.360867 \r\nL 532.791449 470.545973 \r\nL 532.88045 470.59225 \r\nL 532.96945 470.499697 \r\nL 533.05845 470.638526 \r\nL 533.325452 470.268314 \r\nL 533.503453 470.45342 \r\nL 533.681454 470.360867 \r\nL 534.037456 470.45342 \r\nL 534.393458 470.360867 \r\nL 534.482458 470.175761 \r\nL 534.660459 470.31459 \r\nL 534.92746 470.222037 \r\nL 535.016461 470.407144 \r\nL 535.194462 470.268314 \r\nL 535.372463 470.407144 \r\nL 535.550464 470.407144 \r\nL 536.084467 470.31459 \r\nL 536.351468 470.268314 \r\nL 536.529469 470.268314 \r\nL 536.618469 470.45342 \r\nL 536.70747 470.407144 \r\nL 536.885471 470.407144 \r\nL 537.775476 470.45342 \r\nL 537.864476 470.823632 \r\nL 537.953476 470.684803 \r\nL 538.220478 470.823632 \r\nL 538.398479 470.731079 \r\nL 538.57648 470.731079 \r\nL 538.66548 470.777356 \r\nL 538.843481 470.545973 \r\nL 539.110483 470.407144 \r\nL 539.377484 469.38906 \r\nL 539.733486 469.111401 \r\nL 540.000487 469.065124 \r\nL 540.178488 469.38906 \r\nL 540.44549 469.203954 \r\nL 540.53449 469.018848 \r\nL 540.712491 469.250231 \r\nL 540.801492 469.296507 \r\nL 540.979493 469.52789 \r\nL 541.157494 469.435337 \r\nL 541.335494 469.666719 \r\nL 541.602496 469.38906 \r\nL 541.691496 469.481613 \r\nL 541.958498 468.926295 \r\nL 542.225499 468.972571 \r\nL 542.3145 469.065124 \r\nL 542.492501 468.880018 \r\nL 542.581501 469.065124 \r\nL 542.848502 468.880018 \r\nL 542.937503 468.926295 \r\nL 543.115504 468.556083 \r\nL 543.293505 468.787465 \r\nL 543.471506 468.694912 \r\nL 543.560506 468.787465 \r\nL 543.649507 468.694912 \r\nL 543.738507 468.370977 \r\nL 543.827508 468.417253 \r\nL 544.005509 468.417253 \r\nL 544.18351 468.509806 \r\nL 544.27251 468.185871 \r\nL 544.539511 468.602359 \r\nL 544.628512 468.3247 \r\nL 544.717512 468.417253 \r\nL 544.806513 468.278424 \r\nL 544.984514 468.787465 \r\nL 545.073514 468.694912 \r\nL 545.251515 468.787465 \r\nL 545.340516 468.787465 \r\nL 545.429516 468.602359 \r\nL 545.607517 468.741189 \r\nL 545.963519 468.139594 \r\nL 546.14152 468.417253 \r\nL 546.408521 468.000764 \r\nL 546.675523 467.723105 \r\nL 547.120525 468.000764 \r\nL 547.298526 467.676829 \r\nL 547.387527 467.954488 \r\nL 547.476527 467.908211 \r\nL 547.565528 468.000764 \r\nL 547.654528 467.769382 \r\nL 548.01053 468.232147 \r\nL 548.09953 468.556083 \r\nL 548.188531 468.46353 \r\nL 548.277531 468.278424 \r\nL 548.366532 468.46353 \r\nL 548.455532 468.417253 \r\nL 548.544533 468.509806 \r\nL 548.811534 467.630552 \r\nL 548.900535 467.723105 \r\nL 549.345537 467.167787 \r\nL 549.523538 467.815658 \r\nL 549.612538 467.630552 \r\nL 549.701539 467.676829 \r\nL 549.790539 467.815658 \r\nL 549.87954 467.723105 \r\nL 550.057541 467.861935 \r\nL 550.235542 467.491723 \r\nL 550.413543 467.769382 \r\nL 550.502543 467.676829 \r\nL 550.680544 467.723105 \r\nL 550.769545 467.676829 \r\nL 551.036546 468.185871 \r\nL 551.214547 467.908211 \r\nL 551.481548 468.556083 \r\nL 551.74855 468.602359 \r\nL 551.83755 468.3247 \r\nL 552.015551 468.46353 \r\nL 552.282553 468.185871 \r\nL 552.549554 468.417253 \r\nL 552.638554 468.3247 \r\nL 552.816555 468.556083 \r\nL 552.905556 468.278424 \r\nL 553.439559 468.787465 \r\nL 554.062562 468.232147 \r\nL 554.151563 468.278424 \r\nL 554.329563 468.000764 \r\nL 554.863566 467.352893 \r\nL 555.041567 467.815658 \r\nL 555.219568 467.861935 \r\nL 555.308569 468.000764 \r\nL 555.57557 467.676829 \r\nL 555.664571 467.861935 \r\nL 555.753571 467.815658 \r\nL 556.109573 468.093318 \r\nL 556.287574 467.815658 \r\nL 556.465575 467.723105 \r\nL 556.643576 467.491723 \r\nL 556.732576 467.723105 \r\nL 556.821577 467.676829 \r\nL 556.910577 467.630552 \r\nL 557.088578 467.908211 \r\nL 557.177579 468.000764 \r\nL 557.44458 467.723105 \r\nL 557.622581 467.39917 \r\nL 557.800582 467.445446 \r\nL 557.978583 466.519916 \r\nL 558.067583 466.751298 \r\nL 558.245584 466.242257 \r\nL 558.334585 466.427363 \r\nL 558.423585 466.288533 \r\nL 558.601586 466.843851 \r\nL 558.690587 466.705022 \r\nL 558.779587 466.890128 \r\nL 558.957588 466.797575 \r\nL 559.046588 466.982681 \r\nL 559.135589 466.936404 \r\nL 559.40259 466.149704 \r\nL 559.491591 466.149704 \r\nL 559.669592 466.427363 \r\nL 559.847593 466.057151 \r\nL 559.936593 466.19598 \r\nL 560.025594 466.381086 \r\nL 560.203595 466.149704 \r\nL 560.381596 466.566192 \r\nL 560.470596 465.733215 \r\nL 560.559597 465.779491 \r\nL 560.826598 466.242257 \r\nL 561.004599 466.242257 \r\nL 561.2716 466.612469 \r\nL 561.360601 466.519916 \r\nL 561.449601 466.843851 \r\nL 561.538602 466.751298 \r\nL 561.627602 466.751298 \r\nL 561.716603 466.566192 \r\nL 561.805603 466.612469 \r\nL 561.894604 466.566192 \r\nL 561.983604 466.705022 \r\nL 562.161605 466.381086 \r\nL 562.339606 466.427363 \r\nL 562.428606 466.566192 \r\nL 562.517607 466.427363 \r\nL 562.606607 466.612469 \r\nL 562.695608 466.566192 \r\nL 563.05161 465.964598 \r\nL 563.229611 466.103427 \r\nL 563.318611 466.103427 \r\nL 563.407612 465.872045 \r\nL 563.496612 466.010874 \r\nL 563.585613 465.918321 \r\nL 563.763614 465.409279 \r\nL 563.852614 465.455556 \r\nL 563.941614 465.27045 \r\nL 564.030615 465.455556 \r\nL 564.119615 465.27045 \r\nL 564.297616 464.622578 \r\nL 564.386617 464.576302 \r\nL 564.475617 464.761408 \r\nL 564.653618 464.344919 \r\nL 564.742619 464.483749 \r\nL 564.831619 464.344919 \r\nL 565.00962 464.715132 \r\nL 565.187621 464.761408 \r\nL 565.365622 465.224173 \r\nL 565.543623 465.455556 \r\nL 565.632623 465.501832 \r\nL 565.810624 465.779491 \r\nL 565.899625 465.640662 \r\nL 565.988625 464.576302 \r\nL 566.077626 464.807685 \r\nL 566.166626 464.900238 \r\nL 566.255627 464.807685 \r\nL 566.522628 465.27045 \r\nL 566.611629 465.13162 \r\nL 566.700629 464.761408 \r\nL 566.78963 464.807685 \r\nL 566.87863 464.668855 \r\nL 567.323632 465.085344 \r\nL 567.412633 465.594385 \r\nL 567.590634 465.039067 \r\nL 567.679634 465.177897 \r\nL 567.768635 465.409279 \r\nL 567.857635 465.224173 \r\nL 567.946636 465.27045 \r\nL 568.035636 465.224173 \r\nL 568.124637 464.946514 \r\nL 568.302638 465.27045 \r\nL 568.391638 465.177897 \r\nL 568.65864 464.020984 \r\nL 568.74764 464.113537 \r\nL 568.83664 464.20609 \r\nL 568.925641 464.113537 \r\nL 569.014641 463.650772 \r\nL 569.103642 463.743325 \r\nL 569.192642 463.835878 \r\nL 569.370643 463.511942 \r\nL 569.459644 463.697048 \r\nL 569.548644 463.650772 \r\nL 569.815646 463.882154 \r\nL 570.082647 463.095453 \r\nL 570.171648 462.956624 \r\nL 570.260648 463.326836 \r\nL 570.349649 463.234283 \r\nL 570.527649 463.14173 \r\nL 570.794651 462.725241 \r\nL 570.972652 462.725241 \r\nL 571.150653 462.169923 \r\nL 571.417654 462.817794 \r\nL 571.506655 462.910347 \r\nL 571.595655 462.447582 \r\nL 571.773656 460.596521 \r\nL 571.862657 459.902373 \r\nL 571.951657 459.994926 \r\nL 572.040657 459.994926 \r\nL 572.129658 459.856097 \r\nL 572.307659 459.94865 \r\nL 572.396659 459.80982 \r\nL 572.663661 458.421525 \r\nL 572.752661 458.421525 \r\nL 572.930662 457.495994 \r\nL 573.019663 457.773653 \r\nL 573.108663 457.6811 \r\nL 573.286664 457.912483 \r\nL 573.553666 457.449718 \r\nL 573.820667 457.634824 \r\nL 573.998668 457.542271 \r\nL 574.087668 455.598657 \r\nL 574.176669 455.644934 \r\nL 574.44367 453.377384 \r\nL 574.532671 453.793873 \r\nL 574.621671 453.56249 \r\nL 574.799672 455.182168 \r\nL 574.888673 454.210361 \r\nL 574.977673 455.135892 \r\nL 575.066674 454.997062 \r\nL 575.422675 454.349191 \r\nL 575.511676 454.349191 \r\nL 575.600676 453.932702 \r\nL 575.778677 455.182168 \r\nL 575.867678 454.858233 \r\nL 576.045679 454.76568 \r\nL 576.134679 455.043339 \r\nL 576.31268 454.62685 \r\nL 576.401681 454.534297 \r\nL 576.490681 454.62685 \r\nL 576.579682 454.997062 \r\nL 576.846683 454.580574 \r\nL 576.935683 453.099725 \r\nL 577.024684 453.192278 \r\nL 577.113684 454.580574 \r\nL 577.202685 454.302914 \r\nL 577.380686 452.822066 \r\nL 577.469686 452.683236 \r\nL 577.558687 452.914619 \r\nL 577.736688 452.729513 \r\nL 577.825688 452.63696 \r\nL 578.003689 452.174195 \r\nL 578.09269 452.035365 \r\nL 578.359691 450.50824 \r\nL 578.448692 449.814092 \r\nL 578.537692 450.415687 \r\nL 578.804693 449.44388 \r\nL 578.982694 450.230581 \r\nL 579.338696 446.528459 \r\nL 579.605698 448.055584 \r\nL 579.783699 446.898671 \r\nL 579.872699 446.852395 \r\nL 579.9617 446.621012 \r\nL 580.1397 447.130054 \r\nL 580.228701 448.564626 \r\nL 580.317701 447.916755 \r\nL 580.406702 447.963031 \r\nL 580.584703 450.138028 \r\nL 580.940705 449.119944 \r\nL 581.029705 448.981115 \r\nL 581.296707 447.361436 \r\nL 581.474708 448.101861 \r\nL 581.652709 448.101861 \r\nL 581.741709 448.610902 \r\nL 581.830709 447.963031 \r\nL 582.00871 449.166221 \r\nL 582.097711 449.027391 \r\nL 582.453713 447.361436 \r\nL 582.542713 448.518349 \r\nL 582.631714 448.009308 \r\nL 582.809715 451.43377 \r\nL 582.898715 452.63696 \r\nL 582.987716 452.49813 \r\nL 583.076716 451.5726 \r\nL 583.165717 452.544407 \r\nL 583.254717 451.480047 \r\nL 583.343718 452.544407 \r\nL 583.432718 451.618876 \r\nL 583.699719 452.544407 \r\nL 583.87772 451.989088 \r\nL 583.966721 452.127918 \r\nL 584.055721 451.526323 \r\nL 584.144722 451.803982 \r\nL 584.233722 451.480047 \r\nL 584.322723 451.618876 \r\nL 584.500724 452.49813 \r\nL 584.589724 453.423661 \r\nL 584.767725 452.544407 \r\nL 584.856726 452.63696 \r\nL 584.945726 452.359301 \r\nL 585.212727 449.860369 \r\nL 585.390728 449.860369 \r\nL 585.479729 449.258774 \r\nL 585.568729 449.351327 \r\nL 585.65773 449.860369 \r\nL 585.74673 449.536433 \r\nL 585.835731 449.675262 \r\nL 586.102732 451.896535 \r\nL 586.280733 451.202388 \r\nL 586.369734 452.359301 \r\nL 586.458734 452.313024 \r\nL 586.547735 452.220471 \r\nL 586.814736 450.785899 \r\nL 586.903736 451.202388 \r\nL 586.992737 451.063558 \r\nL 587.170738 450.415687 \r\nL 587.348739 451.526323 \r\nL 587.437739 451.43377 \r\nL 587.52674 451.989088 \r\nL 587.61574 451.711429 \r\nL 587.704741 451.942812 \r\nL 587.793741 450.971005 \r\nL 587.882742 451.341217 \r\nL 587.971742 451.202388 \r\nL 588.060743 450.832175 \r\nL 588.149743 450.924728 \r\nL 588.327744 450.739622 \r\nL 588.505745 448.749732 \r\nL 588.594745 448.749732 \r\nL 588.772746 447.407713 \r\nL 588.861747 447.639096 \r\nL 588.950747 447.17633 \r\nL 589.128748 447.407713 \r\nL 589.217749 447.17633 \r\nL 589.306749 447.31516 \r\nL 589.39575 448.055584 \r\nL 589.48475 447.963031 \r\nL 589.662751 447.685372 \r\nL 589.751752 448.009308 \r\nL 589.840752 447.824202 \r\nL 589.929752 448.055584 \r\nL 590.018753 447.31516 \r\nL 590.107753 447.592819 \r\nL 590.196754 447.17633 \r\nL 590.374755 444.862504 \r\nL 590.463755 445.741758 \r\nL 590.552756 445.18644 \r\nL 590.730757 446.019417 \r\nL 590.997758 446.065694 \r\nL 591.086759 445.880588 \r\nL 591.175759 446.065694 \r\nL 591.26476 446.019417 \r\nL 591.442761 445.371546 \r\nL 591.620761 445.788035 \r\nL 591.709762 444.168357 \r\nL 591.798762 444.214633 \r\nL 592.065764 442.502402 \r\nL 592.243765 443.659315 \r\nL 592.332765 443.474209 \r\nL 592.599767 441.391765 \r\nL 592.777768 442.178466 \r\nL 592.955769 440.975277 \r\nL 593.044769 441.206659 \r\nL 593.133769 442.733784 \r\nL 593.400771 440.605064 \r\nL 593.845773 443.150273 \r\nL 593.934774 442.409849 \r\nL 594.023774 443.890697 \r\nL 594.201775 440.882724 \r\nL 594.290776 441.206659 \r\nL 594.379776 441.99336 \r\nL 594.557777 439.494428 \r\nL 594.646778 439.818364 \r\nL 594.735778 439.124216 \r\nL 594.824778 439.540704 \r\nL 594.913779 438.93911 \r\nL 595.09178 440.558788 \r\nL 595.358781 437.088049 \r\nL 595.447782 435.884859 \r\nL 595.714783 437.134325 \r\nL 595.803784 436.995496 \r\nL 595.981785 436.116242 \r\nL 596.070785 436.162519 \r\nL 596.159786 435.653477 \r\nL 596.248786 433.941246 \r\nL 596.337787 434.218905 \r\nL 596.426787 434.172628 \r\nL 596.515787 433.941246 \r\nL 596.871789 430.979548 \r\nL 597.04979 432.136461 \r\nL 597.227791 429.082211 \r\nL 597.316792 429.591253 \r\nL 597.405792 428.202957 \r\nL 597.494793 428.249234 \r\nL 597.672794 428.017851 \r\nL 597.850795 427.601362 \r\nL 597.939795 429.4987 \r\nL 598.028795 429.35987 \r\nL 598.117796 430.054018 \r\nL 598.206796 429.868912 \r\nL 598.473798 428.202957 \r\nL 598.562798 428.619446 \r\nL 598.651799 428.064127 \r\nL 598.740799 428.480616 \r\nL 598.8298 429.822635 \r\nL 598.9188 429.544976 \r\nL 599.096801 427.601362 \r\nL 599.185802 427.971574 \r\nL 599.719804 420.891267 \r\nL 599.808805 421.446585 \r\nL 600.253807 426.953491 \r\nL 600.520809 429.452423 \r\nL 600.69881 427.277427 \r\nL 600.78781 427.323703 \r\nL 601.054812 432.460397 \r\nL 601.143812 432.275291 \r\nL 601.232813 431.48859 \r\nL 601.321813 433.941246 \r\nL 601.410813 432.460397 \r\nL 601.499814 434.080075 \r\nL 601.766815 430.377953 \r\nL 601.855816 430.56306 \r\nL 601.944816 431.34976 \r\nL 602.122817 429.637529 \r\nL 602.300818 430.146571 \r\nL 602.389819 431.719973 \r\nL 602.56782 431.025825 \r\nL 602.745821 433.61731 \r\nL 602.834821 433.108268 \r\nL 602.923821 433.47848 \r\nL 603.101822 435.051882 \r\nL 603.279823 432.460397 \r\nL 603.902827 436.995496 \r\nL 603.991827 437.088049 \r\nL 604.169828 437.87475 \r\nL 604.347829 435.329541 \r\nL 604.52583 435.422094 \r\nL 604.61483 436.347625 \r\nL 604.792831 429.961465 \r\nL 605.148833 432.830609 \r\nL 605.237834 432.969439 \r\nL 605.326834 434.033799 \r\nL 605.415835 433.154545 \r\nL 605.504835 433.524757 \r\nL 605.593836 432.275291 \r\nL 605.771837 433.432204 \r\nL 605.860837 433.154545 \r\nL 606.127838 430.516783 \r\nL 606.216839 431.025825 \r\nL 606.305839 429.730082 \r\nL 606.39484 430.054018 \r\nL 606.48384 430.054018 \r\nL 606.661841 429.544976 \r\nL 607.017843 432.229014 \r\nL 607.106844 432.136461 \r\nL 607.195844 433.941246 \r\nL 607.284845 433.756139 \r\nL 607.373845 435.051882 \r\nL 607.462846 434.218905 \r\nL 607.640847 435.098159 \r\nL 607.729847 434.959329 \r\nL 607.818847 434.357734 \r\nL 607.907848 434.820499 \r\nL 608.085849 437.226878 \r\nL 608.174849 435.699753 \r\nL 608.26385 436.023689 \r\nL 608.530851 437.967303 \r\nL 608.619852 436.579007 \r\nL 608.797853 438.985386 \r\nL 608.886853 438.152409 \r\nL 608.975854 438.568898 \r\nL 609.064854 437.458261 \r\nL 609.242855 438.846557 \r\nL 609.420856 438.430068 \r\nL 609.509856 437.319432 \r\nL 609.865858 439.586981 \r\nL 609.954859 437.73592 \r\nL 610.043859 438.80028 \r\nL 610.13286 438.383791 \r\nL 610.488862 440.234852 \r\nL 610.577862 439.818364 \r\nL 610.844864 442.965167 \r\nL 611.111865 440.790171 \r\nL 611.289866 436.625284 \r\nL 611.467867 435.838583 \r\nL 611.823869 432.043908 \r\nL 611.912869 432.55295 \r\nL 612.09087 431.025825 \r\nL 612.446872 434.820499 \r\nL 612.624873 434.774223 \r\nL 612.713873 434.589117 \r\nL 612.891874 432.043908 \r\nL 612.980875 432.275291 \r\nL 613.069875 432.090185 \r\nL 613.158876 432.923162 \r\nL 613.247876 432.275291 \r\nL 613.336877 432.460397 \r\nL 613.514878 431.534866 \r\nL 613.692879 432.969439 \r\nL 613.87088 432.136461 \r\nL 613.95988 431.766249 \r\nL 614.048881 429.822635 \r\nL 614.137881 430.748166 \r\nL 614.226881 428.989658 \r\nL 614.315882 429.174764 \r\nL 614.493883 429.082211 \r\nL 614.671884 428.110404 \r\nL 614.849885 428.29551 \r\nL 614.938885 428.388063 \r\nL 615.027886 427.416256 \r\nL 615.116886 427.832745 \r\nL 615.205887 428.850828 \r\nL 615.383888 425.935408 \r\nL 615.472888 426.722108 \r\nL 615.561889 426.30562 \r\nL 615.650889 426.351896 \r\nL 615.82889 428.156681 \r\nL 615.91789 427.36998 \r\nL 616.095891 428.110404 \r\nL 616.184892 427.832745 \r\nL 616.362893 428.711999 \r\nL 616.451893 427.416256 \r\nL 616.540894 427.601362 \r\nL 616.629894 427.323703 \r\nL 616.718895 428.064127 \r\nL 616.807895 427.879021 \r\nL 616.985896 424.454559 \r\nL 617.074897 423.529028 \r\nL 617.163897 423.760411 \r\nL 617.341898 423.066263 \r\nL 617.519899 424.1769 \r\nL 617.608899 423.760411 \r\nL 617.7869 425.10243 \r\nL 617.875901 425.518919 \r\nL 618.231903 422.325839 \r\nL 618.320903 422.464669 \r\nL 618.498904 421.261479 \r\nL 618.587905 421.863074 \r\nL 618.765906 420.752437 \r\nL 618.854906 420.335949 \r\nL 619.121907 417.096592 \r\nL 619.210908 418.392335 \r\nL 619.299908 416.957763 \r\nL 619.388909 417.004039 \r\nL 619.477909 417.050316 \r\nL 619.65591 417.420528 \r\nL 619.744911 417.327975 \r\nL 619.922912 420.012013 \r\nL 620.011912 419.225312 \r\nL 620.100913 418.901376 \r\nL 620.189913 420.567331 \r\nL 620.278914 418.71627 \r\nL 620.367914 419.040206 \r\nL 620.456915 419.549248 \r\nL 620.545915 420.98382 \r\nL 620.634916 420.428502 \r\nL 620.990917 423.482752 \r\nL 621.079918 423.482752 \r\nL 621.168918 423.899241 \r\nL 621.257919 421.400309 \r\nL 621.346919 422.04818 \r\nL 621.43592 420.84499 \r\nL 621.52492 421.261479 \r\nL 621.613921 420.98382 \r\nL 621.791922 413.718406 \r\nL 621.969923 415.199255 \r\nL 622.058923 413.625853 \r\nL 622.147924 415.014149 \r\nL 622.325925 419.086483 \r\nL 622.503925 420.84499 \r\nL 622.592926 420.197119 \r\nL 622.770927 421.030096 \r\nL 622.859927 420.706161 \r\nL 622.948928 420.937543 \r\nL 623.037928 420.798714 \r\nL 623.30493 421.955627 \r\nL 623.39393 421.816797 \r\nL 623.571931 420.521055 \r\nL 623.660932 422.372115 \r\nL 623.749932 421.354032 \r\nL 623.838933 421.446585 \r\nL 623.927933 421.076373 \r\nL 624.016933 421.122649 \r\nL 624.105934 421.400309 \r\nL 624.194934 420.706161 \r\nL 624.372935 418.438611 \r\nL 624.550936 419.040206 \r\nL 624.639937 421.955627 \r\nL 624.728937 421.539138 \r\nL 624.817938 419.965736 \r\nL 624.906938 421.030096 \r\nL 625.084939 419.271589 \r\nL 625.26294 419.364142 \r\nL 625.351941 419.410418 \r\nL 625.440941 418.207229 \r\nL 625.529942 419.132759 \r\nL 625.618942 418.114676 \r\nL 625.796943 418.392335 \r\nL 626.152945 415.615744 \r\nL 626.241945 415.893403 \r\nL 626.330946 414.412554 \r\nL 626.419946 414.690213 \r\nL 626.508947 416.078509 \r\nL 626.597947 415.754573 \r\nL 626.686948 416.263615 \r\nL 626.864949 415.291808 \r\nL 626.953949 415.430637 \r\nL 627.04295 415.152978 \r\nL 627.13195 415.80085 \r\nL 627.22095 415.430637 \r\nL 627.487952 417.975846 \r\nL 627.576952 417.235422 \r\nL 627.754953 417.883293 \r\nL 627.843954 417.92957 \r\nL 627.932954 417.513081 \r\nL 628.021955 415.893403 \r\nL 628.110955 416.078509 \r\nL 628.377957 411.867345 \r\nL 628.466957 411.913622 \r\nL 628.555958 412.145004 \r\nL 628.733959 411.54341 \r\nL 628.822959 411.265751 \r\nL 629.08996 407.471076 \r\nL 629.178961 407.14714 \r\nL 629.356962 405.897674 \r\nL 629.534963 407.14714 \r\nL 629.890965 403.259913 \r\nL 629.979965 403.676401 \r\nL 630.068966 405.064697 \r\nL 630.424968 398.400878 \r\nL 630.513968 400.159386 \r\nL 630.780969 396.873753 \r\nL 630.95897 396.318435 \r\nL 631.047971 399.048749 \r\nL 631.136971 398.90992 \r\nL 631.225972 400.760981 \r\nL 631.403973 398.863643 \r\nL 631.492973 395.948222 \r\nL 631.670974 398.169495 \r\nL 631.759975 396.688647 \r\nL 631.937976 397.70673 \r\nL 632.026976 399.372685 \r\nL 632.115976 397.984389 \r\nL 632.204977 398.817367 \r\nL 632.293977 397.891836 \r\nL 632.382978 398.354601 \r\nL 632.560979 391.089188 \r\nL 632.649979 391.413123 \r\nL 632.73898 392.616313 \r\nL 633.183982 387.711002 \r\nL 633.272983 387.20196 \r\nL 633.361983 387.711002 \r\nL 633.539984 384.14771 \r\nL 633.628985 384.193986 \r\nL 633.717985 389.747169 \r\nL 633.806985 388.26632 \r\nL 633.895986 382.713138 \r\nL 634.073987 385.628558 \r\nL 634.162987 391.737059 \r\nL 634.340988 388.729085 \r\nL 634.429989 391.690783 \r\nL 634.518989 389.515786 \r\nL 634.60799 389.654616 \r\nL 634.69699 390.302487 \r\nL 634.874991 395.994499 \r\nL 634.963992 394.235991 \r\nL 635.230993 401.03864 \r\nL 635.586995 391.274294 \r\nL 635.675995 392.153548 \r\nL 635.764996 389.515786 \r\nL 635.942997 394.837586 \r\nL 636.120998 388.914191 \r\nL 636.209998 387.479619 \r\nL 636.298999 383.916327 \r\nL 636.477 389.700892 \r\nL 636.566 391.737059 \r\nL 636.655001 388.590256 \r\nL 636.744001 389.376957 \r\nL 637.011002 387.294513 \r\nL 637.100003 387.525896 \r\nL 637.189003 385.952494 \r\nL 637.278004 386.045047 \r\nL 637.367004 386.322706 \r\nL 637.634006 378.178039 \r\nL 637.723006 378.455698 \r\nL 637.812007 377.345061 \r\nL 637.901007 377.992933 \r\nL 638.079008 374.846129 \r\nL 638.168009 375.216341 \r\nL 638.257009 376.280701 \r\nL 638.43501 368.876458 \r\nL 638.524011 368.922735 \r\nL 638.613011 369.616882 \r\nL 638.702011 372.486027 \r\nL 638.791012 369.292947 \r\nL 638.880012 369.478053 \r\nL 639.147014 365.359442 \r\nL 639.236014 367.303056 \r\nL 639.325015 364.804124 \r\nL 639.414015 357.353604 \r\nL 639.503016 357.492434 \r\nL 639.592016 359.482324 \r\nL 639.948018 354.947225 \r\nL 640.037019 356.566904 \r\nL 640.126019 356.289245 \r\nL 640.215019 357.353604 \r\nL 640.30402 353.790312 \r\nL 640.482021 364.109976 \r\nL 640.660022 377.807826 \r\nL 640.749022 367.580715 \r\nL 640.838023 370.033371 \r\nL 640.927023 371.190284 \r\nL 641.016024 369.848265 \r\nL 641.105024 371.37539 \r\nL 641.194025 368.274863 \r\nL 641.283025 368.552522 \r\nL 641.728028 358.556794 \r\nL 641.906028 361.981257 \r\nL 641.995029 361.379662 \r\nL 642.26203 352.216911 \r\nL 642.351031 352.263187 \r\nL 642.440031 355.872756 \r\nL 642.618032 353.790312 \r\nL 642.707033 354.669566 \r\nL 642.885034 359.343495 \r\nL 642.974034 359.297218 \r\nL 643.330036 349.255213 \r\nL 643.419037 349.532873 \r\nL 643.508037 348.699895 \r\nL 643.686038 351.892975 \r\nL 643.775038 351.800422 \r\nL 643.953039 362.721681 \r\nL 644.04204 366.794015 \r\nL 644.13104 361.611044 \r\nL 644.220041 362.490298 \r\nL 644.309041 365.868484 \r\nL 644.398042 362.027533 \r\nL 644.576043 374.105705 \r\nL 644.665043 373.319004 \r\nL 644.754044 373.041345 \r\nL 644.843044 376.650913 \r\nL 645.021045 389.284403 \r\nL 645.199046 392.847696 \r\nL 645.466047 389.46951 \r\nL 645.733049 393.264184 \r\nL 645.91105 398.400878 \r\nL 646.089051 393.171631 \r\nL 646.178051 396.087052 \r\nL 646.267052 393.217908 \r\nL 646.801054 399.511514 \r\nL 646.890055 399.326408 \r\nL 646.979055 399.696621 \r\nL 647.157056 392.893972 \r\nL 647.335057 398.076942 \r\nL 647.424058 396.225882 \r\nL 647.513058 396.318435 \r\nL 647.602059 398.585984 \r\nL 647.691059 397.753007 \r\nL 647.78006 399.372685 \r\nL 647.86906 394.51365 \r\nL 647.958061 395.346628 \r\nL 648.047061 394.143438 \r\nL 648.136062 394.976415 \r\nL 648.225062 394.930139 \r\nL 648.314063 391.042911 \r\nL 648.403063 393.032802 \r\nL 648.759065 383.314732 \r\nL 648.848065 386.368983 \r\nL 649.115067 380.491865 \r\nL 649.204067 381.787607 \r\nL 649.471069 376.465807 \r\nL 649.64907 379.288675 \r\nL 649.73807 377.345061 \r\nL 649.827071 382.01899 \r\nL 649.916071 381.602501 \r\nL 650.005071 381.232289 \r\nL 650.361073 368.737628 \r\nL 650.450074 373.781769 \r\nL 651.340079 357.029669 \r\nL 651.429079 359.621154 \r\nL 651.51808 358.047752 \r\nL 651.60708 359.065836 \r\nL 651.785081 354.947225 \r\nL 651.874081 357.307328 \r\nL 651.963082 355.086055 \r\nL 652.141083 358.973283 \r\nL 652.230083 357.538711 \r\nL 652.408084 363.091893 \r\nL 652.675086 356.798286 \r\nL 652.764086 357.029669 \r\nL 652.853087 355.733926 \r\nL 653.031088 357.862646 \r\nL 653.120088 357.955199 \r\nL 653.209088 355.271161 \r\nL 653.387089 360.222749 \r\nL 653.47609 357.67754 \r\nL 653.743091 366.05359 \r\nL 653.921092 360.361578 \r\nL 654.010093 362.027533 \r\nL 654.099093 360.685514 \r\nL 654.277094 365.590825 \r\nL 654.366095 365.498272 \r\nL 654.455095 362.906787 \r\nL 654.544096 368.645075 \r\nL 654.633096 367.534439 \r\nL 654.722097 369.200394 \r\nL 654.811097 364.619018 \r\nL 654.900097 368.737628 \r\nL 654.989098 367.488162 \r\nL 655.167099 361.518491 \r\nL 655.256099 364.896677 \r\nL 655.3451 363.369552 \r\nL 655.4341 365.961037 \r\nL 655.523101 365.12806 \r\nL 655.612101 367.812098 \r\nL 655.701102 365.775931 \r\nL 655.790102 366.423802 \r\nL 655.879103 370.634966 \r\nL 655.968103 369.894541 \r\nL 656.057104 372.624856 \r\nL 656.146104 369.940818 \r\nL 656.235105 374.522194 \r\nL 656.324105 372.532303 \r\nL 656.413106 377.437614 \r\nL 656.591106 373.966875 \r\nL 656.680107 374.56847 \r\nL 656.858108 378.178039 \r\nL 657.036109 371.236561 \r\nL 657.125109 371.653049 \r\nL 657.392111 363.323276 \r\nL 657.570112 361.657321 \r\nL 657.748113 364.156253 \r\nL 657.837113 365.359442 \r\nL 657.926114 363.878594 \r\nL 658.015114 364.850401 \r\nL 658.104114 363.276999 \r\nL 658.193115 365.961037 \r\nL 658.371116 364.619018 \r\nL 658.460116 365.220613 \r\nL 658.638117 369.987095 \r\nL 658.727118 369.478053 \r\nL 658.905119 373.781769 \r\nL 658.994119 375.216341 \r\nL 659.17212 379.196122 \r\nL 659.261121 378.548251 \r\nL 659.350121 380.862077 \r\nL 659.617123 394.235991 \r\nL 659.795123 385.952494 \r\nL 659.973124 394.837586 \r\nL 660.151125 391.644506 \r\nL 660.240126 393.958332 \r\nL 660.329126 408.489159 \r\nL 660.418127 403.16736 \r\nL 660.863129 418.669994 \r\nL 660.95213 418.253505 \r\nL 661.04113 418.901376 \r\nL 661.219131 405.296079 \r\nL 661.308131 409.229584 \r\nL 661.397132 413.116811 \r\nL 661.486132 410.617879 \r\nL 661.753134 417.189145 \r\nL 661.931135 412.931705 \r\nL 662.020135 414.088618 \r\nL 662.109136 416.818933 \r\nL 662.376137 404.833314 \r\nL 662.554138 407.424799 \r\nL 662.643139 404.833314 \r\nL 662.82114 412.376387 \r\nL 662.91014 412.931705 \r\nL 663.177141 418.022123 \r\nL 663.266142 414.042342 \r\nL 663.444143 419.271589 \r\nL 663.533143 418.160952 \r\nL 663.711144 424.130623 \r\nL 663.800145 422.788604 \r\nL 663.889145 416.263615 \r\nL 663.978146 417.605634 \r\nL 664.067146 414.967872 \r\nL 664.245147 418.808823 \r\nL 664.423148 414.412554 \r\nL 664.512149 417.235422 \r\nL 664.77915 411.774792 \r\nL 664.957151 414.967872 \r\nL 665.046151 412.885429 \r\nL 665.313153 418.669994 \r\nL 665.491154 418.114676 \r\nL 665.580154 420.798714 \r\nL 665.669155 420.428502 \r\nL 665.758155 421.261479 \r\nL 665.936156 420.243396 \r\nL 666.025157 420.474778 \r\nL 666.114157 421.076373 \r\nL 666.292158 415.245531 \r\nL 666.470159 417.466804 \r\nL 666.559159 416.402444 \r\nL 667.182163 425.565195 \r\nL 667.449164 419.132759 \r\nL 667.627165 417.65191 \r\nL 667.716166 415.476914 \r\nL 667.805166 416.217338 \r\nL 667.894166 418.022123 \r\nL 668.250168 414.042342 \r\nL 668.428169 410.201391 \r\nL 668.60617 413.810959 \r\nL 668.695171 412.283834 \r\nL 668.784171 412.330111 \r\nL 669.051173 417.698187 \r\nL 669.140173 417.374251 \r\nL 669.229174 420.058289 \r\nL 669.407175 417.374251 \r\nL 669.496175 418.623717 \r\nL 669.585175 418.577441 \r\nL 669.674176 419.410418 \r\nL 669.763176 419.132759 \r\nL 669.852177 417.374251 \r\nL 670.119178 422.464669 \r\nL 670.38618 414.088618 \r\nL 670.564181 414.690213 \r\nL 670.742182 410.849262 \r\nL 670.920183 410.802985 \r\nL 671.009183 406.962034 \r\nL 671.098183 407.702459 \r\nL 671.187184 407.702459 \r\nL 671.276184 405.573739 \r\nL 671.454185 408.951925 \r\nL 671.543186 408.581712 \r\nL 671.899188 400.159386 \r\nL 671.988188 402.334382 \r\nL 672.077189 401.501405 \r\nL 672.25519 399.002473 \r\nL 672.433191 400.668427 \r\nL 672.611192 397.012582 \r\nL 672.700192 398.863643 \r\nL 672.967193 395.763116 \r\nL 673.056194 396.688647 \r\nL 673.145194 396.179605 \r\nL 673.234195 396.688647 \r\nL 673.501196 394.606203 \r\nL 673.679197 391.135464 \r\nL 673.768198 391.274294 \r\nL 673.857198 393.44929 \r\nL 673.946199 393.356737 \r\nL 674.035199 393.125355 \r\nL 674.2132 399.465238 \r\nL 674.480201 394.976415 \r\nL 674.569202 394.467374 \r\nL 674.836203 397.567901 \r\nL 675.014204 390.904082 \r\nL 675.637208 383.592391 \r\nL 675.815209 384.795581 \r\nL 676.08221 388.451426 \r\nL 676.17121 389.006744 \r\nL 676.260211 388.821638 \r\nL 676.349211 389.33068 \r\nL 676.438212 389.145574 \r\nL 676.527212 386.831748 \r\nL 676.705213 390.302487 \r\nL 677.150216 384.980687 \r\nL 677.239216 384.749304 \r\nL 677.506218 389.423233 \r\nL 677.595218 388.26632 \r\nL 677.684218 388.821638 \r\nL 678.752224 373.828046 \r\nL 678.930225 373.874322 \r\nL 679.197226 369.801988 \r\nL 679.464228 371.421667 \r\nL 679.553228 370.403583 \r\nL 679.642229 370.912625 \r\nL 679.731229 372.115814 \r\nL 679.90923 368.552522 \r\nL 679.998231 369.616882 \r\nL 680.087231 374.151981 \r\nL 680.265232 370.958901 \r\nL 680.621234 367.950928 \r\nL 680.710235 369.200394 \r\nL 680.888235 367.534439 \r\nL 681.155237 370.634966 \r\nL 681.244237 369.755712 \r\nL 681.422238 365.729655 \r\nL 681.511239 366.840291 \r\nL 681.600239 365.961037 \r\nL 681.68924 366.19242 \r\nL 681.867241 364.295083 \r\nL 682.045242 358.371688 \r\nL 682.134242 358.094029 \r\nL 682.223243 358.695624 \r\nL 682.312243 358.417964 \r\nL 682.401244 357.770093 \r\nL 682.579244 359.759984 \r\nL 682.668245 357.353604 \r\nL 682.757245 357.862646 \r\nL 682.846246 357.862646 \r\nL 682.935246 360.685514 \r\nL 683.202248 354.947225 \r\nL 683.291248 354.762119 \r\nL 683.380249 355.409991 \r\nL 683.55825 354.438184 \r\nL 683.64725 354.900949 \r\nL 683.736251 354.114248 \r\nL 683.825251 354.577013 \r\nL 683.914252 356.150415 \r\nL 684.003252 355.039778 \r\nL 684.181253 345.506815 \r\nL 684.270253 345.321709 \r\nL 684.448254 347.03394 \r\nL 684.626255 353.4201 \r\nL 684.715256 350.921168 \r\nL 684.804256 355.872756 \r\nL 684.893257 355.363714 \r\nL 684.982257 355.733926 \r\nL 685.249259 352.170634 \r\nL 685.42726 346.710005 \r\nL 685.51626 346.571175 \r\nL 685.605261 347.357876 \r\nL 685.872262 344.211073 \r\nL 685.961262 344.858944 \r\nL 686.139263 348.653619 \r\nL 686.228264 344.905221 \r\nL 686.317264 345.784474 \r\nL 686.406265 345.96958 \r\nL 686.673266 350.504679 \r\nL 686.762267 351.013721 \r\nL 686.851267 350.828615 \r\nL 687.029268 355.595097 \r\nL 687.118269 354.993502 \r\nL 687.207269 349.995638 \r\nL 687.296269 350.874892 \r\nL 687.38527 351.985528 \r\nL 687.47427 350.504679 \r\nL 687.563271 352.309464 \r\nL 687.652271 351.754146 \r\nL 687.741272 353.744036 \r\nL 688.275275 341.295652 \r\nL 688.364275 342.869054 \r\nL 688.453276 341.249375 \r\nL 688.542276 341.85097 \r\nL 688.720277 339.537144 \r\nL 688.898278 341.943523 \r\nL 688.987278 341.064269 \r\nL 689.165279 343.748308 \r\nL 689.25428 341.897247 \r\nL 689.34328 342.637671 \r\nL 689.432281 344.858944 \r\nL 689.521281 339.120655 \r\nL 689.699282 343.516925 \r\nL 689.788283 350.041914 \r\nL 690.055284 343.609478 \r\nL 690.233285 353.651483 \r\nL 690.500287 349.116384 \r\nL 690.589287 353.651483 \r\nL 690.678287 351.476486 \r\nL 690.767288 352.309464 \r\nL 690.856288 351.013721 \r\nL 690.945289 351.707869 \r\nL 691.21229 346.478622 \r\nL 691.301291 346.987664 \r\nL 691.390291 346.756281 \r\nL 691.568292 348.329683 \r\nL 691.657293 350.458403 \r\nL 692.013295 342.91533 \r\nL 692.102295 343.007883 \r\nL 692.191295 342.730224 \r\nL 692.280296 341.85097 \r\nL 692.458297 336.575447 \r\nL 692.636298 332.919602 \r\nL 692.814299 331.808965 \r\nL 692.903299 333.567473 \r\nL 692.9923 333.150984 \r\nL 693.0813 333.382367 \r\nL 693.170301 333.058431 \r\nL 693.259301 334.53928 \r\nL 693.526303 330.050458 \r\nL 693.615303 331.762689 \r\nL 693.882304 325.978124 \r\nL 693.971305 326.487165 \r\nL 694.060305 325.885571 \r\nL 694.327307 322.97015 \r\nL 694.416307 323.386639 \r\nL 694.594308 321.90579 \r\nL 694.683309 321.813237 \r\nL 694.86131 317.694627 \r\nL 695.128311 320.424941 \r\nL 695.395313 303.857947 \r\nL 695.484313 304.690924 \r\nL 695.662314 309.688789 \r\nL 695.751314 305.246243 \r\nL 695.840315 310.012724 \r\nL 695.929315 306.680815 \r\nL 696.285317 325.931847 \r\nL 696.463318 312.881869 \r\nL 696.552319 309.364853 \r\nL 696.73032 314.5941 \r\nL 696.81932 314.362717 \r\nL 696.997321 318.064839 \r\nL 697.086321 324.774934 \r\nL 697.264322 319.082922 \r\nL 697.442323 320.748877 \r\nL 697.709325 310.151554 \r\nL 697.798325 308.20794 \r\nL 697.887326 308.716982 \r\nL 698.243328 321.304195 \r\nL 698.421329 314.779206 \r\nL 698.510329 314.316441 \r\nL 698.866331 301.82178 \r\nL 698.955331 304.274436 \r\nL 699.044332 301.96061 \r\nL 699.311333 306.449432 \r\nL 699.400334 305.431349 \r\nL 699.578335 316.028672 \r\nL 699.756336 318.944093 \r\nL 699.845336 317.879733 \r\nL 699.934337 311.539849 \r\nL 700.023337 311.910062 \r\nL 700.112338 310.938255 \r\nL 700.201338 312.419103 \r\nL 700.290338 315.889842 \r\nL 700.379339 315.288248 \r\nL 700.55734 317.093032 \r\nL 700.64634 319.823347 \r\nL 700.913342 311.308467 \r\nL 701.002342 310.753149 \r\nL 701.091343 311.169637 \r\nL 701.180343 308.115387 \r\nL 701.447345 312.419103 \r\nL 701.625346 309.457406 \r\nL 701.714346 308.809535 \r\nL 701.892347 310.660596 \r\nL 701.981347 309.596236 \r\nL 702.070348 311.077084 \r\nL 702.159348 316.907926 \r\nL 702.248349 315.889842 \r\nL 702.42635 318.527604 \r\nL 702.604351 315.056865 \r\nL 702.960353 323.386639 \r\nL 703.049353 321.489301 \r\nL 703.138354 323.155256 \r\nL 703.405355 321.396748 \r\nL 703.672356 311.493573 \r\nL 703.761357 312.095168 \r\nL 703.939358 308.763258 \r\nL 704.028358 308.531876 \r\nL 704.38436 300.248378 \r\nL 704.473361 300.988803 \r\nL 704.651362 295.667003 \r\nL 704.918363 290.298927 \r\nL 705.007364 290.993074 \r\nL 705.096364 293.723389 \r\nL 705.185364 293.399453 \r\nL 705.452366 298.906359 \r\nL 705.630367 292.24254 \r\nL 705.719367 292.24254 \r\nL 705.986369 286.365422 \r\nL 706.16437 283.959043 \r\nL 706.342371 274.055868 \r\nL 706.431371 279.423944 \r\nL 706.520372 278.776073 \r\nL 706.698373 280.719687 \r\nL 706.787373 279.840433 \r\nL 706.965374 280.488304 \r\nL 707.143375 284.792021 \r\nL 707.410376 277.341501 \r\nL 707.499377 273.870762 \r\nL 707.588377 274.611186 \r\nL 707.677378 273.639379 \r\nL 707.766378 275.259058 \r\nL 707.855379 274.009591 \r\nL 707.944379 274.888845 \r\nL 708.12238 280.997346 \r\nL 708.300381 285.115956 \r\nL 708.389381 280.118092 \r\nL 708.478382 281.182452 \r\nL 708.567382 276.971289 \r\nL 708.656383 279.88671 \r\nL 708.834384 275.953205 \r\nL 708.923384 274.750016 \r\nL 709.012385 278.359584 \r\nL 709.190386 273.963315 \r\nL 709.279386 274.42608 \r\nL 709.368387 272.713849 \r\nL 709.457387 273.917038 \r\nL 709.546388 272.158531 \r\nL 709.635388 272.945232 \r\nL 709.813389 271.742042 \r\nL 709.90239 272.621296 \r\nL 709.99139 272.575019 \r\nL 710.08039 271.973425 \r\nL 710.169391 272.389913 \r\nL 710.436392 269.520769 \r\nL 710.525393 270.492576 \r\nL 710.703394 269.335663 \r\nL 710.792394 269.428216 \r\nL 710.970395 271.186724 \r\nL 711.148396 265.633541 \r\nL 711.682399 257.350044 \r\nL 711.8604 254.804836 \r\nL 712.216402 268.548962 \r\nL 712.394403 259.247382 \r\nL 712.483403 257.720256 \r\nL 712.572404 258.136745 \r\nL 712.661404 262.625567 \r\nL 712.839405 256.979832 \r\nL 712.928406 257.396321 \r\nL 713.017406 257.951639 \r\nL 713.373408 248.650058 \r\nL 713.462408 250.963884 \r\nL 713.81841 245.549532 \r\nL 713.996411 253.462816 \r\nL 714.085412 261.005889 \r\nL 714.441414 251.796862 \r\nL 714.530414 254.249517 \r\nL 714.619415 252.49101 \r\nL 714.797416 247.493145 \r\nL 714.886416 250.454843 \r\nL 714.975416 250.177184 \r\nL 715.153417 255.915472 \r\nL 715.331418 251.565479 \r\nL 715.509419 266.466519 \r\nL 715.68742 266.05003 \r\nL 715.865421 259.386211 \r\nL 715.954422 260.681954 \r\nL 716.132423 252.861222 \r\nL 716.221423 253.55537 \r\nL 716.310424 253.231434 \r\nL 716.844426 261.376101 \r\nL 716.933427 261.376101 \r\nL 717.111428 265.957477 \r\nL 717.200428 264.939393 \r\nL 717.289429 262.579291 \r\nL 717.46743 268.086197 \r\nL 717.734431 258.645787 \r\nL 717.912432 251.935691 \r\nL 718.179433 255.869196 \r\nL 718.268434 253.740476 \r\nL 718.357434 256.193131 \r\nL 718.535435 254.110688 \r\nL 718.713436 255.961749 \r\nL 718.891437 254.156964 \r\nL 719.158439 259.848976 \r\nL 719.247439 264.384075 \r\nL 719.514441 259.8027 \r\nL 719.692442 263.689927 \r\nL 719.781442 265.078223 \r\nL 719.870442 262.162802 \r\nL 719.959443 263.319715 \r\nL 720.048443 261.79259 \r\nL 720.137444 255.221324 \r\nL 720.226444 256.655896 \r\nL 720.315445 256.285684 \r\nL 720.493446 261.376101 \r\nL 720.582446 265.170776 \r\nL 720.671447 265.031947 \r\nL 720.760447 265.540988 \r\nL 720.849448 269.058004 \r\nL 720.938448 268.595239 \r\nL 721.027449 264.939393 \r\nL 721.38345 275.721823 \r\nL 721.472451 269.428216 \r\nL 721.561451 271.140447 \r\nL 721.650452 265.679818 \r\nL 721.739452 268.780345 \r\nL 721.917453 263.134609 \r\nL 722.006454 263.92131 \r\nL 722.095454 262.903227 \r\nL 722.451456 249.29793 \r\nL 722.540457 247.678251 \r\nL 722.718458 251.472926 \r\nL 723.16346 236.849546 \r\nL 723.341461 230.27828 \r\nL 723.608462 220.097445 \r\nL 723.786463 227.409136 \r\nL 723.875464 228.242113 \r\nL 723.964464 224.308609 \r\nL 724.053465 229.260196 \r\nL 724.142465 226.94637 \r\nL 724.409467 251.796862 \r\nL 724.498467 238.65433 \r\nL 724.587468 245.179319 \r\nL 724.854469 232.730935 \r\nL 725.03247 234.581996 \r\nL 725.210471 250.038354 \r\nL 725.299471 249.760695 \r\nL 725.477472 237.266034 \r\nL 725.566473 238.839436 \r\nL 725.744474 228.566049 \r\nL 725.833474 228.566049 \r\nL 726.100476 238.65433 \r\nL 726.367477 232.26817 \r\nL 726.456477 236.479334 \r\nL 726.634478 231.944235 \r\nL 726.90148 221.90223 \r\nL 727.079481 213.757562 \r\nL 727.168481 214.544263 \r\nL 727.257482 221.069252 \r\nL 727.346482 219.495851 \r\nL 727.435483 220.236275 \r\nL 727.702484 228.195836 \r\nL 727.969485 239.626137 \r\nL 728.058486 235.970292 \r\nL 728.147486 236.52561 \r\nL 728.236487 241.338368 \r\nL 728.414488 222.041059 \r\nL 728.503488 220.83787 \r\nL 728.85949 208.20438 \r\nL 729.037491 225.187863 \r\nL 729.126492 226.761264 \r\nL 729.215492 218.57032 \r\nL 729.304493 223.660737 \r\nL 729.571494 219.125638 \r\nL 729.660494 219.218191 \r\nL 729.749495 224.447438 \r\nL 729.838495 223.89212 \r\nL 729.927496 220.282551 \r\nL 730.105497 222.411271 \r\nL 730.194497 218.292661 \r\nL 730.461499 231.944235 \r\nL 730.550499 235.322421 \r\nL 730.6395 229.306473 \r\nL 730.995502 241.801133 \r\nL 731.084502 237.080928 \r\nL 731.262503 245.271872 \r\nL 731.351503 237.312311 \r\nL 731.440504 239.163372 \r\nL 731.707505 228.751155 \r\nL 731.796506 226.668711 \r\nL 731.974507 229.121367 \r\nL 732.152508 226.252223 \r\nL 732.241508 227.409136 \r\nL 732.330509 229.306473 \r\nL 732.50851 235.553803 \r\nL 732.686511 233.47136 \r\nL 732.864511 224.493715 \r\nL 733.042512 220.143722 \r\nL 733.131513 218.107555 \r\nL 733.220513 220.560211 \r\nL 733.665516 210.842141 \r\nL 733.754516 208.06555 \r\nL 733.843517 208.482039 \r\nL 733.932517 207.556508 \r\nL 734.110518 208.713421 \r\nL 734.199519 209.731505 \r\nL 734.377519 203.854387 \r\nL 734.46652 204.687364 \r\nL 734.55552 209.407569 \r\nL 734.644521 204.918747 \r\nL 734.733521 209.361293 \r\nL 734.822522 192.748022 \r\nL 734.911522 194.043764 \r\nL 735.089523 188.721965 \r\nL 735.178524 186.546968 \r\nL 735.267524 186.732074 \r\nL 735.356525 187.426222 \r\nL 735.712527 173.774649 \r\nL 735.890528 163.223602 \r\nL 736.068528 153.089044 \r\nL 736.157529 160.539564 \r\nL 737.136534 130.506102 \r\nL 737.314535 139.946512 \r\nL 737.403536 139.668853 \r\nL 737.848538 102.462531 \r\nL 737.937538 104.961463 \r\nL 738.026539 104.961463 \r\nL 738.20454 92.09659 \r\nL 738.471541 98.343921 \r\nL 738.738543 84.738624 \r\nL 738.916544 96.122648 \r\nL 739.094545 77.33438 \r\nL 739.183545 80.481184 \r\nL 739.361546 72.984387 \r\nL 739.539547 79.324271 \r\nL 739.628547 81.452991 \r\nL 739.806548 108.432202 \r\nL 739.895549 89.736488 \r\nL 739.984549 90.569465 \r\nL 740.251551 113.754002 \r\nL 740.340551 120.973139 \r\nL 740.429552 89.551382 \r\nL 740.518552 90.985954 \r\nL 740.607553 93.947651 \r\nL 740.785554 107.136459 \r\nL 740.874554 104.73008 \r\nL 740.963554 107.367842 \r\nL 741.052555 117.826336 \r\nL 741.141555 115.142297 \r\nL 741.230556 115.975275 \r\nL 741.408557 114.494426 \r\nL 741.586558 122.268881 \r\nL 741.764559 129.950784 \r\nL 741.853559 139.992789 \r\nL 741.94256 139.853959 \r\nL 742.03156 120.325268 \r\nL 742.120561 123.055582 \r\nL 742.209561 114.44815 \r\nL 742.387562 119.677396 \r\nL 742.565563 109.033797 \r\nL 742.654563 109.913051 \r\nL 742.743564 120.510374 \r\nL 742.832564 118.42793 \r\nL 742.921565 119.353461 \r\nL 743.188566 108.293372 \r\nL 743.277567 114.077937 \r\nL 743.366567 110.931134 \r\nL 743.544568 113.846555 \r\nL 743.633569 112.226877 \r\nL 743.81157 103.80455 \r\nL 743.90057 104.86891 \r\nL 743.989571 109.959327 \r\nL 744.078571 107.182736 \r\nL 744.167571 114.30932 \r\nL 744.256572 113.522619 \r\nL 744.345572 111.949217 \r\nL 744.434573 115.419956 \r\nL 744.701574 96.215201 \r\nL 744.790575 89.597658 \r\nL 744.879575 92.142867 \r\nL 744.968576 87.098726 \r\nL 745.235577 96.539136 \r\nL 745.413578 91.494996 \r\nL 745.502579 91.494996 \r\nL 745.591579 91.911484 \r\nL 745.68058 86.821067 \r\nL 745.85858 93.438609 \r\nL 745.947581 95.28967 \r\nL 746.125582 111.717835 \r\nL 746.392583 89.04234 \r\nL 746.481584 91.541272 \r\nL 746.570584 90.939677 \r\nL 746.748585 81.59182 \r\nL 746.926586 83.304051 \r\nL 747.460589 71.179603 \r\nL 747.63859 52.900378 \r\nL 747.72759 58.638666 \r\nL 747.816591 50.540275 \r\nL 747.905591 54.473779 \r\nL 747.994592 54.103567 \r\nL 748.083592 46.190282 \r\nL 748.172593 46.7456 \r\nL 748.261593 47.624854 \r\nL 748.350594 53.687078 \r\nL 748.439594 52.807825 \r\nL 748.528595 46.653047 \r\nL 748.617595 49.661021 \r\nL 748.795596 43.182308 \r\nL 748.973597 55.769522 \r\nL 749.418599 29.577011 \r\nL 749.5076 29.438182 \r\nL 749.5966 31.613178 \r\nL 749.685601 30.733924 \r\nL 749.952602 52.854101 \r\nL 750.041603 42.62699 \r\nL 750.219604 56.556223 \r\nL 750.308604 55.306757 \r\nL 750.397605 48.87432 \r\nL 750.486605 51.836018 \r\nL 750.753606 71.457262 \r\nL 750.842607 68.264182 \r\nL 750.931607 76.40885 \r\nL 751.020608 75.390766 \r\nL 751.109608 72.15141 \r\nL 751.198609 62.618447 \r\nL 751.287609 65.90408 \r\nL 751.46561 87.97798 \r\nL 751.554611 72.614175 \r\nL 751.643611 85.756707 \r\nL 751.732612 83.535434 \r\nL 752.177614 108.941244 \r\nL 752.266614 103.989656 \r\nL 752.355615 105.100292 \r\nL 752.533616 132.172057 \r\nL 752.622616 126.248662 \r\nL 752.978618 139.900236 \r\nL 753.067619 138.604493 \r\nL 753.156619 114.355597 \r\nL 753.24562 117.409847 \r\nL 753.33462 116.900805 \r\nL 753.512621 99.176898 \r\nL 753.601622 102.184872 \r\nL 753.690622 103.388061 \r\nL 753.779623 99.269451 \r\nL 754.046624 107.876884 \r\nL 754.135624 131.524186 \r\nL 754.224625 126.109833 \r\nL 754.402626 137.216198 \r\nL 754.491626 129.858231 \r\nL 754.580627 131.385356 \r\nL 754.758628 149.988517 \r\nL 754.847628 144.250229 \r\nL 754.936629 134.624712 \r\nL 755.20363 143.926293 \r\nL 755.292631 143.370975 \r\nL 755.381631 147.95235 \r\nL 755.470631 146.656608 \r\nL 755.559632 150.127347 \r\nL 755.737633 124.999196 \r\nL 756.182635 145.360865 \r\nL 756.271636 141.242255 \r\nL 756.360636 143.278422 \r\nL 756.538637 165.213492 \r\nL 756.627638 152.34862 \r\nL 756.716638 154.523616 \r\nL 756.805639 156.235847 \r\nL 756.98364 147.304479 \r\nL 757.16164 194.552806 \r\nL 757.339641 182.844847 \r\nL 757.606643 185.806544 \r\nL 757.695643 193.025681 \r\nL 757.962645 174.746455 \r\nL 758.140646 167.249659 \r\nL 758.318647 175.533156 \r\nL 758.407647 175.810815 \r\nL 758.763649 188.953347 \r\nL 758.852649 185.945373 \r\nL 758.94165 191.082067 \r\nL 759.03065 187.102286 \r\nL 759.297652 198.949076 \r\nL 759.386652 205.659171 \r\nL 759.475653 198.532587 \r\nL 759.564653 202.049602 \r\nL 759.831655 194.228871 \r\nL 760.009656 200.337371 \r\nL 760.098656 197.653333 \r\nL 760.276657 182.79857 \r\nL 760.365657 183.585271 \r\nL 760.454658 185.112396 \r\nL 760.543658 184.695907 \r\nL 760.721659 177.754429 \r\nL 760.81066 179.281554 \r\nL 761.077661 199.967159 \r\nL 761.166662 199.411841 \r\nL 761.255662 197.977269 \r\nL 761.433663 203.623004 \r\nL 761.700665 195.617166 \r\nL 761.789665 196.49642 \r\nL 761.967666 205.798001 \r\nL 762.056666 201.67939 \r\nL 762.234667 223.614461 \r\nL 762.323668 224.586268 \r\nL 762.501669 214.590539 \r\nL 762.590669 215.007028 \r\nL 762.67967 213.109691 \r\nL 763.124672 189.323559 \r\nL 763.213673 186.454415 \r\nL 763.302673 179.559214 \r\nL 763.391674 180.901233 \r\nL 763.480674 177.569323 \r\nL 763.658675 182.613464 \r\nL 763.747675 181.456551 \r\nL 763.925676 198.162375 \r\nL 764.014677 194.50653 \r\nL 764.103677 195.339507 \r\nL 764.192678 189.092177 \r\nL 764.281678 191.220897 \r\nL 764.54868 187.657605 \r\nL 764.63768 190.063984 \r\nL 764.815681 183.492718 \r\nL 764.904682 184.695907 \r\nL 764.993682 184.048036 \r\nL 765.082683 184.973566 \r\nL 765.260683 191.961321 \r\nL 765.349684 189.832601 \r\nL 765.616685 196.033655 \r\nL 765.705686 193.580999 \r\nL 765.794686 197.42195 \r\nL 765.883687 196.172484 \r\nL 765.972687 196.311314 \r\nL 766.328689 215.145858 \r\nL 766.41769 215.099581 \r\nL 766.595691 220.83787 \r\nL 766.684691 219.033085 \r\nL 766.951692 203.391622 \r\nL 767.129693 207.093743 \r\nL 767.218694 202.373538 \r\nL 767.307694 203.437898 \r\nL 767.396695 199.180458 \r\nL 767.485695 199.6895 \r\nL 767.574696 199.087905 \r\nL 767.752697 197.236844 \r\nL 767.841697 196.311314 \r\nL 768.108699 204.548535 \r\nL 768.197699 190.665578 \r\nL 768.2867 191.961321 \r\nL 768.3757 190.341643 \r\nL 768.553701 182.382081 \r\nL 768.642701 182.891123 \r\nL 768.909703 171.969864 \r\nL 768.998703 174.700179 \r\nL 769.087704 174.885285 \r\nL 769.176704 175.440603 \r\nL 769.265705 179.74432 \r\nL 769.532706 151.099154 \r\nL 769.621707 151.469366 \r\nL 769.799708 145.083206 \r\nL 769.888708 149.433199 \r\nL 769.977709 148.600222 \r\nL 770.066709 148.230009 \r\nL 770.155709 149.479475 \r\nL 770.24471 148.183733 \r\nL 770.33371 157.53159 \r\nL 770.422711 156.050741 \r\nL 770.511711 155.5417 \r\nL 770.600712 158.410844 \r\nL 770.689712 157.53159 \r\nL 770.778713 150.960324 \r\nL 770.867713 153.181597 \r\nL 770.956714 151.28426 \r\nL 771.045714 146.101289 \r\nL 771.134715 153.598086 \r\nL 771.223715 171.09061 \r\nL 771.312716 167.851254 \r\nL 771.490717 182.520911 \r\nL 771.579717 179.142725 \r\nL 771.757718 168.128913 \r\nL 771.846718 171.321993 \r\nL 771.935719 156.189571 \r\nL 772.024719 157.207654 \r\nL 772.11372 162.112965 \r\nL 772.20272 159.104992 \r\nL 772.380721 165.213492 \r\nL 772.558722 156.929995 \r\nL 772.736723 161.141159 \r\nL 772.825724 158.086908 \r\nL 772.914724 162.529454 \r\nL 773.181726 154.801275 \r\nL 773.626728 144.342782 \r\nL 773.715728 136.244391 \r\nL 773.804729 137.216198 \r\nL 773.98273 129.395466 \r\nL 774.07173 133.282693 \r\nL 774.160731 130.737485 \r\nL 774.249731 139.298641 \r\nL 774.338732 133.930565 \r\nL 774.516733 137.123644 \r\nL 774.605733 132.727375 \r\nL 774.694734 133.606629 \r\nL 774.783734 134.578436 \r\nL 774.872735 140.085342 \r\nL 774.961735 134.809818 \r\nL 775.050735 135.781625 \r\nL 775.228736 134.763542 \r\nL 775.317737 129.811954 \r\nL 775.673739 138.419387 \r\nL 775.762739 134.439606 \r\nL 775.85174 135.272584 \r\nL 775.94074 132.727375 \r\nL 776.385743 104.915186 \r\nL 776.474743 105.748164 \r\nL 776.563744 103.850826 \r\nL 776.652744 108.98752 \r\nL 776.741744 104.822633 \r\nL 776.830745 105.377952 \r\nL 777.097746 112.643365 \r\nL 777.186747 110.653475 \r\nL 777.364748 115.049744 \r\nL 777.453748 119.168355 \r\nL 777.542749 116.206657 \r\nL 777.631749 102.416254 \r\nL 777.72075 103.989656 \r\nL 777.987751 112.597089 \r\nL 778.076752 108.339649 \r\nL 778.254752 121.435904 \r\nL 778.343753 119.538567 \r\nL 778.432753 122.083775 \r\nL 778.521754 119.816226 \r\nL 778.699755 126.711427 \r\nL 778.788755 124.906643 \r\nL 778.966756 110.746028 \r\nL 779.055757 112.782195 \r\nL 779.144757 121.667287 \r\nL 779.411759 111.532729 \r\nL 779.500759 118.103995 \r\nL 779.58976 115.23485 \r\nL 779.767761 147.720968 \r\nL 779.856761 148.368839 \r\nL 780.034762 147.211926 \r\nL 780.568765 122.639094 \r\nL 780.657765 122.68537 \r\nL 780.746766 117.085911 \r\nL 780.835766 117.36357 \r\nL 780.924767 116.021551 \r\nL 781.191768 129.673125 \r\nL 781.280769 128.146 \r\nL 781.458769 134.856095 \r\nL 781.54777 128.099723 \r\nL 781.63677 129.025253 \r\nL 781.903772 124.999196 \r\nL 781.992772 126.063556 \r\nL 782.081773 126.248662 \r\nL 782.170773 125.971003 \r\nL 782.348774 122.222605 \r\nL 782.526775 130.043337 \r\nL 782.615776 128.701318 \r\nL 782.704776 125.647067 \r\nL 782.793777 125.739621 \r\nL 782.882777 127.405575 \r\nL 783.149778 116.715699 \r\nL 783.327779 121.667287 \r\nL 783.50578 122.130052 \r\nL 783.683781 118.289101 \r\nL 783.861782 125.369408 \r\nL 784.039783 130.876314 \r\nL 784.128784 126.341215 \r\nL 784.306785 133.375246 \r\nL 784.395785 132.033227 \r\nL 784.484786 134.485883 \r\nL 784.573786 133.791735 \r\nL 784.840787 125.415685 \r\nL 784.929788 129.99706 \r\nL 785.107789 98.991792 \r\nL 785.196789 84.414688 \r\nL 785.28579 85.571601 \r\nL 785.37479 87.05245 \r\nL 785.552791 85.432771 \r\nL 785.641792 79.925865 \r\nL 785.819793 85.571601 \r\nL 785.908793 86.265749 \r\nL 785.997794 87.885427 \r\nL 786.175795 82.471074 \r\nL 786.264795 82.378521 \r\nL 786.353795 85.71043 \r\nL 786.620797 75.20566 \r\nL 786.798798 73.539706 \r\nL 787.1548 54.936544 \r\nL 787.2438 56.509946 \r\nL 787.332801 59.37909 \r\nL 787.599802 47.02326 \r\nL 787.688803 48.226449 \r\nL 787.866804 38.832315 \r\nL 787.955804 40.6371 \r\nL 788.133805 52.576442 \r\nL 788.222805 48.319002 \r\nL 788.311806 48.87432 \r\nL 788.400806 48.411555 \r\nL 788.489807 49.892404 \r\nL 788.667808 54.658885 \r\nL 788.756808 57.204094 \r\nL 788.845809 56.833882 \r\nL 789.02381 49.337086 \r\nL 789.201811 42.210501 \r\nL 789.290811 42.395607 \r\nL 789.379812 39.850399 \r\nL 789.468812 30.872754 \r\nL 789.557813 33.741898 \r\nL 789.557813 33.741898 \r\n\" style=\"fill:none;stroke:#1f77b4;stroke-linecap:square;stroke-width:1.5;\"/>\r\n   </g>\r\n   <g id=\"patch_3\">\r\n    <path d=\"M 36.257812 496.44 \r\nL 36.257812 7.2 \r\n\" style=\"fill:none;stroke:#000000;stroke-linecap:square;stroke-linejoin:miter;stroke-width:0.8;\"/>\r\n   </g>\r\n   <g id=\"patch_4\">\r\n    <path d=\"M 789.557813 496.44 \r\nL 789.557813 7.2 \r\n\" style=\"fill:none;stroke:#000000;stroke-linecap:square;stroke-linejoin:miter;stroke-width:0.8;\"/>\r\n   </g>\r\n   <g id=\"patch_5\">\r\n    <path d=\"M 36.257812 496.44 \r\nL 789.557813 496.44 \r\n\" style=\"fill:none;stroke:#000000;stroke-linecap:square;stroke-linejoin:miter;stroke-width:0.8;\"/>\r\n   </g>\r\n   <g id=\"patch_6\">\r\n    <path d=\"M 36.257812 7.2 \r\nL 789.557813 7.2 \r\n\" style=\"fill:none;stroke:#000000;stroke-linecap:square;stroke-linejoin:miter;stroke-width:0.8;\"/>\r\n   </g>\r\n  </g>\r\n </g>\r\n <defs>\r\n  <clipPath id=\"p9ab5d2613f\">\r\n   <rect height=\"489.24\" width=\"753.3\" x=\"36.257812\" y=\"7.2\"/>\r\n  </clipPath>\r\n </defs>\r\n</svg>\r\n",
            "image/png": "[encoded data removed]"
          },
          "metadata": {
            "tags": [],
            "needs_background": "light"
          }
        }
      ]
    }
  ]
}