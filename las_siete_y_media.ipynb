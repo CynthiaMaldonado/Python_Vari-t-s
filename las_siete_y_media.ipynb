{
  "nbformat": 4,
  "nbformat_minor": 0,
  "metadata": {
    "colab": {
      "name": "las_siete_y_media.ipynb",
      "provenance": [],
      "collapsed_sections": []
    },
    "kernelspec": {
      "name": "python3",
      "display_name": "Python 3"
    }
  },
  "cells": [
    {
      "cell_type": "markdown",
      "metadata": {
        "id": "OZZZ22tSDqXy",
        "colab_type": "text"
      },
      "source": [
        "# Las Siete y Media\n",
        "\n",
        "### Con este ejercicio descubrí que en cada casa se juega a su manera.\n",
        "\n",
        "### Esta es la que yo jugaba en las tarde de playa de aquellos veranos sin preocupaciones (pero con cartas, claro)."
      ]
    },
    {
      "cell_type": "code",
      "metadata": {
        "id": "3ayKJbrEEcP1",
        "colab_type": "code",
        "colab": {}
      },
      "source": [
        "import random"
      ],
      "execution_count": 2,
      "outputs": []
    },
    {
      "cell_type": "code",
      "metadata": {
        "id": "9s7QsWpMDnvf",
        "colab_type": "code",
        "colab": {}
      },
      "source": [
        "#VARIABLES\n",
        "\n",
        "baraja = [1, 2, 3, 4, 5, 6, 7, 0.5, 0.5, 0.5] * 4\n",
        "\n",
        "jugador = []\n",
        "\n",
        "suma_jugador = 0\n",
        "\n",
        "banca = []\n",
        "\n",
        "suma_banca = 0\n",
        "\n",
        "juego = True\n",
        "\n",
        "mas_cartas = \"\"\n"
      ],
      "execution_count": null,
      "outputs": []
    },
    {
      "cell_type": "code",
      "metadata": {
        "id": "XopaVU8nEzmV",
        "colab_type": "code",
        "colab": {}
      },
      "source": [
        "#JUEGO\n",
        "\n",
        "while juego:\n",
        "\n",
        "  carta_jugador = random.choice(baraja)\n",
        "\n",
        "  baraja.remove(carta_jugador)\n",
        "\n",
        "  jugador.append(carta_jugador)\n",
        "\n",
        "  suma_jugador += carta_jugador\n",
        "\n",
        "  print('Mi mano: ', jugador,'\\nEn suma: ', suma_jugador )\n",
        "\n",
        "  if suma_banca < 6:\n",
        "\n",
        "    carta_banca = random.choice(baraja)\n",
        "\n",
        "    baraja.remove(carta_banca)\n",
        "\n",
        "    banca.append(carta_banca)\n",
        "\n",
        "    suma_banca += carta_banca\n",
        "\n",
        "  if suma_jugador < 7.5:\n",
        "\n",
        "    mas_cartas = input('¿Quieres otra carta? si/no  ')\n",
        "\n",
        "  elif suma_jugador == 7.5:\n",
        "\n",
        "    print('7.5, ¡¡enhorabuena!!')\n",
        "\n",
        "    juego = False\n",
        "\n",
        "  else:\n",
        "\n",
        "    print('Te pasaste, perdiste')\n",
        "\n",
        "    juego = False\n",
        "\n",
        "  if mas_cartas == 'no':\n",
        "\n",
        "    if (suma_jugador < suma_banca) and (suma_banca < 7.5):\n",
        "\n",
        "      print(f'He sumado {suma_banca}, perdiste con {suma_jugador}')\n",
        "\n",
        "      juego = False\n",
        "\n",
        "    elif suma_banca < suma_jugador < 7.5:\n",
        "\n",
        "      print(f'He sumado {suma_banca}, tú ganas con {suma_jugador}')\n",
        "\n",
        "      juego = False\n",
        "\n",
        "    elif suma_banca == suma_jugador:\n",
        "\n",
        "      print(f'Gano por empate con {suma_banca}')\n",
        "\n",
        "      juego = False\n",
        "\n",
        "    else:\n",
        "\n",
        "      print('Lo siento, ¡te pasaste!')\n",
        "      \n",
        "      juego = False"
      ],
      "execution_count": null,
      "outputs": []
    },
    {
      "cell_type": "code",
      "metadata": {
        "id": "h1kise58EQSE",
        "colab_type": "code",
        "colab": {}
      },
      "source": [
        ""
      ],
      "execution_count": null,
      "outputs": []
    }
  ]
}