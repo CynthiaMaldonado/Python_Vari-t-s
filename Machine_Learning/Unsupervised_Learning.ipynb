{
  "nbformat": 4,
  "nbformat_minor": 0,
  "metadata": {
    "anaconda-cloud": {},
    "kernelspec": {
      "display_name": "Python 3",
      "language": "python",
      "name": "python3"
    },
    "language_info": {
      "codemirror_mode": {
        "name": "ipython",
        "version": 3
      },
      "file_extension": ".py",
      "mimetype": "text/x-python",
      "name": "python",
      "nbconvert_exporter": "python",
      "pygments_lexer": "ipython3",
      "version": "3.6.9"
    },
    "colab": {
      "name": "Unsupervised_Learning.ipynb",
      "provenance": [],
      "collapsed_sections": []
    },
    "widgets": {
      "application/vnd.jupyter.widget-state+json": {
        "6b2c5c4e1b504135b2529b089f62ddf0": {
          "model_module": "@jupyter-widgets/controls",
          "model_name": "HBoxModel",
          "state": {
            "_view_name": "HBoxView",
            "_dom_classes": [],
            "_model_name": "HBoxModel",
            "_view_module": "@jupyter-widgets/controls",
            "_model_module_version": "1.5.0",
            "_view_count": null,
            "_view_module_version": "1.5.0",
            "box_style": "",
            "layout": "IPY_MODEL_ba44f7153f7f4ba08f792e17f6ca9abf",
            "_model_module": "@jupyter-widgets/controls",
            "children": [
              "IPY_MODEL_9d725855e62d427380230ef0d8372c4a",
              "IPY_MODEL_d799609c75e54cbbb8914fd585da21db"
            ]
          }
        },
        "ba44f7153f7f4ba08f792e17f6ca9abf": {
          "model_module": "@jupyter-widgets/base",
          "model_name": "LayoutModel",
          "state": {
            "_view_name": "LayoutView",
            "grid_template_rows": null,
            "right": null,
            "justify_content": null,
            "_view_module": "@jupyter-widgets/base",
            "overflow": null,
            "_model_module_version": "1.2.0",
            "_view_count": null,
            "flex_flow": null,
            "width": null,
            "min_width": null,
            "border": null,
            "align_items": null,
            "bottom": null,
            "_model_module": "@jupyter-widgets/base",
            "top": null,
            "grid_column": null,
            "overflow_y": null,
            "overflow_x": null,
            "grid_auto_flow": null,
            "grid_area": null,
            "grid_template_columns": null,
            "flex": null,
            "_model_name": "LayoutModel",
            "justify_items": null,
            "grid_row": null,
            "max_height": null,
            "align_content": null,
            "visibility": null,
            "align_self": null,
            "height": null,
            "min_height": null,
            "padding": null,
            "grid_auto_rows": null,
            "grid_gap": null,
            "max_width": null,
            "order": null,
            "_view_module_version": "1.2.0",
            "grid_template_areas": null,
            "object_position": null,
            "object_fit": null,
            "grid_auto_columns": null,
            "margin": null,
            "display": null,
            "left": null
          }
        },
        "9d725855e62d427380230ef0d8372c4a": {
          "model_module": "@jupyter-widgets/controls",
          "model_name": "FloatProgressModel",
          "state": {
            "_view_name": "ProgressView",
            "style": "IPY_MODEL_961022305f1643e4b08e825780413e84",
            "_dom_classes": [],
            "description": "100%",
            "_model_name": "FloatProgressModel",
            "bar_style": "success",
            "max": 6,
            "_view_module": "@jupyter-widgets/controls",
            "_model_module_version": "1.5.0",
            "value": 6,
            "_view_count": null,
            "_view_module_version": "1.5.0",
            "orientation": "horizontal",
            "min": 0,
            "description_tooltip": null,
            "_model_module": "@jupyter-widgets/controls",
            "layout": "IPY_MODEL_da24e0ba13fe4a0a999f5eb1b44fea82"
          }
        },
        "d799609c75e54cbbb8914fd585da21db": {
          "model_module": "@jupyter-widgets/controls",
          "model_name": "HTMLModel",
          "state": {
            "_view_name": "HTMLView",
            "style": "IPY_MODEL_5f444277c6d24c95a39988ef708b9ff2",
            "_dom_classes": [],
            "description": "",
            "_model_name": "HTMLModel",
            "placeholder": "​",
            "_view_module": "@jupyter-widgets/controls",
            "_model_module_version": "1.5.0",
            "value": " 6/6 [00:35&lt;00:00,  5.87s/it]",
            "_view_count": null,
            "_view_module_version": "1.5.0",
            "description_tooltip": null,
            "_model_module": "@jupyter-widgets/controls",
            "layout": "IPY_MODEL_76eaf9b260974b0d953d80f5da5bc612"
          }
        },
        "961022305f1643e4b08e825780413e84": {
          "model_module": "@jupyter-widgets/controls",
          "model_name": "ProgressStyleModel",
          "state": {
            "_view_name": "StyleView",
            "_model_name": "ProgressStyleModel",
            "description_width": "initial",
            "_view_module": "@jupyter-widgets/base",
            "_model_module_version": "1.5.0",
            "_view_count": null,
            "_view_module_version": "1.2.0",
            "bar_color": null,
            "_model_module": "@jupyter-widgets/controls"
          }
        },
        "da24e0ba13fe4a0a999f5eb1b44fea82": {
          "model_module": "@jupyter-widgets/base",
          "model_name": "LayoutModel",
          "state": {
            "_view_name": "LayoutView",
            "grid_template_rows": null,
            "right": null,
            "justify_content": null,
            "_view_module": "@jupyter-widgets/base",
            "overflow": null,
            "_model_module_version": "1.2.0",
            "_view_count": null,
            "flex_flow": null,
            "width": null,
            "min_width": null,
            "border": null,
            "align_items": null,
            "bottom": null,
            "_model_module": "@jupyter-widgets/base",
            "top": null,
            "grid_column": null,
            "overflow_y": null,
            "overflow_x": null,
            "grid_auto_flow": null,
            "grid_area": null,
            "grid_template_columns": null,
            "flex": null,
            "_model_name": "LayoutModel",
            "justify_items": null,
            "grid_row": null,
            "max_height": null,
            "align_content": null,
            "visibility": null,
            "align_self": null,
            "height": null,
            "min_height": null,
            "padding": null,
            "grid_auto_rows": null,
            "grid_gap": null,
            "max_width": null,
            "order": null,
            "_view_module_version": "1.2.0",
            "grid_template_areas": null,
            "object_position": null,
            "object_fit": null,
            "grid_auto_columns": null,
            "margin": null,
            "display": null,
            "left": null
          }
        },
        "5f444277c6d24c95a39988ef708b9ff2": {
          "model_module": "@jupyter-widgets/controls",
          "model_name": "DescriptionStyleModel",
          "state": {
            "_view_name": "StyleView",
            "_model_name": "DescriptionStyleModel",
            "description_width": "",
            "_view_module": "@jupyter-widgets/base",
            "_model_module_version": "1.5.0",
            "_view_count": null,
            "_view_module_version": "1.2.0",
            "_model_module": "@jupyter-widgets/controls"
          }
        },
        "76eaf9b260974b0d953d80f5da5bc612": {
          "model_module": "@jupyter-widgets/base",
          "model_name": "LayoutModel",
          "state": {
            "_view_name": "LayoutView",
            "grid_template_rows": null,
            "right": null,
            "justify_content": null,
            "_view_module": "@jupyter-widgets/base",
            "overflow": null,
            "_model_module_version": "1.2.0",
            "_view_count": null,
            "flex_flow": null,
            "width": null,
            "min_width": null,
            "border": null,
            "align_items": null,
            "bottom": null,
            "_model_module": "@jupyter-widgets/base",
            "top": null,
            "grid_column": null,
            "overflow_y": null,
            "overflow_x": null,
            "grid_auto_flow": null,
            "grid_area": null,
            "grid_template_columns": null,
            "flex": null,
            "_model_name": "LayoutModel",
            "justify_items": null,
            "grid_row": null,
            "max_height": null,
            "align_content": null,
            "visibility": null,
            "align_self": null,
            "height": null,
            "min_height": null,
            "padding": null,
            "grid_auto_rows": null,
            "grid_gap": null,
            "max_width": null,
            "order": null,
            "_view_module_version": "1.2.0",
            "grid_template_areas": null,
            "object_position": null,
            "object_fit": null,
            "grid_auto_columns": null,
            "margin": null,
            "display": null,
            "left": null
          }
        }
      }
    }
  },
  "cells": [
    {
      "cell_type": "markdown",
      "metadata": {
        "_uuid": "fb758fbaa68c09ce13b31fd6982499c2212de2a1",
        "id": "vxvwhy6NIUF2",
        "colab_type": "text"
      },
      "source": [
        "\n",
        "# Unsupervised learning"
      ]
    },
    {
      "cell_type": "markdown",
      "metadata": {
        "_uuid": "19ed99767bc346b8cabd9c285c46d78341b68ac0",
        "id": "-3v5_hSpIUF3",
        "colab_type": "text"
      },
      "source": [
        "In this task, we will look at how data dimensionality reduction and clustering methods work. At the same time, we'll practice solving classification task again.\n",
        "\n",
        "We will work with the [Samsung Human Activity Recognition](https://archive.ics.uci.edu/ml/datasets/Human+Activity+Recognition+Using+Smartphones) dataset. Download the data [here](https://drive.google.com/file/d/14RukQ0ylM2GCdViUHBBjZ2imCaYcjlux/view?usp=sharing). The data comes from accelerometers and gyros of Samsung Galaxy S3 mobile phones ( you can find more info about the features using the link above), the type of activity of a person with a phone in his/her pocket is also known – whether he/she walked, stood, lay, sat or walked up or down the stairs.\n",
        "\n",
        "First, we pretend that the type of activity is unknown to us, and we will try to cluster people purely on the basis of available features. Then we solve the problem of determining the type of physical activity as a classification problem.\n"
      ]
    },
    {
      "cell_type": "code",
      "metadata": {
        "_uuid": "49d35cc6431c8053964544de63bb91e638db1fa9",
        "jupyter": {
          "outputs_hidden": true
        },
        "id": "GCyExsl5IUF4",
        "colab_type": "code",
        "colab": {}
      },
      "source": [
        "import os\n",
        "import numpy as np\n",
        "import pandas as pd\n",
        "import seaborn as sns\n",
        "from tqdm import tqdm_notebook\n",
        "\n",
        "%matplotlib inline\n",
        "from matplotlib import pyplot as plt\n",
        "plt.style.use(['seaborn-darkgrid'])\n",
        "plt.rcParams['figure.figsize'] = (12, 9)\n",
        "plt.rcParams['font.family'] = 'DejaVu Sans'\n",
        "\n",
        "from sklearn import metrics\n",
        "from sklearn.cluster import KMeans, AgglomerativeClustering, SpectralClustering\n",
        "from sklearn.decomposition import PCA\n",
        "from sklearn.model_selection import GridSearchCV\n",
        "from sklearn.preprocessing import StandardScaler\n",
        "from sklearn.svm import LinearSVC\n",
        "from sklearn.cluster import KMeans\n",
        "\n",
        "RANDOM_STATE = 17"
      ],
      "execution_count": null,
      "outputs": []
    },
    {
      "cell_type": "code",
      "metadata": {
        "id": "FsYQwL2qKuKy",
        "colab_type": "code",
        "colab": {
          "base_uri": "https://localhost:8080/",
          "height": 34
        },
        "outputId": "e14c71b2-644d-42e7-f7ce-a90f4219b721"
      },
      "source": [
        "#import desde drive\n",
        "from google.colab import drive\n",
        "drive.mount('/content/drive')"
      ],
      "execution_count": null,
      "outputs": [
        {
          "output_type": "stream",
          "text": [
            "Drive already mounted at /content/drive; to attempt to forcibly remount, call drive.mount(\"/content/drive\", force_remount=True).\n"
          ],
          "name": "stdout"
        }
      ]
    },
    {
      "cell_type": "code",
      "metadata": {
        "_uuid": "5a288069f3a890d7a37113ef2800e8a7b1dd1afb",
        "jupyter": {
          "outputs_hidden": true
        },
        "id": "_YFAiOS4IUF-",
        "colab_type": "code",
        "colab": {}
      },
      "source": [
        "# change this if necessary\n",
        "PATH_TO_SAMSUNG_DATA = \"/content/drive/My Drive/DataSets\""
      ],
      "execution_count": null,
      "outputs": []
    },
    {
      "cell_type": "code",
      "metadata": {
        "_uuid": "75b935cdfe1e013aae43db776e8db37a20e2ac6b",
        "jupyter": {
          "outputs_hidden": true
        },
        "id": "JzNLFDMhIUGF",
        "colab_type": "code",
        "colab": {}
      },
      "source": [
        "X_train = np.loadtxt(os.path.join(PATH_TO_SAMSUNG_DATA, \"samsung_train.txt\"))\n",
        "y_train = np.loadtxt(os.path.join(PATH_TO_SAMSUNG_DATA,\n",
        "                                  \"samsung_train_labels.txt\")).astype(int)\n",
        "\n",
        "X_test = np.loadtxt(os.path.join(PATH_TO_SAMSUNG_DATA, \"samsung_test.txt\"))\n",
        "y_test = np.loadtxt(os.path.join(PATH_TO_SAMSUNG_DATA,\n",
        "                                  \"samsung_test_labels.txt\")).astype(int)"
      ],
      "execution_count": null,
      "outputs": []
    },
    {
      "cell_type": "code",
      "metadata": {
        "_uuid": "98b267f6cfd624a0458dabdde5525b27970978bc",
        "id": "5jPhyAOrIUGM",
        "colab_type": "code",
        "colab": {}
      },
      "source": [
        "# Checking dimensions\n",
        "assert(X_train.shape == (7352, 561) and y_train.shape == (7352,))\n",
        "assert(X_test.shape == (2947, 561) and y_test.shape == (2947,))"
      ],
      "execution_count": null,
      "outputs": []
    },
    {
      "cell_type": "markdown",
      "metadata": {
        "_uuid": "6ae636fe849d7d67db976feaa7ca2e25ba7c3795",
        "id": "QiS9mN5iIUGU",
        "colab_type": "text"
      },
      "source": [
        "For clustering, we do not need a target vector, so we'll work with the combination of training and test samples. Merge `X_train` with `X_test`, and `y_train` with `y_test`."
      ]
    },
    {
      "cell_type": "code",
      "metadata": {
        "id": "rTx5fnSqO7IZ",
        "colab_type": "code",
        "colab": {
          "base_uri": "https://localhost:8080/",
          "height": 34
        },
        "outputId": "de8d3a04-a001-4bd1-988d-8a0fd0a7de6f"
      },
      "source": [
        "type(X_train)"
      ],
      "execution_count": null,
      "outputs": [
        {
          "output_type": "execute_result",
          "data": {
            "text/plain": [
              "numpy.ndarray"
            ]
          },
          "metadata": {
            "tags": []
          },
          "execution_count": 28
        }
      ]
    },
    {
      "cell_type": "code",
      "metadata": {
        "_uuid": "e57109377ec2f6c93542f038ccf57fc751f06812",
        "jupyter": {
          "outputs_hidden": true
        },
        "id": "hdatzdS-IUGU",
        "colab_type": "code",
        "colab": {}
      },
      "source": [
        "X = np.concatenate((X_train, X_test))\n",
        "y = np.concatenate((y_train, y_test))"
      ],
      "execution_count": null,
      "outputs": []
    },
    {
      "cell_type": "code",
      "metadata": {
        "id": "A3DLLPPqQXaW",
        "colab_type": "code",
        "colab": {
          "base_uri": "https://localhost:8080/",
          "height": 34
        },
        "outputId": "4efadb76-ae0f-44be-f2d4-3ec6f746c1af"
      },
      "source": [
        "X.shape"
      ],
      "execution_count": null,
      "outputs": [
        {
          "output_type": "execute_result",
          "data": {
            "text/plain": [
              "(10299, 561)"
            ]
          },
          "metadata": {
            "tags": []
          },
          "execution_count": 31
        }
      ]
    },
    {
      "cell_type": "markdown",
      "metadata": {
        "_uuid": "77c4ccbe64c015a09874cff61bf751b0e7917ef4",
        "id": "1h664QUOIUGY",
        "colab_type": "text"
      },
      "source": [
        "Define the number of unique values of the labels of the target class."
      ]
    },
    {
      "cell_type": "code",
      "metadata": {
        "_uuid": "5a92a3783a446acf928972d3ec418f29a0cff6e0",
        "jupyter": {
          "outputs_hidden": true
        },
        "id": "18kuUubMIUGZ",
        "colab_type": "code",
        "colab": {
          "base_uri": "https://localhost:8080/",
          "height": 34
        },
        "outputId": "86e72662-ac23-49eb-d739-dd8a9d9449ca"
      },
      "source": [
        "np.unique(y)"
      ],
      "execution_count": null,
      "outputs": [
        {
          "output_type": "execute_result",
          "data": {
            "text/plain": [
              "array([1, 2, 3, 4, 5, 6])"
            ]
          },
          "metadata": {
            "tags": []
          },
          "execution_count": 32
        }
      ]
    },
    {
      "cell_type": "code",
      "metadata": {
        "_uuid": "e29b5a97cba7305053fbe12985eb3abaf012eeb0",
        "jupyter": {
          "outputs_hidden": true
        },
        "id": "0GcuGM2RIUGf",
        "colab_type": "code",
        "colab": {}
      },
      "source": [
        "n_classes = np.unique(y).size"
      ],
      "execution_count": null,
      "outputs": []
    },
    {
      "cell_type": "markdown",
      "metadata": {
        "_uuid": "3c878aa4cc63242a33b9d030efba7623bd8a5d2c",
        "id": "9TYAiwSlIUGj",
        "colab_type": "text"
      },
      "source": [
        "[These labels correspond to:](https://archive.ics.uci.edu/ml/machine-learning-databases/00240/UCI%20HAR%20Dataset.names)\n",
        "- 1 – walking\n",
        "- 2 – walking upstairs\n",
        "- 3 – walking downstairs\n",
        "- 4 – sitting\n",
        "- 5 – standing\n",
        "- 6 – laying down"
      ]
    },
    {
      "cell_type": "markdown",
      "metadata": {
        "_uuid": "f2037a9432194f9a3d2f390ca2ad49a1ac1a6192",
        "id": "HWwWWJoYIUGj",
        "colab_type": "text"
      },
      "source": [
        "Scale the sample using `StandardScaler` with default parameters."
      ]
    },
    {
      "cell_type": "code",
      "metadata": {
        "_uuid": "70461dfacab8bd090d951e6114beaa40aa293919",
        "jupyter": {
          "outputs_hidden": true
        },
        "id": "KKTXWiArIUGk",
        "colab_type": "code",
        "colab": {}
      },
      "source": [
        "scaler = StandardScaler()\n",
        "X = scaler.fit_transform(X) "
      ],
      "execution_count": null,
      "outputs": []
    },
    {
      "cell_type": "markdown",
      "metadata": {
        "_uuid": "b7249210501c3396bddbf57cea47ac01a0d85170",
        "id": "u7bBpwYqIUGp",
        "colab_type": "text"
      },
      "source": [
        "Reduce the number of dimensions using PCA, leaving as many components as necessary to explain at least 90% of the variance of the original (scaled) data. Use the scaled dataset and fix `random_state` (RANDOM_STATE constant)."
      ]
    },
    {
      "cell_type": "code",
      "metadata": {
        "_uuid": "2fc8993e03857d93b59e5e1e5800f494b23239be",
        "jupyter": {
          "outputs_hidden": true
        },
        "id": "AurqyHLBIUGq",
        "colab_type": "code",
        "colab": {}
      },
      "source": [
        "pca = PCA(n_components=0.90, random_state=RANDOM_STATE)\n",
        "X_pca = pca.fit_transform(X)"
      ],
      "execution_count": null,
      "outputs": []
    },
    {
      "cell_type": "markdown",
      "metadata": {
        "_uuid": "f0664d287ec08bb891d3c12fc87977bf92c97ae3",
        "id": "5vjiw3e1IUGu",
        "colab_type": "text"
      },
      "source": [
        "** Question 1: ** <br>\n",
        "What is the minimum number of principal components required to cover the 90% of the variance of the original (scaled) data?"
      ]
    },
    {
      "cell_type": "code",
      "metadata": {
        "_uuid": "c67c5a22dec7dbc1bfa362d85ddad72334cb6ffb",
        "jupyter": {
          "outputs_hidden": true
        },
        "id": "VOewTuETIUGv",
        "colab_type": "code",
        "colab": {
          "base_uri": "https://localhost:8080/",
          "height": 34
        },
        "outputId": "af2ea256-1782-4733-d6ec-a71a5b3a91be"
      },
      "source": [
        "X_pca.shape"
      ],
      "execution_count": null,
      "outputs": [
        {
          "output_type": "execute_result",
          "data": {
            "text/plain": [
              "(10299, 65)"
            ]
          },
          "metadata": {
            "tags": []
          },
          "execution_count": 38
        }
      ]
    },
    {
      "cell_type": "markdown",
      "metadata": {
        "_uuid": "a3d8270e6546cb8b38b7cd47909eff93d77716bc",
        "id": "Jj8ou1aYIUGz",
        "colab_type": "text"
      },
      "source": [
        "**Answer options:**\n",
        "- 56 \n",
        "- 65\n",
        "- 66\n",
        "- 193"
      ]
    },
    {
      "cell_type": "code",
      "metadata": {
        "id": "zWYAVGJcoQSb",
        "colab_type": "code",
        "colab": {}
      },
      "source": [
        "round(float(pca.explained_variance_ratio_[0] * 100))"
      ],
      "execution_count": null,
      "outputs": []
    },
    {
      "cell_type": "markdown",
      "metadata": {
        "_uuid": "baf5451408baf763d178b01a5d75e37105f4446e",
        "id": "V-xYsshkIUG0",
        "colab_type": "text"
      },
      "source": [
        "**Вопрос 2:**<br>\n",
        "What percentage of the variance is covered by the first principal component? Round to the nearest percent.\n",
        "\n",
        "**Answer options:**\n",
        "- 45\n",
        "- 51 \n",
        "- 56\n",
        "- 61"
      ]
    },
    {
      "cell_type": "code",
      "metadata": {
        "_uuid": "3fcec6dd81af6f09364cb011ba0994d4e5852f43",
        "jupyter": {
          "outputs_hidden": true
        },
        "id": "WRjiNn6lIUG1",
        "colab_type": "code",
        "colab": {
          "base_uri": "https://localhost:8080/",
          "height": 238
        },
        "outputId": "37734592-8603-4bc4-a46a-7f5b2b95d3d7"
      },
      "source": [
        "pca.explained_variance_ratio_"
      ],
      "execution_count": null,
      "outputs": [
        {
          "output_type": "execute_result",
          "data": {
            "text/plain": [
              "array([0.50738221, 0.06239186, 0.02692564, 0.02452871, 0.01888936,\n",
              "       0.01631395, 0.01414533, 0.01216211, 0.00985248, 0.00949228,\n",
              "       0.00858304, 0.0080998 , 0.00765863, 0.00676668, 0.00630242,\n",
              "       0.00615718, 0.00595335, 0.00577195, 0.00563431, 0.0054083 ,\n",
              "       0.00518828, 0.00502742, 0.00473229, 0.00463818, 0.00446848,\n",
              "       0.00439868, 0.00416863, 0.00400809, 0.00389072, 0.00381339,\n",
              "       0.0036687 , 0.00364357, 0.00349225, 0.00346736, 0.00335539,\n",
              "       0.00329411, 0.00323824, 0.00300508, 0.00294254, 0.00290452,\n",
              "       0.00275765, 0.00269864, 0.00264196, 0.0025803 , 0.00255031,\n",
              "       0.00247776, 0.00245537, 0.0023829 , 0.00235902, 0.00232044,\n",
              "       0.0022836 , 0.00219182, 0.00212631, 0.00209145, 0.0020348 ,\n",
              "       0.00201167, 0.00198111, 0.00194391, 0.00192509, 0.00189539,\n",
              "       0.00186403, 0.00182923, 0.00180956, 0.00176364, 0.00174188])"
            ]
          },
          "metadata": {
            "tags": []
          },
          "execution_count": 40
        }
      ]
    },
    {
      "cell_type": "markdown",
      "metadata": {
        "_uuid": "53787132590f0f8b8f9b44d47981f9de969b89f2",
        "id": "uAfb7LwYIUG4",
        "colab_type": "text"
      },
      "source": [
        "Visualize data in projection on the first two principal components."
      ]
    },
    {
      "cell_type": "code",
      "metadata": {
        "_uuid": "3ce508b33d3f0a1128265e57cad8b8093a71f8a6",
        "jupyter": {
          "outputs_hidden": true
        },
        "id": "p256gLSzIUG5",
        "colab_type": "code",
        "colab": {
          "base_uri": "https://localhost:8080/",
          "height": 534
        },
        "outputId": "aaec5f54-1478-4cff-9410-00e723c50d28"
      },
      "source": [
        "plt.scatter(X_pca[:,0], X_pca[:,1] , c=y, s=20, cmap='viridis');"
      ],
      "execution_count": null,
      "outputs": [
        {
          "output_type": "display_data",
          "data": {
            "image/png": "[encoded data removed]",
            "text/plain": [
              "<Figure size 864x648 with 1 Axes>"
            ]
          },
          "metadata": {
            "tags": []
          }
        }
      ]
    },
    {
      "cell_type": "markdown",
      "metadata": {
        "_uuid": "e54a8eb905c5d9b6180083fab0ef8f74ca582c62",
        "id": "dlQJHJUEIUG-",
        "colab_type": "text"
      },
      "source": [
        "**Question 3:**<br>\n",
        "If everything worked out correctly, you will see a number of clusters, almost perfectly separated from each other. What types of activity are included in these clusters? <br>\n",
        "\n",
        "**Answer options:**\n",
        "- 1 cluster: all 6 activities\n",
        "- 2 clusters: (walking, walking upstairs, walking downstairs ) and (sitting, standing, laying)\n",
        "- 3 clusters: (walking), (walking upstairs, walking downstairs) and (sitting, standing, laying)\n",
        "- 6 clusters"
      ]
    },
    {
      "cell_type": "markdown",
      "metadata": {
        "_uuid": "8880c32278abd73e16764a6b842717cd783b66cf",
        "id": "Ow2HPPo4IUG_",
        "colab_type": "text"
      },
      "source": [
        "------------------------------"
      ]
    },
    {
      "cell_type": "markdown",
      "metadata": {
        "_uuid": "37b0cfd306d225c21ae1e2a8abb882870a24271b",
        "id": "ZVv9glolIUHA",
        "colab_type": "text"
      },
      "source": [
        "Perform clustering with the `KMeans` method, training the model on data with reduced dimensionality (by PCA). In this case, we will give a clue to look for exactly 6 clusters, but in general case we will not know how many clusters we should be looking for.\n",
        "\n",
        "Options:\n",
        "\n",
        "- ** n_clusters ** = n_classes (number of unique labels of the target class)\n",
        "- ** n_init ** = 100\n",
        "- ** random_state ** = RANDOM_STATE (for reproducibility of the result)\n",
        "\n",
        "Other parameters should have default values."
      ]
    },
    {
      "cell_type": "code",
      "metadata": {
        "id": "KvGrv3hGD6yq",
        "colab_type": "code",
        "colab": {
          "base_uri": "https://localhost:8080/",
          "height": 34
        },
        "outputId": "126511de-8928-4385-b9ae-ab08657a88a4"
      },
      "source": [
        "n_classes"
      ],
      "execution_count": null,
      "outputs": [
        {
          "output_type": "execute_result",
          "data": {
            "text/plain": [
              "6"
            ]
          },
          "metadata": {
            "tags": []
          },
          "execution_count": 65
        }
      ]
    },
    {
      "cell_type": "code",
      "metadata": {
        "_uuid": "0d6d17a62f335bb062ea0e5134cb03ff60cb085b",
        "jupyter": {
          "outputs_hidden": true
        },
        "id": "Pkolba7jIUHB",
        "colab_type": "code",
        "colab": {
          "base_uri": "https://localhost:8080/",
          "height": 34
        },
        "outputId": "92b12eb9-8787-4cc7-b906-5c46208ca6ca"
      },
      "source": [
        "kmeans = KMeans(n_clusters=n_classes, n_init=100, random_state=RANDOM_STATE)\n",
        "kmeans.fit(X_pca)\n",
        "cluster_labels = kmeans.labels_\n",
        "cluster_labels"
      ],
      "execution_count": null,
      "outputs": [
        {
          "output_type": "execute_result",
          "data": {
            "text/plain": [
              "array([1, 1, 1, ..., 0, 0, 0], dtype=int32)"
            ]
          },
          "metadata": {
            "tags": []
          },
          "execution_count": 66
        }
      ]
    },
    {
      "cell_type": "markdown",
      "metadata": {
        "_uuid": "e34d43b9b3ebd34ad01c3a1d9d1a4dde85a4e832",
        "id": "fNIy0V7bIUHF",
        "colab_type": "text"
      },
      "source": [
        "Visualize data in projection on the first two principal components. Color the dots according to the clusters obtained."
      ]
    },
    {
      "cell_type": "code",
      "metadata": {
        "id": "fSWaGvdpFYMR",
        "colab_type": "code",
        "colab": {
          "base_uri": "https://localhost:8080/",
          "height": 51
        },
        "outputId": "49b826d4-249b-4fd6-889f-bb98b903ba19"
      },
      "source": [
        "np.unique(cluster_labels, return_counts=True)\n",
        "\n"
      ],
      "execution_count": null,
      "outputs": [
        {
          "output_type": "execute_result",
          "data": {
            "text/plain": [
              "(array([0, 1, 2, 3, 4, 5], dtype=int32),\n",
              " array([2470, 2631, 1927, 1343,  279, 1649]))"
            ]
          },
          "metadata": {
            "tags": []
          },
          "execution_count": 67
        }
      ]
    },
    {
      "cell_type": "code",
      "metadata": {
        "_uuid": "c05aa57fd57870aaa25543be822a75801a80b9a2",
        "jupyter": {
          "outputs_hidden": true
        },
        "id": "2Qv6p66VIUHG",
        "colab_type": "code",
        "colab": {
          "base_uri": "https://localhost:8080/",
          "height": 534
        },
        "outputId": "ab27b4a6-9831-422d-c386-1324f7a87d63"
      },
      "source": [
        "plt.scatter(X_pca[:, 0], X_pca[:, 1], c=cluster_labels, s=20, cmap='viridis');"
      ],
      "execution_count": null,
      "outputs": [
        {
          "output_type": "display_data",
          "data": {
            "image/png": "[encoded data removed]",
            "text/plain": [
              "<Figure size 864x648 with 1 Axes>"
            ]
          },
          "metadata": {
            "tags": []
          }
        }
      ]
    },
    {
      "cell_type": "markdown",
      "metadata": {
        "_uuid": "0d84b356e4e6f91f05fdb9a526ccfdb099523882",
        "id": "az7Tb9a-IUHN",
        "colab_type": "text"
      },
      "source": [
        "Look at the correspondence between the cluster marks and the original class labels and what kinds of activities the `KMeans` algorithm is confused at."
      ]
    },
    {
      "cell_type": "code",
      "metadata": {
        "_uuid": "617e35a6ce5f78fa73d315b5cdbcad8e29c8cf21",
        "jupyter": {
          "outputs_hidden": true
        },
        "id": "FOr1TfNnIUHP",
        "colab_type": "code",
        "colab": {
          "base_uri": "https://localhost:8080/",
          "height": 266
        },
        "outputId": "66b212e5-9d02-4386-b62d-c48b567e792c"
      },
      "source": [
        "tab = pd.crosstab(y, cluster_labels, margins=True)\n",
        "tab.index = ['walking', 'going up the stairs',\n",
        "             'going down the stairs', 'sitting', 'standing', 'laying', 'all']\n",
        "tab.columns = ['cluster' + str(i + 1) for i in range(6)] + ['all']\n",
        "tab"
      ],
      "execution_count": null,
      "outputs": [
        {
          "output_type": "execute_result",
          "data": {
            "text/html": [
              "<div>\n",
              "<style scoped>\n",
              "    .dataframe tbody tr th:only-of-type {\n",
              "        vertical-align: middle;\n",
              "    }\n",
              "\n",
              "    .dataframe tbody tr th {\n",
              "        vertical-align: top;\n",
              "    }\n",
              "\n",
              "    .dataframe thead th {\n",
              "        text-align: right;\n",
              "    }\n",
              "</style>\n",
              "<table border=\"1\" class=\"dataframe\">\n",
              "  <thead>\n",
              "    <tr style=\"text-align: right;\">\n",
              "      <th></th>\n",
              "      <th>cluster1</th>\n",
              "      <th>cluster2</th>\n",
              "      <th>cluster3</th>\n",
              "      <th>cluster4</th>\n",
              "      <th>cluster5</th>\n",
              "      <th>cluster6</th>\n",
              "      <th>all</th>\n",
              "    </tr>\n",
              "  </thead>\n",
              "  <tbody>\n",
              "    <tr>\n",
              "      <th>walking</th>\n",
              "      <td>903</td>\n",
              "      <td>0</td>\n",
              "      <td>741</td>\n",
              "      <td>0</td>\n",
              "      <td>78</td>\n",
              "      <td>0</td>\n",
              "      <td>1722</td>\n",
              "    </tr>\n",
              "    <tr>\n",
              "      <th>going up the stairs</th>\n",
              "      <td>1241</td>\n",
              "      <td>0</td>\n",
              "      <td>296</td>\n",
              "      <td>2</td>\n",
              "      <td>5</td>\n",
              "      <td>0</td>\n",
              "      <td>1544</td>\n",
              "    </tr>\n",
              "    <tr>\n",
              "      <th>going down the stairs</th>\n",
              "      <td>320</td>\n",
              "      <td>0</td>\n",
              "      <td>890</td>\n",
              "      <td>0</td>\n",
              "      <td>196</td>\n",
              "      <td>0</td>\n",
              "      <td>1406</td>\n",
              "    </tr>\n",
              "    <tr>\n",
              "      <th>sitting</th>\n",
              "      <td>1</td>\n",
              "      <td>1235</td>\n",
              "      <td>0</td>\n",
              "      <td>450</td>\n",
              "      <td>0</td>\n",
              "      <td>91</td>\n",
              "      <td>1777</td>\n",
              "    </tr>\n",
              "    <tr>\n",
              "      <th>standing</th>\n",
              "      <td>0</td>\n",
              "      <td>1344</td>\n",
              "      <td>0</td>\n",
              "      <td>562</td>\n",
              "      <td>0</td>\n",
              "      <td>0</td>\n",
              "      <td>1906</td>\n",
              "    </tr>\n",
              "    <tr>\n",
              "      <th>laying</th>\n",
              "      <td>5</td>\n",
              "      <td>52</td>\n",
              "      <td>0</td>\n",
              "      <td>329</td>\n",
              "      <td>0</td>\n",
              "      <td>1558</td>\n",
              "      <td>1944</td>\n",
              "    </tr>\n",
              "    <tr>\n",
              "      <th>all</th>\n",
              "      <td>2470</td>\n",
              "      <td>2631</td>\n",
              "      <td>1927</td>\n",
              "      <td>1343</td>\n",
              "      <td>279</td>\n",
              "      <td>1649</td>\n",
              "      <td>10299</td>\n",
              "    </tr>\n",
              "  </tbody>\n",
              "</table>\n",
              "</div>"
            ],
            "text/plain": [
              "                       cluster1  cluster2  cluster3  ...  cluster5  cluster6    all\n",
              "walking                     903         0       741  ...        78         0   1722\n",
              "going up the stairs        1241         0       296  ...         5         0   1544\n",
              "going down the stairs       320         0       890  ...       196         0   1406\n",
              "sitting                       1      1235         0  ...         0        91   1777\n",
              "standing                      0      1344         0  ...         0         0   1906\n",
              "laying                        5        52         0  ...         0      1558   1944\n",
              "all                        2470      2631      1927  ...       279      1649  10299\n",
              "\n",
              "[7 rows x 7 columns]"
            ]
          },
          "metadata": {
            "tags": []
          },
          "execution_count": 64
        }
      ]
    },
    {
      "cell_type": "markdown",
      "metadata": {
        "_uuid": "047f89c9981e696776ee98f87d0934ee1b08ed98",
        "id": "6uFGxpoHIUHT",
        "colab_type": "text"
      },
      "source": [
        "We see that for each class (i.e., each activity) there are several clusters. Let's look at the maximum percentage of objects in a class that are assigned to a single cluster. This will be a simple metric that characterizes how easily the class is separated from others when clustering.\n",
        "\n",
        "\n",
        "Example: if for class \"walking downstairs\" (with 1406 instances belonging to it), the distribution of clusters is:\n",
        " - cluster 1 - 900\n",
        " - cluster 3 - 500\n",
        " - cluster 6 - 6,\n",
        " \n",
        "then such a share will be 900/1406 $ \\approx $ 0.64.\n",
        " \n",
        "\n",
        "** Question 4: ** <br>\n",
        "Which activity is separated from the rest better than others based on the simple metric described above? <br>\n",
        "\n",
        "**Answer:**\n",
        "- walking\n",
        "- standing\n",
        "- walking downstairs\n",
        "- all three options are incorrect"
      ]
    },
    {
      "cell_type": "code",
      "metadata": {
        "id": "j0SGMWSVMXAa",
        "colab_type": "code",
        "colab": {
          "base_uri": "https://localhost:8080/",
          "height": 34
        },
        "outputId": "5737fd6a-bcc0-4548-f23a-e694f6bd5a0e"
      },
      "source": [
        "type(tab)"
      ],
      "execution_count": null,
      "outputs": [
        {
          "output_type": "execute_result",
          "data": {
            "text/plain": [
              "pandas.core.frame.DataFrame"
            ]
          },
          "metadata": {
            "tags": []
          },
          "execution_count": 69
        }
      ]
    },
    {
      "cell_type": "code",
      "metadata": {
        "id": "9FtN_bIQL2Sk",
        "colab_type": "code",
        "colab": {
          "base_uri": "https://localhost:8080/",
          "height": 235
        },
        "outputId": "2d3d2062-2480-443c-86de-49d9285903be"
      },
      "source": [
        "tab2 = tab.iloc[:-1, :-1]\n",
        "tab2"
      ],
      "execution_count": null,
      "outputs": [
        {
          "output_type": "execute_result",
          "data": {
            "text/html": [
              "<div>\n",
              "<style scoped>\n",
              "    .dataframe tbody tr th:only-of-type {\n",
              "        vertical-align: middle;\n",
              "    }\n",
              "\n",
              "    .dataframe tbody tr th {\n",
              "        vertical-align: top;\n",
              "    }\n",
              "\n",
              "    .dataframe thead th {\n",
              "        text-align: right;\n",
              "    }\n",
              "</style>\n",
              "<table border=\"1\" class=\"dataframe\">\n",
              "  <thead>\n",
              "    <tr style=\"text-align: right;\">\n",
              "      <th></th>\n",
              "      <th>cluster1</th>\n",
              "      <th>cluster2</th>\n",
              "      <th>cluster3</th>\n",
              "      <th>cluster4</th>\n",
              "      <th>cluster5</th>\n",
              "      <th>cluster6</th>\n",
              "    </tr>\n",
              "  </thead>\n",
              "  <tbody>\n",
              "    <tr>\n",
              "      <th>walking</th>\n",
              "      <td>903</td>\n",
              "      <td>0</td>\n",
              "      <td>741</td>\n",
              "      <td>0</td>\n",
              "      <td>78</td>\n",
              "      <td>0</td>\n",
              "    </tr>\n",
              "    <tr>\n",
              "      <th>going up the stairs</th>\n",
              "      <td>1241</td>\n",
              "      <td>0</td>\n",
              "      <td>296</td>\n",
              "      <td>2</td>\n",
              "      <td>5</td>\n",
              "      <td>0</td>\n",
              "    </tr>\n",
              "    <tr>\n",
              "      <th>going down the stairs</th>\n",
              "      <td>320</td>\n",
              "      <td>0</td>\n",
              "      <td>890</td>\n",
              "      <td>0</td>\n",
              "      <td>196</td>\n",
              "      <td>0</td>\n",
              "    </tr>\n",
              "    <tr>\n",
              "      <th>sitting</th>\n",
              "      <td>1</td>\n",
              "      <td>1235</td>\n",
              "      <td>0</td>\n",
              "      <td>450</td>\n",
              "      <td>0</td>\n",
              "      <td>91</td>\n",
              "    </tr>\n",
              "    <tr>\n",
              "      <th>standing</th>\n",
              "      <td>0</td>\n",
              "      <td>1344</td>\n",
              "      <td>0</td>\n",
              "      <td>562</td>\n",
              "      <td>0</td>\n",
              "      <td>0</td>\n",
              "    </tr>\n",
              "    <tr>\n",
              "      <th>laying</th>\n",
              "      <td>5</td>\n",
              "      <td>52</td>\n",
              "      <td>0</td>\n",
              "      <td>329</td>\n",
              "      <td>0</td>\n",
              "      <td>1558</td>\n",
              "    </tr>\n",
              "  </tbody>\n",
              "</table>\n",
              "</div>"
            ],
            "text/plain": [
              "                       cluster1  cluster2  ...  cluster5  cluster6\n",
              "walking                     903         0  ...        78         0\n",
              "going up the stairs        1241         0  ...         5         0\n",
              "going down the stairs       320         0  ...       196         0\n",
              "sitting                       1      1235  ...         0        91\n",
              "standing                      0      1344  ...         0         0\n",
              "laying                        5        52  ...         0      1558\n",
              "\n",
              "[6 rows x 6 columns]"
            ]
          },
          "metadata": {
            "tags": []
          },
          "execution_count": 76
        }
      ]
    },
    {
      "cell_type": "code",
      "metadata": {
        "id": "paoMep8-ODC2",
        "colab_type": "code",
        "colab": {
          "base_uri": "https://localhost:8080/",
          "height": 153
        },
        "outputId": "4d480797-cfc7-47ab-9a32-5409607606d2"
      },
      "source": [
        "rows = tab2.max(axis=1)\n",
        "rows/tab['all']"
      ],
      "execution_count": null,
      "outputs": [
        {
          "output_type": "execute_result",
          "data": {
            "text/plain": [
              "all                           NaN\n",
              "going down the stairs    0.633001\n",
              "going up the stairs      0.803756\n",
              "laying                   0.801440\n",
              "sitting                  0.694992\n",
              "standing                 0.705142\n",
              "walking                  0.524390\n",
              "dtype: float64"
            ]
          },
          "metadata": {
            "tags": []
          },
          "execution_count": 83
        }
      ]
    },
    {
      "cell_type": "markdown",
      "metadata": {
        "_uuid": "c51f76505725d754a6d54f7bd01dedff7d5dc288",
        "id": "sXeWs4OgIUHU",
        "colab_type": "text"
      },
      "source": [
        "It can be seen that kMeans does not distinguish activities very well. Use the elbow method to select the optimal number of clusters. Parameters of the algorithm and the data we use are the same as before, we change only `n_clusters`."
      ]
    },
    {
      "cell_type": "code",
      "metadata": {
        "_uuid": "90c60a1f8bce02bfedd8233190b7ff81fb134d35",
        "jupyter": {
          "outputs_hidden": true
        },
        "id": "_imfMXFIIUHV",
        "colab_type": "code",
        "colab": {
          "base_uri": "https://localhost:8080/",
          "height": 117,
          "referenced_widgets": [
            "6b2c5c4e1b504135b2529b089f62ddf0",
            "ba44f7153f7f4ba08f792e17f6ca9abf",
            "9d725855e62d427380230ef0d8372c4a",
            "d799609c75e54cbbb8914fd585da21db",
            "961022305f1643e4b08e825780413e84",
            "da24e0ba13fe4a0a999f5eb1b44fea82",
            "5f444277c6d24c95a39988ef708b9ff2",
            "76eaf9b260974b0d953d80f5da5bc612"
          ]
        },
        "outputId": "c2f12f53-3e31-4a9f-9ff3-7e7f3ae2fa84"
      },
      "source": [
        "inertia = []\n",
        "for k in tqdm_notebook(range(1, n_classes + 1)):\n",
        "  kmeans = KMeans(n_clusters=k, n_init=100, \n",
        "                    random_state=RANDOM_STATE, n_jobs=1).fit(X_pca)\n",
        "  inertia.append(np.sqrt(kmeans.inertia_))"
      ],
      "execution_count": null,
      "outputs": [
        {
          "output_type": "stream",
          "text": [
            "/usr/local/lib/python3.6/dist-packages/ipykernel_launcher.py:2: TqdmDeprecationWarning: This function will be removed in tqdm==5.0.0\n",
            "Please use `tqdm.notebook.tqdm` instead of `tqdm.tqdm_notebook`\n",
            "  \n"
          ],
          "name": "stderr"
        },
        {
          "output_type": "display_data",
          "data": {
            "application/vnd.jupyter.widget-view+json": {
              "model_id": "6b2c5c4e1b504135b2529b089f62ddf0",
              "version_minor": 0,
              "version_major": 2
            },
            "text/plain": [
              "HBox(children=(FloatProgress(value=0.0, max=6.0), HTML(value='')))"
            ]
          },
          "metadata": {
            "tags": []
          }
        },
        {
          "output_type": "stream",
          "text": [
            "\n"
          ],
          "name": "stdout"
        }
      ]
    },
    {
      "cell_type": "markdown",
      "metadata": {
        "_uuid": "5f9d80ac0bea5173134d880a5c1faf233456cd12",
        "id": "IqJY_T0EIUHZ",
        "colab_type": "text"
      },
      "source": [
        "** Question 5: ** <br>\n",
        "How many clusters can we choose according to the elbow method? <br>\n",
        "\n",
        "**Answer options:**\n",
        "- 1\n",
        "- 2\n",
        "- 3\n",
        "- 4"
      ]
    },
    {
      "cell_type": "code",
      "metadata": {
        "id": "E-wENsyjRspJ",
        "colab_type": "code",
        "colab": {
          "base_uri": "https://localhost:8080/",
          "height": 551
        },
        "outputId": "4a3ad17d-9aa3-4aa0-9b5f-01ecefa499c7"
      },
      "source": [
        "plt.plot(range(1, 7), inertia, marker='s')"
      ],
      "execution_count": null,
      "outputs": [
        {
          "output_type": "execute_result",
          "data": {
            "text/plain": [
              "[<matplotlib.lines.Line2D at 0x7f94fe46e668>]"
            ]
          },
          "metadata": {
            "tags": []
          },
          "execution_count": 88
        },
        {
          "output_type": "display_data",
          "data": {
            "image/png": "[encoded data removed]",
            "text/plain": [
              "<Figure size 864x648 with 1 Axes>"
            ]
          },
          "metadata": {
            "tags": []
          }
        }
      ]
    }
  ]
}