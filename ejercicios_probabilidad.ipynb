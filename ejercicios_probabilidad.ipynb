{
  "nbformat": 4,
  "nbformat_minor": 0,
  "metadata": {
    "kernelspec": {
      "display_name": "Python 3",
      "language": "python",
      "name": "python3"
    },
    "language_info": {
      "codemirror_mode": {
        "name": "ipython",
        "version": 3
      },
      "file_extension": ".py",
      "mimetype": "text/x-python",
      "name": "python",
      "nbconvert_exporter": "python",
      "pygments_lexer": "ipython3",
      "version": "3.6.9"
    },
    "colab": {
      "name": "ejercicios_probabilidad.ipynb",
      "provenance": [],
      "collapsed_sections": []
    }
  },
  "cells": [
    {
      "cell_type": "markdown",
      "metadata": {
        "id": "mS9SWKRRAVNq",
        "colab_type": "text"
      },
      "source": [
        "## Jugando con Probabilidades y Python\n",
        "\n",
        "\n",
        "### La coincidencia de cumpleaños\n",
        "\n",
        "(https://es.wikipedia.org/wiki/Paradoja_del_cumplea%C3%B1os) \n",
        "\n",
        "¿Cuál es la probabilidad de que, en un grupo de personas elegidas al azar, al menos dos de ellas habrán nacido el mismo día del año? ¿Cuántas personas son necesarias para asegurar una probabilidad mayor al 50%?. \n",
        "\n",
        "Calcular esa probabilidad es complicado, así que vamos a calcular la probabilidad de que no coincidan, suponiendo que con eventos independientes (es decir las podemos multiplicar), y luego calcularemos la probabilidad de que coincidan como 1 menos esa probabilidad. \n",
        "\n",
        "Excluyendo el 29 de febrero de nuestros cálculos y asumiendo que los restantes 365 días de posibles cumpleaños son igualmente probables, vamos a calcular esas dos cuestiones."
      ]
    },
    {
      "cell_type": "code",
      "metadata": {
        "jupyter": {
          "outputs_hidden": false
        },
        "id": "TCay-TKtAVNr",
        "colab_type": "code",
        "colab": {
          "base_uri": "https://localhost:8080/",
          "height": 52
        },
        "outputId": "0f8852b9-566a-4de9-dfd6-7ed19e267a03"
      },
      "source": [
        "# Ejemplo situación 2 La coincidencia de cumpleaños\n",
        "\n",
        "prob = 1.0\n",
        "asistentes = 50\n",
        "\n",
        "# calculamos la probabilidad de coincidencia para 50 asistentes\n",
        "\n",
        "for i in range(asistentes):\n",
        "    prob = prob * (365-i)/365\n",
        "\n",
        "print(\"Probabilidad de que compartan una misma fecha de cumpleaños es {0:.2f}\"\n",
        "      .format(1 - prob))\n",
        "\n",
        "# Calculamos el número de asistentes necesarios para asegurar \n",
        "# que la probabilidad de coincidencia sea mayor del 50%\n",
        "\n",
        "asistentes = 0\n",
        "prob = 1 \n",
        "while prob > 0.5:\n",
        "    prob = prob * (365-i)/365\n",
        "    asistentes += 1\n",
        "\n",
        "print(\"Para asegurar que la probabilidad es mayor del 50% necesitamos {0} asistentes\".format(asistentes))"
      ],
      "execution_count": 2,
      "outputs": [
        {
          "output_type": "stream",
          "text": [
            "Probabilidad de que compartan una misma fecha de cumpleaños es 0.97\n",
            "Para asegurar que la probabilidad es mayor del 50% necesitamos 5 asistentes\n"
          ],
          "name": "stdout"
        }
      ]
    },
    {
      "cell_type": "markdown",
      "metadata": {
        "colab_type": "text",
        "id": "T82T2FuSk8YV"
      },
      "source": [
        "## Variables aleatorias. Vamos a tirar un dado\n",
        "\n",
        "Vamos a trabajar con variables discretas, y en este caso vamos a reproducir un dado con la librería `random` que forma parte de la librería estandar de Python:"
      ]
    },
    {
      "cell_type": "code",
      "metadata": {
        "colab_type": "code",
        "id": "e9u4frvmgmfm",
        "colab": {}
      },
      "source": [
        "# importa la libreria random. puedes utilizar dir() para entender lo que ofrece\n",
        "\n",
        "import random\n"
      ],
      "execution_count": null,
      "outputs": []
    },
    {
      "cell_type": "code",
      "metadata": {
        "colab_type": "code",
        "id": "sSnWP25Sq8Ri",
        "colab": {
          "base_uri": "https://localhost:8080/",
          "height": 102
        },
        "outputId": "c2ca07a6-d682-469d-911f-be3f87df4523"
      },
      "source": [
        "# utiliza help para obtener ayuda sobre el metodo randint\n",
        "\n",
        "help(random.randint)"
      ],
      "execution_count": null,
      "outputs": [
        {
          "output_type": "stream",
          "text": [
            "Help on method randint in module random:\n",
            "\n",
            "randint(a, b) method of random.Random instance\n",
            "    Return random integer in range [a, b], including both end points.\n",
            "\n"
          ],
          "name": "stdout"
        }
      ]
    },
    {
      "cell_type": "code",
      "metadata": {
        "colab_type": "code",
        "id": "uF5EmVCfrFEG",
        "colab": {
          "base_uri": "https://localhost:8080/",
          "height": 34
        },
        "outputId": "30585108-bf18-4501-f72e-a36f9d9ffd6c"
      },
      "source": [
        "# utiliza randint() para simular un dado y haz una tirada\n",
        "\n",
        "random.randint(1,6)\n",
        "print(dado)\n"
      ],
      "execution_count": null,
      "outputs": [
        {
          "output_type": "stream",
          "text": [
            "4\n"
          ],
          "name": "stdout"
        }
      ]
    },
    {
      "cell_type": "code",
      "metadata": {
        "colab_type": "code",
        "id": "BkMh_c9hrMSE",
        "colab": {
          "base_uri": "https://localhost:8080/",
          "height": 34
        },
        "outputId": "f3bff3cc-ffc7-438d-e3b3-480d90f663da"
      },
      "source": [
        "# ahora haz 20 tiradas, y crea una lista con las tiradas\n",
        "\n",
        "tiradas = []\n",
        "for t in range(20):\n",
        "  dado = random.randint(1,6)\n",
        "  tiradas.append(dado)\n",
        "\n",
        "print(tiradas)"
      ],
      "execution_count": null,
      "outputs": [
        {
          "output_type": "stream",
          "text": [
            "[1, 6, 5, 4, 4, 3, 4, 6, 2, 5, 2, 6, 5, 2, 6, 6, 3, 6, 2, 6]\n"
          ],
          "name": "stdout"
        }
      ]
    },
    {
      "cell_type": "code",
      "metadata": {
        "colab_type": "code",
        "id": "9w9ToSNIrT3y",
        "colab": {
          "base_uri": "https://localhost:8080/",
          "height": 34
        },
        "outputId": "19647211-e0cd-4897-bdaa-64083e3f7660"
      },
      "source": [
        "# Vamos a calcular la media de las tiradas\n",
        "\n",
        "mu = sum(tiradas)/ len(tiradas)\n",
        "print(mu)\n"
      ],
      "execution_count": null,
      "outputs": [
        {
          "output_type": "stream",
          "text": [
            "4.2\n"
          ],
          "name": "stdout"
        }
      ]
    },
    {
      "cell_type": "code",
      "metadata": {
        "colab_type": "code",
        "id": "57l2u-wGrtv7",
        "colab": {
          "base_uri": "https://localhost:8080/",
          "height": 51
        },
        "outputId": "f4d7135a-fb53-4273-9a81-b1ec798e67a1"
      },
      "source": [
        "# Calcula ahora la mediana\n",
        "\n",
        "TiradasOrdenada = sorted(tiradas)\n",
        "mediana = len(tiradas)//2\n",
        "print(mediana)\n",
        "print(TiradasOrdenada[mediana])"
      ],
      "execution_count": null,
      "outputs": [
        {
          "output_type": "stream",
          "text": [
            "10\n",
            "5\n"
          ],
          "name": "stdout"
        }
      ]
    },
    {
      "cell_type": "code",
      "metadata": {
        "id": "mwSFUkvKAVN8",
        "colab_type": "code",
        "colab": {
          "base_uri": "https://localhost:8080/",
          "height": 51
        },
        "outputId": "5771eefc-f161-4396-bcbf-edc212b91ea2"
      },
      "source": [
        "# Calcula la moda de las tiradas\n",
        "\n",
        "moda = {1:0, 2:0, 3:0, 4:0, 5:0, 6:0}\n",
        "for t in tiradas:\n",
        "  if t in moda:\n",
        "    moda[t] +=1\n",
        "\n",
        "print(moda)\n",
        "print(f'La moda es {max(moda, key=moda.get)}')\n"
      ],
      "execution_count": null,
      "outputs": [
        {
          "output_type": "stream",
          "text": [
            "{1: 1, 2: 4, 3: 2, 4: 3, 5: 3, 6: 7}\n",
            "La moda es 6\n"
          ],
          "name": "stdout"
        }
      ]
    },
    {
      "cell_type": "code",
      "metadata": {
        "id": "6abkyu0GZmBj",
        "colab_type": "code",
        "colab": {
          "base_uri": "https://localhost:8080/",
          "height": 51
        },
        "outputId": "9cfedea8-cae9-4a61-e96e-ea403fb38932"
      },
      "source": [
        "# TODO moda\n",
        "\n",
        "def printmode(a):\n",
        "  max_element = max(a)\n",
        "\n",
        "  t = max_element +1\n",
        "  cont= [0] * t\n",
        "\n",
        "  for i in range(len(a)):\n",
        "    cont[a[i]] += 1\n",
        "\n",
        "    mode = 0\n",
        "    k = cont[0]\n",
        "\n",
        "    for i in range(1, t):\n",
        "      if cont[i] > k:\n",
        "        k = cont[i]\n",
        "        mode = i\n",
        "    return mode\n",
        "\n",
        "moda = printmode(tiradas)\n",
        "print(tiradas)\n",
        "print(moda)\n"
      ],
      "execution_count": null,
      "outputs": [
        {
          "output_type": "stream",
          "text": [
            "[1, 6, 5, 4, 4, 3, 4, 6, 2, 5, 2, 6, 5, 2, 6, 6, 3, 6, 2, 6]\n",
            "1\n"
          ],
          "name": "stdout"
        }
      ]
    },
    {
      "cell_type": "code",
      "metadata": {
        "id": "dGziftwGabRQ",
        "colab_type": "code",
        "colab": {
          "base_uri": "https://localhost:8080/",
          "height": 34
        },
        "outputId": "92d7e407-6eca-456f-9b6d-289ee1c40677"
      },
      "source": [
        "#moda\n",
        "\n",
        "def obtain_mode(nlist, N=6):\n",
        "    repetitions = []\n",
        "    for i in range(1, N+1):\n",
        "        i_rep = 0\n",
        "        for element in nlist:\n",
        "            if element == i:\n",
        "                i_rep += 1\n",
        "        repetitions.append(i_rep)\n",
        "    result = []\n",
        "    for i, element in enumerate(repetitions):\n",
        "        if element == max(repetitions):\n",
        "            result.append(i + 1)\n",
        "    return result\n",
        "\n",
        "obtain_mode(tiradas)"
      ],
      "execution_count": null,
      "outputs": [
        {
          "output_type": "execute_result",
          "data": {
            "text/plain": [
              "[6]"
            ]
          },
          "metadata": {
            "tags": []
          },
          "execution_count": 57
        }
      ]
    },
    {
      "cell_type": "code",
      "metadata": {
        "id": "AEc-mBTkZin2",
        "colab_type": "code",
        "colab": {
          "base_uri": "https://localhost:8080/",
          "height": 34
        },
        "outputId": "1b26ffab-fb39-46d7-91ab-13099ceab3d1"
      },
      "source": [
        "#moda\n",
        "\n",
        "conteo = []\n",
        "\n",
        "for x in range(1, 7):\n",
        "  conteo.append(tiradas.count(x))\n",
        "print(conteo)"
      ],
      "execution_count": null,
      "outputs": [
        {
          "output_type": "stream",
          "text": [
            "[1, 4, 2, 3, 3, 7]\n"
          ],
          "name": "stdout"
        }
      ]
    },
    {
      "cell_type": "markdown",
      "metadata": {
        "id": "ObNYMOrIAVN-",
        "colab_type": "text"
      },
      "source": [
        "## Viendo como evoluciona el número de 6 cuando sacamos más jugadas\n",
        "\n",
        "Vamos a ver ahora como evoluciona el número de seises que obtenemos al lanzar el dado 10000 veces. Vamos a crear una lista en la que cada elemento sea el número de ocurrencias del número 6 dividido entre el número de lanzamientos. \n",
        "\n",
        "crea una lista llamadada ``frecuencia_seis[]`` que almacene estos valores \n"
      ]
    },
    {
      "cell_type": "code",
      "metadata": {
        "jupyter": {
          "outputs_hidden": false
        },
        "id": "uG0YIl63AVN-",
        "colab_type": "code",
        "colab": {}
      },
      "source": [
        "# tu código aquí\n",
        "\n",
        "import random\n",
        "numeros_series = 500\n",
        "frecuencia_seis = []\n",
        "for lanzamientos in range(1,numeros_series):\n",
        "  seises =[]\n",
        "  for i in range(lanzamientos):\n",
        "    seises.append(random.randint(1,6))\n",
        "  numeros_seis = seises.count(6)\n",
        "  frecuencia_seis.append(numeros_seis/lanzamientos)"
      ],
      "execution_count": null,
      "outputs": []
    },
    {
      "cell_type": "markdown",
      "metadata": {
        "id": "9g3FL0JUAVOA",
        "colab_type": "text"
      },
      "source": [
        "### Vamos a tratar de hacerlo gráficamente\n",
        "¿Hacia que valor debería converger los números que forman la lista frecuencia_seis? \n",
        "Revisa la ley de los grandes números para la moneda, y aplica un poco de lógica para este caso.\n"
      ]
    },
    {
      "cell_type": "code",
      "metadata": {
        "id": "z9Xy-WCLAVOA",
        "colab_type": "code",
        "colab": {}
      },
      "source": [
        "import matplotlib.pyplot as plt\n",
        "x = range(1,numeros_series)\n",
        "plt.figure(figsize=(20,10))\n",
        "plt.plot(x,frecuencia_seis)\n",
        "plt.axhline(0.16666, color=‘r’)\n",
        "plt.xlabel(“numero de lanzamientos”)\n",
        "plt.ylabel(“probabilidad de seis”)\n",
        "plt.show()"
      ],
      "execution_count": null,
      "outputs": []
    },
    {
      "cell_type": "markdown",
      "metadata": {
        "id": "j-aIDyWPAVOD",
        "colab_type": "text"
      },
      "source": [
        "# Resolviendo el problema de Monty Hall\n",
        "\n",
        "Este problema, más conocido con el nombre de [Monty Hall](https://es.wikipedia.org/wiki/Problema_de_Monty_Hall).\n",
        "En primer lugar trata de simular el problema de Monty Hall con Python, para ver cuantas veces gana el concursante y cuantas pierde. Realiza por ejemplo 10000 simulaciones del problema, en las que el usuario cambia siempre de puerta. Después puedes comparar con 10000 simulaciones en las que el usuario no cambie de puertas.\n",
        "Cuales son los resultados?\n"
      ]
    },
    {
      "cell_type": "markdown",
      "metadata": {
        "id": "FVgTF0xHAVOD",
        "colab_type": "text"
      },
      "source": [
        "### Monty Hall sin Bayes - Simulación"
      ]
    },
    {
      "cell_type": "code",
      "metadata": {
        "id": "W-PjcCYTAVOE",
        "colab_type": "code",
        "colab": {}
      },
      "source": [
        "\n",
        "# vamos a tratar de solucionar el problema de Monty Hall simulando como jugaría el jugador\n",
        "# Simula 10000 jugadas\n",
        "# Puedes escoger a priori la estrategia: haz 10000 simulaciones en las que el jugador siempre cambie la puerta\n",
        "# y también puedes ejecutar 10000 en las que no cambie\n"
      ],
      "execution_count": null,
      "outputs": []
    },
    {
      "cell_type": "markdown",
      "metadata": {
        "id": "nXzfGka5v7d8",
        "colab_type": "text"
      },
      "source": [
        "[texto del enlace](https://drive.google.com/open?id=1MNZwRlFMwolKK17hzuDcpXck5X11XEqX)"
      ]
    },
    {
      "cell_type": "code",
      "metadata": {
        "id": "YNw6a9XSw_ME",
        "colab_type": "code",
        "colab": {
          "base_uri": "https://localhost:8080/",
          "height": 51
        },
        "outputId": "538002bd-72a5-4ac7-fc61-c1a898bff6ad"
      },
      "source": [
        "# Versión 1\n",
        "\n",
        "import random\n",
        "\n",
        "no_cambia = 0\n",
        "cambia = 0\n",
        "n = 1000000\n",
        "\n",
        "for j in range(n):\n",
        "  puertas = [1,2,3]\n",
        "  coche = random.choice(puertas)\n",
        "  primera_opcion = random.choice(puertas)\n",
        "\n",
        "  puertas.remove(random.choice([p for p in puertas if (p != coche) and (p != primera_opcion)]))\n",
        "  \n",
        "  segunda_opcion = random.choice(puertas)\n",
        "\n",
        "  if primera_opcion == segunda_opcion == coche:\n",
        "    no_cambia +=1\n",
        "  elif (primera_opcion != segunda_opcion) and (segunda_opcion == coche):\n",
        "    cambia +=1\n",
        "\n",
        "cambia_n = cambia/n\n",
        "no_cambia_n = no_cambia/n\n",
        "probab_cambia = cambia_n/(cambia_n + no_cambia_n)\n",
        "probab_no_cambia = no_cambia_n/(cambia_n + no_cambia_n)\n",
        "\n",
        "print(f'Si el jugador no cambia, la probabilidad de ganar es de {probab_no_cambia}, con {no_cambia} aciertos de {n}')\n",
        "print(f'Si el jugador cambia, la probabilidad de ganar es de {probab_cambia}, con {cambia} aciertos de {n}')\n",
        "\n"
      ],
      "execution_count": null,
      "outputs": [
        {
          "output_type": "stream",
          "text": [
            "Si el jugador no cambia, la probabilidad de ganar es de 0.3339348158343269, con 166926 aciertos de 1000000\n",
            "Si el jugador cambia, la probabilidad de ganar es de 0.6660651841656732, con 332950 aciertos de 1000000\n"
          ],
          "name": "stdout"
        }
      ]
    },
    {
      "cell_type": "code",
      "metadata": {
        "id": "ZZ3FRkZ3DbZ6",
        "colab_type": "code",
        "colab": {
          "base_uri": "https://localhost:8080/",
          "height": 187
        },
        "outputId": "c827b84e-0094-4bc5-8691-21d9599ced38"
      },
      "source": [
        "# Versión 2\n",
        "\n",
        "opciones = []\n",
        "ganar_sincambiarpuerta = 0\n",
        "ganar_cambiopuerta = 0\n",
        "perder = 0\n",
        "n = 1000000\n",
        "for i in range(n):\n",
        "    puertas = [1,2,3]\n",
        "    puerta_coche = random.choice(puertas) \n",
        "    election1 = random.choice(puertas)\n",
        "    opciones = [i for i in puertas if (i == puerta_coche or i == election1)]\n",
        "    \n",
        "    if len(opciones) == 1:\n",
        "        puertas.remove(opciones[0])\n",
        "        opciones.append(random.choice(puertas))\n",
        "        \n",
        "    apuesta = random.choice(opciones)\n",
        "    if apuesta == puerta_coche:   \n",
        "        if (apuesta == election1):\n",
        "            ganar_sincambiarpuerta += 1\n",
        "        elif (apuesta != election1):\n",
        "            ganar_cambiopuerta += 1\n",
        "    else:\n",
        "        perder+=1\n",
        "        \n",
        "# Contemplando ganar (de las dos maneras) y perder:\n",
        "\n",
        "p_ganar_sincambiarpuerta = ganar_sincambiarpuerta/n\n",
        "p_ganar_cambiopuerta = ganar_cambiopuerta/n\n",
        "p_perder = perder/n\n",
        "\n",
        "# Contemplando exclusivamente las n veces que se gana:\n",
        "\n",
        "ganar_p_ganar_sincambiarpuerta = p_ganar_sincambiarpuerta/(p_ganar_sincambiarpuerta+p_ganar_cambiopuerta)\n",
        "ganar_p_ganar_cambiopuerta = p_ganar_cambiopuerta/(p_ganar_sincambiarpuerta+p_ganar_cambiopuerta)\n",
        "print('ganar sin cambiar de puerta:\\n',p_ganar_sincambiarpuerta, '\\n ganar cambiando de puerta:\\n', p_ganar_cambiopuerta,' \\n p_perder:\\n',p_perder )\n",
        "print('Solo contemplando el ganar, sin cambiar puerta:\\n',ganar_p_ganar_sincambiarpuerta)\n",
        "print('Solo contemplando el ganar, cambiando de puerta:\\n',ganar_p_ganar_cambiopuerta)"
      ],
      "execution_count": null,
      "outputs": [
        {
          "output_type": "stream",
          "text": [
            "ganar sin cambiar de puerta:\n",
            " 0.166783 \n",
            " ganar cambiando de puerta:\n",
            " 0.33379  \n",
            " p_perder:\n",
            " 0.499427\n",
            "Solo contemplando el ganar, sin cambiar puerta:\n",
            " 0.33318417094010266\n",
            "Solo contemplando el ganar, cambiando de puerta:\n",
            " 0.6668158290598974\n"
          ],
          "name": "stdout"
        }
      ]
    },
    {
      "cell_type": "code",
      "metadata": {
        "id": "BBHqPjwVlCrw",
        "colab_type": "code",
        "colab": {}
      },
      "source": [
        "#MONTY HALL CON CLASES\n",
        "\n",
        "def elegir_puerta():\n",
        "    “”\"\n",
        "    Función para elegir una puerta. Devuelve 1, 2, o 3 en forma aleatoria.\n",
        "    “”\"\n",
        "    return np.random.randint(1,4)\n",
        "class MontyHall:\n",
        "    “”\"\n",
        "    Clase para modelar el problema de Monty Hall.\n",
        "    “”\"\n",
        "    def __init__(self):\n",
        "        “”\"\n",
        "        Crea la instancia del problema.\n",
        "        “”\"\n",
        "        # Elige una puerta en forma aleatoria.\n",
        "        self.puerta_ganadora = elegir_puerta()\n",
        "        # variables para la puerta elegida y la puerta descartada\n",
        "        self.puerta_elegida = None\n",
        "        self.puerta_descartada = None\n",
        "    def selecciona_puerta(self):\n",
        "        “”\"\n",
        "        Selecciona la puerta del concursante en forma aleatoria.\n",
        "        “”\"\n",
        "        self.puerta_elegida = elegir_puerta()\n",
        "    def descarta_puerta(self):\n",
        "        “”\"\n",
        "        Con este método el presentador descarta una de la puertas.\n",
        "        “”\"\n",
        "        # elegir puerta en forma aleatoria .\n",
        "        d = elegir_puerta()\n",
        "        # Si es al puerta ganadora o la del concursante, volver a elegir.\n",
        "        while d == self.puerta_ganadora or d == self.puerta_elegida:\n",
        "            d = elegir_puerta()\n",
        "        # Asignar el valor a puerta_descartada.\n",
        "        self.puerta_descartada = d\n",
        "    def cambiar_puerta(self):\n",
        "        “”\"\n",
        "        Cambia la puerta del concursante una vez que se elimino una puerta.\n",
        "        “”\"\n",
        "        # 1+2+3=6. Solo existe una puerta para elegir.\n",
        "        self.puerta_elegida = 6 - self.puerta_elegida - self.puerta_descartada\n",
        "    def gana_concursante(self):\n",
        "        “”\"\n",
        "        Determina si el concursante gana.\n",
        "        Devuelve True si gana, False si pierde.\n",
        "        “”\"\n",
        "        return self.puerta_elegida == self.puerta_ganadora\n",
        "    def jugar(self, cambiar=True):\n",
        "        “”\"\n",
        "        Una vez que la clase se inicio, jugar el concurso.\n",
        "        ‘cambiar’ determina si el concursante cambia su elección.\n",
        "        “”\"\n",
        "        # El concursante elige una puerta.\n",
        "        self.selecciona_puerta()\n",
        "        # El presentador elimina una puerta.\n",
        "        self.descarta_puerta()\n",
        "        # El concursante cambia su elección.\n",
        "        if cambiar:\n",
        "            self.cambiar_puerta()\n",
        "        # Determinar si el concursante ha ganado.\n",
        "        return self.gana_concursante()\n",
        "\n",
        "\n",
        "        # Ahora, jugamos el concurso. primero nos vamos a quedar con nuestra elección\n",
        "# inicial. Vamos a ejecutar el experimiento 10.000 veces.\n",
        "gana, pierde = 0, 0\n",
        "for i in range(10000):\n",
        "    # Crear la instancia del problema.\n",
        "    s2 = MontyHall()\n",
        "    # ejecutar el concurso sin cambiar de puerta..\n",
        "    if s2.jugar(cambiar=False):\n",
        "        # si devuelve True significa que gana.\n",
        "        gana += 1\n",
        "    else:\n",
        "        # si devuelve False significa que pierde.\n",
        "        pierde += 1\n",
        "# veamos la fecuencia de victorias del concursante.\n",
        "porc_gana = 100.0 * gana / (gana + pierde)\n",
        "print(“\\n10.000 concursos sin cambiar de puerta:“)\n",
        "print(”  gana: {0:} concursos”.format(gana))\n",
        "print(”  pierde: {0:} concursos”.format(pierde))\n",
        "print(”  probabilidad: {0:.2f} procentaje de victorias”.format(porc_gana))\n",
        "\n",
        "\n",
        "# Ahora, jugamos el concurso siempre cambiando la elección inicial\n",
        "# Vamos a ejecutar el experimiento 10.000 veces.\n",
        "gana, pierde = 0, 0\n",
        "for i in range(10000):\n",
        "    # Crear la instancia del problema.\n",
        "    s2 = MontyHall()\n",
        "    # ejecutar el concurso con cambiar de puerta..\n",
        "    if s2.jugar(cambiar=True):\n",
        "        # si devuelve True significa que gana.\n",
        "        gana += 1\n",
        "    else:\n",
        "        # si devuelve False significa que pierde.\n",
        "        pierde += 1\n",
        "# veamos la fecuencia de victorias del concursante.\n",
        "porc_gana = 100.0 * gana / (gana + pierde)\n",
        "print(“\\n10.000 concursos cambiando de puerta:“)\n",
        "print(“\\t gana: {0:} concursos”.format(gana))\n",
        "print(”  pierde: {0:} concursos”.format(pierde))\n",
        "print(”  probabilidad: {0:.2f} procentaje de victorias”.format(porc_gana))"
      ],
      "execution_count": null,
      "outputs": []
    },
    {
      "cell_type": "markdown",
      "metadata": {
        "id": "hVujGqfYAVOL",
        "colab_type": "text"
      },
      "source": [
        "# Creando un clasificador basado en el teorema de Bayes"
      ]
    },
    {
      "cell_type": "markdown",
      "metadata": {
        "id": "XeVifgUoAVOL",
        "colab_type": "text"
      },
      "source": [
        "Este es un problema extraido de la página web de Chris Albon, que ha replicado un ejemplo que puedes ver en la wikipedia. Trata de reproducirlo y entenderlo.  \n",
        "\n",
        "Naive bayes is simple classifier known for doing well when only a small number of observations is available. In this tutorial we will create a gaussian naive bayes classifier from scratch and use it to predict the class of a previously unseen data point. This tutorial is based on an example on Wikipedia's [naive bayes classifier page](https://en.wikipedia.org/wiki/Naive_Bayes_classifier), I have implemented it in Python and tweaked some notation to improve explanation. "
      ]
    },
    {
      "cell_type": "markdown",
      "metadata": {
        "id": "x4LYSzaWAVOM",
        "colab_type": "text"
      },
      "source": [
        "## Preliminaries"
      ]
    },
    {
      "cell_type": "code",
      "metadata": {
        "id": "BU1Nr-dxAVOM",
        "colab_type": "code",
        "colab": {}
      },
      "source": [
        "import pandas as pd\n",
        "import numpy as np"
      ],
      "execution_count": 3,
      "outputs": []
    },
    {
      "cell_type": "markdown",
      "metadata": {
        "id": "yKyEEmT1AVOO",
        "colab_type": "text"
      },
      "source": [
        "## Create Data\n",
        "\n",
        "Our dataset is contains data on eight individuals. We will use the dataset to construct a classifier that takes in the height, weight, and foot size of an individual and outputs a prediction for their gender."
      ]
    },
    {
      "cell_type": "code",
      "metadata": {
        "id": "cEaVs9p8AVOP",
        "colab_type": "code",
        "colab": {
          "base_uri": "https://localhost:8080/",
          "height": 287
        },
        "outputId": "468f7fdc-91ea-4be4-8f45-f4c13b18e49b"
      },
      "source": [
        "# Create an empty dataframe\n",
        "data = pd.DataFrame()\n",
        "\n",
        "# Create our target variable\n",
        "data['Gender'] = ['male','male','male','male','female','female','female','female']\n",
        "\n",
        "# Create our feature variables\n",
        "data['Height'] = [6,5.92,5.58,5.92,5,5.5,5.42,5.75]\n",
        "data['Weight'] = [180,190,170,165,100,150,130,150]\n",
        "data['Foot_Size'] = [12,11,12,10,6,8,7,9]\n",
        "\n",
        "# View the data\n",
        "data"
      ],
      "execution_count": 4,
      "outputs": [
        {
          "output_type": "execute_result",
          "data": {
            "text/html": [
              "<div>\n",
              "<style scoped>\n",
              "    .dataframe tbody tr th:only-of-type {\n",
              "        vertical-align: middle;\n",
              "    }\n",
              "\n",
              "    .dataframe tbody tr th {\n",
              "        vertical-align: top;\n",
              "    }\n",
              "\n",
              "    .dataframe thead th {\n",
              "        text-align: right;\n",
              "    }\n",
              "</style>\n",
              "<table border=\"1\" class=\"dataframe\">\n",
              "  <thead>\n",
              "    <tr style=\"text-align: right;\">\n",
              "      <th></th>\n",
              "      <th>Gender</th>\n",
              "      <th>Height</th>\n",
              "      <th>Weight</th>\n",
              "      <th>Foot_Size</th>\n",
              "    </tr>\n",
              "  </thead>\n",
              "  <tbody>\n",
              "    <tr>\n",
              "      <th>0</th>\n",
              "      <td>male</td>\n",
              "      <td>6.00</td>\n",
              "      <td>180</td>\n",
              "      <td>12</td>\n",
              "    </tr>\n",
              "    <tr>\n",
              "      <th>1</th>\n",
              "      <td>male</td>\n",
              "      <td>5.92</td>\n",
              "      <td>190</td>\n",
              "      <td>11</td>\n",
              "    </tr>\n",
              "    <tr>\n",
              "      <th>2</th>\n",
              "      <td>male</td>\n",
              "      <td>5.58</td>\n",
              "      <td>170</td>\n",
              "      <td>12</td>\n",
              "    </tr>\n",
              "    <tr>\n",
              "      <th>3</th>\n",
              "      <td>male</td>\n",
              "      <td>5.92</td>\n",
              "      <td>165</td>\n",
              "      <td>10</td>\n",
              "    </tr>\n",
              "    <tr>\n",
              "      <th>4</th>\n",
              "      <td>female</td>\n",
              "      <td>5.00</td>\n",
              "      <td>100</td>\n",
              "      <td>6</td>\n",
              "    </tr>\n",
              "    <tr>\n",
              "      <th>5</th>\n",
              "      <td>female</td>\n",
              "      <td>5.50</td>\n",
              "      <td>150</td>\n",
              "      <td>8</td>\n",
              "    </tr>\n",
              "    <tr>\n",
              "      <th>6</th>\n",
              "      <td>female</td>\n",
              "      <td>5.42</td>\n",
              "      <td>130</td>\n",
              "      <td>7</td>\n",
              "    </tr>\n",
              "    <tr>\n",
              "      <th>7</th>\n",
              "      <td>female</td>\n",
              "      <td>5.75</td>\n",
              "      <td>150</td>\n",
              "      <td>9</td>\n",
              "    </tr>\n",
              "  </tbody>\n",
              "</table>\n",
              "</div>"
            ],
            "text/plain": [
              "   Gender  Height  Weight  Foot_Size\n",
              "0    male    6.00     180         12\n",
              "1    male    5.92     190         11\n",
              "2    male    5.58     170         12\n",
              "3    male    5.92     165         10\n",
              "4  female    5.00     100          6\n",
              "5  female    5.50     150          8\n",
              "6  female    5.42     130          7\n",
              "7  female    5.75     150          9"
            ]
          },
          "metadata": {
            "tags": []
          },
          "execution_count": 4
        }
      ]
    },
    {
      "cell_type": "markdown",
      "metadata": {
        "id": "dlbDQM-6AVOS",
        "colab_type": "text"
      },
      "source": [
        "The dataset above is used to construct our classifier. Below we will create a new person for whom we know their feature values but not their gender. Our goal is to predict their gender."
      ]
    },
    {
      "cell_type": "code",
      "metadata": {
        "id": "Yu21PtgVAVOS",
        "colab_type": "code",
        "colab": {
          "base_uri": "https://localhost:8080/",
          "height": 77
        },
        "outputId": "27e4970b-0d5c-4fd3-e4dd-0f91ec36d4cb"
      },
      "source": [
        "# Create an empty dataframe\n",
        "person = pd.DataFrame()\n",
        "\n",
        "# Create some feature values for this single row\n",
        "person['Height'] = [6]\n",
        "person['Weight'] = [130]\n",
        "person['Foot_Size'] = [8]\n",
        "\n",
        "# View the data \n",
        "person"
      ],
      "execution_count": 5,
      "outputs": [
        {
          "output_type": "execute_result",
          "data": {
            "text/html": [
              "<div>\n",
              "<style scoped>\n",
              "    .dataframe tbody tr th:only-of-type {\n",
              "        vertical-align: middle;\n",
              "    }\n",
              "\n",
              "    .dataframe tbody tr th {\n",
              "        vertical-align: top;\n",
              "    }\n",
              "\n",
              "    .dataframe thead th {\n",
              "        text-align: right;\n",
              "    }\n",
              "</style>\n",
              "<table border=\"1\" class=\"dataframe\">\n",
              "  <thead>\n",
              "    <tr style=\"text-align: right;\">\n",
              "      <th></th>\n",
              "      <th>Height</th>\n",
              "      <th>Weight</th>\n",
              "      <th>Foot_Size</th>\n",
              "    </tr>\n",
              "  </thead>\n",
              "  <tbody>\n",
              "    <tr>\n",
              "      <th>0</th>\n",
              "      <td>6</td>\n",
              "      <td>130</td>\n",
              "      <td>8</td>\n",
              "    </tr>\n",
              "  </tbody>\n",
              "</table>\n",
              "</div>"
            ],
            "text/plain": [
              "   Height  Weight  Foot_Size\n",
              "0       6     130          8"
            ]
          },
          "metadata": {
            "tags": []
          },
          "execution_count": 5
        }
      ]
    },
    {
      "cell_type": "markdown",
      "metadata": {
        "id": "c8vgNjVWAVOU",
        "colab_type": "text"
      },
      "source": [
        "## Bayes Theorem"
      ]
    },
    {
      "cell_type": "markdown",
      "metadata": {
        "id": "4H6bh_YrAVOV",
        "colab_type": "text"
      },
      "source": [
        "Bayes theorem is a famous equation that allows us to make predictions based on data. Here is the classic version of the Bayes theorem:\n",
        "\n",
        "$$\\displaystyle P(A\\mid B)={\\frac {P(B\\mid A)\\,P(A)}{P(B)}}$$\n",
        "\n",
        "This might be too abstract, so let us replace some of the variables to make it more concrete. In a bayes classifier, we are interested in finding out the class (e.g. male or female, spam or ham) of an observation _given_ the data:\n",
        "\n",
        "$$p(\\text{class} \\mid \\mathbf {\\text{data}} )={\\frac {p(\\mathbf {\\text{data}} \\mid \\text{class}) * p(\\text{class})}{p(\\mathbf {\\text{data}} )}}$$\n",
        "\n",
        "where: \n",
        "\n",
        "- $\\text{class}$ is a particular class (e.g. male)\n",
        "- $\\mathbf {\\text{data}}$ is an observation's data\n",
        "- $p(\\text{class} \\mid \\mathbf {\\text{data}} )$ is called the posterior\n",
        "- $p(\\text{data|class})$ is called the likelihood\n",
        "- $p(\\text{class})$ is called the prior\n",
        "- $p(\\mathbf {\\text{data}} )$ is called the marginal probability\n",
        "\n",
        "In a bayes classifier, we calculate the posterior (technically we only calculate the numerator of the posterior, but ignore that for now) for every class for each observation. Then, classify the observation based on the class with the largest posterior value. In our example, we have one observation to predict and two possible classes (e.g. male and female), therefore we will calculate two posteriors: one for male and one for female.\n",
        "\n",
        "$$p(\\text{person is male} \\mid \\mathbf {\\text{person's data}} )={\\frac {p(\\mathbf {\\text{person's data}} \\mid \\text{person is male}) * p(\\text{person is male})}{p(\\mathbf {\\text{person's data}} )}}$$\n",
        "\n",
        "$$p(\\text{person is female} \\mid \\mathbf {\\text{person's data}} )={\\frac {p(\\mathbf {\\text{person's data}} \\mid \\text{person is female}) * p(\\text{person is female})}{p(\\mathbf {\\text{person's data}} )}}$$"
      ]
    },
    {
      "cell_type": "markdown",
      "metadata": {
        "id": "cKBkaPvkEpAy",
        "colab_type": "text"
      },
      "source": [
        "[texto del enlace](https://drive.google.com/open?id=1gpXv63so_yZaBpPOuUQ7ihw2h2896dPk)"
      ]
    },
    {
      "cell_type": "markdown",
      "metadata": {
        "id": "yjZzKdSbAVOV",
        "colab_type": "text"
      },
      "source": [
        "## Gaussian Naive Bayes Classifier"
      ]
    },
    {
      "cell_type": "markdown",
      "metadata": {
        "id": "P-Tko3m_AVOV",
        "colab_type": "text"
      },
      "source": [
        "A gaussian naive bayes is probably the most popular type of bayes classifier. To explain what the name means, let us look at what the bayes equations looks like when we apply our two classes (male and female) and three feature variables (height, weight, and footsize):\n",
        "\n",
        "$${\\displaystyle {\\text{posterior (male)}}={\\frac {P({\\text{male}})\\,p({\\text{height}}\\mid{\\text{male}})\\,p({\\text{weight}}\\mid{\\text{male}})\\,p({\\text{foot size}}\\mid{\\text{male}})}{\\text{marginal probability}}}}$$\n",
        "\n",
        "$${\\displaystyle {\\text{posterior (female)}}={\\frac {P({\\text{female}})\\,p({\\text{height}}\\mid{\\text{female}})\\,p({\\text{weight}}\\mid{\\text{female}})\\,p({\\text{foot size}}\\mid{\\text{female}})}{\\text{marginal probability}}}}$$\n",
        "\n",
        "Now let us unpack the top equation a bit:\n",
        "\n",
        "- $P({\\text{male}})$ is the prior probabilities. It is, as you can see, simply the probability an observation is male. This is just the number of males in the dataset divided by the total number of people in the dataset.\n",
        "- $p({\\text{height}}\\mid{\\text{female}})\\,p({\\text{weight}}\\mid{\\text{female}})\\,p({\\text{foot size}}\\mid{\\text{female}})$ is the likelihood. Notice that we have unpacked $\\mathbf {\\text{person's data}}$ so it is now every feature in the dataset. The \"gaussian\" and \"naive\" come from two assumptions present in this likelihood:\n",
        "    1. If you look each term in the likelihood you will notice that we assume each feature is uncorrelated from each other. That is, foot size is independent of weight or height etc.. This is obviously not true, and is a \"naive\" assumption - hence the name \"naive bayes.\"\n",
        "    2. Second, we assume have that the value of the features (e.g. the height of women, the weight of women) are normally (gaussian) distributed. This means that $p(\\text{height}\\mid\\text{female})$ is calculated by inputing the required parameters into the probability density function of the normal distribution: \n",
        "\n",
        "$$ \n",
        "p(\\text{height}\\mid\\text{female})=\\frac{1}{\\sqrt{2\\pi\\text{variance of female height in the data}}}\\,e^{ -\\frac{(\\text{observation's height}-\\text{average height of females in the data})^2}{2\\text{variance of female height in the data}} }\n",
        "$$\n",
        "\n",
        "- $\\text{marginal probability}$ is probably one of the most confusing parts of bayesian approaches. In toy examples (including ours) it is completely possible to calculate the marginal probability. However, in many real-world cases, it is either extremely difficult or impossible to find the value of the marginal probability (explaining why is beyond the scope of this tutorial). This is not as much of a problem for our classifier as you might think. Why? Because we don't care what the true posterior value is, we only care which class has a the highest posterior value. And because the marginal probability is the same for all classes 1) we can ignore the denominator, 2) calculate only the posterior's numerator for each class, and 3) pick the largest numerator. That is, we can ignore the posterior's denominator and make a prediction solely on the relative values of the posterior's numerator.\n",
        "\n",
        "Okay! Theory over. Now let us start calculating all the different parts of the bayes equations."
      ]
    },
    {
      "cell_type": "markdown",
      "metadata": {
        "id": "fuAPD5NjAVOW",
        "colab_type": "text"
      },
      "source": [
        "## Calculate Priors"
      ]
    },
    {
      "cell_type": "markdown",
      "metadata": {
        "id": "COIPoD94AVOW",
        "colab_type": "text"
      },
      "source": [
        "Priors can be either constants or probability distributions. In our example, this is simply the probability of being a gender. Calculating this is simple:"
      ]
    },
    {
      "cell_type": "code",
      "metadata": {
        "id": "NY0SqurcAVOW",
        "colab_type": "code",
        "colab": {}
      },
      "source": [
        "# Number of males\n",
        "n_male = data['Gender'][data['Gender'] == 'male'].count()\n",
        "\n",
        "# Number of males\n",
        "n_female = data['Gender'][data['Gender'] == 'female'].count()\n",
        "\n",
        "# Total rows\n",
        "total_ppl = data['Gender'].count()"
      ],
      "execution_count": 6,
      "outputs": []
    },
    {
      "cell_type": "code",
      "metadata": {
        "id": "pL0qjVlmAVOY",
        "colab_type": "code",
        "colab": {}
      },
      "source": [
        "# Number of males divided by the total rows\n",
        "P_male = n_male/total_ppl\n",
        "\n",
        "# Number of females divided by the total rows\n",
        "P_female = n_female/total_ppl"
      ],
      "execution_count": 7,
      "outputs": []
    },
    {
      "cell_type": "markdown",
      "metadata": {
        "id": "uCH9N0oVAVOa",
        "colab_type": "text"
      },
      "source": [
        "## Calculate Likelihood"
      ]
    },
    {
      "cell_type": "markdown",
      "metadata": {
        "id": "JxzbRD-YAVOa",
        "colab_type": "text"
      },
      "source": [
        "Remember that each term (e.g. $p(\\text{height}\\mid\\text{female})$) in our likelihood is assumed to be a normal pdf. For example:\n",
        "\n",
        "$$ \n",
        "p(\\text{height}\\mid\\text{female})=\\frac{1}{\\sqrt{2\\pi\\text{variance of female height in the data}}}\\,e^{ -\\frac{(\\text{observation's height}-\\text{average height of females in the data})^2}{2\\text{variance of female height in the data}} }\n",
        "$$\n",
        "\n",
        "This means that for each class (e.g. female) and feature (e.g. height) combination we need to calculate the variance and mean value from the data. Pandas makes this easy:"
      ]
    },
    {
      "cell_type": "code",
      "metadata": {
        "id": "bC0xCDGDAVOa",
        "colab_type": "code",
        "colab": {
          "base_uri": "https://localhost:8080/",
          "height": 137
        },
        "outputId": "ae356d92-cbaf-4663-c9c6-4b89319a8805"
      },
      "source": [
        "# Group the data by gender and calculate the means of each feature\n",
        "data_means = data.groupby('Gender').mean()\n",
        "\n",
        "# View the values\n",
        "data_means"
      ],
      "execution_count": 8,
      "outputs": [
        {
          "output_type": "execute_result",
          "data": {
            "text/html": [
              "<div>\n",
              "<style scoped>\n",
              "    .dataframe tbody tr th:only-of-type {\n",
              "        vertical-align: middle;\n",
              "    }\n",
              "\n",
              "    .dataframe tbody tr th {\n",
              "        vertical-align: top;\n",
              "    }\n",
              "\n",
              "    .dataframe thead th {\n",
              "        text-align: right;\n",
              "    }\n",
              "</style>\n",
              "<table border=\"1\" class=\"dataframe\">\n",
              "  <thead>\n",
              "    <tr style=\"text-align: right;\">\n",
              "      <th></th>\n",
              "      <th>Height</th>\n",
              "      <th>Weight</th>\n",
              "      <th>Foot_Size</th>\n",
              "    </tr>\n",
              "    <tr>\n",
              "      <th>Gender</th>\n",
              "      <th></th>\n",
              "      <th></th>\n",
              "      <th></th>\n",
              "    </tr>\n",
              "  </thead>\n",
              "  <tbody>\n",
              "    <tr>\n",
              "      <th>female</th>\n",
              "      <td>5.4175</td>\n",
              "      <td>132.50</td>\n",
              "      <td>7.50</td>\n",
              "    </tr>\n",
              "    <tr>\n",
              "      <th>male</th>\n",
              "      <td>5.8550</td>\n",
              "      <td>176.25</td>\n",
              "      <td>11.25</td>\n",
              "    </tr>\n",
              "  </tbody>\n",
              "</table>\n",
              "</div>"
            ],
            "text/plain": [
              "        Height  Weight  Foot_Size\n",
              "Gender                           \n",
              "female  5.4175  132.50       7.50\n",
              "male    5.8550  176.25      11.25"
            ]
          },
          "metadata": {
            "tags": []
          },
          "execution_count": 8
        }
      ]
    },
    {
      "cell_type": "code",
      "metadata": {
        "id": "6tA_nGlsAVOc",
        "colab_type": "code",
        "colab": {
          "base_uri": "https://localhost:8080/",
          "height": 137
        },
        "outputId": "7a914ff2-09e3-48e6-ff5e-899b569e51fa"
      },
      "source": [
        "# Group the data by gender and calculate the variance of each feature\n",
        "data_variance = data.groupby('Gender').var()\n",
        "\n",
        "# View the values\n",
        "data_variance"
      ],
      "execution_count": 9,
      "outputs": [
        {
          "output_type": "execute_result",
          "data": {
            "text/html": [
              "<div>\n",
              "<style scoped>\n",
              "    .dataframe tbody tr th:only-of-type {\n",
              "        vertical-align: middle;\n",
              "    }\n",
              "\n",
              "    .dataframe tbody tr th {\n",
              "        vertical-align: top;\n",
              "    }\n",
              "\n",
              "    .dataframe thead th {\n",
              "        text-align: right;\n",
              "    }\n",
              "</style>\n",
              "<table border=\"1\" class=\"dataframe\">\n",
              "  <thead>\n",
              "    <tr style=\"text-align: right;\">\n",
              "      <th></th>\n",
              "      <th>Height</th>\n",
              "      <th>Weight</th>\n",
              "      <th>Foot_Size</th>\n",
              "    </tr>\n",
              "    <tr>\n",
              "      <th>Gender</th>\n",
              "      <th></th>\n",
              "      <th></th>\n",
              "      <th></th>\n",
              "    </tr>\n",
              "  </thead>\n",
              "  <tbody>\n",
              "    <tr>\n",
              "      <th>female</th>\n",
              "      <td>0.097225</td>\n",
              "      <td>558.333333</td>\n",
              "      <td>1.666667</td>\n",
              "    </tr>\n",
              "    <tr>\n",
              "      <th>male</th>\n",
              "      <td>0.035033</td>\n",
              "      <td>122.916667</td>\n",
              "      <td>0.916667</td>\n",
              "    </tr>\n",
              "  </tbody>\n",
              "</table>\n",
              "</div>"
            ],
            "text/plain": [
              "          Height      Weight  Foot_Size\n",
              "Gender                                 \n",
              "female  0.097225  558.333333   1.666667\n",
              "male    0.035033  122.916667   0.916667"
            ]
          },
          "metadata": {
            "tags": []
          },
          "execution_count": 9
        }
      ]
    },
    {
      "cell_type": "markdown",
      "metadata": {
        "id": "3TL1mYvdAVOe",
        "colab_type": "text"
      },
      "source": [
        "Now we can create all the variables we need. The code below might look complex but all we are doing is creating a variable out of each cell in both of the tables above."
      ]
    },
    {
      "cell_type": "code",
      "metadata": {
        "id": "GNIHCneRAVOf",
        "colab_type": "code",
        "colab": {
          "base_uri": "https://localhost:8080/",
          "height": 34
        },
        "outputId": "5090b724-4bd5-4792-9518-fc86b2fb9621"
      },
      "source": [
        "# Means for male\n",
        "male_height_mean = data_means['Height'][data_variance.index == 'male'].values[0]\n",
        "print(male_height_mean)\n",
        "male_weight_mean = data_means['Weight'][data_variance.index == 'male'].values[0]\n",
        "male_footsize_mean = data_means['Foot_Size'][data_variance.index == 'male'].values[0]\n",
        "\n",
        "# Variance for male\n",
        "male_height_variance = data_variance['Height'][data_variance.index == 'male'].values[0]\n",
        "male_weight_variance = data_variance['Weight'][data_variance.index == 'male'].values[0]\n",
        "male_footsize_variance = data_variance['Foot_Size'][data_variance.index == 'male'].values[0]\n",
        "\n",
        "# Means for female\n",
        "female_height_mean = data_means['Height'][data_variance.index == 'female'].values[0]\n",
        "female_weight_mean = data_means['Weight'][data_variance.index == 'female'].values[0]\n",
        "female_footsize_mean = data_means['Foot_Size'][data_variance.index == 'female'].values[0]\n",
        "\n",
        "# Variance for female\n",
        "female_height_variance = data_variance['Height'][data_variance.index == 'female'].values[0]\n",
        "female_weight_variance = data_variance['Weight'][data_variance.index == 'female'].values[0]\n",
        "female_footsize_variance = data_variance['Foot_Size'][data_variance.index == 'female'].values[0]"
      ],
      "execution_count": 10,
      "outputs": [
        {
          "output_type": "stream",
          "text": [
            "5.855\n"
          ],
          "name": "stdout"
        }
      ]
    },
    {
      "cell_type": "markdown",
      "metadata": {
        "id": "Nm0srbSkAVOh",
        "colab_type": "text"
      },
      "source": [
        "Finally, we need to create a function to calculate the probability density of each of the terms of the likelihood (e.g. $p(\\text{height}\\mid\\text{female})$)."
      ]
    },
    {
      "cell_type": "code",
      "metadata": {
        "id": "ML1f_6NGAVOh",
        "colab_type": "code",
        "colab": {}
      },
      "source": [
        "# Create a function that calculates p(x | y):\n",
        "def p_x_given_y(x, mean_y, variance_y):\n",
        "\n",
        "    # Input the arguments into a probability density function\n",
        "    p = 1/(np.sqrt(2*np.pi*variance_y)) * np.exp((-(x-mean_y)**2)/(2*variance_y))\n",
        "    \n",
        "    # return p\n",
        "    return p"
      ],
      "execution_count": 11,
      "outputs": []
    },
    {
      "cell_type": "markdown",
      "metadata": {
        "id": "MXCDUhTwAVOj",
        "colab_type": "text"
      },
      "source": [
        "## Apply Bayes Classifier To New Data Point"
      ]
    },
    {
      "cell_type": "markdown",
      "metadata": {
        "id": "r7Nllz-WAVOj",
        "colab_type": "text"
      },
      "source": [
        "Alright! Our bayes classifier is ready. Remember that since we can ignore the marginal probability (the demoninator), what we are actually calculating is this:\n",
        "\n",
        "$${\\displaystyle {\\text{numerator of the posterior}}={P({\\text{female}})\\,p({\\text{height}}\\mid{\\text{female}})\\,p({\\text{weight}}\\mid{\\text{female}})\\,p({\\text{foot size}}\\mid{\\text{female}})}{}}$$\n",
        "\n",
        "To do this, we just need to plug in the values of the unclassified person (height = 6), the variables of the dataset (e.g. mean of female height), and the function (`p_x_given_y`) we made above:"
      ]
    },
    {
      "cell_type": "code",
      "metadata": {
        "id": "Xd1N6tUKAVOk",
        "colab_type": "code",
        "colab": {
          "base_uri": "https://localhost:8080/",
          "height": 34
        },
        "outputId": "423b4f0d-cad4-48b6-f807-4d0aaef449c8"
      },
      "source": [
        "# Numerator of the posterior if the unclassified observation is a male\n",
        "P_male * \\\n",
        "p_x_given_y(person['Height'][0], male_height_mean, male_height_variance) * \\\n",
        "p_x_given_y(person['Weight'][0], male_weight_mean, male_weight_variance) * \\\n",
        "p_x_given_y(person['Foot_Size'][0], male_footsize_mean, male_footsize_variance)"
      ],
      "execution_count": 12,
      "outputs": [
        {
          "output_type": "execute_result",
          "data": {
            "text/plain": [
              "6.197071843878078e-09"
            ]
          },
          "metadata": {
            "tags": []
          },
          "execution_count": 12
        }
      ]
    },
    {
      "cell_type": "code",
      "metadata": {
        "scrolled": true,
        "id": "ozb2BnS8AVOl",
        "colab_type": "code",
        "colab": {
          "base_uri": "https://localhost:8080/",
          "height": 34
        },
        "outputId": "936fd75f-e1a6-40b0-ef22-33f6a7aecdd7"
      },
      "source": [
        "# Numerator of the posterior if the unclassified observation is a female\n",
        "P_female * \\\n",
        "p_x_given_y(person['Height'][0], female_height_mean, female_height_variance) * \\\n",
        "p_x_given_y(person['Weight'][0], female_weight_mean, female_weight_variance) * \\\n",
        "p_x_given_y(person['Foot_Size'][0], female_footsize_mean, female_footsize_variance)"
      ],
      "execution_count": 13,
      "outputs": [
        {
          "output_type": "execute_result",
          "data": {
            "text/plain": [
              "0.0005377909183630018"
            ]
          },
          "metadata": {
            "tags": []
          },
          "execution_count": 13
        }
      ]
    },
    {
      "cell_type": "markdown",
      "metadata": {
        "id": "ddNVCPYNAVOn",
        "colab_type": "text"
      },
      "source": [
        "Because the numerator of the posterior for female is greater than male, then we predict that the person is female."
      ]
    }
  ]
}