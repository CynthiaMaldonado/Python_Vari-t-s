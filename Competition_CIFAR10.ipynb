{
  "nbformat": 4,
  "nbformat_minor": 0,
  "metadata": {
    "colab": {
      "name": "CIFAR10_.ipynb",
      "provenance": []
    },
    "kernelspec": {
      "name": "python3",
      "display_name": "Python 3"
    },
    "accelerator": "GPU"
  },
  "cells": [
    {
      "cell_type": "markdown",
      "metadata": {
        "id": "ugECWf3En3S4",
        "colab_type": "text"
      },
      "source": [
        "### Link: https://www.kaggle.com/roblexnana/cifar10-with-cnn-for-beginer\n",
        "### Muestras: https://drive.google.com/file/d/15bpt9P33k5Hj6FLxuANhHAYn89ZnUwXe/view?usp=sharing"
      ]
    },
    {
      "cell_type": "code",
      "metadata": {
        "id": "G718470ClGpw",
        "colab_type": "code",
        "colab": {}
      },
      "source": [
        "from __future__ import print_function\n",
        "import keras\n",
        "from keras.datasets import cifar10\n",
        "from keras.preprocessing.image import ImageDataGenerator\n",
        "from keras.models import Sequential\n",
        "from keras.layers import Dense, Dropout, Activation, Flatten\n",
        "from keras.layers import Conv2D, MaxPooling2D\n",
        "import os\n",
        "\n",
        "import numpy as np\n",
        "\n",
        "import seaborn as sns\n",
        "import matplotlib\n",
        "import matplotlib.pyplot as plt\n",
        "\n",
        "from sklearn.metrics import confusion_matrix, classification_report\n",
        "import itertools\n",
        "\n",
        "%matplotlib inline"
      ],
      "execution_count": null,
      "outputs": []
    },
    {
      "cell_type": "code",
      "metadata": {
        "id": "9c-ADTYQnMGp",
        "colab_type": "code",
        "colab": {}
      },
      "source": [
        "batch_size = 200  # The default batch size of keras.\n",
        "num_classes = 10  # Number of class for the dataset\n",
        "epochs = 100\n",
        "data_augmentation = False"
      ],
      "execution_count": null,
      "outputs": []
    },
    {
      "cell_type": "code",
      "metadata": {
        "id": "CI4C5_qXnNB4",
        "colab_type": "code",
        "colab": {
          "base_uri": "https://localhost:8080/",
          "height": 87
        },
        "outputId": "1351b8d5-0efc-4d19-dcac-2175a132aa23"
      },
      "source": [
        "# The data, split between train and test sets:\n",
        "(x_train, y_train), (x_test, y_test) = cifar10.load_data()\n",
        "print('x_train shape:', x_train.shape)\n",
        "print('y_train shape:', y_train.shape)\n",
        "print(x_train.shape[0], 'train samples')\n",
        "print(x_test.shape[0], 'test samples')"
      ],
      "execution_count": null,
      "outputs": [
        {
          "output_type": "stream",
          "text": [
            "x_train shape: (50000, 32, 32, 3)\n",
            "y_train shape: (50000, 1)\n",
            "50000 train samples\n",
            "10000 test samples\n"
          ],
          "name": "stdout"
        }
      ]
    },
    {
      "cell_type": "code",
      "metadata": {
        "id": "bBpF1uGCnxrB",
        "colab_type": "code",
        "colab": {}
      },
      "source": [
        "# Normalize the data. Before we need to connvert data type to float for computation.\n",
        "x_train = x_train.astype('float32')\n",
        "x_test = x_test.astype('float32')\n",
        "x_train /= 255\n",
        "x_test /= 255\n",
        "\n",
        "# Convert class vectors to binary class matrices. This is called one hot encoding.\n",
        "y_train = keras.utils.to_categorical(y_train, num_classes)\n",
        "y_test = keras.utils.to_categorical(y_test, num_classes)"
      ],
      "execution_count": null,
      "outputs": []
    },
    {
      "cell_type": "code",
      "metadata": {
        "id": "7QDtGxqtrdhv",
        "colab_type": "code",
        "colab": {
          "base_uri": "https://localhost:8080/",
          "height": 692
        },
        "outputId": "3ed02606-bf16-404b-c34b-eb894be05d4b"
      },
      "source": [
        "#define the convnet\n",
        "model = Sequential()\n",
        "# CONV => RELU => CONV => RELU => POOL => DROPOUT\n",
        "model.add(Conv2D(32, (3, 3), padding='same',input_shape=x_train.shape[1:]))\n",
        "model.add(Activation('relu'))\n",
        "model.add(MaxPooling2D(pool_size=(2, 2)))\n",
        "\n",
        "\n",
        "# CONV => RELU => CONV => RELU => POOL => DROPOUT\n",
        "model.add(Conv2D(64, (3, 3), padding='same'))\n",
        "model.add(Activation('relu'))\n",
        "model.add(Conv2D(128, (3, 3)))\n",
        "model.add(Activation('relu'))\n",
        "model.add(MaxPooling2D(pool_size=(2, 2)))\n",
        "model.add(Dropout(0.5))\n",
        "\n",
        "# FLATTERN => DENSE => RELU => DROPOUT\n",
        "model.add(Flatten())\n",
        "model.add(Dense(512))\n",
        "model.add(Activation('relu'))\n",
        "model.add(Dropout(0.5))\n",
        "# a softmax classifier\n",
        "model.add(Dense(num_classes))\n",
        "model.add(Activation('softmax'))\n",
        "\n",
        "model.summary()"
      ],
      "execution_count": null,
      "outputs": [
        {
          "output_type": "stream",
          "text": [
            "Model: \"sequential_2\"\n",
            "_________________________________________________________________\n",
            "Layer (type)                 Output Shape              Param #   \n",
            "=================================================================\n",
            "conv2d_4 (Conv2D)            (None, 32, 32, 32)        896       \n",
            "_________________________________________________________________\n",
            "activation_6 (Activation)    (None, 32, 32, 32)        0         \n",
            "_________________________________________________________________\n",
            "max_pooling2d_3 (MaxPooling2 (None, 16, 16, 32)        0         \n",
            "_________________________________________________________________\n",
            "conv2d_5 (Conv2D)            (None, 16, 16, 64)        18496     \n",
            "_________________________________________________________________\n",
            "activation_7 (Activation)    (None, 16, 16, 64)        0         \n",
            "_________________________________________________________________\n",
            "conv2d_6 (Conv2D)            (None, 14, 14, 128)       73856     \n",
            "_________________________________________________________________\n",
            "activation_8 (Activation)    (None, 14, 14, 128)       0         \n",
            "_________________________________________________________________\n",
            "max_pooling2d_4 (MaxPooling2 (None, 7, 7, 128)         0         \n",
            "_________________________________________________________________\n",
            "dropout_3 (Dropout)          (None, 7, 7, 128)         0         \n",
            "_________________________________________________________________\n",
            "flatten_2 (Flatten)          (None, 6272)              0         \n",
            "_________________________________________________________________\n",
            "dense_3 (Dense)              (None, 512)               3211776   \n",
            "_________________________________________________________________\n",
            "activation_9 (Activation)    (None, 512)               0         \n",
            "_________________________________________________________________\n",
            "dropout_4 (Dropout)          (None, 512)               0         \n",
            "_________________________________________________________________\n",
            "dense_4 (Dense)              (None, 10)                5130      \n",
            "_________________________________________________________________\n",
            "activation_10 (Activation)   (None, 10)                0         \n",
            "=================================================================\n",
            "Total params: 3,310,154\n",
            "Trainable params: 3,310,154\n",
            "Non-trainable params: 0\n",
            "_________________________________________________________________\n"
          ],
          "name": "stdout"
        }
      ]
    },
    {
      "cell_type": "code",
      "metadata": {
        "id": "kaBJyw5myesz",
        "colab_type": "code",
        "colab": {}
      },
      "source": [
        "# initiate RMSprop optimizer\n",
        "opt = keras.optimizers.RMSprop(learning_rate=0.01, decay=1e-6)\n",
        "\n",
        "# Let's train the model using RMSprop\n",
        "model.compile(loss='categorical_crossentropy',\n",
        "              optimizer=opt,\n",
        "              metrics=['accuracy'])"
      ],
      "execution_count": null,
      "outputs": []
    },
    {
      "cell_type": "code",
      "metadata": {
        "id": "QkAVrHfqyfS6",
        "colab_type": "code",
        "colab": {
          "base_uri": "https://localhost:8080/",
          "height": 1000
        },
        "outputId": "49219d52-9e60-424d-9bcb-d1f17b7784a1"
      },
      "source": [
        "history = None  # For recording the history of trainning process.\n",
        "if not data_augmentation:\n",
        "    print('Not using data augmentation.')\n",
        "    history = model.fit(x_train, y_train,\n",
        "              batch_size=batch_size,\n",
        "              epochs=epochs,\n",
        "              validation_data=(x_test, y_test),\n",
        "              shuffle=True)\n",
        "else:\n",
        "    print('Using real-time data augmentation.')\n",
        "    # This will do preprocessing and realtime data augmentation:\n",
        "    datagen = ImageDataGenerator(\n",
        "        featurewise_center=False,  # set input mean to 0 over the dataset\n",
        "        samplewise_center=False,  # set each sample mean to 0\n",
        "        featurewise_std_normalization=False,  # divide inputs by std of the dataset\n",
        "        samplewise_std_normalization=False,  # divide each input by its std\n",
        "        zca_whitening=False,  # apply ZCA whitening\n",
        "        zca_epsilon=1e-06,  # epsilon for ZCA whitening\n",
        "        rotation_range=0,  # randomly rotate images in the range (degrees, 0 to 180)\n",
        "        # randomly shift images horizontally (fraction of total width)\n",
        "        width_shift_range=0.1,\n",
        "        # randomly shift images vertically (fraction of total height)\n",
        "        height_shift_range=0.1,\n",
        "        shear_range=0.,  # set range for random shear\n",
        "        zoom_range=0.,  # set range for random zoom\n",
        "        channel_shift_range=0.,  # set range for random channel shifts\n",
        "        # set mode for filling points outside the input boundaries\n",
        "        fill_mode='nearest',\n",
        "        cval=0.,  # value used for fill_mode = \"constant\"\n",
        "        horizontal_flip=True,  # randomly flip images\n",
        "        vertical_flip=False,  # randomly flip images\n",
        "        # set rescaling factor (applied before any other transformation)\n",
        "        rescale=None,\n",
        "        # set function that will be applied on each input\n",
        "        preprocessing_function=None,\n",
        "        # image data format, either \"channels_first\" or \"channels_last\"\n",
        "        data_format=None,\n",
        "        # fraction of images reserved for validation (strictly between 0 and 1)\n",
        "        validation_split=0.0)\n",
        "\n",
        "    # Compute quantities required for feature-wise normalization\n",
        "    # (std, mean, and principal components if ZCA whitening is applied).\n",
        "    datagen.fit(x_train)\n",
        "\n",
        "    # Fit the model on the batches generated by datagen.flow().\n",
        "    history = model.fit_generator(datagen.flow(x_train, y_train,\n",
        "                                    batch_size=batch_size),\n",
        "                                    epochs=epochs,\n",
        "                                    validation_data=(x_test, y_test),\n",
        "                                    workers=4)"
      ],
      "execution_count": null,
      "outputs": [
        {
          "output_type": "stream",
          "text": [
            "Not using data augmentation.\n",
            "Train on 50000 samples, validate on 10000 samples\n",
            "Epoch 1/100\n",
            "50000/50000 [==============================] - 15s 300us/step - loss: 3.4301 - accuracy: 0.1265 - val_loss: 1.9722 - val_accuracy: 0.3062\n",
            "Epoch 2/100\n",
            "50000/50000 [==============================] - 9s 177us/step - loss: 1.9935 - accuracy: 0.2818 - val_loss: 1.6541 - val_accuracy: 0.4031\n",
            "Epoch 3/100\n",
            "50000/50000 [==============================] - 9s 176us/step - loss: 1.7804 - accuracy: 0.3706 - val_loss: 1.6301 - val_accuracy: 0.4221\n",
            "Epoch 4/100\n",
            "50000/50000 [==============================] - 9s 175us/step - loss: 1.6823 - accuracy: 0.4039 - val_loss: 1.5154 - val_accuracy: 0.4756\n",
            "Epoch 5/100\n",
            "50000/50000 [==============================] - 9s 176us/step - loss: 1.6317 - accuracy: 0.4239 - val_loss: 1.5222 - val_accuracy: 0.4590\n",
            "Epoch 6/100\n",
            "50000/50000 [==============================] - 9s 175us/step - loss: 1.6163 - accuracy: 0.4310 - val_loss: 1.4757 - val_accuracy: 0.4775\n",
            "Epoch 7/100\n",
            "50000/50000 [==============================] - 9s 174us/step - loss: 1.6028 - accuracy: 0.4370 - val_loss: 1.4720 - val_accuracy: 0.4800\n",
            "Epoch 8/100\n",
            "50000/50000 [==============================] - 9s 174us/step - loss: 1.6046 - accuracy: 0.4348 - val_loss: 1.5144 - val_accuracy: 0.4650\n",
            "Epoch 9/100\n",
            "50000/50000 [==============================] - 9s 175us/step - loss: 1.6021 - accuracy: 0.4386 - val_loss: 1.6219 - val_accuracy: 0.4603\n",
            "Epoch 10/100\n",
            "50000/50000 [==============================] - 9s 175us/step - loss: 1.6087 - accuracy: 0.4364 - val_loss: 1.5895 - val_accuracy: 0.4801\n",
            "Epoch 11/100\n",
            "50000/50000 [==============================] - 9s 175us/step - loss: 1.6166 - accuracy: 0.4363 - val_loss: 1.6813 - val_accuracy: 0.4106\n",
            "Epoch 12/100\n",
            "50000/50000 [==============================] - 9s 175us/step - loss: 1.5980 - accuracy: 0.4383 - val_loss: 1.3803 - val_accuracy: 0.4969\n",
            "Epoch 13/100\n",
            "50000/50000 [==============================] - 9s 175us/step - loss: 1.5994 - accuracy: 0.4423 - val_loss: 1.4299 - val_accuracy: 0.5079\n",
            "Epoch 14/100\n",
            "50000/50000 [==============================] - 9s 174us/step - loss: 1.6052 - accuracy: 0.4365 - val_loss: 1.4829 - val_accuracy: 0.4921\n",
            "Epoch 15/100\n",
            "50000/50000 [==============================] - 9s 174us/step - loss: 1.6169 - accuracy: 0.4362 - val_loss: 1.4071 - val_accuracy: 0.5157\n",
            "Epoch 16/100\n",
            "50000/50000 [==============================] - 9s 174us/step - loss: 1.6181 - accuracy: 0.4361 - val_loss: 1.4517 - val_accuracy: 0.4857\n",
            "Epoch 17/100\n",
            "50000/50000 [==============================] - 9s 174us/step - loss: 1.6231 - accuracy: 0.4352 - val_loss: 1.4688 - val_accuracy: 0.4926\n",
            "Epoch 18/100\n",
            "50000/50000 [==============================] - 9s 174us/step - loss: 1.6147 - accuracy: 0.4344 - val_loss: 1.4541 - val_accuracy: 0.5004\n",
            "Epoch 19/100\n",
            "50000/50000 [==============================] - 9s 174us/step - loss: 1.6222 - accuracy: 0.4356 - val_loss: 1.3698 - val_accuracy: 0.5189\n",
            "Epoch 20/100\n",
            "50000/50000 [==============================] - 9s 174us/step - loss: 1.6337 - accuracy: 0.4303 - val_loss: 1.6740 - val_accuracy: 0.4022\n",
            "Epoch 21/100\n",
            "50000/50000 [==============================] - 9s 175us/step - loss: 1.6320 - accuracy: 0.4348 - val_loss: 1.5003 - val_accuracy: 0.4873\n",
            "Epoch 22/100\n",
            "50000/50000 [==============================] - 9s 174us/step - loss: 1.6172 - accuracy: 0.4344 - val_loss: 1.3934 - val_accuracy: 0.5273\n",
            "Epoch 23/100\n",
            "50000/50000 [==============================] - 9s 174us/step - loss: 1.6320 - accuracy: 0.4300 - val_loss: 1.6395 - val_accuracy: 0.4379\n",
            "Epoch 24/100\n",
            "50000/50000 [==============================] - 9s 179us/step - loss: 1.6270 - accuracy: 0.4280 - val_loss: 1.4576 - val_accuracy: 0.4811\n",
            "Epoch 25/100\n",
            "50000/50000 [==============================] - 9s 175us/step - loss: 1.6300 - accuracy: 0.4280 - val_loss: 1.3837 - val_accuracy: 0.5244\n",
            "Epoch 26/100\n",
            "50000/50000 [==============================] - 9s 175us/step - loss: 1.6347 - accuracy: 0.4273 - val_loss: 1.3947 - val_accuracy: 0.5113\n",
            "Epoch 27/100\n",
            "50000/50000 [==============================] - 9s 174us/step - loss: 1.6334 - accuracy: 0.4267 - val_loss: 1.4199 - val_accuracy: 0.5028\n",
            "Epoch 28/100\n",
            "50000/50000 [==============================] - 9s 173us/step - loss: 1.6365 - accuracy: 0.4238 - val_loss: 1.4152 - val_accuracy: 0.5027\n",
            "Epoch 29/100\n",
            "50000/50000 [==============================] - 9s 174us/step - loss: 1.6433 - accuracy: 0.4251 - val_loss: 1.4331 - val_accuracy: 0.4943\n",
            "Epoch 30/100\n",
            "50000/50000 [==============================] - 9s 175us/step - loss: 1.6277 - accuracy: 0.4249 - val_loss: 1.5296 - val_accuracy: 0.4802\n",
            "Epoch 31/100\n",
            "50000/50000 [==============================] - 9s 174us/step - loss: 1.6482 - accuracy: 0.4212 - val_loss: 1.4147 - val_accuracy: 0.5094\n",
            "Epoch 32/100\n",
            "50000/50000 [==============================] - 9s 174us/step - loss: 1.6564 - accuracy: 0.4171 - val_loss: 1.6479 - val_accuracy: 0.4106\n",
            "Epoch 33/100\n",
            "50000/50000 [==============================] - 9s 174us/step - loss: 1.6429 - accuracy: 0.4200 - val_loss: 1.3894 - val_accuracy: 0.5125\n",
            "Epoch 34/100\n",
            "50000/50000 [==============================] - 9s 174us/step - loss: 1.6522 - accuracy: 0.4156 - val_loss: 1.3974 - val_accuracy: 0.5021\n",
            "Epoch 35/100\n",
            "50000/50000 [==============================] - 9s 173us/step - loss: 1.6428 - accuracy: 0.4215 - val_loss: 1.3670 - val_accuracy: 0.5237\n",
            "Epoch 36/100\n",
            "50000/50000 [==============================] - 9s 173us/step - loss: 1.6512 - accuracy: 0.4200 - val_loss: 1.5458 - val_accuracy: 0.4798\n",
            "Epoch 37/100\n",
            "50000/50000 [==============================] - 9s 176us/step - loss: 1.6514 - accuracy: 0.4152 - val_loss: 1.6015 - val_accuracy: 0.4436\n",
            "Epoch 38/100\n",
            "50000/50000 [==============================] - 9s 175us/step - loss: 1.6433 - accuracy: 0.4172 - val_loss: 1.4492 - val_accuracy: 0.5004\n",
            "Epoch 39/100\n",
            "50000/50000 [==============================] - 9s 174us/step - loss: 1.6450 - accuracy: 0.4155 - val_loss: 1.4677 - val_accuracy: 0.4761\n",
            "Epoch 40/100\n",
            "50000/50000 [==============================] - 9s 174us/step - loss: 1.6396 - accuracy: 0.4136 - val_loss: 1.5137 - val_accuracy: 0.4658\n",
            "Epoch 41/100\n",
            "50000/50000 [==============================] - 9s 174us/step - loss: 1.6561 - accuracy: 0.4132 - val_loss: 1.3996 - val_accuracy: 0.5133\n",
            "Epoch 42/100\n",
            "50000/50000 [==============================] - 9s 174us/step - loss: 1.6655 - accuracy: 0.4140 - val_loss: 1.5040 - val_accuracy: 0.4580\n",
            "Epoch 43/100\n",
            "50000/50000 [==============================] - 9s 175us/step - loss: 1.6503 - accuracy: 0.4155 - val_loss: 1.5010 - val_accuracy: 0.4947\n",
            "Epoch 44/100\n",
            "50000/50000 [==============================] - 9s 174us/step - loss: 1.6535 - accuracy: 0.4134 - val_loss: 1.4208 - val_accuracy: 0.5086\n",
            "Epoch 45/100\n",
            "50000/50000 [==============================] - 9s 174us/step - loss: 1.6400 - accuracy: 0.4193 - val_loss: 1.4243 - val_accuracy: 0.4973\n",
            "Epoch 46/100\n",
            "50000/50000 [==============================] - 9s 174us/step - loss: 1.6494 - accuracy: 0.4147 - val_loss: 1.4020 - val_accuracy: 0.5164\n",
            "Epoch 47/100\n",
            "50000/50000 [==============================] - 9s 174us/step - loss: 1.6519 - accuracy: 0.4147 - val_loss: 1.6024 - val_accuracy: 0.4367\n",
            "Epoch 48/100\n",
            "50000/50000 [==============================] - 9s 174us/step - loss: 1.6700 - accuracy: 0.4088 - val_loss: 1.5216 - val_accuracy: 0.4720\n",
            "Epoch 49/100\n",
            "50000/50000 [==============================] - 9s 175us/step - loss: 1.6540 - accuracy: 0.4114 - val_loss: 1.5734 - val_accuracy: 0.4487\n",
            "Epoch 50/100\n",
            "50000/50000 [==============================] - 9s 175us/step - loss: 1.6724 - accuracy: 0.4061 - val_loss: 1.6449 - val_accuracy: 0.4507\n",
            "Epoch 51/100\n",
            "50000/50000 [==============================] - 9s 175us/step - loss: 1.6662 - accuracy: 0.4078 - val_loss: 1.5289 - val_accuracy: 0.4714\n",
            "Epoch 52/100\n",
            "50000/50000 [==============================] - 9s 173us/step - loss: 1.6686 - accuracy: 0.4082 - val_loss: 1.6582 - val_accuracy: 0.4322\n",
            "Epoch 53/100\n",
            "50000/50000 [==============================] - 9s 174us/step - loss: 1.6743 - accuracy: 0.4072 - val_loss: 1.3787 - val_accuracy: 0.5111\n",
            "Epoch 54/100\n",
            "50000/50000 [==============================] - 9s 174us/step - loss: 1.6714 - accuracy: 0.4062 - val_loss: 1.5207 - val_accuracy: 0.4712\n",
            "Epoch 55/100\n",
            "50000/50000 [==============================] - 9s 173us/step - loss: 1.6717 - accuracy: 0.4036 - val_loss: 1.3917 - val_accuracy: 0.5216\n",
            "Epoch 56/100\n",
            "50000/50000 [==============================] - 9s 174us/step - loss: 1.6820 - accuracy: 0.4042 - val_loss: 1.5466 - val_accuracy: 0.4668\n",
            "Epoch 57/100\n",
            "50000/50000 [==============================] - 9s 174us/step - loss: 1.6745 - accuracy: 0.4096 - val_loss: 1.5733 - val_accuracy: 0.4689\n",
            "Epoch 58/100\n",
            "50000/50000 [==============================] - 9s 174us/step - loss: 1.6731 - accuracy: 0.4072 - val_loss: 1.3594 - val_accuracy: 0.5237\n",
            "Epoch 59/100\n",
            "50000/50000 [==============================] - 9s 177us/step - loss: 1.6637 - accuracy: 0.4121 - val_loss: 1.3727 - val_accuracy: 0.5085\n",
            "Epoch 60/100\n",
            "50000/50000 [==============================] - 9s 177us/step - loss: 1.6631 - accuracy: 0.4108 - val_loss: 1.4803 - val_accuracy: 0.4686\n",
            "Epoch 61/100\n",
            "50000/50000 [==============================] - 9s 174us/step - loss: 1.6642 - accuracy: 0.4076 - val_loss: 1.4836 - val_accuracy: 0.4836\n",
            "Epoch 62/100\n",
            "50000/50000 [==============================] - 9s 174us/step - loss: 1.6705 - accuracy: 0.4073 - val_loss: 1.4777 - val_accuracy: 0.4700\n",
            "Epoch 63/100\n",
            "50000/50000 [==============================] - 9s 174us/step - loss: 1.6739 - accuracy: 0.4062 - val_loss: 1.6485 - val_accuracy: 0.4290\n",
            "Epoch 64/100\n",
            "50000/50000 [==============================] - 9s 174us/step - loss: 1.6585 - accuracy: 0.4127 - val_loss: 1.4974 - val_accuracy: 0.4791\n",
            "Epoch 65/100\n",
            "50000/50000 [==============================] - 9s 173us/step - loss: 1.6817 - accuracy: 0.4004 - val_loss: 1.5056 - val_accuracy: 0.4680\n",
            "Epoch 66/100\n",
            "50000/50000 [==============================] - 9s 175us/step - loss: 1.6832 - accuracy: 0.3985 - val_loss: 1.5827 - val_accuracy: 0.4432\n",
            "Epoch 67/100\n",
            "50000/50000 [==============================] - 9s 174us/step - loss: 1.6738 - accuracy: 0.4041 - val_loss: 1.7891 - val_accuracy: 0.3666\n",
            "Epoch 68/100\n",
            "50000/50000 [==============================] - 9s 174us/step - loss: 1.6874 - accuracy: 0.4001 - val_loss: 1.5128 - val_accuracy: 0.4588\n",
            "Epoch 69/100\n",
            "50000/50000 [==============================] - 9s 174us/step - loss: 1.6737 - accuracy: 0.4050 - val_loss: 1.4459 - val_accuracy: 0.4849\n",
            "Epoch 70/100\n",
            "50000/50000 [==============================] - 9s 174us/step - loss: 1.6654 - accuracy: 0.4114 - val_loss: 1.4599 - val_accuracy: 0.4863\n",
            "Epoch 71/100\n",
            "50000/50000 [==============================] - 9s 175us/step - loss: 1.6532 - accuracy: 0.4115 - val_loss: 1.4111 - val_accuracy: 0.4896\n",
            "Epoch 72/100\n",
            "50000/50000 [==============================] - 9s 175us/step - loss: 1.6720 - accuracy: 0.4069 - val_loss: 1.5527 - val_accuracy: 0.4376\n",
            "Epoch 73/100\n",
            "50000/50000 [==============================] - 9s 175us/step - loss: 1.6686 - accuracy: 0.4057 - val_loss: 1.5192 - val_accuracy: 0.4652\n",
            "Epoch 74/100\n",
            "50000/50000 [==============================] - 9s 174us/step - loss: 1.6554 - accuracy: 0.4099 - val_loss: 1.5779 - val_accuracy: 0.4332\n",
            "Epoch 75/100\n",
            "50000/50000 [==============================] - 9s 174us/step - loss: 1.6676 - accuracy: 0.4064 - val_loss: 1.5841 - val_accuracy: 0.4423\n",
            "Epoch 76/100\n",
            "50000/50000 [==============================] - 9s 174us/step - loss: 1.6624 - accuracy: 0.4103 - val_loss: 1.4464 - val_accuracy: 0.4861\n",
            "Epoch 77/100\n",
            "50000/50000 [==============================] - 9s 174us/step - loss: 1.6638 - accuracy: 0.4121 - val_loss: 1.4739 - val_accuracy: 0.4881\n",
            "Epoch 78/100\n",
            "50000/50000 [==============================] - 9s 174us/step - loss: 1.6648 - accuracy: 0.4068 - val_loss: 1.4562 - val_accuracy: 0.4872\n",
            "Epoch 79/100\n",
            "50000/50000 [==============================] - 9s 173us/step - loss: 1.6554 - accuracy: 0.4114 - val_loss: 1.5798 - val_accuracy: 0.4157\n",
            "Epoch 80/100\n",
            "50000/50000 [==============================] - 9s 174us/step - loss: 1.6644 - accuracy: 0.4071 - val_loss: 1.4372 - val_accuracy: 0.4962\n",
            "Epoch 81/100\n",
            "50000/50000 [==============================] - 9s 174us/step - loss: 1.6679 - accuracy: 0.4069 - val_loss: 1.5162 - val_accuracy: 0.4798\n",
            "Epoch 82/100\n",
            "50000/50000 [==============================] - 9s 174us/step - loss: 1.6748 - accuracy: 0.4061 - val_loss: 1.4294 - val_accuracy: 0.5021\n",
            "Epoch 83/100\n",
            "50000/50000 [==============================] - 9s 174us/step - loss: 1.6605 - accuracy: 0.4132 - val_loss: 1.4910 - val_accuracy: 0.4618\n",
            "Epoch 84/100\n",
            "50000/50000 [==============================] - 9s 175us/step - loss: 1.6621 - accuracy: 0.4133 - val_loss: 1.4485 - val_accuracy: 0.4964\n",
            "Epoch 85/100\n",
            "50000/50000 [==============================] - 9s 175us/step - loss: 1.6953 - accuracy: 0.3945 - val_loss: 1.6033 - val_accuracy: 0.4160\n",
            "Epoch 86/100\n",
            "50000/50000 [==============================] - 9s 175us/step - loss: 1.6585 - accuracy: 0.4112 - val_loss: 1.4435 - val_accuracy: 0.4825\n",
            "Epoch 87/100\n",
            "50000/50000 [==============================] - 9s 174us/step - loss: 1.6631 - accuracy: 0.4099 - val_loss: 1.4297 - val_accuracy: 0.4741\n",
            "Epoch 88/100\n",
            "50000/50000 [==============================] - 9s 175us/step - loss: 1.6652 - accuracy: 0.4092 - val_loss: 1.5238 - val_accuracy: 0.4621\n",
            "Epoch 89/100\n",
            "50000/50000 [==============================] - 9s 175us/step - loss: 1.6594 - accuracy: 0.4084 - val_loss: 1.4263 - val_accuracy: 0.4958\n",
            "Epoch 90/100\n",
            "50000/50000 [==============================] - 9s 174us/step - loss: 1.6534 - accuracy: 0.4114 - val_loss: 1.4199 - val_accuracy: 0.4858\n",
            "Epoch 91/100\n",
            "50000/50000 [==============================] - 9s 175us/step - loss: 1.6601 - accuracy: 0.4093 - val_loss: 1.4642 - val_accuracy: 0.4650\n",
            "Epoch 92/100\n",
            "50000/50000 [==============================] - 9s 175us/step - loss: 1.6566 - accuracy: 0.4111 - val_loss: 1.4421 - val_accuracy: 0.4941\n",
            "Epoch 93/100\n",
            "50000/50000 [==============================] - 9s 174us/step - loss: 1.6828 - accuracy: 0.4143 - val_loss: 1.4327 - val_accuracy: 0.4717\n",
            "Epoch 94/100\n",
            "50000/50000 [==============================] - 9s 175us/step - loss: 1.6406 - accuracy: 0.4152 - val_loss: 1.4438 - val_accuracy: 0.5036\n",
            "Epoch 95/100\n",
            "50000/50000 [==============================] - 9s 180us/step - loss: 1.6495 - accuracy: 0.4155 - val_loss: 1.4488 - val_accuracy: 0.4882\n",
            "Epoch 96/100\n",
            "50000/50000 [==============================] - 9s 178us/step - loss: 1.6511 - accuracy: 0.4142 - val_loss: 1.4280 - val_accuracy: 0.4931\n",
            "Epoch 97/100\n",
            "50000/50000 [==============================] - 9s 175us/step - loss: 1.6437 - accuracy: 0.4139 - val_loss: 1.6501 - val_accuracy: 0.3951\n",
            "Epoch 98/100\n",
            "50000/50000 [==============================] - 9s 175us/step - loss: 1.6548 - accuracy: 0.4128 - val_loss: 1.6479 - val_accuracy: 0.4178\n",
            "Epoch 99/100\n",
            "50000/50000 [==============================] - 9s 175us/step - loss: 1.6563 - accuracy: 0.4137 - val_loss: 1.4614 - val_accuracy: 0.4920\n",
            "Epoch 100/100\n",
            "50000/50000 [==============================] - 9s 175us/step - loss: 1.6374 - accuracy: 0.4169 - val_loss: 1.5427 - val_accuracy: 0.4464\n"
          ],
          "name": "stdout"
        }
      ]
    },
    {
      "cell_type": "code",
      "metadata": {
        "id": "w8N7PAM_9ptF",
        "colab_type": "code",
        "colab": {
          "base_uri": "https://localhost:8080/",
          "height": 367
        },
        "outputId": "c0dbf1b4-1219-47a0-cb39-bd518064e22c"
      },
      "source": [
        "def plotmodelhistory(history): \n",
        "    fig, axs = plt.subplots(1,2,figsize=(15,5)) \n",
        "    # summarize history for accuracy\n",
        "    axs[0].plot(history.history['accuracy']) \n",
        "    axs[0].plot(history.history['val_accuracy']) \n",
        "    axs[0].set_title('Model Accuracy')\n",
        "    axs[0].set_ylabel('Accuracy') \n",
        "    axs[0].set_xlabel('Epoch')\n",
        "    axs[0].legend(['train', 'validate'], loc='upper left')\n",
        "    # summarize history for loss\n",
        "    axs[1].plot(history.history['loss']) \n",
        "    axs[1].plot(history.history['val_loss']) \n",
        "    axs[1].set_title('Model Loss')\n",
        "    axs[1].set_ylabel('Loss') \n",
        "    axs[1].set_xlabel('Epoch')\n",
        "    axs[1].legend(['train', 'validate'], loc='upper left')\n",
        "    plt.show()\n",
        "\n",
        "# list all data in history\n",
        "print(history.history.keys())\n",
        "\n",
        "plotmodelhistory(history)"
      ],
      "execution_count": null,
      "outputs": [
        {
          "output_type": "stream",
          "text": [
            "dict_keys(['val_loss', 'val_accuracy', 'loss', 'accuracy'])\n"
          ],
          "name": "stdout"
        },
        {
          "output_type": "display_data",
          "data": {
            "image/png": "[encoded data removed]",
            "text/plain": [
              "<Figure size 1080x360 with 2 Axes>"
            ]
          },
          "metadata": {
            "tags": [],
            "needs_background": "light"
          }
        }
      ]
    },
    {
      "cell_type": "code",
      "metadata": {
        "id": "if7olf8V0QSu",
        "colab_type": "code",
        "colab": {}
      },
      "source": [
        "# Score trained model.\n",
        "scores = model.evaluate(x_test, y_test, verbose=1)\n",
        "print('Test loss:', scores[0])\n",
        "print('Test accuracy:', scores[1])\n",
        "\n",
        "# make prediction.\n",
        "pred = model.predict(x_test)"
      ],
      "execution_count": null,
      "outputs": []
    },
    {
      "cell_type": "code",
      "metadata": {
        "id": "XAwkvWYgID2K",
        "colab_type": "code",
        "colab": {}
      },
      "source": [
        ""
      ],
      "execution_count": null,
      "outputs": []
    },
    {
      "cell_type": "code",
      "metadata": {
        "id": "LySvyvvkIDrG",
        "colab_type": "code",
        "colab": {}
      },
      "source": [
        ""
      ],
      "execution_count": null,
      "outputs": []
    },
    {
      "cell_type": "code",
      "metadata": {
        "id": "E8CPZwsRIDki",
        "colab_type": "code",
        "colab": {}
      },
      "source": [
        ""
      ],
      "execution_count": null,
      "outputs": []
    },
    {
      "cell_type": "code",
      "metadata": {
        "id": "jJodTi0sIDcw",
        "colab_type": "code",
        "colab": {}
      },
      "source": [
        ""
      ],
      "execution_count": null,
      "outputs": []
    }
  ]
}