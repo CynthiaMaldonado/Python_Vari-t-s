{
  "nbformat": 4,
  "nbformat_minor": 0,
  "metadata": {
    "kernelspec": {
      "display_name": "Python 3",
      "language": "python",
      "name": "python3"
    },
    "language_info": {
      "codemirror_mode": {
        "name": "ipython",
        "version": 3
      },
      "file_extension": ".py",
      "mimetype": "text/x-python",
      "name": "python",
      "nbconvert_exporter": "python",
      "pygments_lexer": "ipython3",
      "version": "3.6.9"
    },
    "colab": {
      "name": "Linear_regression_diabetes.ipynb",
      "provenance": [],
      "collapsed_sections": []
    }
  },
  "cells": [
    {
      "cell_type": "markdown",
      "metadata": {
        "id": "W0OtVb5B1TQl",
        "colab_type": "text"
      },
      "source": [
        "# Linear regression in diabetes dataset\n",
        "\n",
        "Let's explore the datasets that are included in this Python library. These datasets have been cleaned and formatted for use in ML algorithms."
      ]
    },
    {
      "cell_type": "markdown",
      "metadata": {
        "id": "fWmsqmLW1TQm",
        "colab_type": "text"
      },
      "source": [
        "First, we will load the diabetes dataset. Do this in the cell below by importing the datasets and then loading the dataset  to the `diabetes` variable using the `load_diabetes()` function ([documentation](https://scikit-learn.org/stable/modules/generated/sklearn.datasets.load_diabetes.html))."
      ]
    },
    {
      "cell_type": "code",
      "metadata": {
        "id": "AfEHsQb51TQn",
        "colab_type": "code",
        "colab": {}
      },
      "source": [
        "# Your code here:\n",
        "import numpy as np\n",
        "import pandas as pd\n",
        "from sklearn import datasets\n",
        "diabetes = datasets.load_diabetes(return_X_y=False)"
      ],
      "execution_count": null,
      "outputs": []
    },
    {
      "cell_type": "markdown",
      "metadata": {
        "id": "3ZcJUMYR1TQq",
        "colab_type": "text"
      },
      "source": [
        "Let's explore this variable by looking at the different attributes (keys) of `diabetes`. Note that the `load_diabetes` function does not return dataframes. It returns you a Python dictionary."
      ]
    },
    {
      "cell_type": "code",
      "metadata": {
        "id": "fBHVqmj21TQq",
        "colab_type": "code",
        "colab": {
          "base_uri": "https://localhost:8080/",
          "height": 34
        },
        "outputId": "b0af27a8-4068-4047-a3a8-ecdec5c08607"
      },
      "source": [
        "# Your code here:\n",
        "diabetes.keys()"
      ],
      "execution_count": null,
      "outputs": [
        {
          "output_type": "execute_result",
          "data": {
            "text/plain": [
              "dict_keys(['data', 'target', 'DESCR', 'feature_names', 'data_filename', 'target_filename'])"
            ]
          },
          "metadata": {
            "tags": []
          },
          "execution_count": 2
        }
      ]
    },
    {
      "cell_type": "markdown",
      "metadata": {
        "id": "8VoqURQ91TQs",
        "colab_type": "text"
      },
      "source": [
        "#### The next step is to read the description of the dataset. \n",
        "\n",
        "Print the description in the cell below using the `DESCR` attribute of the `diabetes` variable. Read the data description carefully to fully understand what each column represents.\n",
        "\n",
        "*Hint: If your output is ill-formatted by displaying linebreaks as `\\n`, it means you are not using the `print` function.*"
      ]
    },
    {
      "cell_type": "code",
      "metadata": {
        "id": "d1g9Qp_d1TQt",
        "colab_type": "code",
        "colab": {
          "base_uri": "https://localhost:8080/",
          "height": 683
        },
        "outputId": "32dd5efe-e8c0-4bd3-b78e-2bd325a5bceb"
      },
      "source": [
        "# Your code here:\n",
        "print(diabetes.DESCR)"
      ],
      "execution_count": null,
      "outputs": [
        {
          "output_type": "stream",
          "text": [
            ".. _diabetes_dataset:\n",
            "\n",
            "Diabetes dataset\n",
            "----------------\n",
            "\n",
            "Ten baseline variables, age, sex, body mass index, average blood\n",
            "pressure, and six blood serum measurements were obtained for each of n =\n",
            "442 diabetes patients, as well as the response of interest, a\n",
            "quantitative measure of disease progression one year after baseline.\n",
            "\n",
            "**Data Set Characteristics:**\n",
            "\n",
            "  :Number of Instances: 442\n",
            "\n",
            "  :Number of Attributes: First 10 columns are numeric predictive values\n",
            "\n",
            "  :Target: Column 11 is a quantitative measure of disease progression one year after baseline\n",
            "\n",
            "  :Attribute Information:\n",
            "      - Age\n",
            "      - Sex\n",
            "      - Body mass index\n",
            "      - Average blood pressure\n",
            "      - S1\n",
            "      - S2\n",
            "      - S3\n",
            "      - S4\n",
            "      - S5\n",
            "      - S6\n",
            "\n",
            "Note: Each of these 10 feature variables have been mean centered and scaled by the standard deviation times `n_samples` (i.e. the sum of squares of each column totals 1).\n",
            "\n",
            "Source URL:\n",
            "https://www4.stat.ncsu.edu/~boos/var.select/diabetes.html\n",
            "\n",
            "For more information see:\n",
            "Bradley Efron, Trevor Hastie, Iain Johnstone and Robert Tibshirani (2004) \"Least Angle Regression,\" Annals of Statistics (with discussion), 407-499.\n",
            "(https://web.stanford.edu/~hastie/Papers/LARS/LeastAngle_2002.pdf)\n"
          ],
          "name": "stdout"
        }
      ]
    },
    {
      "cell_type": "markdown",
      "metadata": {
        "id": "O6k5D9QE1TQv",
        "colab_type": "text"
      },
      "source": [
        "#### Based on the data description, answer the following questions:\n",
        "\n",
        "1. How many attributes are there in the data? What do they mean?\n",
        "\n",
        "1. What is the relation between `diabetes['data']` and `diabetes['target']`?\n",
        "\n",
        "1. How many records are there in the data?"
      ]
    },
    {
      "cell_type": "code",
      "metadata": {
        "id": "t_wDCcuA1TQv",
        "colab_type": "code",
        "colab": {
          "base_uri": "https://localhost:8080/",
          "height": 34
        },
        "outputId": "f670ce4a-190d-4f67-e217-da3d3fa54a5a"
      },
      "source": [
        "# Enter your answer here:\n",
        "'''10 atributos. \n",
        "Target is a quantitative measure of disease progression one year after baseline.\n",
        "442 records.'''"
      ],
      "execution_count": null,
      "outputs": [
        {
          "output_type": "execute_result",
          "data": {
            "text/plain": [
              "'10 atributos. \\nTarget is a quantitative measure of disease progression one year after baseline.\\n442 records.'"
            ]
          },
          "metadata": {
            "tags": []
          },
          "execution_count": 4
        }
      ]
    },
    {
      "cell_type": "markdown",
      "metadata": {
        "id": "_fnxxzud1TQy",
        "colab_type": "text"
      },
      "source": [
        "#### Now explore what are contained in the *data* portion as well as the *target* portion of `diabetes`. \n",
        "\n",
        "Scikit-learn typically takes in 2D numpy arrays as input (though pandas dataframes are also accepted). Inspect the shape of `data` and `target`. Confirm they are consistent with the data description."
      ]
    },
    {
      "cell_type": "code",
      "metadata": {
        "id": "G9tNK6PN1TQy",
        "colab_type": "code",
        "colab": {
          "base_uri": "https://localhost:8080/",
          "height": 51
        },
        "outputId": "15f5471a-6f02-4d60-b1e0-012d23c0deba"
      },
      "source": [
        "# Your code here:\n",
        "print(diabetes.data.shape)\n",
        "print(diabetes.target.shape)"
      ],
      "execution_count": null,
      "outputs": [
        {
          "output_type": "stream",
          "text": [
            "(442, 10)\n",
            "(442,)\n"
          ],
          "name": "stdout"
        }
      ]
    },
    {
      "cell_type": "markdown",
      "metadata": {
        "id": "HKrj3jpE1TQ0",
        "colab_type": "text"
      },
      "source": [
        "## Buliding a regression model"
      ]
    },
    {
      "cell_type": "markdown",
      "metadata": {
        "id": "lCMo9-2n1TQ1",
        "colab_type": "text"
      },
      "source": [
        "The data have already been split to predictor (*data*) and response (*target*) variables. Given this information, we'll apply what we have previously learned about linear regression and apply the algorithm to the diabetes dataset.\n",
        "\n",
        "#### In the cell below, import the `linear_model` class from `sklearn`. "
      ]
    },
    {
      "cell_type": "code",
      "metadata": {
        "id": "bpw0BAL61TQ1",
        "colab_type": "code",
        "colab": {}
      },
      "source": [
        "# Your code here:\n",
        "from sklearn import linear_model"
      ],
      "execution_count": null,
      "outputs": []
    },
    {
      "cell_type": "markdown",
      "metadata": {
        "id": "ELTuxR4-1TQ3",
        "colab_type": "text"
      },
      "source": [
        "#### Create a new instance of the linear regression model and assign the new instance to the variable `diabetes_model`."
      ]
    },
    {
      "cell_type": "code",
      "metadata": {
        "id": "FiKLuOV31TQ4",
        "colab_type": "code",
        "colab": {}
      },
      "source": [
        "# Your code here:\n",
        "diabetes_model = linear_model.LinearRegression()"
      ],
      "execution_count": null,
      "outputs": []
    },
    {
      "cell_type": "markdown",
      "metadata": {
        "id": "pMegGI9b1TQ6",
        "colab_type": "text"
      },
      "source": [
        "#### Next, let's split the training and test data.\n",
        "\n",
        "Define `diabetes_data_train`, `diabetes_target_train`, `diabetes_data_test`, and `diabetes_target_test`. Use the last 20 records for the test data and the rest for the training data."
      ]
    },
    {
      "cell_type": "code",
      "metadata": {
        "id": "f5bYajfX1TQ6",
        "colab_type": "code",
        "colab": {
          "base_uri": "https://localhost:8080/",
          "height": 34
        },
        "outputId": "9e2dabe2-2426-4e6a-e3dd-2bd265f4e608"
      },
      "source": [
        "# Your code here:\n",
        "diabetes_data_train, diabetes_data_test = diabetes.data[:-20], diabetes.data[-20:]\n",
        "diabetes_target_train, diabetes_target_test = diabetes.target[:-20], diabetes.target[-20:]\n",
        "diabetes_data_test.shape"
      ],
      "execution_count": null,
      "outputs": [
        {
          "output_type": "execute_result",
          "data": {
            "text/plain": [
              "(20, 10)"
            ]
          },
          "metadata": {
            "tags": []
          },
          "execution_count": 8
        }
      ]
    },
    {
      "cell_type": "markdown",
      "metadata": {
        "id": "4D-zl19K1TQ8",
        "colab_type": "text"
      },
      "source": [
        "Fit the training data and target to `diabetes_model`. Print the *intercept* and *coefficients* of the model."
      ]
    },
    {
      "cell_type": "code",
      "metadata": {
        "id": "oqeWpyWb1TQ8",
        "colab_type": "code",
        "colab": {
          "base_uri": "https://localhost:8080/",
          "height": 85
        },
        "outputId": "7181ad25-9741-43eb-ec19-1e27c5595a03"
      },
      "source": [
        "# Your code here:\n",
        "train = diabetes_model.fit(diabetes_data_train, diabetes_target_train)\n",
        "print('Coefficiens:', train.coef_)\n",
        "print('Intercept:', train.intercept_)"
      ],
      "execution_count": null,
      "outputs": [
        {
          "output_type": "stream",
          "text": [
            "Coefficiens: [ 3.03499549e-01 -2.37639315e+02  5.10530605e+02  3.27736980e+02\n",
            " -8.14131709e+02  4.92814588e+02  1.02848452e+02  1.84606489e+02\n",
            "  7.43519617e+02  7.60951722e+01]\n",
            "Intercept: 152.76430691633442\n"
          ],
          "name": "stdout"
        }
      ]
    },
    {
      "cell_type": "markdown",
      "metadata": {
        "id": "7_Sll_FC1TQ-",
        "colab_type": "text"
      },
      "source": [
        "#### Inspecting the results\n",
        "\n",
        "From the outputs you should have seen:\n",
        "\n",
        "- The intercept is a float number.\n",
        "- The coefficients are an array containing 10 float numbers.\n",
        "\n",
        "This is the linear regression model fitted to your training dataset.\n",
        "\n",
        "#### Using your fitted linear regression model, predict the *y* of `diabetes_data_test`."
      ]
    },
    {
      "cell_type": "code",
      "metadata": {
        "id": "Mwi2oxgg1TQ_",
        "colab_type": "code",
        "colab": {
          "base_uri": "https://localhost:8080/",
          "height": 119
        },
        "outputId": "9b05d9fc-f736-4338-8733-781fa013d7bd"
      },
      "source": [
        "# Your code here:\n",
        "diabetes_target_pred = diabetes_model.predict(diabetes_data_test)\n",
        "print(diabetes_target_pred.shape)\n",
        "diabetes_target_pred"
      ],
      "execution_count": null,
      "outputs": [
        {
          "output_type": "stream",
          "text": [
            "(20,)\n"
          ],
          "name": "stdout"
        },
        {
          "output_type": "execute_result",
          "data": {
            "text/plain": [
              "array([197.61846908, 155.43979328, 172.88665147, 111.53537279,\n",
              "       164.80054784, 131.06954875, 259.12237761, 100.47935157,\n",
              "       117.0601052 , 124.30503555, 218.36632793,  61.19831284,\n",
              "       132.25046751, 120.3332925 ,  52.54458691, 194.03798088,\n",
              "       102.57139702, 123.56604987, 211.0346317 ,  52.60335674])"
            ]
          },
          "metadata": {
            "tags": []
          },
          "execution_count": 10
        }
      ]
    },
    {
      "cell_type": "markdown",
      "metadata": {
        "id": "brjk_9PS1TRB",
        "colab_type": "text"
      },
      "source": [
        "#### Print your `diabetes_target_test` and compare with the prediction. "
      ]
    },
    {
      "cell_type": "code",
      "metadata": {
        "id": "c7YMpP_D1TRC",
        "colab_type": "code",
        "colab": {
          "base_uri": "https://localhost:8080/",
          "height": 68
        },
        "outputId": "09f8c8c6-aa1f-443e-b83f-c8534b95ba68"
      },
      "source": [
        "# Your code here:\n",
        "print(diabetes_target_pred.shape)\n",
        "diabetes_target_test"
      ],
      "execution_count": null,
      "outputs": [
        {
          "output_type": "stream",
          "text": [
            "(20,)\n"
          ],
          "name": "stdout"
        },
        {
          "output_type": "execute_result",
          "data": {
            "text/plain": [
              "array([233.,  91., 111., 152., 120.,  67., 310.,  94., 183.,  66., 173.,\n",
              "        72.,  49.,  64.,  48., 178., 104., 132., 220.,  57.])"
            ]
          },
          "metadata": {
            "tags": []
          },
          "execution_count": 11
        }
      ]
    },
    {
      "cell_type": "code",
      "metadata": {
        "id": "ZQZtR4uTtxhc",
        "colab_type": "code",
        "colab": {
          "base_uri": "https://localhost:8080/",
          "height": 51
        },
        "outputId": "b03432bc-e9ce-4aea-9a3a-1852c225fbe2"
      },
      "source": [
        "# The coefficient of determination: 1 is perfect prediction\n",
        "from sklearn.metrics import mean_squared_error, r2_score\n",
        "print('MSE: %.2f' \n",
        "      % mean_squared_error(diabetes_target_test, diabetes_target_pred))\n",
        "print('Coefficient of determination: %.2f'\n",
        "      % r2_score(diabetes_target_test, diabetes_target_pred))"
      ],
      "execution_count": null,
      "outputs": [
        {
          "output_type": "stream",
          "text": [
            "MSE: 2004.57\n",
            "Coefficient of determination: 0.59\n"
          ],
          "name": "stdout"
        }
      ]
    },
    {
      "cell_type": "code",
      "metadata": {
        "id": "BYapOFSfuZl5",
        "colab_type": "code",
        "colab": {
          "base_uri": "https://localhost:8080/",
          "height": 282
        },
        "outputId": "c80f43e7-0aa1-4011-d76b-5ef89b918851"
      },
      "source": [
        "import seaborn as sns\n",
        "# Plot outputs\n",
        "import matplotlib.pyplot as plt\n",
        "\n",
        "line = np.arange(0, 300+1)\n",
        "sns.scatterplot(diabetes_target_test, diabetes_target_pred, color = \"b\")\n",
        "sns.lineplot(line, line, color = \"r\")\n"
      ],
      "execution_count": null,
      "outputs": [
        {
          "output_type": "execute_result",
          "data": {
            "text/plain": [
              "<matplotlib.axes._subplots.AxesSubplot at 0x7f63fbfca128>"
            ]
          },
          "metadata": {
            "tags": []
          },
          "execution_count": 19
        },
        {
          "output_type": "display_data",
          "data": {
            "image/png": "[encoded data removed]",
            "text/plain": [
              "<Figure size 432x288 with 1 Axes>"
            ]
          },
          "metadata": {
            "tags": [],
            "needs_background": "light"
          }
        }
      ]
    }
  ]
}